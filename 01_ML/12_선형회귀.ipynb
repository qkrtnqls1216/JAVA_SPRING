{
 "cells": [
  {
   "cell_type": "markdown",
   "metadata": {
    "slideshow": {
     "slide_type": "slide"
    }
   },
   "source": [
    "# 선형회귀 개요\n",
    "\n",
    "선형 회귀(線型回歸, Linear regression)는 종속 변수 y와 한 개 이상의 독립 변수X와의 선형 상관 관계를 모델링하는 회귀분석 기법. [위키백과](https://ko.wikipedia.org/wiki/%EC%84%A0%ED%98%95_%ED%9A%8C%EA%B7%80)"
   ]
  },
  {
   "cell_type": "markdown",
   "metadata": {
    "slideshow": {
     "slide_type": "fragment"
    }
   },
   "source": [
    "## 선형회귀 모델\n",
    "- 각 Feature들에 가중치(Weight)를 곱하고 편향(bias)를 더해 예측 결과를 출력한다.\n",
    "- Weight와 bias가 학습 대상 Parameter가 된다.\n",
    "\n",
    "$$\n",
    "\\hat{y_i} = w_1 x_{i1} + w_2 x_{i2}... + w_{p} x_{ip} + b\n",
    "\\\\\n",
    "\\hat{y_i} = \\mathbf{w}^{T} \\cdot \\mathbf{X} \n",
    "$$\n",
    "- (x는 여러개로 이루어져 있으니 x1,x2,x3에 각각\n",
    "                               w1,w2,w3를 곱해서 다 더해서 y값이 무엇일지 추측해서 b값을 구한다.)\n",
    "\n",
    "- $\\hat{y_i}$: 예측값\n",
    "- $x$: 특성(feature-컬럼)\n",
    "- $w$: 가중치(weight), 회귀계수(regression coefficient). 특성이 $\\hat{y_i}$ 에 얼마나 영향을 주는지 정도\n",
    "- $b$: 절편\n",
    "- $p$: p 번째 특성(feature)/p번째 가중치\n",
    "- $i$: i번째 관측치(sample)"
   ]
  },
  {
   "cell_type": "markdown",
   "metadata": {
    "slideshow": {
     "slide_type": "slide"
    }
   },
   "source": [
    "## LinearRegression\n",
    "- 가장 기본적인 선형 회귀 모델\n",
    "- 각 Feauture에 가중합으로 Y값을 추론한다.\n",
    "### 데이터 전처리\n",
    "\n",
    "- **선형회귀 모델사용시 전처리**\n",
    "    - **범주형 Feature**\n",
    "        - : 원핫 인코딩\n",
    "    - **연속형 Feature**\n",
    "        - Feature Scaling을 통해서 각 컬럼들의 값의 단위를 맞춰준다.\n",
    "        - StandardScaler를 사용할 때 성능이 더 잘나오는 경향이 있다."
   ]
  },
  {
   "cell_type": "code",
   "execution_count": 1,
   "metadata": {
    "ExecuteTime": {
     "end_time": "2023-07-06T08:40:25.351065Z",
     "start_time": "2023-07-06T08:40:23.560092Z"
    }
   },
   "outputs": [],
   "source": [
    "# 데이터셋 로드 및 분리\n",
    "from dataset import get_boston_dataset\n",
    "X_train, X_test, y_train, y_test = get_boston_dataset()"
   ]
  },
  {
   "cell_type": "code",
   "execution_count": 2,
   "metadata": {},
   "outputs": [
    {
     "data": {
      "text/html": [
       "<div>\n",
       "<style scoped>\n",
       "    .dataframe tbody tr th:only-of-type {\n",
       "        vertical-align: middle;\n",
       "    }\n",
       "\n",
       "    .dataframe tbody tr th {\n",
       "        vertical-align: top;\n",
       "    }\n",
       "\n",
       "    .dataframe thead th {\n",
       "        text-align: right;\n",
       "    }\n",
       "</style>\n",
       "<table border=\"1\" class=\"dataframe\">\n",
       "  <thead>\n",
       "    <tr style=\"text-align: right;\">\n",
       "      <th></th>\n",
       "      <th>CRIM</th>\n",
       "      <th>ZN</th>\n",
       "      <th>INDUS</th>\n",
       "      <th>CHAS</th>\n",
       "      <th>NOX</th>\n",
       "      <th>RM</th>\n",
       "      <th>AGE</th>\n",
       "      <th>DIS</th>\n",
       "      <th>RAD</th>\n",
       "      <th>TAX</th>\n",
       "      <th>PTRATIO</th>\n",
       "      <th>B</th>\n",
       "      <th>LSTAT</th>\n",
       "    </tr>\n",
       "  </thead>\n",
       "  <tbody>\n",
       "    <tr>\n",
       "      <th>245</th>\n",
       "      <td>0.19133</td>\n",
       "      <td>22.0</td>\n",
       "      <td>5.86</td>\n",
       "      <td>0.0</td>\n",
       "      <td>0.431</td>\n",
       "      <td>5.605</td>\n",
       "      <td>70.2</td>\n",
       "      <td>7.9549</td>\n",
       "      <td>7.0</td>\n",
       "      <td>330.0</td>\n",
       "      <td>19.1</td>\n",
       "      <td>389.13</td>\n",
       "      <td>18.46</td>\n",
       "    </tr>\n",
       "    <tr>\n",
       "      <th>59</th>\n",
       "      <td>0.10328</td>\n",
       "      <td>25.0</td>\n",
       "      <td>5.13</td>\n",
       "      <td>0.0</td>\n",
       "      <td>0.453</td>\n",
       "      <td>5.927</td>\n",
       "      <td>47.2</td>\n",
       "      <td>6.9320</td>\n",
       "      <td>8.0</td>\n",
       "      <td>284.0</td>\n",
       "      <td>19.7</td>\n",
       "      <td>396.90</td>\n",
       "      <td>9.22</td>\n",
       "    </tr>\n",
       "    <tr>\n",
       "      <th>276</th>\n",
       "      <td>0.10469</td>\n",
       "      <td>40.0</td>\n",
       "      <td>6.41</td>\n",
       "      <td>1.0</td>\n",
       "      <td>0.447</td>\n",
       "      <td>7.267</td>\n",
       "      <td>49.0</td>\n",
       "      <td>4.7872</td>\n",
       "      <td>4.0</td>\n",
       "      <td>254.0</td>\n",
       "      <td>17.6</td>\n",
       "      <td>389.25</td>\n",
       "      <td>6.05</td>\n",
       "    </tr>\n",
       "    <tr>\n",
       "      <th>395</th>\n",
       "      <td>8.71675</td>\n",
       "      <td>0.0</td>\n",
       "      <td>18.10</td>\n",
       "      <td>0.0</td>\n",
       "      <td>0.693</td>\n",
       "      <td>6.471</td>\n",
       "      <td>98.8</td>\n",
       "      <td>1.7257</td>\n",
       "      <td>24.0</td>\n",
       "      <td>666.0</td>\n",
       "      <td>20.2</td>\n",
       "      <td>391.98</td>\n",
       "      <td>17.12</td>\n",
       "    </tr>\n",
       "    <tr>\n",
       "      <th>416</th>\n",
       "      <td>10.83420</td>\n",
       "      <td>0.0</td>\n",
       "      <td>18.10</td>\n",
       "      <td>0.0</td>\n",
       "      <td>0.679</td>\n",
       "      <td>6.782</td>\n",
       "      <td>90.8</td>\n",
       "      <td>1.8195</td>\n",
       "      <td>24.0</td>\n",
       "      <td>666.0</td>\n",
       "      <td>20.2</td>\n",
       "      <td>21.57</td>\n",
       "      <td>25.79</td>\n",
       "    </tr>\n",
       "    <tr>\n",
       "      <th>...</th>\n",
       "      <td>...</td>\n",
       "      <td>...</td>\n",
       "      <td>...</td>\n",
       "      <td>...</td>\n",
       "      <td>...</td>\n",
       "      <td>...</td>\n",
       "      <td>...</td>\n",
       "      <td>...</td>\n",
       "      <td>...</td>\n",
       "      <td>...</td>\n",
       "      <td>...</td>\n",
       "      <td>...</td>\n",
       "      <td>...</td>\n",
       "    </tr>\n",
       "    <tr>\n",
       "      <th>323</th>\n",
       "      <td>0.28392</td>\n",
       "      <td>0.0</td>\n",
       "      <td>7.38</td>\n",
       "      <td>0.0</td>\n",
       "      <td>0.493</td>\n",
       "      <td>5.708</td>\n",
       "      <td>74.3</td>\n",
       "      <td>4.7211</td>\n",
       "      <td>5.0</td>\n",
       "      <td>287.0</td>\n",
       "      <td>19.6</td>\n",
       "      <td>391.13</td>\n",
       "      <td>11.74</td>\n",
       "    </tr>\n",
       "    <tr>\n",
       "      <th>192</th>\n",
       "      <td>0.08664</td>\n",
       "      <td>45.0</td>\n",
       "      <td>3.44</td>\n",
       "      <td>0.0</td>\n",
       "      <td>0.437</td>\n",
       "      <td>7.178</td>\n",
       "      <td>26.3</td>\n",
       "      <td>6.4798</td>\n",
       "      <td>5.0</td>\n",
       "      <td>398.0</td>\n",
       "      <td>15.2</td>\n",
       "      <td>390.49</td>\n",
       "      <td>2.87</td>\n",
       "    </tr>\n",
       "    <tr>\n",
       "      <th>117</th>\n",
       "      <td>0.15098</td>\n",
       "      <td>0.0</td>\n",
       "      <td>10.01</td>\n",
       "      <td>0.0</td>\n",
       "      <td>0.547</td>\n",
       "      <td>6.021</td>\n",
       "      <td>82.6</td>\n",
       "      <td>2.7474</td>\n",
       "      <td>6.0</td>\n",
       "      <td>432.0</td>\n",
       "      <td>17.8</td>\n",
       "      <td>394.51</td>\n",
       "      <td>10.30</td>\n",
       "    </tr>\n",
       "    <tr>\n",
       "      <th>47</th>\n",
       "      <td>0.22927</td>\n",
       "      <td>0.0</td>\n",
       "      <td>6.91</td>\n",
       "      <td>0.0</td>\n",
       "      <td>0.448</td>\n",
       "      <td>6.030</td>\n",
       "      <td>85.5</td>\n",
       "      <td>5.6894</td>\n",
       "      <td>3.0</td>\n",
       "      <td>233.0</td>\n",
       "      <td>17.9</td>\n",
       "      <td>392.74</td>\n",
       "      <td>18.80</td>\n",
       "    </tr>\n",
       "    <tr>\n",
       "      <th>172</th>\n",
       "      <td>0.13914</td>\n",
       "      <td>0.0</td>\n",
       "      <td>4.05</td>\n",
       "      <td>0.0</td>\n",
       "      <td>0.510</td>\n",
       "      <td>5.572</td>\n",
       "      <td>88.5</td>\n",
       "      <td>2.5961</td>\n",
       "      <td>5.0</td>\n",
       "      <td>296.0</td>\n",
       "      <td>16.6</td>\n",
       "      <td>396.90</td>\n",
       "      <td>14.69</td>\n",
       "    </tr>\n",
       "  </tbody>\n",
       "</table>\n",
       "<p>379 rows × 13 columns</p>\n",
       "</div>"
      ],
      "text/plain": [
       "         CRIM    ZN  INDUS  CHAS    NOX     RM   AGE     DIS   RAD    TAX  \\\n",
       "245   0.19133  22.0   5.86   0.0  0.431  5.605  70.2  7.9549   7.0  330.0   \n",
       "59    0.10328  25.0   5.13   0.0  0.453  5.927  47.2  6.9320   8.0  284.0   \n",
       "276   0.10469  40.0   6.41   1.0  0.447  7.267  49.0  4.7872   4.0  254.0   \n",
       "395   8.71675   0.0  18.10   0.0  0.693  6.471  98.8  1.7257  24.0  666.0   \n",
       "416  10.83420   0.0  18.10   0.0  0.679  6.782  90.8  1.8195  24.0  666.0   \n",
       "..        ...   ...    ...   ...    ...    ...   ...     ...   ...    ...   \n",
       "323   0.28392   0.0   7.38   0.0  0.493  5.708  74.3  4.7211   5.0  287.0   \n",
       "192   0.08664  45.0   3.44   0.0  0.437  7.178  26.3  6.4798   5.0  398.0   \n",
       "117   0.15098   0.0  10.01   0.0  0.547  6.021  82.6  2.7474   6.0  432.0   \n",
       "47    0.22927   0.0   6.91   0.0  0.448  6.030  85.5  5.6894   3.0  233.0   \n",
       "172   0.13914   0.0   4.05   0.0  0.510  5.572  88.5  2.5961   5.0  296.0   \n",
       "\n",
       "     PTRATIO       B  LSTAT  \n",
       "245     19.1  389.13  18.46  \n",
       "59      19.7  396.90   9.22  \n",
       "276     17.6  389.25   6.05  \n",
       "395     20.2  391.98  17.12  \n",
       "416     20.2   21.57  25.79  \n",
       "..       ...     ...    ...  \n",
       "323     19.6  391.13  11.74  \n",
       "192     15.2  390.49   2.87  \n",
       "117     17.8  394.51  10.30  \n",
       "47      17.9  392.74  18.80  \n",
       "172     16.6  396.90  14.69  \n",
       "\n",
       "[379 rows x 13 columns]"
      ]
     },
     "execution_count": 2,
     "metadata": {},
     "output_type": "execute_result"
    }
   ],
   "source": [
    "X_train # 12가지 속성을 가지고 집값을 예측 할 것이다. \n",
    "# LinearRegression은 12개를 다 더해서 y를 구할 것이다. 이때 "
   ]
  },
  {
   "cell_type": "code",
   "execution_count": null,
   "metadata": {
    "scrolled": true
   },
   "outputs": [],
   "source": [
    "# 집값이 얼마인지 보려고 했던 것이므로 하면안됨.\n",
    "#X_train[\"집값\"] = y_train\n",
    "# X_train"
   ]
  },
  {
   "cell_type": "code",
   "execution_count": 3,
   "metadata": {
    "ExecuteTime": {
     "end_time": "2023-07-06T08:40:31.450569Z",
     "start_time": "2023-07-06T08:40:31.415012Z"
    }
   },
   "outputs": [],
   "source": [
    "from sklearn.preprocessing import StandardScaler\n",
    "scaler = StandardScaler() # 객체 생성\n",
    "X_train_scaled = scaler.fit_transform(X_train) # train set으로 학습 + 변환\n",
    "X_test_scaled = scaler.transform(X_test) # Test set: train set으로 학습한 scaler이용해 변환."
   ]
  },
  {
   "cell_type": "code",
   "execution_count": 6,
   "metadata": {
    "ExecuteTime": {
     "end_time": "2023-07-06T08:40:32.647024Z",
     "start_time": "2023-07-06T08:40:32.505018Z"
    }
   },
   "outputs": [
    {
     "data": {
      "text/html": [
       "<style>#sk-container-id-2 {color: black;background-color: white;}#sk-container-id-2 pre{padding: 0;}#sk-container-id-2 div.sk-toggleable {background-color: white;}#sk-container-id-2 label.sk-toggleable__label {cursor: pointer;display: block;width: 100%;margin-bottom: 0;padding: 0.3em;box-sizing: border-box;text-align: center;}#sk-container-id-2 label.sk-toggleable__label-arrow:before {content: \"▸\";float: left;margin-right: 0.25em;color: #696969;}#sk-container-id-2 label.sk-toggleable__label-arrow:hover:before {color: black;}#sk-container-id-2 div.sk-estimator:hover label.sk-toggleable__label-arrow:before {color: black;}#sk-container-id-2 div.sk-toggleable__content {max-height: 0;max-width: 0;overflow: hidden;text-align: left;background-color: #f0f8ff;}#sk-container-id-2 div.sk-toggleable__content pre {margin: 0.2em;color: black;border-radius: 0.25em;background-color: #f0f8ff;}#sk-container-id-2 input.sk-toggleable__control:checked~div.sk-toggleable__content {max-height: 200px;max-width: 100%;overflow: auto;}#sk-container-id-2 input.sk-toggleable__control:checked~label.sk-toggleable__label-arrow:before {content: \"▾\";}#sk-container-id-2 div.sk-estimator input.sk-toggleable__control:checked~label.sk-toggleable__label {background-color: #d4ebff;}#sk-container-id-2 div.sk-label input.sk-toggleable__control:checked~label.sk-toggleable__label {background-color: #d4ebff;}#sk-container-id-2 input.sk-hidden--visually {border: 0;clip: rect(1px 1px 1px 1px);clip: rect(1px, 1px, 1px, 1px);height: 1px;margin: -1px;overflow: hidden;padding: 0;position: absolute;width: 1px;}#sk-container-id-2 div.sk-estimator {font-family: monospace;background-color: #f0f8ff;border: 1px dotted black;border-radius: 0.25em;box-sizing: border-box;margin-bottom: 0.5em;}#sk-container-id-2 div.sk-estimator:hover {background-color: #d4ebff;}#sk-container-id-2 div.sk-parallel-item::after {content: \"\";width: 100%;border-bottom: 1px solid gray;flex-grow: 1;}#sk-container-id-2 div.sk-label:hover label.sk-toggleable__label {background-color: #d4ebff;}#sk-container-id-2 div.sk-serial::before {content: \"\";position: absolute;border-left: 1px solid gray;box-sizing: border-box;top: 0;bottom: 0;left: 50%;z-index: 0;}#sk-container-id-2 div.sk-serial {display: flex;flex-direction: column;align-items: center;background-color: white;padding-right: 0.2em;padding-left: 0.2em;position: relative;}#sk-container-id-2 div.sk-item {position: relative;z-index: 1;}#sk-container-id-2 div.sk-parallel {display: flex;align-items: stretch;justify-content: center;background-color: white;position: relative;}#sk-container-id-2 div.sk-item::before, #sk-container-id-2 div.sk-parallel-item::before {content: \"\";position: absolute;border-left: 1px solid gray;box-sizing: border-box;top: 0;bottom: 0;left: 50%;z-index: -1;}#sk-container-id-2 div.sk-parallel-item {display: flex;flex-direction: column;z-index: 1;position: relative;background-color: white;}#sk-container-id-2 div.sk-parallel-item:first-child::after {align-self: flex-end;width: 50%;}#sk-container-id-2 div.sk-parallel-item:last-child::after {align-self: flex-start;width: 50%;}#sk-container-id-2 div.sk-parallel-item:only-child::after {width: 0;}#sk-container-id-2 div.sk-dashed-wrapped {border: 1px dashed gray;margin: 0 0.4em 0.5em 0.4em;box-sizing: border-box;padding-bottom: 0.4em;background-color: white;}#sk-container-id-2 div.sk-label label {font-family: monospace;font-weight: bold;display: inline-block;line-height: 1.2em;}#sk-container-id-2 div.sk-label-container {text-align: center;}#sk-container-id-2 div.sk-container {/* jupyter's `normalize.less` sets `[hidden] { display: none; }` but bootstrap.min.css set `[hidden] { display: none !important; }` so we also need the `!important` here to be able to override the default hidden behavior on the sphinx rendered scikit-learn.org. See: https://github.com/scikit-learn/scikit-learn/issues/21755 */display: inline-block !important;position: relative;}#sk-container-id-2 div.sk-text-repr-fallback {display: none;}</style><div id=\"sk-container-id-2\" class=\"sk-top-container\"><div class=\"sk-text-repr-fallback\"><pre>LinearRegression()</pre><b>In a Jupyter environment, please rerun this cell to show the HTML representation or trust the notebook. <br />On GitHub, the HTML representation is unable to render, please try loading this page with nbviewer.org.</b></div><div class=\"sk-container\" hidden><div class=\"sk-item\"><div class=\"sk-estimator sk-toggleable\"><input class=\"sk-toggleable__control sk-hidden--visually\" id=\"sk-estimator-id-2\" type=\"checkbox\" checked><label for=\"sk-estimator-id-2\" class=\"sk-toggleable__label sk-toggleable__label-arrow\">LinearRegression</label><div class=\"sk-toggleable__content\"><pre>LinearRegression()</pre></div></div></div></div></div>"
      ],
      "text/plain": [
       "LinearRegression()"
      ]
     },
     "execution_count": 6,
     "metadata": {},
     "output_type": "execute_result"
    }
   ],
   "source": [
    "from sklearn.linear_model import LinearRegression # 선형회귀모델\n",
    "lr = LinearRegression() # 객체생성 # 애는 하이퍼파라미터(넘겨주는 값)이 따로 존재하지 않다.\n",
    "lr.fit(X_train_scaled, y_train) # 학습"
   ]
  },
  {
   "cell_type": "code",
   "execution_count": 7,
   "metadata": {},
   "outputs": [
    {
     "data": {
      "text/plain": [
       "(379, 13)"
      ]
     },
     "execution_count": 7,
     "metadata": {},
     "output_type": "execute_result"
    }
   ],
   "source": [
    "X_train.shape"
   ]
  },
  {
   "cell_type": "code",
   "execution_count": 5,
   "metadata": {
    "ExecuteTime": {
     "end_time": "2023-07-06T08:40:33.943905Z",
     "start_time": "2023-07-06T08:40:33.927059Z"
    }
   },
   "outputs": [
    {
     "data": {
      "text/plain": [
       "array([-0.97100092,  1.04667838, -0.04044753,  0.59408776, -1.80876877,\n",
       "        2.60991991, -0.19823317, -3.00216551,  2.08021582, -1.93289037,\n",
       "       -2.15743759,  0.75199122, -3.59027047])"
      ]
     },
     "execution_count": 5,
     "metadata": {},
     "output_type": "execute_result"
    }
   ],
   "source": [
    "# weight조회: 각 feature들에 곱할 가중치들을 조회할 수 있다.\n",
    "# Feature가 13개 이므로 각각의 Feature에 얼마의 가중치를 곱했는지 알 수 있다.\n",
    "lr.coef_\n",
    "# 음수가 나왔다 => 집값을 떨어뜨리는 feature이다. # 양수가 나왔다 => 집값을 올리는 feature이다."
   ]
  },
  {
   "cell_type": "code",
   "execution_count": 8,
   "metadata": {
    "ExecuteTime": {
     "end_time": "2023-07-06T08:40:34.594549Z",
     "start_time": "2023-07-06T08:40:34.581832Z"
    }
   },
   "outputs": [
    {
     "data": {
      "text/plain": [
       "22.608707124010557"
      ]
     },
     "execution_count": 8,
     "metadata": {},
     "output_type": "execute_result"
    }
   ],
   "source": [
    "# bias조회: 모든 값이 0일때 출력값\n",
    "lr.intercept_"
   ]
  },
  {
   "cell_type": "markdown",
   "metadata": {
    "ExecuteTime": {
     "end_time": "2021-11-22T02:53:53.375962Z",
     "start_time": "2021-11-22T02:53:53.353025Z"
    },
    "slideshow": {
     "slide_type": "notes"
    }
   },
   "source": [
    "> ### Coeficient의 부호\n",
    "> - weight가 \n",
    "> - 양수: Feature가 1 증가할때 y(집값)도 weight만큼 증가한다.\n",
    "> - 음수: Feature가 1 증가할때 y(집값)도 weight만큼 감소한다.\n",
    "> - 절대값 기준으로 0에 가까울 수록 집값에 영향을 주지 않고 크면 클수록(0에서 멀어질 수록) 집값에 영향을 많이 주는 Feature 란 의미가 된다."
   ]
  },
  {
   "cell_type": "code",
   "execution_count": 13,
   "metadata": {},
   "outputs": [
    {
     "data": {
      "text/plain": [
       "array([[-0.3906002 ,  0.42637011, -0.74491444, -0.265747  , -1.07873298,\n",
       "        -1.02196078,  0.05196998,  1.99457086, -0.27832777, -0.42799376,\n",
       "         0.27878885,  0.34049624,  0.82212111]])"
      ]
     },
     "execution_count": 13,
     "metadata": {},
     "output_type": "execute_result"
    }
   ],
   "source": [
    "X_train_scaled[0].reshape(1,-1)"
   ]
  },
  {
   "cell_type": "code",
   "execution_count": 12,
   "metadata": {
    "ExecuteTime": {
     "end_time": "2023-07-06T08:40:37.041632Z",
     "start_time": "2023-07-06T08:40:37.024752Z"
    }
   },
   "outputs": [
    {
     "data": {
      "text/plain": [
       "array([13.54334096])"
      ]
     },
     "execution_count": 12,
     "metadata": {},
     "output_type": "execute_result"
    }
   ],
   "source": [
    "# 첫번째 feature에 대한 선형회귀 추정결과 모델을 이용해 추론\n",
    "pred_1 = lr.predict(X_train_scaled[0].reshape(1, -1))\n",
    "pred_1"
   ]
  },
  {
   "cell_type": "code",
   "execution_count": 14,
   "metadata": {
    "ExecuteTime": {
     "end_time": "2023-07-06T08:40:37.850908Z",
     "start_time": "2023-07-06T08:40:37.837991Z"
    }
   },
   "outputs": [
    {
     "data": {
      "text/plain": [
       "13.543340962285864"
      ]
     },
     "execution_count": 14,
     "metadata": {},
     "output_type": "execute_result"
    }
   ],
   "source": [
    "# 첫번째 feature에 대한 선형회귀 추정결과 직접 계산 - 이건 내부적으로 이렇게 뽑아낸다는 것을 보여주는 것으로 테스트한것이고 우리가 한다는 것이아님.\n",
    "X_train_scaled[0] @ lr.coef_ + lr.intercept_ # numpy의 내적 연산은\n",
    "# 1차원배열 @ 1차원 배열은 가중합을 구해줘서 같은 index의 원소끼리 곱한 결과를 모두 더한다."
   ]
  },
  {
   "cell_type": "code",
   "execution_count": 15,
   "metadata": {
    "ExecuteTime": {
     "end_time": "2023-07-06T08:40:38.544772Z",
     "start_time": "2023-07-06T08:40:38.526045Z"
    }
   },
   "outputs": [
    {
     "data": {
      "text/plain": [
       "(379, 1)"
      ]
     },
     "execution_count": 15,
     "metadata": {},
     "output_type": "execute_result"
    }
   ],
   "source": [
    "# Train dataset에 대한 선형회귀 추정결과 직접 계산\n",
    "pred_train = X_train_scaled @ lr.coef_.reshape(-1, 1) + lr.intercept_\n",
    "pred_train.shape"
   ]
  },
  {
   "cell_type": "code",
   "execution_count": 16,
   "metadata": {
    "ExecuteTime": {
     "end_time": "2023-07-06T08:40:39.195666Z",
     "start_time": "2023-07-06T08:40:39.181887Z"
    }
   },
   "outputs": [
    {
     "data": {
      "text/plain": [
       "(379,)"
      ]
     },
     "execution_count": 16,
     "metadata": {},
     "output_type": "execute_result"
    }
   ],
   "source": [
    "# Train dataset에 대한 선형회귀 추정결과 모델을 이용해 추론\n",
    "pred_train2 = lr.predict(X_train_scaled)\n",
    "pred_train2.shape"
   ]
  },
  {
   "cell_type": "code",
   "execution_count": 17,
   "metadata": {
    "ExecuteTime": {
     "end_time": "2023-07-06T08:40:39.972259Z",
     "start_time": "2023-07-06T08:40:39.949761Z"
    }
   },
   "outputs": [
    {
     "data": {
      "text/plain": [
       "array([13.54334096, 21.03611757, 35.25707372, 19.31180705, 12.9193462 ,\n",
       "       13.83454251, 22.66868871, 14.2409856 , 31.24023391, 25.2746277 ])"
      ]
     },
     "execution_count": 17,
     "metadata": {},
     "output_type": "execute_result"
    }
   ],
   "source": [
    "pred_train2[:10]"
   ]
  },
  {
   "cell_type": "code",
   "execution_count": 18,
   "metadata": {
    "ExecuteTime": {
     "end_time": "2023-07-06T08:40:40.892271Z",
     "start_time": "2023-07-06T08:40:40.879626Z"
    }
   },
   "outputs": [
    {
     "data": {
      "text/plain": [
       "379"
      ]
     },
     "execution_count": 18,
     "metadata": {},
     "output_type": "execute_result"
    }
   ],
   "source": [
    "(pred_train == pred_train2).sum()"
   ]
  },
  {
   "cell_type": "markdown",
   "metadata": {
    "slideshow": {
     "slide_type": "fragment"
    }
   },
   "source": [
    "##### 평가"
   ]
  },
  {
   "cell_type": "code",
   "execution_count": 19,
   "metadata": {},
   "outputs": [],
   "source": [
    "pred_train = lr.predict(X_train_scaled)\n",
    "pred_test = lr.predict(X_test_scaled)"
   ]
  },
  {
   "cell_type": "code",
   "execution_count": 20,
   "metadata": {
    "ExecuteTime": {
     "end_time": "2023-07-06T08:40:43.248518Z",
     "start_time": "2023-07-06T08:40:42.647299Z"
    }
   },
   "outputs": [
    {
     "name": "stdout",
     "output_type": "stream",
     "text": [
      "========train set========\n",
      "MSE: 19.640519427908043\n",
      "RMSE: 4.431762564477935\n",
      "MAE: 3.1039668582990716\n",
      "R2: 0.7697699488741149\n"
     ]
    }
   ],
   "source": [
    "from metrics import print_metrics_regression\n",
    "print_metrics_regression(y_train, pred_train, \"train set\")"
   ]
  },
  {
   "cell_type": "code",
   "execution_count": 21,
   "metadata": {
    "ExecuteTime": {
     "end_time": "2023-07-06T08:41:37.568568Z",
     "start_time": "2023-07-06T08:41:37.559577Z"
    }
   },
   "outputs": [
    {
     "name": "stdout",
     "output_type": "stream",
     "text": [
      "========test set========\n",
      "MSE: 29.782245092302325\n",
      "RMSE: 5.457311159564051\n",
      "MAE: 3.668330148135714\n",
      "R2: 0.6354638433202133\n"
     ]
    }
   ],
   "source": [
    "pred_test = lr.predict(X_test_scaled)\n",
    "print_metrics_regression(y_test, pred_test, \"test set\")"
   ]
  },
  {
   "cell_type": "code",
   "execution_count": 22,
   "metadata": {
    "ExecuteTime": {
     "end_time": "2023-07-06T08:41:42.750379Z",
     "start_time": "2023-07-06T08:41:42.325658Z"
    }
   },
   "outputs": [
    {
     "data": {
      "image/png": "[encoded data removed]",
      "text/plain": [
       "<Figure size 2000x700 with 1 Axes>"
      ]
     },
     "metadata": {},
     "output_type": "display_data"
    }
   ],
   "source": [
    "# 정답,모델 추정값간의 차이를 비교\n",
    "import matplotlib.pyplot as plt\n",
    "plt.figure(figsize=(20, 7))\n",
    "x = range(len(y_test))\n",
    "plt.plot(x, y_test, marker='x', label=\"정답\")\n",
    "plt.plot(x, pred_test, marker='o', label=\"추정값\")\n",
    "plt.legend()\n",
    "plt.grid(True, linestyle=':')\n",
    "plt.title(\"정답, 모델 추정값 비교\")\n",
    "plt.show()\n"
   ]
  },
  {
   "cell_type": "code",
   "execution_count": null,
   "metadata": {},
   "outputs": [],
   "source": []
  },
  {
   "cell_type": "markdown",
   "metadata": {
    "slideshow": {
     "slide_type": "slide"
    }
   },
   "source": [
    "## 규제 (Regularization)\n",
    "- 선형 회귀 모델에서 과대적합(Overfitting) 문제를 해결하기 위해 가중치(회귀계수)에 페널티 값을 적용한다.\n",
    "- 입력데이터의 Feature들이 너무 많은 경우 Overfitting이 발생.\n",
    "    - Feature수에 비해 관측치 수가 적은 경우 모델이 복잡해 지면서 Overfitting이 발생한다.\n",
    "- 해결\n",
    "    - 데이터를 더 수집한다. \n",
    "    - Feature selection\n",
    "        - 불필요한 Features들을 제거한다.\n",
    "    - 규제 (Regularization) 을 통해 Feature들에 곱해지는 가중치가 커지지 않도록 제한한다.(0에 가까운 값으로 만들어 준다.)\n",
    "        - LinearRegression의 규제는 학습시 계산하는 오차를 키워서 모델이 오차를 줄이기 위해 가중치를 0에 가까운 값으로 만들도록 하는 방식을 사용한다.\n",
    "        - L1 규제 (Lasso)\n",
    "        - L2 규제 (Ridge)\n",
    "    "
   ]
  },
  {
   "cell_type": "markdown",
   "metadata": {
    "slideshow": {
     "slide_type": "slide"
    }
   },
   "source": [
    "## Ridge Regression (L2 규제)\n",
    "- 손실함수(loss function)에 규제항으로 $\\alpha \\sum_{i=1}^{n}{w_{i}^{2}}$ (L2 Norm)을 더해준다.\n",
    "- $\\alpha$는 하이퍼파라미터로 모델을 얼마나 많이 규제할지 조절한다. \n",
    "    - $\\alpha = 0$ 에 가까울수록 규제가 약해진다. (0일 경우 선형 회귀동일)\n",
    "    - $\\alpha$ 가 커질 수록 모든 가중치가 작아져(0에 가깝게된다.) 입력데이터의 Feature들 중 중요하지 않은 Feature의 예측에 대한 영향력이 작아지게 된다.\n",
    "\n",
    "$$\n",
    "\\text{손실함수}(w) = \\text{MSE}(w) + \\alpha \\cfrac{1}{2}\\sum_{i=1}^{n}{w_{i}^{2}}\n",
    "$$\n",
    "\n",
    "> **손실함수(Loss Function):** 모델의 예측한 값과 실제값 사이의 차이를 정의하는 함수로 모델이 학습할 때 사용된다."
   ]
  },
  {
   "cell_type": "code",
   "execution_count": 23,
   "metadata": {
    "ExecuteTime": {
     "end_time": "2023-07-06T08:41:59.652829Z",
     "start_time": "2023-07-06T08:41:59.647852Z"
    }
   },
   "outputs": [],
   "source": [
    "from sklearn.linear_model import Ridge, Lasso"
   ]
  },
  {
   "cell_type": "code",
   "execution_count": 25,
   "metadata": {
    "ExecuteTime": {
     "end_time": "2023-07-06T08:42:02.468044Z",
     "start_time": "2023-07-06T08:42:02.407939Z"
    }
   },
   "outputs": [
    {
     "name": "stdout",
     "output_type": "stream",
     "text": [
      "MSE: 19.641949353818955\n",
      "RMSE: 4.431923888540839\n",
      "MAE: 3.10088640558938\n",
      "R2: 0.76975318699993\n",
      "=========================\n",
      "MSE: 29.853763334547597\n",
      "RMSE: 5.46385974696895\n",
      "MAE: 3.668505725827107\n",
      "R2: 0.6345884564889055\n"
     ]
    }
   ],
   "source": [
    "alpha = 1\n",
    "ridge = Ridge(alpha=alpha, random_state=0) # alpha: 규제강도이다. default값은 1이다.\n",
    "ridge.fit(X_train_scaled, y_train)\n",
    "\n",
    "print_metrics_regression(y_train, ridge.predict(X_train_scaled))\n",
    "print(\"=========================\")\n",
    "print_metrics_regression(y_test, ridge.predict(X_test_scaled))"
   ]
  },
  {
   "cell_type": "code",
   "execution_count": 27,
   "metadata": {},
   "outputs": [
    {
     "data": {
      "text/plain": [
       "array([-0.96187481,  1.02775462, -0.06861144,  0.59814087, -1.77318401,\n",
       "        2.6205672 , -0.20466821, -2.96504904,  2.00091047, -1.85840697,\n",
       "       -2.14955893,  0.75175979, -3.57350065])"
      ]
     },
     "execution_count": 27,
     "metadata": {},
     "output_type": "execute_result"
    }
   ],
   "source": [
    "# weight 조회\n",
    "ridge.coef_"
   ]
  },
  {
   "cell_type": "code",
   "execution_count": 28,
   "metadata": {},
   "outputs": [
    {
     "data": {
      "text/plain": [
       "22.608707124010557"
      ]
     },
     "execution_count": 28,
     "metadata": {},
     "output_type": "execute_result"
    }
   ],
   "source": [
    "# baias 조회\n",
    "ridge.intercept_"
   ]
  },
  {
   "cell_type": "code",
   "execution_count": 30,
   "metadata": {
    "ExecuteTime": {
     "end_time": "2023-07-06T08:45:47.673178Z",
     "start_time": "2023-07-06T08:45:47.617722Z"
    },
    "scrolled": false
   },
   "outputs": [
    {
     "name": "stdout",
     "output_type": "stream",
     "text": [
      "-------------0.001---------------\n",
      "========test========\n",
      "MSE: 29.78231701652623\n",
      "RMSE: 5.457317749272643\n",
      "MAE: 3.66833043911832\n",
      "R2: 0.6354629629641464\n",
      "-------------0.01---------------\n",
      "========test========\n",
      "MSE: 29.782964300126405\n",
      "RMSE: 5.457377053138844\n",
      "MAE: 3.668333047035367\n",
      "R2: 0.6354550401807848\n",
      "-------------0.1---------------\n",
      "========test========\n",
      "MSE: 29.78943370556662\n",
      "RMSE: 5.457969742089692\n",
      "MAE: 3.6683580500031425\n",
      "R2: 0.6353758543374117\n",
      "-------------1---------------\n",
      "========test========\n",
      "MSE: 29.853763334547597\n",
      "RMSE: 5.46385974696895\n",
      "MAE: 3.668505725827107\n",
      "R2: 0.6345884564889055\n",
      "-------------10---------------\n",
      "========test========\n",
      "MSE: 30.45190337374191\n",
      "RMSE: 5.51832432661781\n",
      "MAE: 3.665574343980472\n",
      "R2: 0.6272671927504458\n",
      "-------------100---------------\n",
      "========test========\n",
      "MSE: 34.00022384210579\n",
      "RMSE: 5.830971089115928\n",
      "MAE: 3.7563076564084814\n",
      "R2: 0.5838355742745133\n",
      "-------------500---------------\n",
      "========test========\n",
      "MSE: 41.739849400036874\n",
      "RMSE: 6.4606384669037835\n",
      "MAE: 4.259809416048933\n",
      "R2: 0.48910217367678355\n",
      "-------------1000---------------\n",
      "========test========\n",
      "MSE: 47.38511812879604\n",
      "RMSE: 6.883684923701551\n",
      "MAE: 4.602725616676087\n",
      "R2: 0.42000380451661756\n"
     ]
    }
   ],
   "source": [
    "import pandas as pd\n",
    "alpha_list = [0.001, 0.01, 0.1, 1, 10, 100, 500, 1000]\n",
    "\n",
    "# alpha 의 변화에 따른 weight의 변화를 저장할 DataFrame\n",
    "coef_df = pd.DataFrame() # weight (coef) 저장\n",
    "bias_list = [] # baias (intercept_) 저장\n",
    "\n",
    "for alpha in alpha_list:\n",
    "    ridge = Ridge(alpha=alpha, random_state=0)\n",
    "    ridge.fit(X_train_scaled, y_train)\n",
    "    \n",
    "    # weight와 bias 저장\n",
    "    coef_df[f\"alpha: {alpha}\"] = ridge.coef_\n",
    "    bias_list.append(ridge.intercept_)\n",
    "    \n",
    "    print(f\"-------------{alpha}---------------\")\n",
    "#     print_metrics_regression(y_train, ridge.predict(X_train_scaled), \"train\")\n",
    "    print_metrics_regression(y_test, ridge.predict(X_test_scaled), \"test\")"
   ]
  },
  {
   "cell_type": "code",
   "execution_count": 31,
   "metadata": {
    "ExecuteTime": {
     "end_time": "2023-07-06T08:42:36.031920Z",
     "start_time": "2023-07-06T08:42:36.016017Z"
    }
   },
   "outputs": [
    {
     "data": {
      "text/plain": [
       "[22.608707124010557,\n",
       " 22.608707124010557,\n",
       " 22.608707124010557,\n",
       " 22.608707124010557,\n",
       " 22.608707124010557,\n",
       " 22.608707124010557,\n",
       " 22.608707124010557,\n",
       " 22.608707124010557]"
      ]
     },
     "execution_count": 31,
     "metadata": {},
     "output_type": "execute_result"
    }
   ],
   "source": [
    "bias_list # 변하지 않음"
   ]
  },
  {
   "cell_type": "code",
   "execution_count": 32,
   "metadata": {
    "ExecuteTime": {
     "end_time": "2023-07-06T08:43:03.959696Z",
     "start_time": "2023-07-06T08:43:03.934132Z"
    }
   },
   "outputs": [
    {
     "data": {
      "text/html": [
       "<div>\n",
       "<style scoped>\n",
       "    .dataframe tbody tr th:only-of-type {\n",
       "        vertical-align: middle;\n",
       "    }\n",
       "\n",
       "    .dataframe tbody tr th {\n",
       "        vertical-align: top;\n",
       "    }\n",
       "\n",
       "    .dataframe thead th {\n",
       "        text-align: right;\n",
       "    }\n",
       "</style>\n",
       "<table border=\"1\" class=\"dataframe\">\n",
       "  <thead>\n",
       "    <tr style=\"text-align: right;\">\n",
       "      <th></th>\n",
       "      <th>alpha: 0.001</th>\n",
       "      <th>alpha: 0.01</th>\n",
       "      <th>alpha: 0.1</th>\n",
       "      <th>alpha: 1</th>\n",
       "      <th>alpha: 10</th>\n",
       "      <th>alpha: 100</th>\n",
       "      <th>alpha: 500</th>\n",
       "      <th>alpha: 1000</th>\n",
       "    </tr>\n",
       "  </thead>\n",
       "  <tbody>\n",
       "    <tr>\n",
       "      <th>0</th>\n",
       "      <td>-0.970992</td>\n",
       "      <td>-0.970907</td>\n",
       "      <td>-0.970063</td>\n",
       "      <td>-0.961875</td>\n",
       "      <td>-0.898519</td>\n",
       "      <td>-0.702647</td>\n",
       "      <td>-0.534735</td>\n",
       "      <td>-0.442678</td>\n",
       "    </tr>\n",
       "    <tr>\n",
       "      <th>1</th>\n",
       "      <td>1.046659</td>\n",
       "      <td>1.046484</td>\n",
       "      <td>1.044735</td>\n",
       "      <td>1.027755</td>\n",
       "      <td>0.895907</td>\n",
       "      <td>0.542402</td>\n",
       "      <td>0.432019</td>\n",
       "      <td>0.382202</td>\n",
       "    </tr>\n",
       "    <tr>\n",
       "      <th>2</th>\n",
       "      <td>-0.040477</td>\n",
       "      <td>-0.040742</td>\n",
       "      <td>-0.043379</td>\n",
       "      <td>-0.068611</td>\n",
       "      <td>-0.241628</td>\n",
       "      <td>-0.539236</td>\n",
       "      <td>-0.571494</td>\n",
       "      <td>-0.512882</td>\n",
       "    </tr>\n",
       "    <tr>\n",
       "      <th>3</th>\n",
       "      <td>0.594092</td>\n",
       "      <td>0.594130</td>\n",
       "      <td>0.594509</td>\n",
       "      <td>0.598141</td>\n",
       "      <td>0.623200</td>\n",
       "      <td>0.643067</td>\n",
       "      <td>0.469501</td>\n",
       "      <td>0.333552</td>\n",
       "    </tr>\n",
       "    <tr>\n",
       "      <th>4</th>\n",
       "      <td>-1.808732</td>\n",
       "      <td>-1.808405</td>\n",
       "      <td>-1.805134</td>\n",
       "      <td>-1.773184</td>\n",
       "      <td>-1.512895</td>\n",
       "      <td>-0.685798</td>\n",
       "      <td>-0.406040</td>\n",
       "      <td>-0.371299</td>\n",
       "    </tr>\n",
       "    <tr>\n",
       "      <th>5</th>\n",
       "      <td>2.609931</td>\n",
       "      <td>2.610030</td>\n",
       "      <td>2.611019</td>\n",
       "      <td>2.620567</td>\n",
       "      <td>2.689748</td>\n",
       "      <td>2.650139</td>\n",
       "      <td>1.776278</td>\n",
       "      <td>1.253866</td>\n",
       "    </tr>\n",
       "    <tr>\n",
       "      <th>6</th>\n",
       "      <td>-0.198240</td>\n",
       "      <td>-0.198300</td>\n",
       "      <td>-0.198901</td>\n",
       "      <td>-0.204668</td>\n",
       "      <td>-0.245227</td>\n",
       "      <td>-0.308313</td>\n",
       "      <td>-0.332627</td>\n",
       "      <td>-0.327295</td>\n",
       "    </tr>\n",
       "    <tr>\n",
       "      <th>7</th>\n",
       "      <td>-3.002128</td>\n",
       "      <td>-3.001789</td>\n",
       "      <td>-2.998407</td>\n",
       "      <td>-2.965049</td>\n",
       "      <td>-2.671723</td>\n",
       "      <td>-1.379397</td>\n",
       "      <td>-0.332010</td>\n",
       "      <td>-0.062878</td>\n",
       "    </tr>\n",
       "    <tr>\n",
       "      <th>8</th>\n",
       "      <td>2.080133</td>\n",
       "      <td>2.079392</td>\n",
       "      <td>2.072006</td>\n",
       "      <td>2.000910</td>\n",
       "      <td>1.486602</td>\n",
       "      <td>0.301828</td>\n",
       "      <td>-0.209340</td>\n",
       "      <td>-0.283024</td>\n",
       "    </tr>\n",
       "    <tr>\n",
       "      <th>9</th>\n",
       "      <td>-1.932813</td>\n",
       "      <td>-1.932113</td>\n",
       "      <td>-1.925143</td>\n",
       "      <td>-1.858407</td>\n",
       "      <td>-1.398256</td>\n",
       "      <td>-0.630364</td>\n",
       "      <td>-0.526917</td>\n",
       "      <td>-0.477386</td>\n",
       "    </tr>\n",
       "    <tr>\n",
       "      <th>10</th>\n",
       "      <td>-2.157430</td>\n",
       "      <td>-2.157357</td>\n",
       "      <td>-2.156634</td>\n",
       "      <td>-2.149559</td>\n",
       "      <td>-2.090199</td>\n",
       "      <td>-1.783409</td>\n",
       "      <td>-1.200892</td>\n",
       "      <td>-0.879779</td>\n",
       "    </tr>\n",
       "    <tr>\n",
       "      <th>11</th>\n",
       "      <td>0.751991</td>\n",
       "      <td>0.751989</td>\n",
       "      <td>0.751965</td>\n",
       "      <td>0.751760</td>\n",
       "      <td>0.750952</td>\n",
       "      <td>0.714219</td>\n",
       "      <td>0.534700</td>\n",
       "      <td>0.422577</td>\n",
       "    </tr>\n",
       "    <tr>\n",
       "      <th>12</th>\n",
       "      <td>-3.590253</td>\n",
       "      <td>-3.590101</td>\n",
       "      <td>-3.588575</td>\n",
       "      <td>-3.573501</td>\n",
       "      <td>-3.438105</td>\n",
       "      <td>-2.683581</td>\n",
       "      <td>-1.621575</td>\n",
       "      <td>-1.162839</td>\n",
       "    </tr>\n",
       "  </tbody>\n",
       "</table>\n",
       "</div>"
      ],
      "text/plain": [
       "    alpha: 0.001  alpha: 0.01  alpha: 0.1  alpha: 1  alpha: 10  alpha: 100  \\\n",
       "0      -0.970992    -0.970907   -0.970063 -0.961875  -0.898519   -0.702647   \n",
       "1       1.046659     1.046484    1.044735  1.027755   0.895907    0.542402   \n",
       "2      -0.040477    -0.040742   -0.043379 -0.068611  -0.241628   -0.539236   \n",
       "3       0.594092     0.594130    0.594509  0.598141   0.623200    0.643067   \n",
       "4      -1.808732    -1.808405   -1.805134 -1.773184  -1.512895   -0.685798   \n",
       "5       2.609931     2.610030    2.611019  2.620567   2.689748    2.650139   \n",
       "6      -0.198240    -0.198300   -0.198901 -0.204668  -0.245227   -0.308313   \n",
       "7      -3.002128    -3.001789   -2.998407 -2.965049  -2.671723   -1.379397   \n",
       "8       2.080133     2.079392    2.072006  2.000910   1.486602    0.301828   \n",
       "9      -1.932813    -1.932113   -1.925143 -1.858407  -1.398256   -0.630364   \n",
       "10     -2.157430    -2.157357   -2.156634 -2.149559  -2.090199   -1.783409   \n",
       "11      0.751991     0.751989    0.751965  0.751760   0.750952    0.714219   \n",
       "12     -3.590253    -3.590101   -3.588575 -3.573501  -3.438105   -2.683581   \n",
       "\n",
       "    alpha: 500  alpha: 1000  \n",
       "0    -0.534735    -0.442678  \n",
       "1     0.432019     0.382202  \n",
       "2    -0.571494    -0.512882  \n",
       "3     0.469501     0.333552  \n",
       "4    -0.406040    -0.371299  \n",
       "5     1.776278     1.253866  \n",
       "6    -0.332627    -0.327295  \n",
       "7    -0.332010    -0.062878  \n",
       "8    -0.209340    -0.283024  \n",
       "9    -0.526917    -0.477386  \n",
       "10   -1.200892    -0.879779  \n",
       "11    0.534700     0.422577  \n",
       "12   -1.621575    -1.162839  "
      ]
     },
     "execution_count": 32,
     "metadata": {},
     "output_type": "execute_result"
    }
   ],
   "source": [
    "coef_df"
   ]
  },
  {
   "cell_type": "markdown",
   "metadata": {
    "slideshow": {
     "slide_type": "slide"
    }
   },
   "source": [
    "## Lasso(Least Absolut Shrinkage and Selection Operator) Regression (L1 규제)\n",
    "\n",
    "- 손실함수에 규제항으로 $\\alpha \\sum_{i=1}^{n}{\\left| w_i \\right|}$ (L1 Norm)더한다.\n",
    "- Lasso 회귀의 상대적으로 덜 중요한 특성의 가중치를 0으로 만들어 자동으로 Feature Selection이 된다.\n",
    "\n",
    "$$\n",
    "\\text{손실함수}(w) = \\text{MSE}(w) + \\alpha \\sum_{i=1}^{n}{\\left| w_i \\right|}\n",
    "$$"
   ]
  },
  {
   "cell_type": "code",
   "execution_count": 33,
   "metadata": {
    "ExecuteTime": {
     "end_time": "2023-07-06T08:45:30.950621Z",
     "start_time": "2023-07-06T08:45:30.905290Z"
    },
    "scrolled": false
   },
   "outputs": [
    {
     "name": "stdout",
     "output_type": "stream",
     "text": [
      "alphaL 0.001-----------------------\n",
      "========test========\n",
      "MSE: 29.791255130183576\n",
      "RMSE: 5.45813659871055\n",
      "MAE: 3.6681969731021136\n",
      "R2: 0.635353560009785\n",
      "alphaL 0.01-----------------------\n",
      "========test========\n",
      "MSE: 29.87683157624681\n",
      "RMSE: 5.465970323396095\n",
      "MAE: 3.666910669625587\n",
      "R2: 0.6343061000666703\n",
      "alphaL 0.1-----------------------\n",
      "========test========\n",
      "MSE: 31.173724839373957\n",
      "RMSE: 5.583343517944598\n",
      "MAE: 3.6801556847251127\n",
      "R2: 0.6184320622196556\n",
      "alphaL 1-----------------------\n",
      "========test========\n",
      "MSE: 35.489636168280335\n",
      "RMSE: 5.957317866983458\n",
      "MAE: 3.9285318553756814\n",
      "R2: 0.5656050935497575\n",
      "alphaL 5-----------------------\n",
      "========test========\n",
      "MSE: 59.87237303347597\n",
      "RMSE: 7.737724021537339\n",
      "MAE: 5.253141701893195\n",
      "R2: 0.2671591853038978\n",
      "alphaL 10-----------------------\n",
      "========test========\n",
      "MSE: 81.7904659829155\n",
      "RMSE: 9.043808157126925\n",
      "MAE: 6.262755282238796\n",
      "R2: -0.001119359203955339\n"
     ]
    }
   ],
   "source": [
    "alpha_list2 = [0.001, 0.01, 0.1, 1, 5, 10]\n",
    "\n",
    "coef_df2 = pd.DataFrame()\n",
    "bias_list2 = []\n",
    "\n",
    "for alpha in alpha_list2:\n",
    "    \n",
    "    lasso = Lasso(alpha=alpha, random_state=0)\n",
    "    lasso.fit(X_train_scaled, y_train)\n",
    "    \n",
    "    coef_df2[f'alpha: {alpha}'] = lasso.coef_\n",
    "    bias_list2.append(lasso.intercept_)\n",
    "    \n",
    "    print(f\"alphaL {alpha}-----------------------\")\n",
    "#     print_metrics_regression(y_train, lasso.predict(X_train_scaled), \"train\")\n",
    "    print_metrics_regression(y_test, lasso.predict(X_test_scaled), \"test\")"
   ]
  },
  {
   "cell_type": "code",
   "execution_count": 34,
   "metadata": {
    "ExecuteTime": {
     "end_time": "2023-07-06T08:43:48.581339Z",
     "start_time": "2023-07-06T08:43:48.568005Z"
    }
   },
   "outputs": [
    {
     "data": {
      "text/plain": [
       "[22.608707124010557,\n",
       " 22.608707124010557,\n",
       " 22.608707124010557,\n",
       " 22.608707124010557,\n",
       " 22.608707124010557,\n",
       " 22.608707124010557]"
      ]
     },
     "execution_count": 34,
     "metadata": {},
     "output_type": "execute_result"
    }
   ],
   "source": [
    "bias_list2"
   ]
  },
  {
   "cell_type": "code",
   "execution_count": 35,
   "metadata": {
    "ExecuteTime": {
     "end_time": "2023-07-06T08:43:49.103519Z",
     "start_time": "2023-07-06T08:43:49.072449Z"
    }
   },
   "outputs": [
    {
     "data": {
      "text/html": [
       "<div>\n",
       "<style scoped>\n",
       "    .dataframe tbody tr th:only-of-type {\n",
       "        vertical-align: middle;\n",
       "    }\n",
       "\n",
       "    .dataframe tbody tr th {\n",
       "        vertical-align: top;\n",
       "    }\n",
       "\n",
       "    .dataframe thead th {\n",
       "        text-align: right;\n",
       "    }\n",
       "</style>\n",
       "<table border=\"1\" class=\"dataframe\">\n",
       "  <thead>\n",
       "    <tr style=\"text-align: right;\">\n",
       "      <th></th>\n",
       "      <th>alpha: 0.001</th>\n",
       "      <th>alpha: 0.01</th>\n",
       "      <th>alpha: 0.1</th>\n",
       "      <th>alpha: 1</th>\n",
       "      <th>alpha: 5</th>\n",
       "      <th>alpha: 10</th>\n",
       "    </tr>\n",
       "  </thead>\n",
       "  <tbody>\n",
       "    <tr>\n",
       "      <th>0</th>\n",
       "      <td>-0.967848</td>\n",
       "      <td>-0.939492</td>\n",
       "      <td>-0.659315</td>\n",
       "      <td>-0.000000</td>\n",
       "      <td>-0.000000</td>\n",
       "      <td>-0.0</td>\n",
       "    </tr>\n",
       "    <tr>\n",
       "      <th>1</th>\n",
       "      <td>1.043088</td>\n",
       "      <td>1.010377</td>\n",
       "      <td>0.684820</td>\n",
       "      <td>0.000000</td>\n",
       "      <td>0.000000</td>\n",
       "      <td>0.0</td>\n",
       "    </tr>\n",
       "    <tr>\n",
       "      <th>2</th>\n",
       "      <td>-0.042280</td>\n",
       "      <td>-0.057475</td>\n",
       "      <td>-0.207389</td>\n",
       "      <td>-0.000000</td>\n",
       "      <td>-0.000000</td>\n",
       "      <td>-0.0</td>\n",
       "    </tr>\n",
       "    <tr>\n",
       "      <th>3</th>\n",
       "      <td>0.593919</td>\n",
       "      <td>0.592324</td>\n",
       "      <td>0.575874</td>\n",
       "      <td>0.000000</td>\n",
       "      <td>0.000000</td>\n",
       "      <td>0.0</td>\n",
       "    </tr>\n",
       "    <tr>\n",
       "      <th>4</th>\n",
       "      <td>-1.804056</td>\n",
       "      <td>-1.761604</td>\n",
       "      <td>-1.345790</td>\n",
       "      <td>-0.000000</td>\n",
       "      <td>-0.000000</td>\n",
       "      <td>-0.0</td>\n",
       "    </tr>\n",
       "    <tr>\n",
       "      <th>5</th>\n",
       "      <td>2.611194</td>\n",
       "      <td>2.622904</td>\n",
       "      <td>2.738958</td>\n",
       "      <td>2.529330</td>\n",
       "      <td>0.374985</td>\n",
       "      <td>0.0</td>\n",
       "    </tr>\n",
       "    <tr>\n",
       "      <th>6</th>\n",
       "      <td>-0.196298</td>\n",
       "      <td>-0.179110</td>\n",
       "      <td>-0.007398</td>\n",
       "      <td>-0.000000</td>\n",
       "      <td>-0.000000</td>\n",
       "      <td>-0.0</td>\n",
       "    </tr>\n",
       "    <tr>\n",
       "      <th>7</th>\n",
       "      <td>-2.994364</td>\n",
       "      <td>-2.923287</td>\n",
       "      <td>-2.216914</td>\n",
       "      <td>-0.000000</td>\n",
       "      <td>0.000000</td>\n",
       "      <td>0.0</td>\n",
       "    </tr>\n",
       "    <tr>\n",
       "      <th>8</th>\n",
       "      <td>2.065494</td>\n",
       "      <td>1.933983</td>\n",
       "      <td>0.632402</td>\n",
       "      <td>-0.000000</td>\n",
       "      <td>-0.000000</td>\n",
       "      <td>-0.0</td>\n",
       "    </tr>\n",
       "    <tr>\n",
       "      <th>9</th>\n",
       "      <td>-1.920598</td>\n",
       "      <td>-1.811185</td>\n",
       "      <td>-0.724794</td>\n",
       "      <td>-0.227631</td>\n",
       "      <td>-0.000000</td>\n",
       "      <td>-0.0</td>\n",
       "    </tr>\n",
       "    <tr>\n",
       "      <th>10</th>\n",
       "      <td>-2.156365</td>\n",
       "      <td>-2.147052</td>\n",
       "      <td>-2.055994</td>\n",
       "      <td>-1.700884</td>\n",
       "      <td>-0.000000</td>\n",
       "      <td>-0.0</td>\n",
       "    </tr>\n",
       "    <tr>\n",
       "      <th>11</th>\n",
       "      <td>0.750737</td>\n",
       "      <td>0.739642</td>\n",
       "      <td>0.629083</td>\n",
       "      <td>0.131861</td>\n",
       "      <td>0.000000</td>\n",
       "      <td>0.0</td>\n",
       "    </tr>\n",
       "    <tr>\n",
       "      <th>12</th>\n",
       "      <td>-3.590991</td>\n",
       "      <td>-3.597323</td>\n",
       "      <td>-3.658501</td>\n",
       "      <td>-3.605655</td>\n",
       "      <td>-1.752124</td>\n",
       "      <td>-0.0</td>\n",
       "    </tr>\n",
       "  </tbody>\n",
       "</table>\n",
       "</div>"
      ],
      "text/plain": [
       "    alpha: 0.001  alpha: 0.01  alpha: 0.1  alpha: 1  alpha: 5  alpha: 10\n",
       "0      -0.967848    -0.939492   -0.659315 -0.000000 -0.000000       -0.0\n",
       "1       1.043088     1.010377    0.684820  0.000000  0.000000        0.0\n",
       "2      -0.042280    -0.057475   -0.207389 -0.000000 -0.000000       -0.0\n",
       "3       0.593919     0.592324    0.575874  0.000000  0.000000        0.0\n",
       "4      -1.804056    -1.761604   -1.345790 -0.000000 -0.000000       -0.0\n",
       "5       2.611194     2.622904    2.738958  2.529330  0.374985        0.0\n",
       "6      -0.196298    -0.179110   -0.007398 -0.000000 -0.000000       -0.0\n",
       "7      -2.994364    -2.923287   -2.216914 -0.000000  0.000000        0.0\n",
       "8       2.065494     1.933983    0.632402 -0.000000 -0.000000       -0.0\n",
       "9      -1.920598    -1.811185   -0.724794 -0.227631 -0.000000       -0.0\n",
       "10     -2.156365    -2.147052   -2.055994 -1.700884 -0.000000       -0.0\n",
       "11      0.750737     0.739642    0.629083  0.131861  0.000000        0.0\n",
       "12     -3.590991    -3.597323   -3.658501 -3.605655 -1.752124       -0.0"
      ]
     },
     "execution_count": 35,
     "metadata": {},
     "output_type": "execute_result"
    }
   ],
   "source": [
    "coef_df2"
   ]
  },
  {
   "cell_type": "code",
   "execution_count": 36,
   "metadata": {
    "ExecuteTime": {
     "end_time": "2023-07-06T08:43:56.391060Z",
     "start_time": "2023-07-06T08:43:56.375516Z"
    }
   },
   "outputs": [
    {
     "data": {
      "text/plain": [
       "array([22.60870712, 22.60870712, 22.60870712, 22.60870712, 22.60870712,\n",
       "       22.60870712, 22.60870712, 22.60870712, 22.60870712, 22.60870712,\n",
       "       22.60870712, 22.60870712, 22.60870712, 22.60870712, 22.60870712,\n",
       "       22.60870712, 22.60870712, 22.60870712, 22.60870712, 22.60870712,\n",
       "       22.60870712, 22.60870712, 22.60870712, 22.60870712, 22.60870712,\n",
       "       22.60870712, 22.60870712, 22.60870712, 22.60870712, 22.60870712,\n",
       "       22.60870712, 22.60870712, 22.60870712, 22.60870712, 22.60870712,\n",
       "       22.60870712, 22.60870712, 22.60870712, 22.60870712, 22.60870712,\n",
       "       22.60870712, 22.60870712, 22.60870712, 22.60870712, 22.60870712,\n",
       "       22.60870712, 22.60870712, 22.60870712, 22.60870712, 22.60870712,\n",
       "       22.60870712, 22.60870712, 22.60870712, 22.60870712, 22.60870712,\n",
       "       22.60870712, 22.60870712, 22.60870712, 22.60870712, 22.60870712,\n",
       "       22.60870712, 22.60870712, 22.60870712, 22.60870712, 22.60870712,\n",
       "       22.60870712, 22.60870712, 22.60870712, 22.60870712, 22.60870712,\n",
       "       22.60870712, 22.60870712, 22.60870712, 22.60870712, 22.60870712,\n",
       "       22.60870712, 22.60870712, 22.60870712, 22.60870712, 22.60870712,\n",
       "       22.60870712, 22.60870712, 22.60870712, 22.60870712, 22.60870712,\n",
       "       22.60870712, 22.60870712, 22.60870712, 22.60870712, 22.60870712,\n",
       "       22.60870712, 22.60870712, 22.60870712, 22.60870712, 22.60870712,\n",
       "       22.60870712, 22.60870712, 22.60870712, 22.60870712, 22.60870712,\n",
       "       22.60870712, 22.60870712, 22.60870712, 22.60870712, 22.60870712,\n",
       "       22.60870712, 22.60870712, 22.60870712, 22.60870712, 22.60870712,\n",
       "       22.60870712, 22.60870712, 22.60870712, 22.60870712, 22.60870712,\n",
       "       22.60870712, 22.60870712, 22.60870712, 22.60870712, 22.60870712,\n",
       "       22.60870712, 22.60870712, 22.60870712, 22.60870712, 22.60870712,\n",
       "       22.60870712, 22.60870712, 22.60870712, 22.60870712, 22.60870712,\n",
       "       22.60870712, 22.60870712, 22.60870712, 22.60870712, 22.60870712,\n",
       "       22.60870712, 22.60870712, 22.60870712, 22.60870712, 22.60870712,\n",
       "       22.60870712, 22.60870712, 22.60870712, 22.60870712, 22.60870712,\n",
       "       22.60870712, 22.60870712, 22.60870712, 22.60870712, 22.60870712,\n",
       "       22.60870712, 22.60870712, 22.60870712, 22.60870712, 22.60870712,\n",
       "       22.60870712, 22.60870712, 22.60870712, 22.60870712, 22.60870712,\n",
       "       22.60870712, 22.60870712, 22.60870712, 22.60870712, 22.60870712,\n",
       "       22.60870712, 22.60870712, 22.60870712, 22.60870712, 22.60870712,\n",
       "       22.60870712, 22.60870712, 22.60870712, 22.60870712, 22.60870712,\n",
       "       22.60870712, 22.60870712, 22.60870712, 22.60870712, 22.60870712,\n",
       "       22.60870712, 22.60870712, 22.60870712, 22.60870712, 22.60870712,\n",
       "       22.60870712, 22.60870712, 22.60870712, 22.60870712, 22.60870712,\n",
       "       22.60870712, 22.60870712, 22.60870712, 22.60870712, 22.60870712,\n",
       "       22.60870712, 22.60870712, 22.60870712, 22.60870712, 22.60870712,\n",
       "       22.60870712, 22.60870712, 22.60870712, 22.60870712, 22.60870712,\n",
       "       22.60870712, 22.60870712, 22.60870712, 22.60870712, 22.60870712,\n",
       "       22.60870712, 22.60870712, 22.60870712, 22.60870712, 22.60870712,\n",
       "       22.60870712, 22.60870712, 22.60870712, 22.60870712, 22.60870712,\n",
       "       22.60870712, 22.60870712, 22.60870712, 22.60870712, 22.60870712,\n",
       "       22.60870712, 22.60870712, 22.60870712, 22.60870712, 22.60870712,\n",
       "       22.60870712, 22.60870712, 22.60870712, 22.60870712, 22.60870712,\n",
       "       22.60870712, 22.60870712, 22.60870712, 22.60870712, 22.60870712,\n",
       "       22.60870712, 22.60870712, 22.60870712, 22.60870712, 22.60870712,\n",
       "       22.60870712, 22.60870712, 22.60870712, 22.60870712, 22.60870712,\n",
       "       22.60870712, 22.60870712, 22.60870712, 22.60870712, 22.60870712,\n",
       "       22.60870712, 22.60870712, 22.60870712, 22.60870712, 22.60870712,\n",
       "       22.60870712, 22.60870712, 22.60870712, 22.60870712, 22.60870712,\n",
       "       22.60870712, 22.60870712, 22.60870712, 22.60870712, 22.60870712,\n",
       "       22.60870712, 22.60870712, 22.60870712, 22.60870712, 22.60870712,\n",
       "       22.60870712, 22.60870712, 22.60870712, 22.60870712, 22.60870712,\n",
       "       22.60870712, 22.60870712, 22.60870712, 22.60870712, 22.60870712,\n",
       "       22.60870712, 22.60870712, 22.60870712, 22.60870712, 22.60870712,\n",
       "       22.60870712, 22.60870712, 22.60870712, 22.60870712, 22.60870712,\n",
       "       22.60870712, 22.60870712, 22.60870712, 22.60870712, 22.60870712,\n",
       "       22.60870712, 22.60870712, 22.60870712, 22.60870712, 22.60870712,\n",
       "       22.60870712, 22.60870712, 22.60870712, 22.60870712, 22.60870712,\n",
       "       22.60870712, 22.60870712, 22.60870712, 22.60870712, 22.60870712,\n",
       "       22.60870712, 22.60870712, 22.60870712, 22.60870712, 22.60870712,\n",
       "       22.60870712, 22.60870712, 22.60870712, 22.60870712, 22.60870712,\n",
       "       22.60870712, 22.60870712, 22.60870712, 22.60870712, 22.60870712,\n",
       "       22.60870712, 22.60870712, 22.60870712, 22.60870712, 22.60870712,\n",
       "       22.60870712, 22.60870712, 22.60870712, 22.60870712, 22.60870712,\n",
       "       22.60870712, 22.60870712, 22.60870712, 22.60870712, 22.60870712,\n",
       "       22.60870712, 22.60870712, 22.60870712, 22.60870712, 22.60870712,\n",
       "       22.60870712, 22.60870712, 22.60870712, 22.60870712, 22.60870712,\n",
       "       22.60870712, 22.60870712, 22.60870712, 22.60870712, 22.60870712,\n",
       "       22.60870712, 22.60870712, 22.60870712, 22.60870712, 22.60870712,\n",
       "       22.60870712, 22.60870712, 22.60870712, 22.60870712, 22.60870712,\n",
       "       22.60870712, 22.60870712, 22.60870712, 22.60870712, 22.60870712,\n",
       "       22.60870712, 22.60870712, 22.60870712, 22.60870712])"
      ]
     },
     "execution_count": 36,
     "metadata": {},
     "output_type": "execute_result"
    }
   ],
   "source": [
    "# alpha = 10 ===> 모든 weight들이 0 ===> bias(intercept_)로 추론.\n",
    "# 즉 너무 규제를 강하게 하면 weight를 0으로 만들어 버리게 된다.\n",
    "# bias가 동일한 것을확인할 수 있다.\n",
    "# 그래서 이것은 feature가 많을 때 사용하는 것이 좋다.\n",
    "lasso.predict(X_train_scaled)"
   ]
  },
  {
   "cell_type": "code",
   "execution_count": null,
   "metadata": {},
   "outputs": [],
   "source": []
  },
  {
   "cell_type": "markdown",
   "metadata": {
    "slideshow": {
     "slide_type": "slide"
    }
   },
   "source": [
    "# 정리\n",
    "- 일반적으로 선형회귀의 경우 어느정도 규제가 있는 경우가 성능이 좋다.\n",
    "- 기본적으로 **Ridge**를 사용한다.\n",
    "- Target에 영향을 주는 Feature가 몇 개뿐일 경우 특성의 가중치를 0으로 만들어 주는 **Lasso** 사용한다. "
   ]
  }
 ],
 "metadata": {
  "kernelspec": {
   "display_name": "Python 3 (ipykernel)",
   "language": "python",
   "name": "python3"
  },
  "language_info": {
   "codemirror_mode": {
    "name": "ipython",
    "version": 3
   },
   "file_extension": ".py",
   "mimetype": "text/x-python",
   "name": "python",
   "nbconvert_exporter": "python",
   "pygments_lexer": "ipython3",
   "version": "3.10.11"
  },
  "toc": {
   "base_numbering": 1,
   "nav_menu": {},
   "number_sections": false,
   "sideBar": true,
   "skip_h1_title": false,
   "title_cell": "Table of Contents",
   "title_sidebar": "Contents",
   "toc_cell": false,
   "toc_position": {},
   "toc_section_display": true,
   "toc_window_display": false
  },
  "varInspector": {
   "cols": {
    "lenName": 16,
    "lenType": 16,
    "lenVar": 40
   },
   "kernels_config": {
    "python": {
     "delete_cmd_postfix": "",
     "delete_cmd_prefix": "del ",
     "library": "var_list.py",
     "varRefreshCmd": "print(var_dic_list())"
    },
    "r": {
     "delete_cmd_postfix": ") ",
     "delete_cmd_prefix": "rm(",
     "library": "var_list.r",
     "varRefreshCmd": "cat(var_dic_list()) "
    }
   },
   "types_to_exclude": [
    "module",
    "function",
    "builtin_function_or_method",
    "instance",
    "_Feature"
   ],
   "window_display": false
  }
 },
 "nbformat": 4,
 "nbformat_minor": 4
}
