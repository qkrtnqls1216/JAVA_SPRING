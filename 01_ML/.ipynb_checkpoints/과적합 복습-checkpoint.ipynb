{
 "cells": [
  {
   "cell_type": "markdown",
   "id": "0f1f59ef",
   "metadata": {},
   "source": [
    "# 과적합과 일반화\n",
    "* Generalization (일반화)\n",
    "    * 모델이 새로운 데이터셋(학습할 때 사용하지 않은 데이터)에 대하여 정확히 예측하면 이것을 일반화라고 한다.\n",
    "        다시말해 우리가 예측할 대상 모집단 전체에 대한 일반적인 특성을 잘찾은 모델인 것이다.\n",
    "    * 원본데이터셋과 테스트데이터셋의 결과 차이가 거의 없고 좋은 평가지표를 보여준다."
   ]
  },
  {
   "cell_type": "code",
   "execution_count": null,
   "id": "eb4cc899",
   "metadata": {},
   "outputs": [],
   "source": []
  }
 ],
 "metadata": {
  "kernelspec": {
   "display_name": "Python 3 (ipykernel)",
   "language": "python",
   "name": "python3"
  },
  "language_info": {
   "codemirror_mode": {
    "name": "ipython",
    "version": 3
   },
   "file_extension": ".py",
   "mimetype": "text/x-python",
   "name": "python",
   "nbconvert_exporter": "python",
   "pygments_lexer": "ipython3",
   "version": "3.10.11"
  }
 },
 "nbformat": 4,
 "nbformat_minor": 5
}
