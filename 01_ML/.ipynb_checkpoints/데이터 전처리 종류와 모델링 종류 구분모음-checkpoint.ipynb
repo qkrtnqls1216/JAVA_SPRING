{
 "cells": [
  {
   "cell_type": "markdown",
   "id": "93b547da",
   "metadata": {},
   "source": [
    "## 데이터 관련 용어\n",
    "### Feature -> 테이블보다 큰 거라고 본다.\n",
    "- 추론하기 위한 근거가 되는 값들을 표현하는 용어.\n",
    "- 예측 하거나 분류해야 하는 데이터의 특성, 속성 값을 말한다.\n",
    "- 입력 변수(Input), 독립변수라고도 한다.\n",
    "- 일반적으로 X(대문자)로 표현한다.\n",
    "\n",
    "### Label\n",
    "- 예측하거나 분류해야 하는 값들을 표현하는 용어\n",
    "- 출력 변수(Output), 종속변수, Target 이라고도 한다.\n",
    "- 일반적으로 y(소문자)로 표현한다.\n",
    "\n",
    "### Class\n",
    "- Label이 범주형(Categorical)(가질 수 있는게 딱 정해져 있는 경우) 일 경우 그 고유값을 Class라고 한다.\n",
    "    - 개/고양이, 남성/여성, A형/AB형/B형/O형\n",
    "\n",
    "### 데이터 포인트(Feature +Label )\n",
    "- 개별 데이터를 표현하는 용어. => 한줄한줄을 데이터포인트라고 한다.\n",
    "\n",
    "7개의 데이터 포인트 / 2개의 데이터 포인트"
   ]
  },
  {
   "cell_type": "markdown",
   "id": "2e8bbf10",
   "metadata": {},
   "source": [
    "# 머신러닝 알고리즘 분류\n",
    "\n",
    "## 지도학습(Supervised Learning)\n",
    "- 모델에게 데이터의 특징(Feature)와 정답(Label)을 알려주며 학습시킨다.\n",
    "- 대부분의 머신러닝은 지도학습이다.\n",
    "- 지도학습은 분류와 회귀로 나뉜다.\n",
    "\n"
   ]
  },
  {
   "cell_type": "markdown",
   "id": "a2cd0ad5",
   "metadata": {},
   "source": [
    "- ### 분류(Classification):\n",
    "    - **두개 이상의 클래스(범주)에서 선택을 묻는 지도 학습방법**\n",
    "        - **이진 분류** : 맞는지 틀린지를 분류.\n",
    "        - **다중 분류** : 여러개의 클래스중 하나를 분류\n",
    "    - 의사결정나무(Decision Tree)\n",
    "    - 로지스틱 회귀(Logistic Regression)\n",
    "    - K-최근접 이웃(K-Nearest Neighbors, KNN)\n",
    "    - 나이브 베이즈(Naive Bayes)\n",
    "    - 서포트 벡터 머신(Support Vector Machine, SVM)\n",
    "    - 랜덤 포레스트(Random Forest)\n",
    "    - 신경망(Neural Network)\n",
    "    \n",
    "- ### 회귀(Regression):\n",
    "    - **숫자(연속된값)를 예측 하는 지도학습**\n",
    "    - 의사결정나무(Decision Tree)\n",
    "    - 선형 회귀(Linear Regression)\n",
    "    - 릿지 회귀(Rige Regression)\n",
    "    - 라쏘 회귀(Lasso Regression)\n",
    "    - 엘라스틱 넷(Elastic Net)\n",
    "    - K-최근접 이웃(K-Nearest Neighbors, KNN)\n",
    "    - 나이브 베이즈(Naive Bayes)\n",
    "    - 서포트 벡터 머신(Support Vector Machine, SVM)\n",
    "    - 랜덤 포레스트(Random Forest)\n",
    "    - 신경망(Neural Network)"
   ]
  },
  {
   "cell_type": "markdown",
   "id": "5fb57a36",
   "metadata": {},
   "source": [
    "## 비지도학습 (Unsupervised Learning)\n",
    "- **정답이 없이 데이터의 특징만 학습하여 데이터간의 관계를 찾는 학습방법**\n",
    "- **군집(Clustering)**\n",
    "    - 비슷한 유형의 데이터 그룹을 찾는다. 주로 데이터 경향성을 파악하는 비지도 학습\n",
    "    - K-평균 클러스터링(K-Means Clustering)\n",
    "    - 평균점 이동 클러스터링(Mean-Shift Clustering) \n",
    "    - DBSCAN(DensityBased Spatial Clustering of Applications with Noise)\n",
    "- **차원축소(Dimensionality Reduction)**\n",
    "    - 예측에 영향을 최대한 주지 않으면서 변수(Feature)를 축소하는 한다.\n",
    "    - 고차원 데이터를 저차원의 데이터로 변환하는 비지도 학습\n",
    "    - 주성분 분석(Principal Component Analysis, PCA)\n",
    "    "
   ]
  },
  {
   "cell_type": "markdown",
   "id": "d88e67f4",
   "metadata": {},
   "source": [
    "# 머신러닝 개발절차\n",
    "1. Business Understanding\n",
    "    - 머신러닝 개발을 통해 얻고자 하는 것 파악.\n",
    "2. Data Understanding\n",
    "    - 데이터 수집\n",
    "    - 탐색을 통해 데이터 파악\n",
    "3. Data Preparation  \n",
    "    - 데이터 전처리\n",
    "4. Modeling\n",
    "    - 머신러닝 모델 선정\n",
    "    - 모델 학습\n",
    "5. Evaluation\n",
    "    - 모델 평가\n",
    "    - 평가 결과에 따라 위 프로세스 반복\n",
    "6. Deployment\n",
    "    - 평가 결과가 좋으면 실제 업무에 적용"
   ]
  }
 ],
 "metadata": {
  "kernelspec": {
   "display_name": "Python 3 (ipykernel)",
   "language": "python",
   "name": "python3"
  },
  "language_info": {
   "codemirror_mode": {
    "name": "ipython",
    "version": 3
   },
   "file_extension": ".py",
   "mimetype": "text/x-python",
   "name": "python",
   "nbconvert_exporter": "python",
   "pygments_lexer": "ipython3",
   "version": "3.10.11"
  }
 },
 "nbformat": 4,
 "nbformat_minor": 5
}
