{
 "cells": [
  {
   "cell_type": "markdown",
   "metadata": {
    "slideshow": {
     "slide_type": "slide"
    }
   },
   "source": [
    "# tf.data 모듈\n",
    "- 데이터 입력 파이프라인을 위한 모듈\n",
    "    - 모델 학습/평가를 위한 데이터셋을 제공(feeding)하기 위한 모듈\n",
    "   - raw dataset 에서 입력을 위한 **전처리**, **배치 크키**, **shuffling**등을 한번에 처리할 수 있게 한다.\n",
    "- tf.data.Dataset 추상클래스에서 상속된 여러가지 클래스들을 제공\n",
    "    - 입력 소스의 제공 형태, 어떤 처리를 하는지에 따라 다양한 하위클래스들이 제공된다."
   ]
  },
  {
   "cell_type": "markdown",
   "metadata": {
    "slideshow": {
     "slide_type": "fragment"
    }
   },
   "source": [
    "## Dataset API 사용\n",
    "1. **Dataset 생성**\n",
    "    - raw dataset을 지정 (Loading)\n",
    "    - from_tensor_slices(), from_generator() 클래스 메소드, tf.data.TFRecordDataset 클래스등를 사용해 메모리나 파일에 있는 데이터를 Dataset으로 만든다.\n",
    "    - **from_tensor_slices()**: 메모리의 리스트, 넘파이배열, 텐서플로 자료형에서 데이터를 생성한다."
   ]
  },
  {
   "cell_type": "markdown",
   "metadata": {
    "slideshow": {
     "slide_type": "fragment"
    }
   },
   "source": [
    "2. **제공 데이터 전처리**\n",
    "    - **map(함수)**: Dataset이 제공하는 원소를 처리해서 변환된 원소를 제공하도록 한다.\n",
    "        - 함수: 원소를 어떻게 변환할 지 정의한 함수를 매개변수로 전달한다.\n",
    "            - 매개변수: Dataset이 제공하는 원소를 받을 변수. \n",
    "            - 반환값: Dataset이 제공한 원소를 변경처리한 값.\n",
    "    - **filter(함수)**: Dataset이 제공하는 원소중 특정 조건을 만족하는(True)인 원소들만 제공한다.\n",
    "        - 함수: 원소가 특정조건을 만족하는지 여부를 확인하는 로직을 정의한 함수를 매개변수로 전달한다.\n",
    "            - 매개변수: Dataset이 제공하는 원소를 받을 변수.\n",
    "            - 반환값: Dataset이 제공한 원소가 특정조건을 만족하는지 여부(bool)"
   ]
  },
  {
   "cell_type": "markdown",
   "metadata": {
    "slideshow": {
     "slide_type": "fragment"
    }
   },
   "source": [
    "3. **데이터 제공 설정 관련**\n",
    "    - **batch(size)**: 학습/평가시 한번에 제공할 batch size 지정\n",
    "        - size: int. batch size 지정\n",
    "        - drop_remainder: bool. True일 경우 마지막 제공시 남은 데이터수가 batch size보다 작으면 제공하지 않는다.\n",
    "    - **shuffle(buffer 크기)**: dataset의 원소들의 순서를 섞는다. \n",
    "        - buffer 크기: int. buffer 크기는 섞는 공간의 크기로  **데이터보다 크거나 같으면** 완전셔플, **적으면 일부만 가져와서 섞어** 완전셔플이 안된다.\n",
    "        - 데이터 사이즈가 너무 커서 메모리가 부족할 경우 버퍼크기를 적게 준다.\n",
    "        - 메모리가 충분하다면 데이터의 개수와 동일하게 주면된다.\n",
    "    - **repeat(count)**: 전체 데이터를 한번 다 제공한 뒤 다시 데이터를 제공한다.\n",
    "        - count: 몇번 제공할지 반복 횟수\n",
    "        - shuffle이 적용된 Dataset의 경우 다음 반복 제공마다 shuffle을 진행한다. (에폭단위)\n",
    "        "
   ]
  },
  {
   "cell_type": "markdown",
   "metadata": {
    "slideshow": {
     "slide_type": "fragment"
    }
   },
   "source": [
    "- 각 tf.data 함수들은 각 기능에 맞게 데이터를 처리하는 Dataset 객체를 반환한다."
   ]
  },
  {
   "cell_type": "markdown",
   "metadata": {
    "slideshow": {
     "slide_type": "fragment"
    }
   },
   "source": [
    "### Dataset 메소드\n",
    "- take(개수): 지정한 개수만큼의 데이터만 제공한다."
   ]
  },
  {
   "cell_type": "code",
   "execution_count": 1,
   "metadata": {},
   "outputs": [],
   "source": [
    "import tensorflow as tf\n",
    "import numpy as np"
   ]
  },
  {
   "cell_type": "markdown",
   "metadata": {
    "slideshow": {
     "slide_type": "fragment"
    }
   },
   "source": [
    "##### Tensor Type\n",
    ">- TensorFlow의 기본 data 자료구조.\n",
    ">- numpy가 ndarray를 이용해 데이터를 관리하듯이 tensorflow를 Tensor를 이용해 데이터를 관리한다.\n",
    ">    - Tesorflow의 모델이 학습, 평가할때 사용하는 데이터셋(train dataset, validation dataset, test dataset)은 tf.Tensor 타입이어야 한다.\n",
    ">        - 학습/평가(model.fit(), model.evaluate()) 할때 ndarray를 입력 데이터셋으로 넣어주면 내부적으로 tf.Tensor로 변형해서 처리.\n",
    ">        - tf.Tensor는 데이터셋을 ndarray로 가지고 있다."
   ]
  },
  {
   "cell_type": "code",
   "execution_count": 2,
   "metadata": {},
   "outputs": [
    {
     "data": {
      "text/plain": [
       "<tf.Tensor: shape=(3,), dtype=float32, numpy=array([1., 2., 3.], dtype=float32)>"
      ]
     },
     "execution_count": 2,
     "metadata": {},
     "output_type": "execute_result"
    }
   ],
   "source": [
    "# ndarray의 형태를 tensorflow로 변경 / Tensor안에 ndarray를 가지고있는 형태이다.\n",
    "t = tf.constant([1,2,3], dtype='float32')\n",
    "t"
   ]
  },
  {
   "cell_type": "code",
   "execution_count": 3,
   "metadata": {},
   "outputs": [
    {
     "data": {
      "text/plain": [
       "(TensorShape([3]), tf.float32)"
      ]
     },
     "execution_count": 3,
     "metadata": {},
     "output_type": "execute_result"
    }
   ],
   "source": [
    "t.shape, t.dtype"
   ]
  },
  {
   "cell_type": "code",
   "execution_count": 4,
   "metadata": {},
   "outputs": [
    {
     "data": {
      "text/plain": [
       "array([1., 2., 3.], dtype=float32)"
      ]
     },
     "execution_count": 4,
     "metadata": {},
     "output_type": "execute_result"
    }
   ],
   "source": [
    "# Tensor -> ndarray로 변환\n",
    "a = t.numpy()\n",
    "a"
   ]
  },
  {
   "cell_type": "code",
   "execution_count": 5,
   "metadata": {},
   "outputs": [
    {
     "data": {
      "text/plain": [
       "<tf.Tensor: shape=(10,), dtype=int32, numpy=array([0, 1, 2, 3, 4, 5, 6, 7, 8, 9])>"
      ]
     },
     "execution_count": 5,
     "metadata": {},
     "output_type": "execute_result"
    }
   ],
   "source": [
    "# ndarray/list => Tensor / 넣어서 생성하는 메소드\n",
    "tf.constant(np.arange(10))"
   ]
  },
  {
   "cell_type": "code",
   "execution_count": 6,
   "metadata": {},
   "outputs": [
    {
     "data": {
      "text/plain": [
       "<tf.Tensor: shape=(3,), dtype=float32, numpy=array([1., 2., 3.], dtype=float32)>"
      ]
     },
     "execution_count": 6,
     "metadata": {},
     "output_type": "execute_result"
    }
   ],
   "source": [
    "tf.convert_to_tensor(a)"
   ]
  },
  {
   "cell_type": "markdown",
   "metadata": {
    "slideshow": {
     "slide_type": "slide"
    }
   },
   "source": [
    "## Dataset 예제"
   ]
  },
  {
   "cell_type": "code",
   "execution_count": 7,
   "metadata": {},
   "outputs": [
    {
     "data": {
      "text/plain": [
       "array([0, 1, 2, 3, 4, 5, 6, 7, 8, 9])"
      ]
     },
     "execution_count": 7,
     "metadata": {},
     "output_type": "execute_result"
    }
   ],
   "source": [
    "# 0 ~ 9 정수 => input data\n",
    "raw_data1 = np.arange(10)\n",
    "raw_data1"
   ]
  },
  {
   "cell_type": "code",
   "execution_count": 8,
   "metadata": {},
   "outputs": [
    {
     "name": "stdout",
     "output_type": "stream",
     "text": [
      "<class 'tensorflow.python.data.ops.from_tensor_slices_op._TensorSliceDataset'>\n"
     ]
    }
   ],
   "source": [
    "# DataSet 을 생성 -> 대상 raw dataset이 메모리에 있는 ndarray일 경우\n",
    "# ===> Raw dataset으로 부터 데이터를 읽어들이는 기능을 제공하는 Dataset 생성.\n",
    "dataset = tf.data.Dataset.from_tensor_slices(raw_data1) # from_tensor_slices함수를 통해 ndarray를 읽어들인다.\n",
    "print(type(dataset))"
   ]
  },
  {
   "cell_type": "code",
   "execution_count": 9,
   "metadata": {},
   "outputs": [
    {
     "name": "stdout",
     "output_type": "stream",
     "text": [
      "tf.Tensor(0, shape=(), dtype=int32)\n",
      "tf.Tensor(1, shape=(), dtype=int32)\n",
      "tf.Tensor(2, shape=(), dtype=int32)\n",
      "tf.Tensor(3, shape=(), dtype=int32)\n",
      "tf.Tensor(4, shape=(), dtype=int32)\n",
      "tf.Tensor(5, shape=(), dtype=int32)\n",
      "tf.Tensor(6, shape=(), dtype=int32)\n",
      "tf.Tensor(7, shape=(), dtype=int32)\n",
      "tf.Tensor(8, shape=(), dtype=int32)\n",
      "tf.Tensor(9, shape=(), dtype=int32)\n"
     ]
    }
   ],
   "source": [
    "# Dataset은 Iterable타입\n",
    "# 반환:tf.tensor타입으로 반환된 것을 확인 할 수 있다.\n",
    "for data in dataset:\n",
    "    print(data)"
   ]
  },
  {
   "cell_type": "code",
   "execution_count": 10,
   "metadata": {},
   "outputs": [
    {
     "name": "stdout",
     "output_type": "stream",
     "text": [
      "tf.Tensor(0, shape=(), dtype=int32)\n",
      "tf.Tensor(1, shape=(), dtype=int32)\n",
      "tf.Tensor(2, shape=(), dtype=int32)\n",
      "tf.Tensor(3, shape=(), dtype=int32)\n",
      "tf.Tensor(4, shape=(), dtype=int32)\n"
     ]
    }
   ],
   "source": [
    "# 전체중에 지정한 갯수만큼만 조회:take\n",
    "for data in dataset.take(5):  # dataset에서 5개만 조회 - 일부 데이터를 확인할 때 사용.\n",
    "    print(data)"
   ]
  },
  {
   "cell_type": "code",
   "execution_count": null,
   "metadata": {},
   "outputs": [],
   "source": []
  },
  {
   "cell_type": "markdown",
   "metadata": {
    "slideshow": {
     "slide_type": "slide"
    }
   },
   "source": [
    "##### x, y 묶어서 제공\n",
    "- 두개 이상의 데이터셋을 묶어서 제공할 경우 Tuple로 묶어준다.\n",
    "    - Dataset이 feeding 할 때는 같은 index의 값들을 tuple로 묶어서 제공 (zip()과 동일)"
   ]
  },
  {
   "cell_type": "code",
   "execution_count": 11,
   "metadata": {},
   "outputs": [
    {
     "name": "stdout",
     "output_type": "stream",
     "text": [
      "[0 1 2 3 4 5 6 7 8 9] 10\n",
      "[10 11 12 13 14 15 16 17 18 19] 10\n"
     ]
    }
   ],
   "source": [
    "raw_data2 = np.arange(10, 20) # rawdata2생성\n",
    "# 두개의 데이터셋 - raw_data1, raw_data2\n",
    "print(raw_data1, len(raw_data1))   # X (input)\n",
    "print(raw_data2, len(raw_data2))   # y (output)\n",
    "# x가 1일때 y는 10"
   ]
  },
  {
   "cell_type": "code",
   "execution_count": 14,
   "metadata": {},
   "outputs": [
    {
     "name": "stdout",
     "output_type": "stream",
     "text": [
      "(<tf.Tensor: shape=(), dtype=int32, numpy=0>, <tf.Tensor: shape=(), dtype=int32, numpy=10>)\n",
      "(<tf.Tensor: shape=(), dtype=int32, numpy=1>, <tf.Tensor: shape=(), dtype=int32, numpy=11>)\n",
      "(<tf.Tensor: shape=(), dtype=int32, numpy=2>, <tf.Tensor: shape=(), dtype=int32, numpy=12>)\n",
      "(<tf.Tensor: shape=(), dtype=int32, numpy=3>, <tf.Tensor: shape=(), dtype=int32, numpy=13>)\n"
     ]
    }
   ],
   "source": [
    "# 원래는 학습시 - model.fit(X_trian,y_train)\n",
    "## 우리는 Dataset으로 만들기: 튜플로 묶어서 생성. (X_trian: raw_data1, y_train:raw_data2)\n",
    "\n",
    "dataset2 = tf.data.Dataset.from_tensor_slices( (raw_data1, raw_data2) )\n",
    "# 두 dataset(raw_data1, raw_data2)의 같은 index의 값들을 묶어서 튜플로 반환.\n",
    "for data in dataset2.take(4):\n",
    "    print(data)"
   ]
  },
  {
   "cell_type": "code",
   "execution_count": 15,
   "metadata": {},
   "outputs": [
    {
     "name": "stdout",
     "output_type": "stream",
     "text": [
      "tf.Tensor(0, shape=(), dtype=int32) ====== tf.Tensor(10, shape=(), dtype=int32)\n",
      "tf.Tensor(1, shape=(), dtype=int32) ====== tf.Tensor(11, shape=(), dtype=int32)\n",
      "tf.Tensor(2, shape=(), dtype=int32) ====== tf.Tensor(12, shape=(), dtype=int32)\n",
      "tf.Tensor(3, shape=(), dtype=int32) ====== tf.Tensor(13, shape=(), dtype=int32)\n",
      "tf.Tensor(4, shape=(), dtype=int32) ====== tf.Tensor(14, shape=(), dtype=int32)\n",
      "tf.Tensor(5, shape=(), dtype=int32) ====== tf.Tensor(15, shape=(), dtype=int32)\n",
      "tf.Tensor(6, shape=(), dtype=int32) ====== tf.Tensor(16, shape=(), dtype=int32)\n",
      "tf.Tensor(7, shape=(), dtype=int32) ====== tf.Tensor(17, shape=(), dtype=int32)\n",
      "tf.Tensor(8, shape=(), dtype=int32) ====== tf.Tensor(18, shape=(), dtype=int32)\n",
      "tf.Tensor(9, shape=(), dtype=int32) ====== tf.Tensor(19, shape=(), dtype=int32)\n"
     ]
    }
   ],
   "source": [
    "# 전체 실행 시\n",
    "for x, y in dataset2:\n",
    "    print(x, y, sep=' ====== ')"
   ]
  },
  {
   "cell_type": "markdown",
   "metadata": {
    "slideshow": {
     "slide_type": "slide"
    }
   },
   "source": [
    "##### shuffle\n",
    "- 데이터셋을 섞는다."
   ]
  },
  {
   "cell_type": "code",
   "execution_count": 16,
   "metadata": {},
   "outputs": [
    {
     "name": "stdout",
     "output_type": "stream",
     "text": [
      "tf.Tensor(0, shape=(), dtype=int32)\n",
      "tf.Tensor(1, shape=(), dtype=int32)\n",
      "tf.Tensor(2, shape=(), dtype=int32)\n",
      "tf.Tensor(3, shape=(), dtype=int32)\n",
      "tf.Tensor(4, shape=(), dtype=int32)\n",
      "tf.Tensor(5, shape=(), dtype=int32)\n",
      "tf.Tensor(6, shape=(), dtype=int32)\n",
      "tf.Tensor(7, shape=(), dtype=int32)\n",
      "tf.Tensor(8, shape=(), dtype=int32)\n",
      "tf.Tensor(9, shape=(), dtype=int32)\n"
     ]
    }
   ],
   "source": [
    "for data in dataset:\n",
    "    print(data)"
   ]
  },
  {
   "cell_type": "code",
   "execution_count": 17,
   "metadata": {},
   "outputs": [
    {
     "name": "stdout",
     "output_type": "stream",
     "text": [
      "<class 'tensorflow.python.data.ops.shuffle_op._ShuffleDataset'>\n"
     ]
    }
   ],
   "source": [
    "raw_data1 = np.arange(10)\n",
    "dataset = tf.data.Dataset.from_tensor_slices(raw_data1)\n",
    "# 기존 Dataset객체.기능추가메소드() => 데이터 파이프라인에 기능을 추가.(chainning방식이라고 할 수 있다.)\n",
    "dataset3 = dataset.shuffle(10) # 데이터를 제공하기 전에 섞는다. (순서를 랜덤하게 바꾼다.) \n",
    "                            # 10: buffer size(데이터개수로 지정) => raw data를 섞기 위해서 임시로 저장하는 저장소의 크기이다.\n",
    "                            # buffer size는 총 데이터 개수에 맞춰주는 것이 좋다.(메모리가 허용하면.)\n",
    "    print(type(dataset3))"
   ]
  },
  {
   "cell_type": "code",
   "execution_count": 19,
   "metadata": {},
   "outputs": [
    {
     "name": "stdout",
     "output_type": "stream",
     "text": [
      "tf.Tensor(0, shape=(), dtype=int32)\n",
      "tf.Tensor(5, shape=(), dtype=int32)\n",
      "tf.Tensor(1, shape=(), dtype=int32)\n",
      "tf.Tensor(3, shape=(), dtype=int32)\n",
      "tf.Tensor(6, shape=(), dtype=int32)\n",
      "tf.Tensor(7, shape=(), dtype=int32)\n",
      "tf.Tensor(2, shape=(), dtype=int32)\n",
      "tf.Tensor(9, shape=(), dtype=int32)\n",
      "tf.Tensor(4, shape=(), dtype=int32)\n",
      "tf.Tensor(8, shape=(), dtype=int32)\n"
     ]
    }
   ],
   "source": [
    "for data in dataset3:\n",
    "    print(data)"
   ]
  },
  {
   "cell_type": "markdown",
   "metadata": {
    "slideshow": {
     "slide_type": "slide"
    }
   },
   "source": [
    "##### batch\n",
    "- drop_remainder: boolean(기본-False)\n",
    "    - batch로 제공할 데이터의 개수가 설정한 batch_size 보다 적으면 제공하지 않는다.\n",
    "    - Train dataset을 만들때 True로 설정하여 항상 일정한 batch size로 학습할 수 있도록 한다. drop 되는 데이터는 다른 epoch을 반복할 때 사용된다."
   ]
  },
  {
   "cell_type": "code",
   "execution_count": 20,
   "metadata": {},
   "outputs": [
    {
     "name": "stdout",
     "output_type": "stream",
     "text": [
      "<class 'tensorflow.python.data.ops.batch_op._BatchDataset'>\n",
      "tf.Tensor([0 1 2 3 4], shape=(5,), dtype=int32)\n",
      "tf.Tensor([5 6 7 8 9], shape=(5,), dtype=int32)\n"
     ]
    }
   ],
   "source": [
    "dataset4 = dataset.batch(5)   # batch size 설정 => 반복시 지정한 개수만큼 한번에 제공.\n",
    "print(type(dataset4))\n",
    "for data in dataset4:\n",
    "    print(data)"
   ]
  },
  {
   "cell_type": "code",
   "execution_count": 22,
   "metadata": {},
   "outputs": [
    {
     "name": "stdout",
     "output_type": "stream",
     "text": [
      "tf.Tensor([0 1 2], shape=(3,), dtype=int32)\n",
      "tf.Tensor([3 4 5], shape=(3,), dtype=int32)\n",
      "tf.Tensor([6 7 8], shape=(3,), dtype=int32)\n"
     ]
    }
   ],
   "source": [
    "# 읽어올 데이터의 개수가 batch_size보다 적으면 제공하지 않는다.\n",
    "# drop_remainder: batch하고 남은 나머지를 버릴지 말지 결정 (drop_remainder=False=> 버지리 않음 / True=>버림)\n",
    "dataset5 = dataset.batch(3, drop_remainder=True)\n",
    "for data in dataset5:\n",
    "    print(data)"
   ]
  },
  {
   "cell_type": "markdown",
   "metadata": {
    "slideshow": {
     "slide_type": "slide"
    }
   },
   "source": [
    "##### repeat"
   ]
  },
  {
   "cell_type": "code",
   "execution_count": 23,
   "metadata": {},
   "outputs": [
    {
     "name": "stdout",
     "output_type": "stream",
     "text": [
      "<class 'tensorflow.python.data.ops.repeat_op._RepeatDataset'>\n",
      "tf.Tensor(0, shape=(), dtype=int32)\n",
      "tf.Tensor(1, shape=(), dtype=int32)\n",
      "tf.Tensor(2, shape=(), dtype=int32)\n",
      "tf.Tensor(3, shape=(), dtype=int32)\n",
      "tf.Tensor(4, shape=(), dtype=int32)\n",
      "tf.Tensor(5, shape=(), dtype=int32)\n",
      "tf.Tensor(6, shape=(), dtype=int32)\n",
      "tf.Tensor(7, shape=(), dtype=int32)\n",
      "tf.Tensor(8, shape=(), dtype=int32)\n",
      "tf.Tensor(9, shape=(), dtype=int32)\n",
      "tf.Tensor(0, shape=(), dtype=int32)\n",
      "tf.Tensor(1, shape=(), dtype=int32)\n",
      "tf.Tensor(2, shape=(), dtype=int32)\n",
      "tf.Tensor(3, shape=(), dtype=int32)\n",
      "tf.Tensor(4, shape=(), dtype=int32)\n",
      "tf.Tensor(5, shape=(), dtype=int32)\n",
      "tf.Tensor(6, shape=(), dtype=int32)\n",
      "tf.Tensor(7, shape=(), dtype=int32)\n",
      "tf.Tensor(8, shape=(), dtype=int32)\n",
      "tf.Tensor(9, shape=(), dtype=int32)\n",
      "tf.Tensor(0, shape=(), dtype=int32)\n",
      "tf.Tensor(1, shape=(), dtype=int32)\n",
      "tf.Tensor(2, shape=(), dtype=int32)\n",
      "tf.Tensor(3, shape=(), dtype=int32)\n",
      "tf.Tensor(4, shape=(), dtype=int32)\n",
      "tf.Tensor(5, shape=(), dtype=int32)\n",
      "tf.Tensor(6, shape=(), dtype=int32)\n",
      "tf.Tensor(7, shape=(), dtype=int32)\n",
      "tf.Tensor(8, shape=(), dtype=int32)\n",
      "tf.Tensor(9, shape=(), dtype=int32)\n",
      "tf.Tensor(0, shape=(), dtype=int32)\n",
      "tf.Tensor(1, shape=(), dtype=int32)\n",
      "tf.Tensor(2, shape=(), dtype=int32)\n",
      "tf.Tensor(3, shape=(), dtype=int32)\n",
      "tf.Tensor(4, shape=(), dtype=int32)\n",
      "tf.Tensor(5, shape=(), dtype=int32)\n",
      "tf.Tensor(6, shape=(), dtype=int32)\n",
      "tf.Tensor(7, shape=(), dtype=int32)\n",
      "tf.Tensor(8, shape=(), dtype=int32)\n",
      "tf.Tensor(9, shape=(), dtype=int32)\n",
      "tf.Tensor(0, shape=(), dtype=int32)\n",
      "tf.Tensor(1, shape=(), dtype=int32)\n",
      "tf.Tensor(2, shape=(), dtype=int32)\n",
      "tf.Tensor(3, shape=(), dtype=int32)\n",
      "tf.Tensor(4, shape=(), dtype=int32)\n",
      "tf.Tensor(5, shape=(), dtype=int32)\n",
      "tf.Tensor(6, shape=(), dtype=int32)\n",
      "tf.Tensor(7, shape=(), dtype=int32)\n",
      "tf.Tensor(8, shape=(), dtype=int32)\n",
      "tf.Tensor(9, shape=(), dtype=int32)\n"
     ]
    }
   ],
   "source": [
    "dataset6 = dataset.repeat(5)  # 지정한 횟수만큼 데이터를 반복해서 제공한다. (default: 1 - 한번)\n",
    "print(type(dataset6))\n",
    "for data in dataset6:\n",
    "    print(data)"
   ]
  },
  {
   "cell_type": "code",
   "execution_count": 24,
   "metadata": {},
   "outputs": [
    {
     "name": "stdout",
     "output_type": "stream",
     "text": [
      "tf.Tensor([1 3 5], shape=(3,), dtype=int32)\n",
      "tf.Tensor([6 7 4], shape=(3,), dtype=int32)\n",
      "tf.Tensor([0 9 8], shape=(3,), dtype=int32)\n",
      "tf.Tensor([2], shape=(1,), dtype=int32)\n",
      "tf.Tensor([9 8 0], shape=(3,), dtype=int32)\n",
      "tf.Tensor([4 5 1], shape=(3,), dtype=int32)\n",
      "tf.Tensor([6 7 3], shape=(3,), dtype=int32)\n",
      "tf.Tensor([2], shape=(1,), dtype=int32)\n",
      "tf.Tensor([9 8 3], shape=(3,), dtype=int32)\n",
      "tf.Tensor([6 7 4], shape=(3,), dtype=int32)\n",
      "tf.Tensor([5 1 2], shape=(3,), dtype=int32)\n",
      "tf.Tensor([0], shape=(1,), dtype=int32)\n"
     ]
    }
   ],
   "source": [
    "dataset7 = tf.data.Dataset.from_tensor_slices(raw_data1).shuffle(10).batch(3).repeat(3) # 데이터셋을 반복할때 마다 shuffle\n",
    "for data in dataset7:\n",
    "    print(data)"
   ]
  },
  {
   "cell_type": "markdown",
   "metadata": {
    "slideshow": {
     "slide_type": "slide"
    }
   },
   "source": [
    "##### map"
   ]
  },
  {
   "cell_type": "code",
   "execution_count": 25,
   "metadata": {
    "scrolled": true
   },
   "outputs": [
    {
     "name": "stdout",
     "output_type": "stream",
     "text": [
      "<class 'tensorflow.python.data.ops.map_op._MapDataset'>\n",
      "tf.Tensor(0, shape=(), dtype=int32)\n",
      "tf.Tensor(2, shape=(), dtype=int32)\n",
      "tf.Tensor(4, shape=(), dtype=int32)\n",
      "tf.Tensor(6, shape=(), dtype=int32)\n",
      "tf.Tensor(8, shape=(), dtype=int32)\n",
      "tf.Tensor(10, shape=(), dtype=int32)\n",
      "tf.Tensor(12, shape=(), dtype=int32)\n",
      "tf.Tensor(14, shape=(), dtype=int32)\n",
      "tf.Tensor(16, shape=(), dtype=int32)\n",
      "tf.Tensor(18, shape=(), dtype=int32)\n"
     ]
    }
   ],
   "source": [
    "# map(함수)\n",
    "# 함수 구문: 매개변수-원소 한개를 받는다., 반환: 변환한 값을 반환.\n",
    "dataset8 = dataset.map(lambda x: x * 2) # x:원소-> 원소를 두배한 값으로 변경해서 제공\n",
    "print(type(dataset8))\n",
    "for data in dataset8:\n",
    "    print(data)"
   ]
  },
  {
   "cell_type": "code",
   "execution_count": 29,
   "metadata": {},
   "outputs": [
    {
     "name": "stdout",
     "output_type": "stream",
     "text": [
      "tf.Tensor(0, shape=(), dtype=int32) tf.Tensor(10, shape=(), dtype=int32)\n",
      "tf.Tensor(1, shape=(), dtype=int32) tf.Tensor(11, shape=(), dtype=int32)\n",
      "tf.Tensor(4, shape=(), dtype=int32) tf.Tensor(12, shape=(), dtype=int32)\n",
      "tf.Tensor(9, shape=(), dtype=int32) tf.Tensor(13, shape=(), dtype=int32)\n",
      "tf.Tensor(16, shape=(), dtype=int32) tf.Tensor(14, shape=(), dtype=int32)\n",
      "tf.Tensor(25, shape=(), dtype=int32) tf.Tensor(15, shape=(), dtype=int32)\n",
      "tf.Tensor(36, shape=(), dtype=int32) tf.Tensor(16, shape=(), dtype=int32)\n",
      "tf.Tensor(49, shape=(), dtype=int32) tf.Tensor(17, shape=(), dtype=int32)\n",
      "tf.Tensor(64, shape=(), dtype=int32) tf.Tensor(18, shape=(), dtype=int32)\n",
      "tf.Tensor(81, shape=(), dtype=int32) tf.Tensor(19, shape=(), dtype=int32)\n"
     ]
    }
   ],
   "source": [
    "# 두개의 dataset(x,y)을 묶은 Dataset객체\n",
    "def map_func(x, y): # raw_data1: x, raw_data2: y\n",
    "    return x**2, y   # X는 제곱, y는 그대로 반환.\n",
    "\n",
    "dataset9 = dataset2.map(map_func)\n",
    "for x, y in dataset9:\n",
    "    print(x, y)\n",
    "# dataset9 = dataset2.map(lambda x,y: (x**2,y+10)) # x제곱,y+10\n",
    "# for x, y in dataset9:\n",
    "#     print(x, y)"
   ]
  },
  {
   "cell_type": "markdown",
   "metadata": {
    "slideshow": {
     "slide_type": "slide"
    }
   },
   "source": [
    "##### filter"
   ]
  },
  {
   "cell_type": "code",
   "execution_count": 31,
   "metadata": {},
   "outputs": [
    {
     "name": "stdout",
     "output_type": "stream",
     "text": [
      "<class 'tensorflow.python.data.ops.filter_op._FilterDataset'>\n",
      "tf.Tensor(0, shape=(), dtype=int32)\n",
      "tf.Tensor(2, shape=(), dtype=int32)\n",
      "tf.Tensor(4, shape=(), dtype=int32)\n",
      "tf.Tensor(6, shape=(), dtype=int32)\n",
      "tf.Tensor(8, shape=(), dtype=int32)\n"
     ]
    }
   ],
   "source": [
    "# filter(함수) - 특정 조건을 만족하는 원소들만 제공\n",
    "## 함수구문 - 매개변수: 원소를 받을 변수. 반환: bool(True인 원소만 제공)\n",
    "def filter_func(x):\n",
    "    return x % 2 == 0  # 2의 배수: True\n",
    "\n",
    "# dataset11 = dataset.filter(lambda x: x%2 ==0)\n",
    "# print(type(dataset11))\n",
    "# for data in dataset11:\n",
    "#     print(data)\n",
    "dataset11 = dataset.filter(filter_func)\n",
    "print(type(dataset11))\n",
    "for data in dataset11:\n",
    "    print(data)"
   ]
  },
  {
   "cell_type": "markdown",
   "metadata": {
    "slideshow": {
     "slide_type": "slide"
    }
   },
   "source": [
    "# 문제 유형별 MLP 네트워크\n",
    "- MLP(Multi Layer Perceptron), ANN(Artificial Neural Network), DNN (Deep Neural Network)\n",
    "    - Fully Connected Layer(Dense)로 구성된 네트워크"
   ]
  },
  {
   "cell_type": "markdown",
   "metadata": {
    "slideshow": {
     "slide_type": "fragment"
    }
   },
   "source": [
    "# Regression(회귀)\n",
    "\n",
    "## Boston Housing Dataset\n",
    "보스턴 주택가격 dataset은 다음과 같은 속성을 바탕으로 해당 타운 주택 가격의 중앙값을 예측하는 문제.\n",
    "- CRIM: 범죄율\n",
    "- ZN: 25,000 평방피트당 주거지역 비율\n",
    "- INDUS: 비소매 상업지구 비율\n",
    "- CHAS: 찰스강에 인접해 있는지 여부(인접:1, 아니면:0)\n",
    "- NOX: 일산화질소 농도(단위: 0.1ppm)\n",
    "- RM: 주택당 방의 수\n",
    "- AGE: 1940년 이전에 건설된 주택의 비율\n",
    "- DIS: 5개의 보스턴 직업고용센터와의 거리(가중 평균)\n",
    "- RAD: 고속도로 접근성\n",
    "- TAX: 재산세율\n",
    "- PTRATIO: 학생/교사 비율\n",
    "- B: 흑인 비율\n",
    "- LSTAT: 하위 계층 비율\n",
    "<br><br>\n",
    "- **Target**\n",
    "    - MEDV: 타운의 주택가격 중앙값(단위: 1,000달러)"
   ]
  },
  {
   "cell_type": "code",
   "execution_count": 32,
   "metadata": {},
   "outputs": [],
   "source": [
    "import tensorflow as tf\n",
    "from tensorflow import keras\n",
    "from tensorflow.keras import layers # layers.Dense()\n",
    "# from tensorflow.keras.layers import Dense,ReLU\n",
    "\n",
    "import numpy as np\n",
    "import matplotlib.pyplot as plt\n",
    "\n",
    "from sklearn.preprocessing import StandardScaler # 회귀형 데이터셋 전처리(표준화)\n",
    "\n",
    "import random"
   ]
  },
  {
   "cell_type": "code",
   "execution_count": 33,
   "metadata": {},
   "outputs": [],
   "source": [
    "# random seed값 설정\n",
    "tf.random.set_seed(0)\n",
    "np.random.seed(0)\n",
    "# python 랜덤 패키지에 있는 랜덤 또한 seed값을 설정해주었다.\n",
    "random.seed(0)"
   ]
  },
  {
   "cell_type": "markdown",
   "metadata": {
    "slideshow": {
     "slide_type": "slide"
    }
   },
   "source": [
    "##### 데이터 로딩"
   ]
  },
  {
   "cell_type": "code",
   "execution_count": 34,
   "metadata": {},
   "outputs": [
    {
     "name": "stdout",
     "output_type": "stream",
     "text": [
      "Downloading data from https://storage.googleapis.com/tensorflow/tf-keras-datasets/boston_housing.npz\n",
      "57026/57026 [==============================] - 0s 0us/step\n",
      "(404, 13) (404,)\n",
      "(102, 13) (102,)\n"
     ]
    }
   ],
   "source": [
    "(train_X, y_train), (test_X, y_test) = keras.datasets.boston_housing.load_data()\n",
    "print(train_X.shape, y_train.shape)\n",
    "print(test_X.shape, y_test.shape)"
   ]
  },
  {
   "cell_type": "code",
   "execution_count": 35,
   "metadata": {},
   "outputs": [
    {
     "name": "stdout",
     "output_type": "stream",
     "text": [
      "[  1.23247   0.        8.14      0.        0.538     6.142    91.7\n",
      "   3.9769    4.      307.       21.      396.9      18.72   ]\n",
      "15.2\n"
     ]
    }
   ],
   "source": [
    "print(train_X[0])\n",
    "print(y_train[0])"
   ]
  },
  {
   "cell_type": "markdown",
   "metadata": {
    "slideshow": {
     "slide_type": "slide"
    }
   },
   "source": [
    "##### 하이퍼파라미터, 변수 정의"
   ]
  },
  {
   "cell_type": "code",
   "execution_count": 36,
   "metadata": {},
   "outputs": [],
   "source": [
    "#하이퍼파라미터 변수\n",
    "\n",
    "# 학습율 => 경사하강법에서 구한 gradient(경사-미분계수)에 곱해주는 값으로 0 ~ 1 사이 실수를 지정한다. optimizer 생성때 설정.\n",
    "LEARNING_RATE = 0.001  \n",
    "N_EPOCH = 200 # 에폭수\n",
    "N_BATCH = 400 # Train 배치사이즈\n",
    "N_BATCH_VAL = 50 # Validation/evaluation 배치 사이즈. ==> 교차검증 폴더 데이터 수."
   ]
  },
  {
   "cell_type": "markdown",
   "metadata": {
    "slideshow": {
     "slide_type": "fragment"
    }
   },
   "source": [
    "##### X, y 전처리\n",
    "- MLP는 선형모델을 기반으로 하므로 Feature scaling을 해준다."
   ]
  },
  {
   "cell_type": "code",
   "execution_count": 37,
   "metadata": {},
   "outputs": [],
   "source": [
    "scaler = StandardScaler()\n",
    "X_train = scaler.fit_transform(train_X)\n",
    "X_test = scaler.transform(test_X)"
   ]
  },
  {
   "cell_type": "markdown",
   "metadata": {
    "slideshow": {
     "slide_type": "slide"
    }
   },
   "source": [
    "##### Dataset 생성\n",
    "\n",
    "- validation/test set의 pipe line은 동일하게 구성한다.\n",
    "- train dataset은 shuffle을 추가하고 batch에 drop_remainder=True를 설정한다.\n",
    "- map, filter 를 pipe line에 추가할 경우 train/validation/test set에 모두 동일하게 적용한다."
   ]
  },
  {
   "cell_type": "code",
   "execution_count": 41,
   "metadata": {},
   "outputs": [],
   "source": [
    "#  X_train,y_train ==> ndarray로 메모리 ===> form_tensor_slices()\n",
    "train_dataset = tf.data.Dataset.from_tensor_slices((X_train, y_train)).shuffle(X_train.shape[0]).batch(N_BATCH, drop_remainder=True)\n",
    "# 연결 -> 데이터 로딩\n",
    "# 에폭별로 랜덤하게 순서를 섞기\n",
    "# batch size 지정 -> 지정된 개수만큼 한번에 모델에 제공\n",
    "test_dataset = tf.data.Dataset.from_tensor_slices((X_test, y_test)).batch(N_BATCH_VAL)"
   ]
  },
  {
   "cell_type": "code",
   "execution_count": 42,
   "metadata": {},
   "outputs": [
    {
     "name": "stdout",
     "output_type": "stream",
     "text": [
      "에폭당 step수: 1\n",
      "에폭당 step수: 3\n"
     ]
    }
   ],
   "source": [
    "# 애폭(epoch)당 step수: 전체 데이터셋 한번 학습할 때 파라미터 업데이트를 몇번하는지.\n",
    "# ex) 5epoch돌겠다-> 전체 데이터셋을 5번 반복하겠다.\n",
    "# drop_remainder=True:전체 데이터개수 // batch size\n",
    "# drop_remainder=False: ceil(전체 데이터개수 / batch size)\n",
    "print('에폭당 step수:', len(train_dataset))\n",
    "print('에폭당 step수:', len(test_dataset))"
   ]
  },
  {
   "cell_type": "markdown",
   "metadata": {
    "slideshow": {
     "slide_type": "slide"
    }
   },
   "source": [
    "##### 모델 구현\n",
    "\n",
    "1. 모델 객체 생성 - Sequential\n",
    "2. 모델에 Layer들 추가\n",
    "    - Input Layer 추가\n",
    "        - 입력 데이터의 shape을 지정한다.\n",
    "        1. InputLayer 객체를 생성해서 추가한다.\n",
    "        2. 첫번째 Hidden Layer에 input_shape 매개변수에 shape을 지정하여 추가한다.\n",
    "    - Hidden Layer들 추가\n",
    "        - Layer의 개수와 Layer의 Unit의 개수는 튜닝대상으로 성능에 영향을 준다.\n",
    "        - 활성함수는 ReLU 를 사용한다.\n",
    "        - Layer의 개수와 Unit 개수가 많을 수록 복잡한 모델, 적을 수록 단순한 모델이된다.\n",
    "    - Output Layer 추가\n",
    "        - 풀려는 문제에 따라 unit개수와 활성함수를 지정한다."
   ]
  },
  {
   "cell_type": "code",
   "execution_count": 43,
   "metadata": {},
   "outputs": [],
   "source": [
    "def get_model_boston(lr=0.01):\n",
    "    model = keras.Sequential() # 빈 모델을 생성\n",
    "    # 레이어 추가\n",
    "    ## inputlayer\n",
    "    # mode.add(layer.Inputlayer(input_shape=(13,)))\n",
    "    # Hedden layer\n",
    "    # Dense layer의 경우 unit의 개수를 줄여나간다. : 32->16->8\n",
    "    model.add(layers.Dense(units=32, activation='relu', input_shape=(13, )))\n",
    "    model.add(layers.Dense(units=16, activation='relu'))\n",
    "    model.add(layers.Dense(units=8, activation='relu'))\n",
    "    ## output layer\n",
    "    ## unit 개수: 모델이 추정하려는 값의 개수에 맞춰서 설정. 집값-1\n",
    "    ## activation 함수: 일반적으로 생략 -None(기본)\n",
    "    ## 예외: 값의 범위가 정해져 있고 그 범위값을 출력하는 함수가 있을 경우 그 함수를 사용\n",
    "    ## ex) 0~1:sigmod,-1~1:tanh\n",
    "    model.add(layers.Dense(units=1))\n",
    "    \n",
    "    # 컴파일 - optimizer, loss함수 (필수), metrice(선택사항)\n",
    "    # optimizer를 default값으로 생성할 것을 사용할 경우 문자열로 지정. (\"adam\")\n",
    "   v\n",
    "    model.compile(optimizer=keras.optimizers.Adam(learning_rate=lr), # 특별한 경우아니면 learning_rate=lr만 써도된다.\n",
    "                  loss='mse')\n",
    "    \n",
    "    # 모델 정의 + 컴파일까지완료=> 학습가능한 모델이다.\n",
    "    return model"
   ]
  },
  {
   "cell_type": "code",
   "execution_count": 46,
   "metadata": {},
   "outputs": [
    {
     "data": {
      "text/plain": [
       "448"
      ]
     },
     "execution_count": 46,
     "metadata": {},
     "output_type": "execute_result"
    }
   ],
   "source": [
    "13+1\n",
    "14*32"
   ]
  },
  {
   "cell_type": "code",
   "execution_count": 44,
   "metadata": {},
   "outputs": [
    {
     "name": "stdout",
     "output_type": "stream",
     "text": [
      "Model: \"sequential\"\n",
      "_________________________________________________________________\n",
      " Layer (type)                Output Shape              Param #   \n",
      "=================================================================\n",
      " dense (Dense)               (None, 32)                448       \n",
      "                                                                 \n",
      " dense_1 (Dense)             (None, 16)                528       \n",
      "                                                                 \n",
      " dense_2 (Dense)             (None, 8)                 136       \n",
      "                                                                 \n",
      " dense_3 (Dense)             (None, 1)                 9         \n",
      "                                                                 \n",
      "=================================================================\n",
      "Total params: 1121 (4.38 KB)\n",
      "Trainable params: 1121 (4.38 KB)\n",
      "Non-trainable params: 0 (0.00 Byte)\n",
      "_________________________________________________________________\n"
     ]
    }
   ],
   "source": [
    "model_boston = get_model_boston() # 컴파일된 모델을 반환.\n",
    "\n",
    "# 딥러닝 모델의 구조 확인\n",
    "model_boston.summary()\n",
    "# 파라미터는 유닛과 bias의 개수가 된다."
   ]
  },
  {
   "cell_type": "code",
   "execution_count": 47,
   "metadata": {
    "scrolled": true
   },
   "outputs": [
    {
     "data": {
      "image/png": "[encoded data removed]",
      "text/plain": [
       "<IPython.core.display.Image object>"
      ]
     },
     "execution_count": 47,
     "metadata": {},
     "output_type": "execute_result"
    }
   ],
   "source": [
    "keras.utils.plot_model(model_boston, show_shapes=True)"
   ]
  },
  {
   "cell_type": "markdown",
   "metadata": {
    "slideshow": {
     "slide_type": "slide"
    }
   },
   "source": [
    "##### 학습(Train)"
   ]
  },
  {
   "cell_type": "code",
   "execution_count": 56,
   "metadata": {},
   "outputs": [
    {
     "name": "stdout",
     "output_type": "stream",
     "text": [
      "Epoch 1/200\n",
      "1/1 [==============================] - 0s 33ms/step - loss: 4.8567 - val_loss: 17.7122\n",
      "Epoch 2/200\n",
      "1/1 [==============================] - 0s 21ms/step - loss: 5.3984 - val_loss: 17.6319\n",
      "Epoch 3/200\n",
      "1/1 [==============================] - 0s 23ms/step - loss: 5.3853 - val_loss: 17.6227\n",
      "Epoch 4/200\n",
      "1/1 [==============================] - 0s 19ms/step - loss: 5.3743 - val_loss: 17.6452\n",
      "Epoch 5/200\n",
      "1/1 [==============================] - 0s 22ms/step - loss: 5.3386 - val_loss: 17.6351\n",
      "Epoch 6/200\n",
      "1/1 [==============================] - 0s 23ms/step - loss: 5.3458 - val_loss: 17.5920\n",
      "Epoch 7/200\n",
      "1/1 [==============================] - 0s 22ms/step - loss: 5.3248 - val_loss: 17.5213\n",
      "Epoch 8/200\n",
      "1/1 [==============================] - 0s 20ms/step - loss: 5.3362 - val_loss: 17.4993\n",
      "Epoch 9/200\n",
      "1/1 [==============================] - 0s 23ms/step - loss: 5.2795 - val_loss: 17.5323\n",
      "Epoch 10/200\n",
      "1/1 [==============================] - 0s 17ms/step - loss: 5.2766 - val_loss: 17.5606\n",
      "Epoch 11/200\n",
      "1/1 [==============================] - 0s 19ms/step - loss: 5.2232 - val_loss: 17.5585\n",
      "Epoch 12/200\n",
      "1/1 [==============================] - 0s 21ms/step - loss: 5.3179 - val_loss: 17.4628\n",
      "Epoch 13/200\n",
      "1/1 [==============================] - 0s 20ms/step - loss: 5.0384 - val_loss: 17.1461\n",
      "Epoch 14/200\n",
      "1/1 [==============================] - 0s 18ms/step - loss: 5.2968 - val_loss: 16.9709\n",
      "Epoch 15/200\n",
      "1/1 [==============================] - 0s 18ms/step - loss: 5.2746 - val_loss: 16.9799\n",
      "Epoch 16/200\n",
      "1/1 [==============================] - 0s 19ms/step - loss: 5.2995 - val_loss: 17.0756\n",
      "Epoch 17/200\n",
      "1/1 [==============================] - 0s 19ms/step - loss: 5.2155 - val_loss: 17.1523\n",
      "Epoch 18/200\n",
      "1/1 [==============================] - 0s 20ms/step - loss: 5.2661 - val_loss: 17.2159\n",
      "Epoch 19/200\n",
      "1/1 [==============================] - 0s 21ms/step - loss: 5.1298 - val_loss: 17.2772\n",
      "Epoch 20/200\n",
      "1/1 [==============================] - 0s 24ms/step - loss: 5.1803 - val_loss: 17.3632\n",
      "Epoch 21/200\n",
      "1/1 [==============================] - 0s 22ms/step - loss: 5.2428 - val_loss: 17.4779\n",
      "Epoch 22/200\n",
      "1/1 [==============================] - 0s 21ms/step - loss: 5.2221 - val_loss: 17.5018\n",
      "Epoch 23/200\n",
      "1/1 [==============================] - 0s 18ms/step - loss: 5.2206 - val_loss: 17.3940\n",
      "Epoch 24/200\n",
      "1/1 [==============================] - 0s 22ms/step - loss: 5.1959 - val_loss: 17.1754\n",
      "Epoch 25/200\n",
      "1/1 [==============================] - 0s 19ms/step - loss: 5.2212 - val_loss: 16.9908\n",
      "Epoch 26/200\n",
      "1/1 [==============================] - 0s 21ms/step - loss: 5.1309 - val_loss: 16.9181\n",
      "Epoch 27/200\n",
      "1/1 [==============================] - 0s 22ms/step - loss: 5.1336 - val_loss: 16.9871\n",
      "Epoch 28/200\n",
      "1/1 [==============================] - 0s 24ms/step - loss: 5.1814 - val_loss: 17.1378\n",
      "Epoch 29/200\n",
      "1/1 [==============================] - 0s 23ms/step - loss: 5.1915 - val_loss: 17.2391\n",
      "Epoch 30/200\n",
      "1/1 [==============================] - 0s 18ms/step - loss: 5.1226 - val_loss: 17.2376\n",
      "Epoch 31/200\n",
      "1/1 [==============================] - 0s 20ms/step - loss: 5.1511 - val_loss: 17.0579\n",
      "Epoch 32/200\n",
      "1/1 [==============================] - 0s 20ms/step - loss: 5.1394 - val_loss: 16.9760\n",
      "Epoch 33/200\n",
      "1/1 [==============================] - 0s 18ms/step - loss: 5.1506 - val_loss: 17.0112\n",
      "Epoch 34/200\n",
      "1/1 [==============================] - 0s 21ms/step - loss: 5.1533 - val_loss: 17.0290\n",
      "Epoch 35/200\n",
      "1/1 [==============================] - 0s 24ms/step - loss: 5.0445 - val_loss: 16.9366\n",
      "Epoch 36/200\n",
      "1/1 [==============================] - 0s 24ms/step - loss: 5.0657 - val_loss: 16.8289\n",
      "Epoch 37/200\n",
      "1/1 [==============================] - 0s 21ms/step - loss: 5.0834 - val_loss: 16.8064\n",
      "Epoch 38/200\n",
      "1/1 [==============================] - 0s 21ms/step - loss: 5.1072 - val_loss: 16.8586\n",
      "Epoch 39/200\n",
      "1/1 [==============================] - 0s 19ms/step - loss: 5.1087 - val_loss: 16.9350\n",
      "Epoch 40/200\n",
      "1/1 [==============================] - 0s 23ms/step - loss: 5.0140 - val_loss: 17.0165\n",
      "Epoch 41/200\n",
      "1/1 [==============================] - 0s 26ms/step - loss: 5.0761 - val_loss: 17.0217\n",
      "Epoch 42/200\n",
      "1/1 [==============================] - 0s 21ms/step - loss: 5.0410 - val_loss: 16.9376\n",
      "Epoch 43/200\n",
      "1/1 [==============================] - 0s 20ms/step - loss: 5.0183 - val_loss: 16.8187\n",
      "Epoch 44/200\n",
      "1/1 [==============================] - 0s 21ms/step - loss: 5.0224 - val_loss: 16.7800\n",
      "Epoch 45/200\n",
      "1/1 [==============================] - 0s 23ms/step - loss: 5.0287 - val_loss: 16.7100\n",
      "Epoch 46/200\n",
      "1/1 [==============================] - 0s 21ms/step - loss: 5.0368 - val_loss: 16.6646\n",
      "Epoch 47/200\n",
      "1/1 [==============================] - 0s 23ms/step - loss: 5.0447 - val_loss: 16.6440\n",
      "Epoch 48/200\n",
      "1/1 [==============================] - 0s 26ms/step - loss: 4.9947 - val_loss: 16.6969\n",
      "Epoch 49/200\n",
      "1/1 [==============================] - 0s 23ms/step - loss: 5.0200 - val_loss: 16.7745\n",
      "Epoch 50/200\n",
      "1/1 [==============================] - 0s 20ms/step - loss: 4.9691 - val_loss: 16.7914\n",
      "Epoch 51/200\n",
      "1/1 [==============================] - 0s 23ms/step - loss: 5.0159 - val_loss: 16.8113\n",
      "Epoch 52/200\n",
      "1/1 [==============================] - 0s 20ms/step - loss: 5.0109 - val_loss: 16.8391\n",
      "Epoch 53/200\n",
      "1/1 [==============================] - 0s 21ms/step - loss: 4.9845 - val_loss: 16.8450\n",
      "Epoch 54/200\n",
      "1/1 [==============================] - 0s 34ms/step - loss: 4.9788 - val_loss: 16.7661\n",
      "Epoch 55/200\n",
      "1/1 [==============================] - 0s 20ms/step - loss: 4.9732 - val_loss: 16.6416\n",
      "Epoch 56/200\n",
      "1/1 [==============================] - 0s 21ms/step - loss: 4.9653 - val_loss: 16.5624\n",
      "Epoch 57/200\n",
      "1/1 [==============================] - 0s 19ms/step - loss: 4.9419 - val_loss: 16.5463\n",
      "Epoch 58/200\n",
      "1/1 [==============================] - 0s 18ms/step - loss: 4.7192 - val_loss: 16.6036\n",
      "Epoch 59/200\n",
      "1/1 [==============================] - 0s 19ms/step - loss: 4.9584 - val_loss: 16.6230\n",
      "Epoch 60/200\n",
      "1/1 [==============================] - 0s 18ms/step - loss: 4.9113 - val_loss: 16.5620\n",
      "Epoch 61/200\n",
      "1/1 [==============================] - 0s 21ms/step - loss: 4.9373 - val_loss: 16.4853\n",
      "Epoch 62/200\n",
      "1/1 [==============================] - 0s 19ms/step - loss: 4.9214 - val_loss: 16.3546\n",
      "Epoch 63/200\n",
      "1/1 [==============================] - 0s 19ms/step - loss: 4.8851 - val_loss: 16.2746\n",
      "Epoch 64/200\n",
      "1/1 [==============================] - 0s 19ms/step - loss: 4.9106 - val_loss: 16.2026\n",
      "Epoch 65/200\n",
      "1/1 [==============================] - 0s 19ms/step - loss: 4.9082 - val_loss: 16.1802\n",
      "Epoch 66/200\n",
      "1/1 [==============================] - 0s 20ms/step - loss: 4.8963 - val_loss: 16.1917\n",
      "Epoch 67/200\n",
      "1/1 [==============================] - 0s 21ms/step - loss: 4.8344 - val_loss: 16.2110\n",
      "Epoch 68/200\n",
      "1/1 [==============================] - 0s 25ms/step - loss: 4.8501 - val_loss: 16.2198\n",
      "Epoch 69/200\n",
      "1/1 [==============================] - 0s 28ms/step - loss: 4.8691 - val_loss: 16.1893\n",
      "Epoch 70/200\n",
      "1/1 [==============================] - 0s 23ms/step - loss: 4.8473 - val_loss: 16.2017\n",
      "Epoch 71/200\n",
      "1/1 [==============================] - 0s 21ms/step - loss: 4.8179 - val_loss: 16.1326\n",
      "Epoch 72/200\n",
      "1/1 [==============================] - 0s 33ms/step - loss: 4.8237 - val_loss: 16.0298\n",
      "Epoch 73/200\n",
      "1/1 [==============================] - 0s 26ms/step - loss: 4.7453 - val_loss: 15.9826\n",
      "Epoch 74/200\n",
      "1/1 [==============================] - 0s 22ms/step - loss: 4.7545 - val_loss: 15.8703\n",
      "Epoch 75/200\n",
      "1/1 [==============================] - 0s 22ms/step - loss: 4.8138 - val_loss: 15.8234\n",
      "Epoch 76/200\n",
      "1/1 [==============================] - 0s 20ms/step - loss: 4.8014 - val_loss: 15.8116\n",
      "Epoch 77/200\n",
      "1/1 [==============================] - 0s 17ms/step - loss: 4.7174 - val_loss: 15.8454\n",
      "Epoch 78/200\n",
      "1/1 [==============================] - 0s 22ms/step - loss: 4.7421 - val_loss: 15.8395\n",
      "Epoch 79/200\n",
      "1/1 [==============================] - 0s 17ms/step - loss: 4.7194 - val_loss: 15.7890\n",
      "Epoch 80/200\n",
      "1/1 [==============================] - 0s 17ms/step - loss: 4.7440 - val_loss: 15.7220\n",
      "Epoch 81/200\n",
      "1/1 [==============================] - 0s 18ms/step - loss: 4.6532 - val_loss: 15.7233\n",
      "Epoch 82/200\n",
      "1/1 [==============================] - 0s 34ms/step - loss: 4.6887 - val_loss: 15.6594\n",
      "Epoch 83/200\n"
     ]
    },
    {
     "name": "stdout",
     "output_type": "stream",
     "text": [
      "1/1 [==============================] - 0s 19ms/step - loss: 4.6867 - val_loss: 15.5942\n",
      "Epoch 84/200\n",
      "1/1 [==============================] - 0s 18ms/step - loss: 4.6557 - val_loss: 15.6560\n",
      "Epoch 85/200\n",
      "1/1 [==============================] - 0s 18ms/step - loss: 4.5700 - val_loss: 15.4775\n",
      "Epoch 86/200\n",
      "1/1 [==============================] - 0s 18ms/step - loss: 4.6825 - val_loss: 15.3834\n",
      "Epoch 87/200\n",
      "1/1 [==============================] - 0s 17ms/step - loss: 4.6849 - val_loss: 15.3704\n",
      "Epoch 88/200\n",
      "1/1 [==============================] - 0s 18ms/step - loss: 4.6294 - val_loss: 15.4194\n",
      "Epoch 89/200\n",
      "1/1 [==============================] - 0s 19ms/step - loss: 4.6756 - val_loss: 15.4310\n",
      "Epoch 90/200\n",
      "1/1 [==============================] - 0s 20ms/step - loss: 4.6550 - val_loss: 15.3899\n",
      "Epoch 91/200\n",
      "1/1 [==============================] - 0s 20ms/step - loss: 4.6022 - val_loss: 15.3973\n",
      "Epoch 92/200\n",
      "1/1 [==============================] - 0s 18ms/step - loss: 4.6332 - val_loss: 15.4240\n",
      "Epoch 93/200\n",
      "1/1 [==============================] - 0s 22ms/step - loss: 4.6233 - val_loss: 15.4231\n",
      "Epoch 94/200\n",
      "1/1 [==============================] - 0s 18ms/step - loss: 4.5503 - val_loss: 15.3055\n",
      "Epoch 95/200\n",
      "1/1 [==============================] - 0s 24ms/step - loss: 4.5427 - val_loss: 15.1934\n",
      "Epoch 96/200\n",
      "1/1 [==============================] - 0s 17ms/step - loss: 4.5480 - val_loss: 15.1369\n",
      "Epoch 97/200\n",
      "1/1 [==============================] - 0s 16ms/step - loss: 4.5899 - val_loss: 15.1413\n",
      "Epoch 98/200\n",
      "1/1 [==============================] - 0s 18ms/step - loss: 4.5711 - val_loss: 15.1295\n",
      "Epoch 99/200\n",
      "1/1 [==============================] - 0s 19ms/step - loss: 4.5677 - val_loss: 15.0050\n",
      "Epoch 100/200\n",
      "1/1 [==============================] - 0s 20ms/step - loss: 4.5621 - val_loss: 14.9094\n",
      "Epoch 101/200\n",
      "1/1 [==============================] - 0s 17ms/step - loss: 4.5192 - val_loss: 14.8837\n",
      "Epoch 102/200\n",
      "1/1 [==============================] - 0s 22ms/step - loss: 4.5477 - val_loss: 14.9268\n",
      "Epoch 103/200\n",
      "1/1 [==============================] - 0s 17ms/step - loss: 4.4931 - val_loss: 14.9952\n",
      "Epoch 104/200\n",
      "1/1 [==============================] - 0s 17ms/step - loss: 4.5092 - val_loss: 14.9958\n",
      "Epoch 105/200\n",
      "1/1 [==============================] - 0s 20ms/step - loss: 4.4877 - val_loss: 14.8893\n",
      "Epoch 106/200\n",
      "1/1 [==============================] - 0s 17ms/step - loss: 4.4943 - val_loss: 14.8137\n",
      "Epoch 107/200\n",
      "1/1 [==============================] - 0s 34ms/step - loss: 4.4851 - val_loss: 14.7445\n",
      "Epoch 108/200\n",
      "1/1 [==============================] - 0s 23ms/step - loss: 4.4576 - val_loss: 14.7007\n",
      "Epoch 109/200\n",
      "1/1 [==============================] - 0s 21ms/step - loss: 4.4436 - val_loss: 14.6318\n",
      "Epoch 110/200\n",
      "1/1 [==============================] - 0s 18ms/step - loss: 4.3922 - val_loss: 14.5625\n",
      "Epoch 111/200\n",
      "1/1 [==============================] - 0s 18ms/step - loss: 4.4347 - val_loss: 14.5740\n",
      "Epoch 112/200\n",
      "1/1 [==============================] - 0s 18ms/step - loss: 4.4305 - val_loss: 14.6126\n",
      "Epoch 113/200\n",
      "1/1 [==============================] - 0s 19ms/step - loss: 4.4092 - val_loss: 14.6604\n",
      "Epoch 114/200\n",
      "1/1 [==============================] - 0s 17ms/step - loss: 4.4070 - val_loss: 14.6211\n",
      "Epoch 115/200\n",
      "1/1 [==============================] - 0s 18ms/step - loss: 4.3274 - val_loss: 14.5380\n",
      "Epoch 116/200\n",
      "1/1 [==============================] - 0s 17ms/step - loss: 4.3924 - val_loss: 14.4808\n",
      "Epoch 117/200\n",
      "1/1 [==============================] - 0s 20ms/step - loss: 4.3685 - val_loss: 14.3489\n",
      "Epoch 118/200\n",
      "1/1 [==============================] - 0s 18ms/step - loss: 4.3664 - val_loss: 14.2761\n",
      "Epoch 119/200\n",
      "1/1 [==============================] - 0s 18ms/step - loss: 4.3562 - val_loss: 14.2303\n",
      "Epoch 120/200\n",
      "1/1 [==============================] - 0s 17ms/step - loss: 4.3551 - val_loss: 14.2201\n",
      "Epoch 121/200\n",
      "1/1 [==============================] - 0s 19ms/step - loss: 4.3164 - val_loss: 14.2146\n",
      "Epoch 122/200\n",
      "1/1 [==============================] - 0s 17ms/step - loss: 4.3042 - val_loss: 14.2040\n",
      "Epoch 123/200\n",
      "1/1 [==============================] - 0s 17ms/step - loss: 4.2667 - val_loss: 14.1576\n",
      "Epoch 124/200\n",
      "1/1 [==============================] - 0s 17ms/step - loss: 4.3098 - val_loss: 14.0497\n",
      "Epoch 125/200\n",
      "1/1 [==============================] - 0s 22ms/step - loss: 4.2948 - val_loss: 13.9895\n",
      "Epoch 126/200\n",
      "1/1 [==============================] - 0s 23ms/step - loss: 4.2770 - val_loss: 13.9504\n",
      "Epoch 127/200\n",
      "1/1 [==============================] - 0s 21ms/step - loss: 4.2680 - val_loss: 13.9241\n",
      "Epoch 128/200\n",
      "1/1 [==============================] - 0s 20ms/step - loss: 4.2603 - val_loss: 13.9695\n",
      "Epoch 129/200\n",
      "1/1 [==============================] - 0s 19ms/step - loss: 4.2184 - val_loss: 13.9696\n",
      "Epoch 130/200\n",
      "1/1 [==============================] - 0s 19ms/step - loss: 4.2165 - val_loss: 13.8285\n",
      "Epoch 131/200\n",
      "1/1 [==============================] - 0s 18ms/step - loss: 4.1369 - val_loss: 13.7245\n",
      "Epoch 132/200\n",
      "1/1 [==============================] - 0s 18ms/step - loss: 4.1910 - val_loss: 13.7484\n",
      "Epoch 133/200\n",
      "1/1 [==============================] - 0s 19ms/step - loss: 4.1988 - val_loss: 13.7842\n",
      "Epoch 134/200\n",
      "1/1 [==============================] - 0s 20ms/step - loss: 4.1772 - val_loss: 13.7463\n",
      "Epoch 135/200\n",
      "1/1 [==============================] - 0s 19ms/step - loss: 4.0620 - val_loss: 13.7050\n",
      "Epoch 136/200\n",
      "1/1 [==============================] - 0s 19ms/step - loss: 4.0219 - val_loss: 13.6524\n",
      "Epoch 137/200\n",
      "1/1 [==============================] - 0s 20ms/step - loss: 4.1673 - val_loss: 13.6018\n",
      "Epoch 138/200\n",
      "1/1 [==============================] - 0s 18ms/step - loss: 4.1593 - val_loss: 13.5294\n",
      "Epoch 139/200\n",
      "1/1 [==============================] - 0s 23ms/step - loss: 4.1021 - val_loss: 13.5408\n",
      "Epoch 140/200\n",
      "1/1 [==============================] - 0s 19ms/step - loss: 4.1503 - val_loss: 13.5277\n",
      "Epoch 141/200\n",
      "1/1 [==============================] - 0s 19ms/step - loss: 4.1538 - val_loss: 13.5188\n",
      "Epoch 142/200\n",
      "1/1 [==============================] - 0s 17ms/step - loss: 4.1193 - val_loss: 13.5188\n",
      "Epoch 143/200\n",
      "1/1 [==============================] - 0s 21ms/step - loss: 4.1327 - val_loss: 13.4664\n",
      "Epoch 144/200\n",
      "1/1 [==============================] - 0s 17ms/step - loss: 4.0938 - val_loss: 13.3702\n",
      "Epoch 145/200\n",
      "1/1 [==============================] - 0s 18ms/step - loss: 4.0183 - val_loss: 13.3074\n",
      "Epoch 146/200\n",
      "1/1 [==============================] - 0s 19ms/step - loss: 4.0607 - val_loss: 13.3027\n",
      "Epoch 147/200\n",
      "1/1 [==============================] - 0s 18ms/step - loss: 4.0819 - val_loss: 13.2636\n",
      "Epoch 148/200\n",
      "1/1 [==============================] - 0s 17ms/step - loss: 4.0197 - val_loss: 13.1591\n",
      "Epoch 149/200\n",
      "1/1 [==============================] - 0s 18ms/step - loss: 4.0798 - val_loss: 13.1662\n",
      "Epoch 150/200\n",
      "1/1 [==============================] - 0s 18ms/step - loss: 4.0521 - val_loss: 13.1482\n",
      "Epoch 151/200\n",
      "1/1 [==============================] - 0s 20ms/step - loss: 4.0506 - val_loss: 13.1030\n",
      "Epoch 152/200\n",
      "1/1 [==============================] - 0s 17ms/step - loss: 3.9512 - val_loss: 13.1409\n",
      "Epoch 153/200\n",
      "1/1 [==============================] - 0s 17ms/step - loss: 4.0311 - val_loss: 13.0982\n",
      "Epoch 154/200\n",
      "1/1 [==============================] - 0s 18ms/step - loss: 4.0070 - val_loss: 13.0532\n",
      "Epoch 155/200\n",
      "1/1 [==============================] - 0s 17ms/step - loss: 3.9907 - val_loss: 13.0074\n",
      "Epoch 156/200\n",
      "1/1 [==============================] - 0s 18ms/step - loss: 3.9876 - val_loss: 12.9442\n",
      "Epoch 157/200\n",
      "1/1 [==============================] - 0s 40ms/step - loss: 3.9061 - val_loss: 12.9633\n",
      "Epoch 158/200\n",
      "1/1 [==============================] - 0s 24ms/step - loss: 3.9812 - val_loss: 13.0536\n",
      "Epoch 159/200\n",
      "1/1 [==============================] - 0s 18ms/step - loss: 3.9791 - val_loss: 13.0197\n",
      "Epoch 160/200\n",
      "1/1 [==============================] - 0s 18ms/step - loss: 3.9601 - val_loss: 12.8882\n",
      "Epoch 161/200\n",
      "1/1 [==============================] - 0s 19ms/step - loss: 3.9476 - val_loss: 12.8475\n",
      "Epoch 162/200\n",
      "1/1 [==============================] - 0s 18ms/step - loss: 3.9382 - val_loss: 12.8381\n",
      "Epoch 163/200\n",
      "1/1 [==============================] - 0s 21ms/step - loss: 3.9324 - val_loss: 12.7910\n",
      "Epoch 164/200\n",
      "1/1 [==============================] - 0s 19ms/step - loss: 3.9285 - val_loss: 12.7888\n",
      "Epoch 165/200\n",
      "1/1 [==============================] - 0s 20ms/step - loss: 3.9101 - val_loss: 12.8760\n",
      "Epoch 166/200\n",
      "1/1 [==============================] - 0s 20ms/step - loss: 3.9097 - val_loss: 12.8851\n",
      "Epoch 167/200\n",
      "1/1 [==============================] - 0s 20ms/step - loss: 3.9132 - val_loss: 12.7800\n",
      "Epoch 168/200\n",
      "1/1 [==============================] - 0s 18ms/step - loss: 3.8052 - val_loss: 12.7271\n",
      "Epoch 169/200\n",
      "1/1 [==============================] - 0s 18ms/step - loss: 3.9108 - val_loss: 12.7313\n",
      "Epoch 170/200\n",
      "1/1 [==============================] - 0s 18ms/step - loss: 3.8460 - val_loss: 12.7712\n",
      "Epoch 171/200\n",
      "1/1 [==============================] - 0s 17ms/step - loss: 3.8866 - val_loss: 12.6893\n",
      "Epoch 172/200\n",
      "1/1 [==============================] - 0s 17ms/step - loss: 3.8608 - val_loss: 12.5764\n",
      "Epoch 173/200\n",
      "1/1 [==============================] - 0s 19ms/step - loss: 3.8483 - val_loss: 12.4883\n",
      "Epoch 174/200\n",
      "1/1 [==============================] - 0s 18ms/step - loss: 3.6762 - val_loss: 12.4922\n",
      "Epoch 175/200\n",
      "1/1 [==============================] - 0s 19ms/step - loss: 3.8441 - val_loss: 12.5315\n",
      "Epoch 176/200\n",
      "1/1 [==============================] - 0s 18ms/step - loss: 3.7959 - val_loss: 12.5407\n",
      "Epoch 177/200\n",
      "1/1 [==============================] - 0s 17ms/step - loss: 3.8309 - val_loss: 12.5557\n",
      "Epoch 178/200\n",
      "1/1 [==============================] - 0s 19ms/step - loss: 3.8274 - val_loss: 12.5457\n",
      "Epoch 179/200\n",
      "1/1 [==============================] - 0s 19ms/step - loss: 3.7583 - val_loss: 12.4739\n",
      "Epoch 180/200\n",
      "1/1 [==============================] - 0s 17ms/step - loss: 3.8080 - val_loss: 12.3790\n",
      "Epoch 181/200\n",
      "1/1 [==============================] - 0s 18ms/step - loss: 3.7801 - val_loss: 12.3364\n",
      "Epoch 182/200\n",
      "1/1 [==============================] - 0s 18ms/step - loss: 3.7551 - val_loss: 12.3677\n",
      "Epoch 183/200\n",
      "1/1 [==============================] - 0s 19ms/step - loss: 3.7786 - val_loss: 12.3894\n",
      "Epoch 184/200\n",
      "1/1 [==============================] - 0s 18ms/step - loss: 3.7730 - val_loss: 12.3496\n",
      "Epoch 185/200\n",
      "1/1 [==============================] - 0s 19ms/step - loss: 3.7630 - val_loss: 12.2379\n",
      "Epoch 186/200\n",
      "1/1 [==============================] - 0s 18ms/step - loss: 3.7371 - val_loss: 12.1732\n",
      "Epoch 187/200\n",
      "1/1 [==============================] - 0s 19ms/step - loss: 3.7396 - val_loss: 12.1175\n",
      "Epoch 188/200\n",
      "1/1 [==============================] - 0s 18ms/step - loss: 3.7393 - val_loss: 12.1100\n",
      "Epoch 189/200\n",
      "1/1 [==============================] - 0s 17ms/step - loss: 3.6985 - val_loss: 12.1670\n",
      "Epoch 190/200\n",
      "1/1 [==============================] - 0s 18ms/step - loss: 3.7179 - val_loss: 12.2104\n",
      "Epoch 191/200\n",
      "1/1 [==============================] - 0s 17ms/step - loss: 3.4548 - val_loss: 12.1777\n",
      "Epoch 192/200\n",
      "1/1 [==============================] - 0s 20ms/step - loss: 3.7017 - val_loss: 12.2342\n",
      "Epoch 193/200\n",
      "1/1 [==============================] - 0s 19ms/step - loss: 3.6609 - val_loss: 12.3029\n",
      "Epoch 194/200\n",
      "1/1 [==============================] - 0s 20ms/step - loss: 3.6969 - val_loss: 12.2434\n",
      "Epoch 195/200\n",
      "1/1 [==============================] - 0s 18ms/step - loss: 3.6727 - val_loss: 12.1151\n",
      "Epoch 196/200\n",
      "1/1 [==============================] - 0s 19ms/step - loss: 3.6696 - val_loss: 12.0778\n",
      "Epoch 197/200\n",
      "1/1 [==============================] - 0s 17ms/step - loss: 3.6645 - val_loss: 12.1047\n",
      "Epoch 198/200\n",
      "1/1 [==============================] - 0s 19ms/step - loss: 3.6206 - val_loss: 12.0728\n",
      "Epoch 199/200\n",
      "1/1 [==============================] - 0s 17ms/step - loss: 3.5576 - val_loss: 12.0923\n",
      "Epoch 200/200\n",
      "1/1 [==============================] - 0s 16ms/step - loss: 3.6010 - val_loss: 12.1127\n"
     ]
    }
   ],
   "source": [
    "# train_dataset 생성->X, y를 제공\n",
    "hist = model_boston.fit(train_dataset, ### (X_train, y_train) + shuffle + batch_size\n",
    "                        epochs=N_EPOCH, \n",
    "                        validation_data=test_dataset   # Dataset을 이용할 경우 validation_split을 사용할 수 없다.\n",
    "                        )"
   ]
  },
  {
   "cell_type": "markdown",
   "metadata": {
    "slideshow": {
     "slide_type": "slide"
    }
   },
   "source": [
    "##### 결과 시각화\n",
    "- 학습 시 epoch별 검증 결과를 시각화한다."
   ]
  },
  {
   "cell_type": "code",
   "execution_count": 51,
   "metadata": {},
   "outputs": [
    {
     "data": {
      "text/plain": [
       "{'verbose': 1, 'epochs': 200, 'steps': 1}"
      ]
     },
     "execution_count": 51,
     "metadata": {},
     "output_type": "execute_result"
    }
   ],
   "source": [
    "hist.epoch\n",
    "hist.params"
   ]
  },
  {
   "cell_type": "code",
   "execution_count": 52,
   "metadata": {},
   "outputs": [
    {
     "data": {
      "text/plain": [
       "dict_keys(['loss', 'val_loss'])"
      ]
     },
     "execution_count": 52,
     "metadata": {},
     "output_type": "execute_result"
    }
   ],
   "source": [
    "hist.history.keys()"
   ]
  },
  {
   "cell_type": "code",
   "execution_count": 53,
   "metadata": {},
   "outputs": [
    {
     "data": {
      "text/plain": [
       "list"
      ]
     },
     "execution_count": 53,
     "metadata": {},
     "output_type": "execute_result"
    }
   ],
   "source": [
    "type(hist.history['loss'])"
   ]
  },
  {
   "cell_type": "code",
   "execution_count": 59,
   "metadata": {},
   "outputs": [
    {
     "data": {
      "image/png": "[encoded data removed]",
      "text/plain": [
       "<Figure size 640x480 with 1 Axes>"
      ]
     },
     "metadata": {},
     "output_type": "display_data"
    }
   ],
   "source": [
    "# hist.history : 에폭별 검증 결과\n",
    "# hist.epoch : 에폭리스트\n",
    "plt.plot(hist.epoch, hist.history['loss'], label='Train set')\n",
    "plt.plot(hist.epoch, hist.history['val_loss'], label='Validation set')\n",
    "\n",
    "plt.title('에폭별 MSE loss')\n",
    "# plt.ylim(0, 30) # y값의 범위 0~30 줄임.(값의 변화가 클때 변화율을 확인하기위해)\n",
    "plt.legend()\n",
    "plt.show()\n",
    "# 성능이 개선 되는 추세에서 멈췄으므로 epoch을 더 크게 잡고 학습 해야 한다."
   ]
  },
  {
   "cell_type": "markdown",
   "metadata": {
    "slideshow": {
     "slide_type": "slide"
    }
   },
   "source": [
    "##### 최종 테스트"
   ]
  },
  {
   "cell_type": "code",
   "execution_count": 61,
   "metadata": {},
   "outputs": [
    {
     "name": "stdout",
     "output_type": "stream",
     "text": [
      "3/3 [==============================] - 0s 3ms/step - loss: 12.1127\n"
     ]
    }
   ],
   "source": [
    "loss = model_boston.evaluate(test_dataset)"
   ]
  },
  {
   "cell_type": "code",
   "execution_count": 62,
   "metadata": {},
   "outputs": [
    {
     "data": {
      "text/plain": [
       "12.112702369689941"
      ]
     },
     "execution_count": 62,
     "metadata": {},
     "output_type": "execute_result"
    }
   ],
   "source": [
    "loss"
   ]
  },
  {
   "cell_type": "markdown",
   "metadata": {
    "slideshow": {
     "slide_type": "slide"
    }
   },
   "source": [
    "##### 모델 네트워크 저장"
   ]
  },
  {
   "cell_type": "code",
   "execution_count": 77,
   "metadata": {},
   "outputs": [],
   "source": [
    "import os\n",
    "# path = 'saved_model' # 모든 모델들을 저장할 디렉토리 경로.\n",
    "# os.makedirs(path, exist_ok=True) # 디렉토리 생성(없으면 생성, 있으면 생성안함)\n",
    "# saved_dir = os.path.join(path, 'boston_model') # boston_dataset을 학습한 모델을 저장할 디렉토리.\n",
    "saved_dir = r\"c:\\classes\\saved_model\\boston_model\" "
   ]
  },
  {
   "cell_type": "code",
   "execution_count": 78,
   "metadata": {},
   "outputs": [
    {
     "data": {
      "text/plain": [
       "'c:\\\\classes\\\\saved_model\\\\boston_model'"
      ]
     },
     "execution_count": 78,
     "metadata": {},
     "output_type": "execute_result"
    }
   ],
   "source": [
    "saved_dir"
   ]
  },
  {
   "cell_type": "code",
   "execution_count": 79,
   "metadata": {},
   "outputs": [
    {
     "name": "stdout",
     "output_type": "stream",
     "text": [
      "c:\\classes\\saved_model\\boston_model\n",
      "INFO:tensorflow:Assets written to: c:\\classes\\saved_model\\boston_model\\assets\n"
     ]
    },
    {
     "name": "stderr",
     "output_type": "stream",
     "text": [
      "INFO:tensorflow:Assets written to: c:\\classes\\saved_model\\boston_model\\assets\n"
     ]
    }
   ],
   "source": [
    "print(saved_dir)\n",
    "model_boston.save(saved_dir) # 디렉토리가 없으면 생성\n",
    "# 모델 저장 => 저장할 디렉토리를 문자열로 전달."
   ]
  },
  {
   "cell_type": "markdown",
   "metadata": {
    "slideshow": {
     "slide_type": "slide"
    }
   },
   "source": [
    "##### 새로운 데이터 추론"
   ]
  },
  {
   "cell_type": "code",
   "execution_count": 80,
   "metadata": {},
   "outputs": [
    {
     "name": "stdout",
     "output_type": "stream",
     "text": [
      "3/3 [==============================] - 0s 3ms/step - loss: 12.1127\n"
     ]
    },
    {
     "data": {
      "text/plain": [
       "12.112702369689941"
      ]
     },
     "execution_count": 80,
     "metadata": {},
     "output_type": "execute_result"
    }
   ],
   "source": [
    "# 저장된 모델을 불러와서 추론\n",
    "saved_model = keras.models.load_model(saved_dir) # 모델이 저장된 디렉토리 경로 전달.\n",
    "saved_model.evaluate(test_dataset)"
   ]
  },
  {
   "cell_type": "code",
   "execution_count": 81,
   "metadata": {},
   "outputs": [
    {
     "name": "stdout",
     "output_type": "stream",
     "text": [
      "1/1 [==============================] - 0s 101ms/step\n",
      "[[ 8.463146]\n",
      " [18.314398]\n",
      " [21.863432]\n",
      " [31.050482]\n",
      " [23.5967  ]]\n"
     ]
    }
   ],
   "source": [
    "X_new = X_test[:5]\n",
    "# 추론: model.predict(X)\n",
    "pred = saved_model.predict(X_new)\n",
    "print(pred)"
   ]
  },
  {
   "cell_type": "code",
   "execution_count": 82,
   "metadata": {},
   "outputs": [
    {
     "data": {
      "text/plain": [
       "array([ 7.2, 18.8, 19. , 27. , 22.2])"
      ]
     },
     "execution_count": 82,
     "metadata": {},
     "output_type": "execute_result"
    }
   ],
   "source": [
    "y_test[:5]"
   ]
  },
  {
   "cell_type": "markdown",
   "metadata": {
    "slideshow": {
     "slide_type": "slide"
    }
   },
   "source": [
    "# 분류 (Classification)\n",
    "\n",
    "## Fashion MNIST Dataset - 다중분류(Multi-Class Classification) 문제"
   ]
  },
  {
   "cell_type": "markdown",
   "metadata": {
    "slideshow": {
     "slide_type": "fragment"
    }
   },
   "source": [
    "10개의 범주(category)와 70,000개의 흑백 이미지로 구성된 [패션 MNIST](https://github.com/zalandoresearch/fashion-mnist) 데이터셋. \n",
    "이미지는 해상도(28x28 픽셀)가 낮고 다음처럼 개별 의류 품목을 나타낸다:\n",
    "\n",
    "<table>\n",
    "  <tr><td>\n",
    "    <img src=\"https://tensorflow.org/images/fashion-mnist-sprite.png\"\n",
    "         alt=\"Fashion MNIST sprite\"  width=\"600\">\n",
    "  </td></tr>\n",
    "  <tr><td align=\"center\">\n",
    "    <b>그림</b> <a href=\"https://github.com/zalandoresearch/fashion-mnist\">패션-MNIST 샘플</a> (Zalando, MIT License).<br/>&nbsp;\n",
    "  </td></tr>\n",
    "</table>"
   ]
  },
  {
   "cell_type": "markdown",
   "metadata": {
    "slideshow": {
     "slide_type": "fragment"
    }
   },
   "source": [
    "이미지는 28x28 크기이며 Gray scale이다. *레이블*(label)은 0에서 9까지의 정수 배열이다. 아래 표는 이미지에 있는 의류의 **클래스**(class)들이다.\n",
    "\n",
    "<table>\n",
    "  <tr>\n",
    "    <th>레이블</th>\n",
    "    <th>클래스</th>\n",
    "  </tr>\n",
    "  <tr>\n",
    "    <td>0</td>\n",
    "    <td>T-shirt/top</td>\n",
    "  </tr>\n",
    "  <tr>\n",
    "    <td>1</td>\n",
    "    <td>Trousers</td>\n",
    "  </tr>\n",
    "    <tr>\n",
    "    <td>2</td>\n",
    "    <td>Pullover</td>\n",
    "  </tr>\n",
    "    <tr>\n",
    "    <td>3</td>\n",
    "    <td>Dress</td>\n",
    "  </tr>\n",
    "    <tr>\n",
    "    <td>4</td>\n",
    "    <td>Coat</td>\n",
    "  </tr>\n",
    "    <tr>\n",
    "    <td>5</td>\n",
    "    <td>Sandal</td>\n",
    "  </tr>\n",
    "    <tr>\n",
    "    <td>6</td>\n",
    "    <td>Shirt</td>\n",
    "  </tr>\n",
    "    <tr>\n",
    "    <td>7</td>\n",
    "    <td>Sneaker</td>\n",
    "  </tr>\n",
    "    <tr>\n",
    "    <td>8</td>\n",
    "    <td>Bag</td>\n",
    "  </tr>\n",
    "    <tr>\n",
    "    <td>9</td>\n",
    "    <td>Ankle boot</td>\n",
    "  </tr>\n",
    "</table>\n",
    "\n",
    "각 이미지는 하나의 레이블에 매핑되어 있다. 데이터셋에 클래스 이름이 들어있지 않기 때문에 나중에 이미지를 출력할 때 사용하기 위해 별도의 변수를 만들어 저장한다."
   ]
  },
  {
   "cell_type": "code",
   "execution_count": 83,
   "metadata": {},
   "outputs": [],
   "source": [
    "import tensorflow as tf\n",
    "from tensorflow import keras\n",
    "from tensorflow.keras import layers, models, optimizers\n",
    "\n",
    "import numpy as np\n",
    "import matplotlib.pyplot as plt\n",
    "\n",
    "import os\n",
    "import random\n",
    "\n",
    "# seed 값 설정\n",
    "random.seed(0)\n",
    "np.random.seed(0)\n",
    "tf.random.set_seed(0)"
   ]
  },
  {
   "cell_type": "code",
   "execution_count": 84,
   "metadata": {
    "slideshow": {
     "slide_type": "fragment"
    }
   },
   "outputs": [],
   "source": [
    "# class index -> class name\n",
    "class_names = np.array(['T-shirt/top', 'Trousers', 'Pullover', 'Dress', 'Coat', 'Sandal', 'Shirt', 'Sneaker', 'Bag', 'Ankle boot'])"
   ]
  },
  {
   "cell_type": "markdown",
   "metadata": {
    "slideshow": {
     "slide_type": "slide"
    }
   },
   "source": [
    "##### Data 로딩"
   ]
  },
  {
   "cell_type": "code",
   "execution_count": 85,
   "metadata": {},
   "outputs": [
    {
     "name": "stdout",
     "output_type": "stream",
     "text": [
      "Downloading data from https://storage.googleapis.com/tensorflow/tf-keras-datasets/train-labels-idx1-ubyte.gz\n",
      "29515/29515 [==============================] - 0s 0us/step\n",
      "Downloading data from https://storage.googleapis.com/tensorflow/tf-keras-datasets/train-images-idx3-ubyte.gz\n",
      "26421880/26421880 [==============================] - 2s 0us/step\n",
      "Downloading data from https://storage.googleapis.com/tensorflow/tf-keras-datasets/t10k-labels-idx1-ubyte.gz\n",
      "5148/5148 [==============================] - 0s 0s/step\n",
      "Downloading data from https://storage.googleapis.com/tensorflow/tf-keras-datasets/t10k-images-idx3-ubyte.gz\n",
      "4422102/4422102 [==============================] - 0s 0us/step\n"
     ]
    },
    {
     "data": {
      "text/plain": [
       "((60000, 28, 28), (60000,), (10000, 28, 28), (10000,))"
      ]
     },
     "execution_count": 85,
     "metadata": {},
     "output_type": "execute_result"
    }
   ],
   "source": [
    "(train_image, y_train), (test_image, y_test) = keras.datasets.fashion_mnist.load_data()\n",
    "train_image.shape, y_train.shape, test_image.shape, y_test.shape"
   ]
  },
  {
   "cell_type": "code",
   "execution_count": 86,
   "metadata": {
    "scrolled": true
   },
   "outputs": [
    {
     "data": {
      "text/plain": [
       "(array([0, 1, 2, 3, 4, 5, 6, 7, 8, 9], dtype=uint8),\n",
       " array([6000, 6000, 6000, 6000, 6000, 6000, 6000, 6000, 6000, 6000],\n",
       "       dtype=int64))"
      ]
     },
     "execution_count": 86,
     "metadata": {},
     "output_type": "execute_result"
    }
   ],
   "source": [
    "np.unique(y_train, return_counts=True)"
   ]
  },
  {
   "cell_type": "markdown",
   "metadata": {
    "slideshow": {
     "slide_type": "fragment"
    }
   },
   "source": [
    "##### validatation dataset set  분리\n",
    "- Train set을 Train/validation set으로 분리"
   ]
  },
  {
   "cell_type": "code",
   "execution_count": 87,
   "metadata": {},
   "outputs": [
    {
     "data": {
      "text/plain": [
       "((48000, 28, 28), (12000, 28, 28))"
      ]
     },
     "execution_count": 87,
     "metadata": {},
     "output_type": "execute_result"
    }
   ],
   "source": [
    "from sklearn.model_selection import train_test_split # 데이터가 numpy배열일 경우 그냥 train_test_split을 쓰면 알아서 셜플까지 해준다.\n",
    "train_image, val_image, y_train, y_val = train_test_split(train_image,\n",
    "                                                          y_train, \n",
    "                                                          test_size=0.2, \n",
    "                                                          stratify=y_train, \n",
    "                                                          random_state=0)\n",
    "train_image.shape, val_image.shape"
   ]
  },
  {
   "cell_type": "markdown",
   "metadata": {
    "slideshow": {
     "slide_type": "slide"
    }
   },
   "source": [
    "##### 이미지 확인"
   ]
  },
  {
   "cell_type": "code",
   "execution_count": 88,
   "metadata": {},
   "outputs": [
    {
     "data": {
      "image/png": "[encoded data removed]",
      "text/plain": [
       "<Figure size 700x700 with 15 Axes>"
      ]
     },
     "metadata": {},
     "output_type": "display_data"
    }
   ],
   "source": [
    "cnt = 15  # 확인할 이미지개수 (5배수)\n",
    "plt.figure(figsize=(7,7))\n",
    "for i in range(cnt):\n",
    "    plt.subplot(5, int(cnt/5), i+1) # 5행 _열\n",
    "    plt.imshow(train_image[i], cmap='Greys')  # gray: 0-black, 255: white,  Greys: 0-white, 255-black\n",
    "    label = class_names[y_train[i]]\n",
    "    plt.title(label)\n",
    "    \n",
    "plt.tight_layout()\n",
    "plt.show()"
   ]
  },
  {
   "cell_type": "markdown",
   "metadata": {
    "slideshow": {
     "slide_type": "slide"
    }
   },
   "source": [
    "#### 하이퍼파라미터, 변수 설정"
   ]
  },
  {
   "cell_type": "code",
   "execution_count": 89,
   "metadata": {},
   "outputs": [],
   "source": [
    "LEARNING_RATE = 0.001  # 학습률\n",
    "N_EPOCH = 20          # 에폭수\n",
    "N_BATCH = 1000         # 배치 사이즈"
   ]
  },
  {
   "cell_type": "markdown",
   "metadata": {
    "slideshow": {
     "slide_type": "fragment"
    }
   },
   "source": [
    "#### X, y  전처리\n",
    "- y값 처리\n",
    "    1. 다중 분류에서 label encoding 형식의 label을 one hot encoding 처리 ==> loss: categorical_crossentropy\n",
    "    2. label encoding 형식의 label을 그대로 모델에 전달. => loss: sparse_categorical_crossentropy\n",
    "        - one hot encoding 처리를 loss가 대신 한다."
   ]
  },
  {
   "cell_type": "markdown",
   "metadata": {
    "slideshow": {
     "slide_type": "fragment"
    }
   },
   "source": [
    "- x값(이미지) 처리\n",
    "    - dtype을 uint8에서 float32로 변환한다.\n",
    "    - 0 ~ 1 정규화. X/255.0으로 나눈다."
   ]
  },
  {
   "cell_type": "code",
   "execution_count": 90,
   "metadata": {},
   "outputs": [],
   "source": [
    "X_train = train_image.astype('float32')/255.0\n",
    "X_val = val_image.astype('float32')/255.0\n",
    "X_test = test_image.astype('float32')/255.0"
   ]
  },
  {
   "cell_type": "code",
   "execution_count": 91,
   "metadata": {},
   "outputs": [
    {
     "name": "stdout",
     "output_type": "stream",
     "text": [
      "0 255\n",
      "0.0 1.0\n"
     ]
    }
   ],
   "source": [
    "print(train_image.min(), train_image.max())\n",
    "print(X_train.min(), X_train.max())"
   ]
  },
  {
   "cell_type": "code",
   "execution_count": 93,
   "metadata": {},
   "outputs": [
    {
     "data": {
      "text/plain": [
       "((48000, 28, 28), (12000, 28, 28), (10000, 28, 28))"
      ]
     },
     "execution_count": 93,
     "metadata": {},
     "output_type": "execute_result"
    }
   ],
   "source": [
    "X_train.shape, X_val.shape, X_test.shape"
   ]
  },
  {
   "cell_type": "code",
   "execution_count": 95,
   "metadata": {},
   "outputs": [
    {
     "data": {
      "text/plain": [
       "array([6, 5, 0, 1, 0, 9, 4, 4, 0, 4], dtype=uint8)"
      ]
     },
     "execution_count": 95,
     "metadata": {},
     "output_type": "execute_result"
    }
   ],
   "source": [
    "y_train[:10]"
   ]
  },
  {
   "cell_type": "markdown",
   "metadata": {
    "slideshow": {
     "slide_type": "slide"
    }
   },
   "source": [
    "##### Dataset 생성"
   ]
  },
  {
   "cell_type": "code",
   "execution_count": 96,
   "metadata": {},
   "outputs": [],
   "source": [
    "train_dataset = tf.data.Dataset.from_tensor_slices((X_train, y_train))\\\n",
    "                               .shuffle(X_train.shape[0]).batch(N_BATCH, drop_remainder=True)\n",
    "\n",
    "val_dataset = tf.data.Dataset.from_tensor_slices((X_val, y_val)).batch(N_BATCH)\n",
    "test_dataset = tf.data.Dataset.from_tensor_slices((X_test, y_test)).batch(N_BATCH)"
   ]
  },
  {
   "cell_type": "code",
   "execution_count": 97,
   "metadata": {},
   "outputs": [
    {
     "data": {
      "text/plain": [
       "(48, 12, 10)"
      ]
     },
     "execution_count": 97,
     "metadata": {},
     "output_type": "execute_result"
    }
   ],
   "source": [
    "# 에폭당 step 수 계산\n",
    "len(train_dataset), len(val_dataset), len(test_dataset)"
   ]
  },
  {
   "cell_type": "markdown",
   "metadata": {
    "slideshow": {
     "slide_type": "slide"
    }
   },
   "source": [
    "##### 모델 생성 및 컴파일"
   ]
  },
  {
   "cell_type": "code",
   "execution_count": 98,
   "metadata": {},
   "outputs": [],
   "source": [
    "def get_model_fashion(lr=0.01):\n",
    "    model = keras.Sequential() # 빈모델 생성\n",
    "    \n",
    "    \n",
    "    # 모델에 layer들 추가\n",
    "    # input: (28,28) ==> 2차원 Dense layer는 입력으로 1차원 배열을 받는다. 2차원을 1차원으로 변환: Flatten layer\n",
    "    model.add(layers.Flatten(input_shape=(28, 28)))\n",
    "    \n",
    "    # hidden layer\n",
    "    # Dense Layer의 Unit개수는 점점 줄여나가는 패턴을 사용.\n",
    "    model.add(layers.Dense(256, activation='relu'))\n",
    "    model.add(layers.Dense(128, activation='relu'))\n",
    "    model.add(layers.Dense(64, activation='relu'))\n",
    "    model.add(layers.Dense(32, activation='relu'))\n",
    "    \n",
    "    # output layer\n",
    "    ### unit 개수: class 개수 (class개수가 10개 이므로 out layer의 unit도 10개로 한다.)\n",
    "    ### activation 함수: softmax ==> class별 확률을 출력하도록 한다.\n",
    "    model.add(layers.Dense(10, activation='softmax', name='output'))\n",
    "    \n",
    "    # 컴파일\n",
    "    # 다중분류 loss함수:\n",
    "#             y가 one hot encoding이 안된 경우: sparse_categorical_crossentropy (1. 원핫인코딩 처리 2. loss계산)\n",
    "#             y를 one hot encoding 한 경우: categorical_crossentropy\n",
    "    model.compile(optimizer=optimizers.Adam(learning_rate=lr), \n",
    "                  loss='sparse_categorical_crossentropy',   \n",
    "                  metrics=['accuracy']\n",
    "                 )\n",
    "    return model"
   ]
  },
  {
   "cell_type": "code",
   "execution_count": 99,
   "metadata": {},
   "outputs": [
    {
     "name": "stdout",
     "output_type": "stream",
     "text": [
      "Model: \"sequential_1\"\n",
      "_________________________________________________________________\n",
      " Layer (type)                Output Shape              Param #   \n",
      "=================================================================\n",
      " flatten (Flatten)           (None, 784)               0         \n",
      "                                                                 \n",
      " dense_4 (Dense)             (None, 256)               200960    \n",
      "                                                                 \n",
      " dense_5 (Dense)             (None, 128)               32896     \n",
      "                                                                 \n",
      " dense_6 (Dense)             (None, 64)                8256      \n",
      "                                                                 \n",
      " dense_7 (Dense)             (None, 32)                2080      \n",
      "                                                                 \n",
      " output (Dense)              (None, 10)                330       \n",
      "                                                                 \n",
      "=================================================================\n",
      "Total params: 244522 (955.16 KB)\n",
      "Trainable params: 244522 (955.16 KB)\n",
      "Non-trainable params: 0 (0.00 Byte)\n",
      "_________________________________________________________________\n"
     ]
    }
   ],
   "source": [
    "model_fashion = get_model_fashion(LEARNING_RATE)\n",
    "model_fashion.summary()"
   ]
  },
  {
   "cell_type": "code",
   "execution_count": 100,
   "metadata": {},
   "outputs": [
    {
     "data": {
      "image/png": "[encoded data removed]",
      "text/plain": [
       "<IPython.core.display.Image object>"
      ]
     },
     "execution_count": 100,
     "metadata": {},
     "output_type": "execute_result"
    }
   ],
   "source": [
    "keras.utils.plot_model(model_fashion, show_shapes=True)"
   ]
  },
  {
   "cell_type": "markdown",
   "metadata": {
    "slideshow": {
     "slide_type": "slide"
    }
   },
   "source": [
    "##### Train(학습)"
   ]
  },
  {
   "cell_type": "code",
   "execution_count": 101,
   "metadata": {
    "scrolled": true
   },
   "outputs": [
    {
     "name": "stdout",
     "output_type": "stream",
     "text": [
      "Epoch 1/20\n",
      "48/48 [==============================] - 1s 14ms/step - loss: 1.0248 - accuracy: 0.6647 - val_loss: 0.6009 - val_accuracy: 0.7933\n",
      "Epoch 2/20\n",
      "48/48 [==============================] - 1s 12ms/step - loss: 0.5066 - accuracy: 0.8295 - val_loss: 0.4768 - val_accuracy: 0.8303\n",
      "Epoch 3/20\n",
      "48/48 [==============================] - 1s 13ms/step - loss: 0.4376 - accuracy: 0.8487 - val_loss: 0.4193 - val_accuracy: 0.8512\n",
      "Epoch 4/20\n",
      "48/48 [==============================] - 1s 13ms/step - loss: 0.3977 - accuracy: 0.8615 - val_loss: 0.3928 - val_accuracy: 0.8597\n",
      "Epoch 5/20\n",
      "48/48 [==============================] - 1s 11ms/step - loss: 0.3862 - accuracy: 0.8644 - val_loss: 0.3839 - val_accuracy: 0.8614\n",
      "Epoch 6/20\n",
      "48/48 [==============================] - 1s 12ms/step - loss: 0.3639 - accuracy: 0.8709 - val_loss: 0.3663 - val_accuracy: 0.8699\n",
      "Epoch 7/20\n",
      "48/48 [==============================] - 1s 13ms/step - loss: 0.3395 - accuracy: 0.8796 - val_loss: 0.3613 - val_accuracy: 0.8679\n",
      "Epoch 8/20\n",
      "48/48 [==============================] - 1s 12ms/step - loss: 0.3286 - accuracy: 0.8818 - val_loss: 0.3543 - val_accuracy: 0.8692\n",
      "Epoch 9/20\n",
      "48/48 [==============================] - 1s 11ms/step - loss: 0.3131 - accuracy: 0.8878 - val_loss: 0.3390 - val_accuracy: 0.8753\n",
      "Epoch 10/20\n",
      "48/48 [==============================] - 1s 11ms/step - loss: 0.3087 - accuracy: 0.8882 - val_loss: 0.3438 - val_accuracy: 0.8757\n",
      "Epoch 11/20\n",
      "48/48 [==============================] - 1s 13ms/step - loss: 0.2865 - accuracy: 0.8965 - val_loss: 0.3369 - val_accuracy: 0.8775\n",
      "Epoch 12/20\n",
      "48/48 [==============================] - 1s 13ms/step - loss: 0.2820 - accuracy: 0.8978 - val_loss: 0.3199 - val_accuracy: 0.8827\n",
      "Epoch 13/20\n",
      "48/48 [==============================] - 1s 11ms/step - loss: 0.2703 - accuracy: 0.9022 - val_loss: 0.3401 - val_accuracy: 0.8761\n",
      "Epoch 14/20\n",
      "48/48 [==============================] - 1s 11ms/step - loss: 0.2744 - accuracy: 0.8998 - val_loss: 0.3357 - val_accuracy: 0.8808\n",
      "Epoch 15/20\n",
      "48/48 [==============================] - 1s 13ms/step - loss: 0.2534 - accuracy: 0.9082 - val_loss: 0.3102 - val_accuracy: 0.8863\n",
      "Epoch 16/20\n",
      "48/48 [==============================] - 1s 12ms/step - loss: 0.2480 - accuracy: 0.9105 - val_loss: 0.3069 - val_accuracy: 0.8873\n",
      "Epoch 17/20\n",
      "48/48 [==============================] - 1s 11ms/step - loss: 0.2502 - accuracy: 0.9075 - val_loss: 0.3239 - val_accuracy: 0.8815\n",
      "Epoch 18/20\n",
      "48/48 [==============================] - 1s 11ms/step - loss: 0.2427 - accuracy: 0.9103 - val_loss: 0.3296 - val_accuracy: 0.8838\n",
      "Epoch 19/20\n",
      "48/48 [==============================] - 1s 11ms/step - loss: 0.2396 - accuracy: 0.9120 - val_loss: 0.3012 - val_accuracy: 0.8930\n",
      "Epoch 20/20\n",
      "48/48 [==============================] - 1s 12ms/step - loss: 0.2218 - accuracy: 0.9190 - val_loss: 0.3106 - val_accuracy: 0.8896\n"
     ]
    }
   ],
   "source": [
    "hist = model_fashion.fit(train_dataset, epochs=N_EPOCH, validation_data=val_dataset)"
   ]
  },
  {
   "cell_type": "markdown",
   "metadata": {
    "slideshow": {
     "slide_type": "fragment"
    }
   },
   "source": [
    "##### 결과 시각화\n",
    "- 학습 시 epoch별 검증 결과를 시각화한다."
   ]
  },
  {
   "cell_type": "code",
   "execution_count": 102,
   "metadata": {},
   "outputs": [
    {
     "data": {
      "text/plain": [
       "dict_keys(['loss', 'accuracy', 'val_loss', 'val_accuracy'])"
      ]
     },
     "execution_count": 102,
     "metadata": {},
     "output_type": "execute_result"
    }
   ],
   "source": [
    "hist.history.keys()"
   ]
  },
  {
   "cell_type": "code",
   "execution_count": 103,
   "metadata": {},
   "outputs": [
    {
     "data": {
      "text/plain": [
       "[0, 1, 2, 3, 4, 5, 6, 7, 8, 9, 10, 11, 12, 13, 14, 15, 16, 17, 18, 19]"
      ]
     },
     "execution_count": 103,
     "metadata": {},
     "output_type": "execute_result"
    }
   ],
   "source": [
    "hist.epoch"
   ]
  },
  {
   "cell_type": "code",
   "execution_count": 104,
   "metadata": {},
   "outputs": [
    {
     "data": {
      "image/png": "[encoded data removed]",
      "text/plain": [
       "<Figure size 1000x500 with 2 Axes>"
      ]
     },
     "metadata": {},
     "output_type": "display_data"
    }
   ],
   "source": [
    "plt.figure(figsize=(10, 5))\n",
    "plt.subplot(1, 2, 1)\n",
    "plt.plot(hist.epoch, hist.history['loss'], label=\"train\")\n",
    "plt.plot(hist.epoch, hist.history['val_loss'], label='validation')\n",
    "plt.title('Loss')\n",
    "plt.xlabel('에폭수')\n",
    "plt.ylabel('loss')\n",
    "plt.legend()\n",
    "\n",
    "plt.subplot(1, 2, 2)\n",
    "plt.plot(hist.epoch, hist.history['accuracy'], label='train')\n",
    "plt.plot(hist.epoch, hist.history['val_accuracy'], label='validation')\n",
    "plt.title('Accuracy')\n",
    "plt.xlabel('에폭수')\n",
    "plt.ylabel('accuracy')\n",
    "plt.legend()\n",
    "\n",
    "plt.tight_layout()\n",
    "plt.show()"
   ]
  },
  {
   "cell_type": "code",
   "execution_count": 105,
   "metadata": {},
   "outputs": [
    {
     "name": "stdout",
     "output_type": "stream",
     "text": [
      "Epoch 1/20\n",
      "48/48 [==============================] - 1s 14ms/step - loss: 0.9157 - accuracy: 0.6881 - val_loss: 0.5585 - val_accuracy: 0.8019\n",
      "Epoch 2/20\n",
      "48/48 [==============================] - 1s 11ms/step - loss: 0.4949 - accuracy: 0.8267 - val_loss: 0.4725 - val_accuracy: 0.8299\n",
      "Epoch 3/20\n",
      "48/48 [==============================] - 1s 11ms/step - loss: 0.4234 - accuracy: 0.8527 - val_loss: 0.4182 - val_accuracy: 0.8471\n",
      "Epoch 4/20\n",
      "48/48 [==============================] - 1s 11ms/step - loss: 0.3882 - accuracy: 0.8640 - val_loss: 0.4186 - val_accuracy: 0.8440\n",
      "Epoch 5/20\n",
      "48/48 [==============================] - 1s 11ms/step - loss: 0.3712 - accuracy: 0.8680 - val_loss: 0.3757 - val_accuracy: 0.8648\n",
      "Epoch 6/20\n",
      "48/48 [==============================] - 1s 11ms/step - loss: 0.3582 - accuracy: 0.8738 - val_loss: 0.3531 - val_accuracy: 0.8705\n",
      "Epoch 7/20\n",
      "48/48 [==============================] - 1s 11ms/step - loss: 0.3295 - accuracy: 0.8806 - val_loss: 0.3669 - val_accuracy: 0.8665\n",
      "Epoch 8/20\n",
      "48/48 [==============================] - 1s 11ms/step - loss: 0.3175 - accuracy: 0.8866 - val_loss: 0.3373 - val_accuracy: 0.8763\n",
      "Epoch 9/20\n",
      "48/48 [==============================] - 1s 12ms/step - loss: 0.2997 - accuracy: 0.8929 - val_loss: 0.3379 - val_accuracy: 0.8763\n",
      "Epoch 10/20\n",
      "48/48 [==============================] - 1s 13ms/step - loss: 0.2882 - accuracy: 0.8966 - val_loss: 0.3190 - val_accuracy: 0.8857\n",
      "Epoch 11/20\n",
      "48/48 [==============================] - 1s 11ms/step - loss: 0.2838 - accuracy: 0.8962 - val_loss: 0.3575 - val_accuracy: 0.8674\n",
      "Epoch 12/20\n",
      "48/48 [==============================] - 1s 12ms/step - loss: 0.2804 - accuracy: 0.8964 - val_loss: 0.3194 - val_accuracy: 0.8836\n",
      "Epoch 13/20\n",
      "48/48 [==============================] - 1s 11ms/step - loss: 0.2667 - accuracy: 0.9014 - val_loss: 0.3182 - val_accuracy: 0.8826\n",
      "Epoch 14/20\n",
      "48/48 [==============================] - 1s 12ms/step - loss: 0.2529 - accuracy: 0.9067 - val_loss: 0.3084 - val_accuracy: 0.8889\n",
      "Epoch 15/20\n",
      "48/48 [==============================] - 1s 13ms/step - loss: 0.2480 - accuracy: 0.9082 - val_loss: 0.3091 - val_accuracy: 0.8874\n",
      "Epoch 16/20\n",
      "48/48 [==============================] - 1s 12ms/step - loss: 0.2484 - accuracy: 0.9077 - val_loss: 0.3233 - val_accuracy: 0.8830\n",
      "Epoch 17/20\n",
      "48/48 [==============================] - 1s 12ms/step - loss: 0.2339 - accuracy: 0.9136 - val_loss: 0.3046 - val_accuracy: 0.8876\n",
      "Epoch 18/20\n",
      "48/48 [==============================] - 1s 12ms/step - loss: 0.2245 - accuracy: 0.9168 - val_loss: 0.3051 - val_accuracy: 0.8908\n",
      "Epoch 19/20\n",
      "48/48 [==============================] - 1s 11ms/step - loss: 0.2221 - accuracy: 0.9174 - val_loss: 0.3243 - val_accuracy: 0.8851\n",
      "Epoch 20/20\n",
      "48/48 [==============================] - 1s 12ms/step - loss: 0.2181 - accuracy: 0.9191 - val_loss: 0.3048 - val_accuracy: 0.8903\n"
     ]
    }
   ],
   "source": [
    "model_fashion2 = get_model_fashion(LEARNING_RATE)\n",
    "\n",
    "hist = model_fashion2.fit(train_dataset, epochs=20, validation_data=val_dataset)"
   ]
  },
  {
   "cell_type": "code",
   "execution_count": 106,
   "metadata": {},
   "outputs": [
    {
     "data": {
      "image/png": "[encoded data removed]",
      "text/plain": [
       "<Figure size 1000x500 with 2 Axes>"
      ]
     },
     "metadata": {},
     "output_type": "display_data"
    }
   ],
   "source": [
    "plt.figure(figsize=(10, 5))\n",
    "plt.subplot(1, 2, 1)\n",
    "plt.plot(hist.epoch, hist.history['loss'], label=\"train\")\n",
    "plt.plot(hist.epoch, hist.history['val_loss'], label='validation')\n",
    "plt.title('Loss')\n",
    "plt.xlabel('에폭수')\n",
    "plt.ylabel('loss')\n",
    "plt.legend()\n",
    "\n",
    "plt.subplot(1, 2, 2)\n",
    "plt.plot(hist.epoch, hist.history['accuracy'], label='train')\n",
    "plt.plot(hist.epoch, hist.history['val_accuracy'], label='validation')\n",
    "plt.title('Accuracy')\n",
    "plt.xlabel('에폭수')\n",
    "plt.ylabel('accuracy')\n",
    "plt.legend()\n",
    "\n",
    "plt.tight_layout()\n",
    "plt.show()"
   ]
  },
  {
   "cell_type": "markdown",
   "metadata": {
    "slideshow": {
     "slide_type": "slide"
    }
   },
   "source": [
    "#### 최종평가"
   ]
  },
  {
   "cell_type": "code",
   "execution_count": 107,
   "metadata": {},
   "outputs": [
    {
     "name": "stdout",
     "output_type": "stream",
     "text": [
      "10/10 [==============================] - 0s 10ms/step - loss: 0.3348 - accuracy: 0.8822\n"
     ]
    }
   ],
   "source": [
    "# test set\n",
    "loss, acc = model_fashion2.evaluate(test_dataset)"
   ]
  },
  {
   "cell_type": "code",
   "execution_count": 108,
   "metadata": {},
   "outputs": [
    {
     "name": "stdout",
     "output_type": "stream",
     "text": [
      "0.3348418176174164 , 0.8822000026702881\n"
     ]
    }
   ],
   "source": [
    "print(loss, acc, sep=\" , \")"
   ]
  },
  {
   "cell_type": "markdown",
   "metadata": {
    "slideshow": {
     "slide_type": "fragment"
    }
   },
   "source": [
    "#### 모델저장"
   ]
  },
  {
   "cell_type": "code",
   "execution_count": 109,
   "metadata": {},
   "outputs": [],
   "source": [
    "save_dir_fashion = 'saved_model/fashion_mnist_model'"
   ]
  },
  {
   "cell_type": "code",
   "execution_count": 110,
   "metadata": {},
   "outputs": [
    {
     "name": "stdout",
     "output_type": "stream",
     "text": [
      "INFO:tensorflow:Assets written to: saved_model/fashion_mnist_model\\assets\n"
     ]
    },
    {
     "name": "stderr",
     "output_type": "stream",
     "text": [
      "INFO:tensorflow:Assets written to: saved_model/fashion_mnist_model\\assets\n"
     ]
    }
   ],
   "source": [
    "model_fashion2.save(save_dir_fashion)"
   ]
  },
  {
   "cell_type": "markdown",
   "metadata": {
    "slideshow": {
     "slide_type": "slide"
    }
   },
   "source": [
    "#### 새로운 데이터 추론"
   ]
  },
  {
   "cell_type": "code",
   "execution_count": 111,
   "metadata": {},
   "outputs": [
    {
     "name": "stdout",
     "output_type": "stream",
     "text": [
      "10/10 [==============================] - 0s 7ms/step - loss: 0.3348 - accuracy: 0.8822\n"
     ]
    },
    {
     "data": {
      "text/plain": [
       "[0.3348418176174164, 0.8822000026702881]"
      ]
     },
     "execution_count": 111,
     "metadata": {},
     "output_type": "execute_result"
    }
   ],
   "source": [
    "# 저장된 모델을 loading해서 추론\n",
    "saved_model_fashion = keras.models.load_model(save_dir_fashion)\n",
    "saved_model_fashion.evaluate(test_dataset)"
   ]
  },
  {
   "cell_type": "code",
   "execution_count": 112,
   "metadata": {},
   "outputs": [
    {
     "data": {
      "text/plain": [
       "(10, 28, 28)"
      ]
     },
     "execution_count": 112,
     "metadata": {},
     "output_type": "execute_result"
    }
   ],
   "source": [
    "new_X = X_test[1000:1010]\n",
    "new_X.shape"
   ]
  },
  {
   "cell_type": "code",
   "execution_count": 113,
   "metadata": {},
   "outputs": [
    {
     "name": "stdout",
     "output_type": "stream",
     "text": [
      "1/1 [==============================] - 0s 50ms/step\n"
     ]
    },
    {
     "data": {
      "text/plain": [
       "(10, 10)"
      ]
     },
     "execution_count": 113,
     "metadata": {},
     "output_type": "execute_result"
    }
   ],
   "source": [
    "pred = saved_model_fashion.predict(new_X)\n",
    "pred.shape"
   ]
  },
  {
   "cell_type": "code",
   "execution_count": 114,
   "metadata": {},
   "outputs": [
    {
     "data": {
      "text/plain": [
       "array([[3.2053733e-01, 3.2238927e-07, 4.5621102e-03, 8.5527328e-04,\n",
       "        1.5932708e-05, 8.2827599e-12, 6.7379075e-01, 8.5324707e-09,\n",
       "        2.3724740e-04, 1.0279844e-06],\n",
       "       [1.1561068e-06, 2.6924263e-06, 9.7480017e-07, 9.9995768e-01,\n",
       "        1.8522493e-05, 7.2565831e-10, 1.8358467e-05, 2.2508954e-12,\n",
       "        6.0575803e-07, 3.6287691e-09],\n",
       "       [9.7182999e-12, 3.3806298e-09, 3.9186722e-07, 1.7733204e-07,\n",
       "        1.2138487e-10, 9.9999177e-01, 1.8328285e-07, 1.3765222e-08,\n",
       "        4.4995751e-13, 7.3715878e-06],\n",
       "       [8.7907084e-11, 2.1000174e-08, 1.4587330e-07, 8.4086099e-07,\n",
       "        8.9096215e-09, 9.9999869e-01, 1.7300594e-07, 1.3665464e-08,\n",
       "        1.4209258e-09, 9.6735945e-08],\n",
       "       [1.1323111e-03, 1.4054065e-04, 2.7015001e-01, 1.0969242e-03,\n",
       "        1.3441284e-01, 9.7867460e-06, 5.9251285e-01, 2.2660273e-05,\n",
       "        1.5677247e-04, 3.6529530e-04],\n",
       "       [2.7103838e-02, 1.7833207e-03, 3.2458603e-01, 7.1913011e-02,\n",
       "        3.6958826e-01, 4.5001940e-07, 2.0295635e-01, 8.3481574e-08,\n",
       "        2.0454729e-03, 2.3287195e-05],\n",
       "       [1.3725152e-09, 9.3939278e-08, 9.0790113e-09, 6.0588542e-07,\n",
       "        3.4074683e-09, 9.9999917e-01, 1.8968105e-08, 1.3884484e-08,\n",
       "        8.4699217e-08, 1.1212007e-11],\n",
       "       [2.1775328e-07, 1.0437415e-10, 9.9996731e-05, 1.1895438e-05,\n",
       "        2.2560809e-07, 2.5574063e-05, 2.0605512e-04, 2.7897076e-03,\n",
       "        1.2022670e-07, 9.9686617e-01],\n",
       "       [1.5913054e-01, 3.4307435e-03, 6.0954839e-02, 2.4919409e-02,\n",
       "        2.5724471e-02, 1.4433565e-06, 7.2467875e-01, 4.3799937e-06,\n",
       "        1.1210880e-03, 3.4356526e-05],\n",
       "       [8.8072596e-03, 8.1724807e-05, 2.3745304e-04, 9.8933256e-01,\n",
       "        1.7632806e-04, 1.5792299e-09, 1.2599874e-03, 1.2546896e-09,\n",
       "        1.0407732e-04, 6.8618385e-07]], dtype=float32)"
      ]
     },
     "execution_count": 114,
     "metadata": {},
     "output_type": "execute_result"
    }
   ],
   "source": [
    "pred\n",
    "# class별 확률"
   ]
  },
  {
   "cell_type": "code",
   "execution_count": 115,
   "metadata": {},
   "outputs": [
    {
     "data": {
      "text/plain": [
       "(array([6, 3, 5, 5, 6, 4, 5, 9, 6, 3], dtype=int64),\n",
       " array(['Shirt', 'Dress', 'Sandal', 'Sandal', 'Shirt', 'Coat', 'Sandal',\n",
       "        'Ankle boot', 'Shirt', 'Dress'], dtype='<U11'),\n",
       " array([67.379074, 99.995766, 99.999176, 99.99987 , 59.251286, 36.958824,\n",
       "        99.999916, 99.686615, 72.46787 , 98.93326 ], dtype=float32))"
      ]
     },
     "execution_count": 115,
     "metadata": {},
     "output_type": "execute_result"
    }
   ],
   "source": [
    "# 모델 추론결과에 대한 후처리 작업\n",
    "label = np.argmax(pred, axis=-1)\n",
    "label_name = class_names[label]\n",
    "proba = np.max(pred, axis=-1) # 값이 확률이므로 max를 사용하였다.\n",
    "label,  label_name, proba*100"
   ]
  },
  {
   "cell_type": "code",
   "execution_count": 116,
   "metadata": {},
   "outputs": [
    {
     "name": "stdout",
     "output_type": "stream",
     "text": [
      "1. Shirt - 67%\n",
      "2. Dress - 99%\n",
      "3. Sandal - 99%\n",
      "4. Sandal - 99%\n",
      "5. Shirt - 59%\n",
      "6. Coat - 36%\n",
      "7. Sandal - 99%\n",
      "8. Ankle boot - 99%\n",
      "9. Shirt - 72%\n",
      "10. Dress - 98%\n"
     ]
    }
   ],
   "source": [
    "for idx, (n, p) in enumerate(zip(label_name, proba), start=1):\n",
    "    print(f\"{idx}. {n} - {int(p*100)}%\")"
   ]
  },
  {
   "cell_type": "code",
   "execution_count": 117,
   "metadata": {},
   "outputs": [
    {
     "data": {
      "text/plain": [
       "array(['T-shirt/top', 'Dress', 'Sandal', 'Sandal', 'Shirt', 'T-shirt/top',\n",
       "       'Sandal', 'Ankle boot', 'Shirt', 'Dress'], dtype='<U11')"
      ]
     },
     "execution_count": 117,
     "metadata": {},
     "output_type": "execute_result"
    }
   ],
   "source": [
    "class_names[y_test[1000:1010]]"
   ]
  },
  {
   "cell_type": "markdown",
   "metadata": {
    "slideshow": {
     "slide_type": "slide"
    }
   },
   "source": [
    "## 위스콘신 유방암 데이터셋 - 이진분류(Binary Classification) 문제\n",
    "\n",
    "- **이진 분류 문제 처리 모델의 두가지 방법**\n",
    "    1. positive(1)일 확률을 출력하도록 구현\n",
    "        - output layer: units=1, activation='sigmoid'\n",
    "        - loss: binary_crossentropy\n",
    "    2. negative(0)일 확률과 positive(1)일 확률을 출력하도록 구현 => 다중분류 처리 방식으로 해결\n",
    "        - output layer: units=2, activation='softmax', y(정답)은 one hot encoding 처리\n",
    "        - loss: categorical_crossentropy\n",
    "        \n",
    "- 위스콘신 대학교에서 제공한 종양의 악성/양성여부 분류를 위한 데이터셋\n",
    "- Feature\n",
    "    - 종양에 대한 다양한 측정값들\n",
    "- Target의 class\n",
    "    - 0 - malignant(악성종양)\n",
    "    - 1 - benign(양성종양)"
   ]
  },
  {
   "cell_type": "code",
   "execution_count": 1,
   "metadata": {},
   "outputs": [],
   "source": [
    "import tensorflow as tf\n",
    "from tensorflow import keras\n",
    "from tensorflow.keras import layers, models, optimizers\n",
    "\n",
    "from sklearn.datasets import load_breast_cancer\n",
    "from sklearn.model_selection import train_test_split\n",
    "from sklearn.preprocessing import StandardScaler\n",
    "\n",
    "import random\n",
    "import numpy as np\n",
    "import matplotlib.pyplot as plt\n",
    "\n",
    "random.seed(0)\n",
    "np.random.seed(0)\n",
    "tf.random.set_seed(0)"
   ]
  },
  {
   "cell_type": "markdown",
   "metadata": {
    "slideshow": {
     "slide_type": "slide"
    }
   },
   "source": [
    "##### 데이터 로딩, train/validation/test set 나누기"
   ]
  },
  {
   "cell_type": "code",
   "execution_count": 2,
   "metadata": {},
   "outputs": [
    {
     "data": {
      "text/plain": [
       "((569, 30), (569,))"
      ]
     },
     "execution_count": 2,
     "metadata": {},
     "output_type": "execute_result"
    }
   ],
   "source": [
    "X, y = load_breast_cancer(return_X_y=True)\n",
    "X.shape, y.shape"
   ]
  },
  {
   "cell_type": "code",
   "execution_count": 3,
   "metadata": {},
   "outputs": [
    {
     "data": {
      "text/plain": [
       "array([0, 1])"
      ]
     },
     "execution_count": 3,
     "metadata": {},
     "output_type": "execute_result"
    }
   ],
   "source": [
    "np.unique(y)"
   ]
  },
  {
   "cell_type": "code",
   "execution_count": 4,
   "metadata": {},
   "outputs": [],
   "source": [
    "# Test set 분리\n",
    "X_train, X_test, y_train, y_test = train_test_split(X, y, test_size=0.2, stratify=y, random_state=0)\n",
    "# Train / Validation 분리\n",
    "X_train, X_val, y_train, y_val = train_test_split(X_train, y_train, test_size=0.2, stratify=y_train, random_state=0)"
   ]
  },
  {
   "cell_type": "code",
   "execution_count": 5,
   "metadata": {},
   "outputs": [
    {
     "data": {
      "text/plain": [
       "((364, 30), (91, 30), (114, 30))"
      ]
     },
     "execution_count": 5,
     "metadata": {},
     "output_type": "execute_result"
    }
   ],
   "source": [
    "X_train.shape, X_val.shape, X_test.shape"
   ]
  },
  {
   "cell_type": "markdown",
   "metadata": {
    "slideshow": {
     "slide_type": "slide"
    }
   },
   "source": [
    "#### 하이퍼파라미터, 변수 정의"
   ]
  },
  {
   "cell_type": "code",
   "execution_count": 6,
   "metadata": {},
   "outputs": [],
   "source": [
    "LEARNING_RATE = 0.001\n",
    "N_EPOCH = 200\n",
    "N_BATCH = 100\n",
    "N_BATCH_VAL_TEST = 50"
   ]
  },
  {
   "cell_type": "markdown",
   "metadata": {
    "slideshow": {
     "slide_type": "fragment"
    }
   },
   "source": [
    "#### 데이터 전처리\n",
    "- 이진분류인 경우 0,1그냥 쓰면되지만 다중분류일때는 원핫인코딩을 해줘야한다.\n",
    "- y (label) 처리\n",
    "    - 이진 분류\n",
    "        - 양성의 확률을 출력하도록 모델을 구성하는 경우 그대로 사용.\n",
    "        - 양성일 확률, 음성일 확률을 출력하도록 모델을 구성하는 경우(다중분류 방식으로 처리) one hot encoding 처리한다.\n",
    "- X (feature) 처리\n",
    "    - 문자열(범주형): one hot encoding\n",
    "    - 연속형(수치형): feature scaling"
   ]
  },
  {
   "cell_type": "code",
   "execution_count": 12,
   "metadata": {},
   "outputs": [],
   "source": [
    "# Feature scaling\n",
    "scaler = StandardScaler()\n",
    "X_train_scaled = scaler.fit_transform(X_train)\n",
    "X_val_scaled = scaler.transform(X_val)\n",
    "X_test_scaled = scaler.transform(X_test)"
   ]
  },
  {
   "cell_type": "markdown",
   "metadata": {
    "slideshow": {
     "slide_type": "slide"
    }
   },
   "source": [
    "#### Dataset 생성\n"
   ]
  },
  {
   "cell_type": "code",
   "execution_count": 13,
   "metadata": {},
   "outputs": [],
   "source": [
    "train_size = X_train_scaled.shape[0]\n",
    "train_dataset = tf.data.Dataset.from_tensor_slices((X_train_scaled, y_train))\\\n",
    "                               .shuffle(train_size).batch(N_BATCH, drop_remainder=True)\n",
    "\n",
    "val_dataset = tf.data.Dataset.from_tensor_slices((X_val_scaled, y_val)).batch(N_BATCH_VAL_TEST)\n",
    "test_dataset = tf.data.Dataset.from_tensor_slices((X_test_scaled, y_test)).batch(N_BATCH_VAL_TEST)"
   ]
  },
  {
   "cell_type": "markdown",
   "metadata": {
    "slideshow": {
     "slide_type": "slide"
    }
   },
   "source": [
    "#### model 생성, 컴파일"
   ]
  },
  {
   "cell_type": "code",
   "execution_count": 14,
   "metadata": {},
   "outputs": [
    {
     "data": {
      "text/plain": [
       "(364, 30)"
      ]
     },
     "execution_count": 14,
     "metadata": {},
     "output_type": "execute_result"
    }
   ],
   "source": [
    "X_train_scaled.shape"
   ]
  },
  {
   "cell_type": "code",
   "execution_count": 25,
   "metadata": {},
   "outputs": [],
   "source": [
    "from tensorflow.keras.metrics import Recall, Precision\n",
    "def get_model_cancer(lr=0.01):\n",
    "    model = keras.Sequential()\n",
    "    #Hidden layer\n",
    "    model.add(layers.Dense(32, activation='relu', input_shape=(30, )))# 첫번째 layer에 input shape을 지정\n",
    "    model.add(layers.Dense(16, activation='relu'))\n",
    "    # Output Layer\n",
    "    # 이진분류(양성인가?-양성일 확률을 출력): unit개수-1개(positive-양성- 확률), activation: \"sigmoid\"\n",
    "    model.add(layers.Dense(1, activation='sigmoid', name='output_layer'))  # Layer이름 규칙: 변수명 규칙과 동일\n",
    "    # 다중분류형태일 경우\n",
    "    # model.add(layer.Dense(2,activation=\"softmax\")) 다중분류(0일확률,1일확률)\n",
    "    \n",
    "    # 컴파일 - 이진분류의 loss함수: binary_crossentropy\n",
    "    #       - 다중분류일 경우 categorical_crossentropy\n",
    "    model.compile(optimizer=optimizers.Adam(learning_rate=lr), \n",
    "                  loss='binary_crossentropy', \n",
    "                  metrics=['accuracy', Recall(), Precision()])\n",
    "    \n",
    "    return model"
   ]
  },
  {
   "cell_type": "code",
   "execution_count": 26,
   "metadata": {},
   "outputs": [
    {
     "name": "stdout",
     "output_type": "stream",
     "text": [
      "Model: \"sequential_2\"\n",
      "_________________________________________________________________\n",
      " Layer (type)                Output Shape              Param #   \n",
      "=================================================================\n",
      " dense_4 (Dense)             (None, 32)                992       \n",
      "                                                                 \n",
      " dense_5 (Dense)             (None, 16)                528       \n",
      "                                                                 \n",
      " output_layer (Dense)        (None, 1)                 17        \n",
      "                                                                 \n",
      "=================================================================\n",
      "Total params: 1537 (6.00 KB)\n",
      "Trainable params: 1537 (6.00 KB)\n",
      "Non-trainable params: 0 (0.00 Byte)\n",
      "_________________________________________________________________\n"
     ]
    }
   ],
   "source": [
    "model_cancer = get_model_cancer(LEARNING_RATE) # 컴파일까지 된 모델\n",
    "model_cancer.summary()"
   ]
  },
  {
   "cell_type": "code",
   "execution_count": 27,
   "metadata": {},
   "outputs": [
    {
     "data": {
      "image/png": "[encoded data removed]",
      "text/plain": [
       "<IPython.core.display.Image object>"
      ]
     },
     "execution_count": 27,
     "metadata": {},
     "output_type": "execute_result"
    }
   ],
   "source": [
    "keras.utils.plot_model(model_cancer, show_shapes=True, to_file='model_cancer.png')"
   ]
  },
  {
   "cell_type": "markdown",
   "metadata": {
    "slideshow": {
     "slide_type": "slide"
    }
   },
   "source": [
    "#### Train(학습)"
   ]
  },
  {
   "cell_type": "code",
   "execution_count": 28,
   "metadata": {},
   "outputs": [
    {
     "name": "stdout",
     "output_type": "stream",
     "text": [
      "Epoch 1/200\n",
      "3/3 [==============================] - 1s 74ms/step - loss: 0.6485 - accuracy: 0.6300 - recall_2: 0.6791 - precision: 0.7135 - val_loss: 0.6592 - val_accuracy: 0.6593 - val_recall_2: 0.6842 - val_precision: 0.7500\n",
      "Epoch 2/200\n",
      "3/3 [==============================] - 0s 12ms/step - loss: 0.6083 - accuracy: 0.7167 - recall_2: 0.7358 - precision: 0.8068 - val_loss: 0.6213 - val_accuracy: 0.7253 - val_recall_2: 0.7193 - val_precision: 0.8200\n",
      "Epoch 3/200\n",
      "3/3 [==============================] - 0s 12ms/step - loss: 0.5728 - accuracy: 0.7700 - recall_2: 0.7906 - precision: 0.8389 - val_loss: 0.5861 - val_accuracy: 0.8022 - val_recall_2: 0.7895 - val_precision: 0.8824\n",
      "Epoch 4/200\n",
      "3/3 [==============================] - 0s 17ms/step - loss: 0.5367 - accuracy: 0.8200 - recall_2: 0.8263 - precision: 0.8820 - val_loss: 0.5530 - val_accuracy: 0.8352 - val_recall_2: 0.8246 - val_precision: 0.9038\n",
      "Epoch 5/200\n",
      "3/3 [==============================] - 0s 12ms/step - loss: 0.4974 - accuracy: 0.8767 - recall_2: 0.9021 - precision: 0.9067 - val_loss: 0.5215 - val_accuracy: 0.8462 - val_recall_2: 0.8421 - val_precision: 0.9057\n",
      "Epoch 6/200\n",
      "3/3 [==============================] - 0s 10ms/step - loss: 0.4720 - accuracy: 0.8800 - recall_2: 0.9101 - precision: 0.9005 - val_loss: 0.4907 - val_accuracy: 0.8901 - val_recall_2: 0.8947 - val_precision: 0.9273\n",
      "Epoch 7/200\n",
      "3/3 [==============================] - 0s 12ms/step - loss: 0.4339 - accuracy: 0.9100 - recall_2: 0.9194 - precision: 0.9344 - val_loss: 0.4611 - val_accuracy: 0.9011 - val_recall_2: 0.8947 - val_precision: 0.9444\n",
      "Epoch 8/200\n",
      "3/3 [==============================] - 0s 11ms/step - loss: 0.4101 - accuracy: 0.9067 - recall_2: 0.9309 - precision: 0.9211 - val_loss: 0.4326 - val_accuracy: 0.9011 - val_recall_2: 0.8947 - val_precision: 0.9444\n",
      "Epoch 9/200\n",
      "3/3 [==============================] - 0s 11ms/step - loss: 0.3837 - accuracy: 0.9000 - recall_2: 0.9211 - precision: 0.9211 - val_loss: 0.4054 - val_accuracy: 0.9011 - val_recall_2: 0.8947 - val_precision: 0.9444\n",
      "Epoch 10/200\n",
      "3/3 [==============================] - 0s 11ms/step - loss: 0.3552 - accuracy: 0.9167 - recall_2: 0.9574 - precision: 0.9137 - val_loss: 0.3792 - val_accuracy: 0.9231 - val_recall_2: 0.9123 - val_precision: 0.9630\n",
      "Epoch 11/200\n",
      "3/3 [==============================] - 0s 11ms/step - loss: 0.3385 - accuracy: 0.9200 - recall_2: 0.9471 - precision: 0.9275 - val_loss: 0.3543 - val_accuracy: 0.9231 - val_recall_2: 0.9123 - val_precision: 0.9630\n",
      "Epoch 12/200\n",
      "3/3 [==============================] - 0s 11ms/step - loss: 0.3053 - accuracy: 0.9200 - recall_2: 0.9421 - precision: 0.9323 - val_loss: 0.3303 - val_accuracy: 0.9231 - val_recall_2: 0.9123 - val_precision: 0.9630\n",
      "Epoch 13/200\n",
      "3/3 [==============================] - 0s 12ms/step - loss: 0.2855 - accuracy: 0.9333 - recall_2: 0.9622 - precision: 0.9319 - val_loss: 0.3077 - val_accuracy: 0.9231 - val_recall_2: 0.9123 - val_precision: 0.9630\n",
      "Epoch 14/200\n",
      "3/3 [==============================] - 0s 18ms/step - loss: 0.2717 - accuracy: 0.9200 - recall_2: 0.9521 - precision: 0.9227 - val_loss: 0.2872 - val_accuracy: 0.9231 - val_recall_2: 0.9123 - val_precision: 0.9630\n",
      "Epoch 15/200\n",
      "3/3 [==============================] - 0s 14ms/step - loss: 0.2555 - accuracy: 0.9300 - recall_2: 0.9738 - precision: 0.9208 - val_loss: 0.2681 - val_accuracy: 0.9231 - val_recall_2: 0.9123 - val_precision: 0.9630\n",
      "Epoch 16/200\n",
      "3/3 [==============================] - 0s 14ms/step - loss: 0.2389 - accuracy: 0.9300 - recall_2: 0.9632 - precision: 0.9289 - val_loss: 0.2508 - val_accuracy: 0.9231 - val_recall_2: 0.9123 - val_precision: 0.9630\n",
      "Epoch 17/200\n",
      "3/3 [==============================] - 0s 13ms/step - loss: 0.2191 - accuracy: 0.9400 - recall_2: 0.9742 - precision: 0.9356 - val_loss: 0.2349 - val_accuracy: 0.9341 - val_recall_2: 0.9298 - val_precision: 0.9636\n",
      "Epoch 18/200\n",
      "3/3 [==============================] - 0s 12ms/step - loss: 0.2167 - accuracy: 0.9367 - recall_2: 0.9691 - precision: 0.9353 - val_loss: 0.2205 - val_accuracy: 0.9341 - val_recall_2: 0.9298 - val_precision: 0.9636\n",
      "Epoch 19/200\n",
      "3/3 [==============================] - 0s 14ms/step - loss: 0.2033 - accuracy: 0.9400 - recall_2: 0.9779 - precision: 0.9267 - val_loss: 0.2076 - val_accuracy: 0.9341 - val_recall_2: 0.9298 - val_precision: 0.9636\n",
      "Epoch 20/200\n",
      "3/3 [==============================] - 0s 11ms/step - loss: 0.1911 - accuracy: 0.9433 - recall_2: 0.9838 - precision: 0.9286 - val_loss: 0.1960 - val_accuracy: 0.9451 - val_recall_2: 0.9298 - val_precision: 0.9815\n",
      "Epoch 21/200\n",
      "3/3 [==============================] - 0s 11ms/step - loss: 0.1832 - accuracy: 0.9400 - recall_2: 0.9792 - precision: 0.9307 - val_loss: 0.1853 - val_accuracy: 0.9451 - val_recall_2: 0.9298 - val_precision: 0.9815\n",
      "Epoch 22/200\n",
      "3/3 [==============================] - 0s 12ms/step - loss: 0.1688 - accuracy: 0.9500 - recall_2: 0.9895 - precision: 0.9356 - val_loss: 0.1755 - val_accuracy: 0.9451 - val_recall_2: 0.9298 - val_precision: 0.9815\n",
      "Epoch 23/200\n",
      "3/3 [==============================] - 0s 11ms/step - loss: 0.1612 - accuracy: 0.9633 - recall_2: 0.9894 - precision: 0.9538 - val_loss: 0.1664 - val_accuracy: 0.9451 - val_recall_2: 0.9298 - val_precision: 0.9815\n",
      "Epoch 24/200\n",
      "3/3 [==============================] - 0s 12ms/step - loss: 0.1659 - accuracy: 0.9433 - recall_2: 0.9786 - precision: 0.9337 - val_loss: 0.1580 - val_accuracy: 0.9560 - val_recall_2: 0.9474 - val_precision: 0.9818\n",
      "Epoch 25/200\n",
      "3/3 [==============================] - 0s 15ms/step - loss: 0.1603 - accuracy: 0.9467 - recall_2: 0.9787 - precision: 0.9388 - val_loss: 0.1500 - val_accuracy: 0.9560 - val_recall_2: 0.9474 - val_precision: 0.9818\n",
      "Epoch 26/200\n",
      "3/3 [==============================] - 0s 11ms/step - loss: 0.1505 - accuracy: 0.9600 - recall_2: 0.9840 - precision: 0.9536 - val_loss: 0.1428 - val_accuracy: 0.9560 - val_recall_2: 0.9474 - val_precision: 0.9818\n",
      "Epoch 27/200\n",
      "3/3 [==============================] - 0s 12ms/step - loss: 0.1281 - accuracy: 0.9700 - recall_2: 0.9947 - precision: 0.9590 - val_loss: 0.1362 - val_accuracy: 0.9560 - val_recall_2: 0.9474 - val_precision: 0.9818\n",
      "Epoch 28/200\n",
      "3/3 [==============================] - 0s 11ms/step - loss: 0.1341 - accuracy: 0.9633 - recall_2: 0.9890 - precision: 0.9521 - val_loss: 0.1305 - val_accuracy: 0.9670 - val_recall_2: 0.9474 - val_precision: 1.0000\n",
      "Epoch 29/200\n",
      "3/3 [==============================] - 0s 10ms/step - loss: 0.1324 - accuracy: 0.9633 - recall_2: 0.9837 - precision: 0.9577 - val_loss: 0.1254 - val_accuracy: 0.9670 - val_recall_2: 0.9474 - val_precision: 1.0000\n",
      "Epoch 30/200\n",
      "3/3 [==============================] - 0s 11ms/step - loss: 0.1258 - accuracy: 0.9667 - recall_2: 0.9841 - precision: 0.9637 - val_loss: 0.1209 - val_accuracy: 0.9670 - val_recall_2: 0.9474 - val_precision: 1.0000\n",
      "Epoch 31/200\n",
      "3/3 [==============================] - 0s 11ms/step - loss: 0.1103 - accuracy: 0.9733 - recall_2: 0.9845 - precision: 0.9744 - val_loss: 0.1168 - val_accuracy: 0.9670 - val_recall_2: 0.9474 - val_precision: 1.0000\n",
      "Epoch 32/200\n",
      "3/3 [==============================] - 0s 13ms/step - loss: 0.1218 - accuracy: 0.9667 - recall_2: 0.9836 - precision: 0.9626 - val_loss: 0.1130 - val_accuracy: 0.9670 - val_recall_2: 0.9474 - val_precision: 1.0000\n",
      "Epoch 33/200\n",
      "3/3 [==============================] - 0s 11ms/step - loss: 0.1002 - accuracy: 0.9733 - recall_2: 0.9891 - precision: 0.9681 - val_loss: 0.1093 - val_accuracy: 0.9670 - val_recall_2: 0.9474 - val_precision: 1.0000\n",
      "Epoch 34/200\n",
      "3/3 [==============================] - 0s 12ms/step - loss: 0.1045 - accuracy: 0.9767 - recall_2: 0.9894 - precision: 0.9738 - val_loss: 0.1060 - val_accuracy: 0.9670 - val_recall_2: 0.9474 - val_precision: 1.0000\n",
      "Epoch 35/200\n",
      "3/3 [==============================] - 0s 13ms/step - loss: 0.1095 - accuracy: 0.9733 - recall_2: 0.9838 - precision: 0.9733 - val_loss: 0.1026 - val_accuracy: 0.9670 - val_recall_2: 0.9474 - val_precision: 1.0000\n",
      "Epoch 36/200\n",
      "3/3 [==============================] - 0s 11ms/step - loss: 0.0878 - accuracy: 0.9833 - recall_2: 0.9897 - precision: 0.9847 - val_loss: 0.0994 - val_accuracy: 0.9670 - val_recall_2: 0.9474 - val_precision: 1.0000\n",
      "Epoch 37/200\n"
     ]
    },
    {
     "name": "stdout",
     "output_type": "stream",
     "text": [
      "3/3 [==============================] - 0s 11ms/step - loss: 0.0977 - accuracy: 0.9767 - recall_2: 0.9840 - precision: 0.9788 - val_loss: 0.0966 - val_accuracy: 0.9670 - val_recall_2: 0.9474 - val_precision: 1.0000\n",
      "Epoch 38/200\n",
      "3/3 [==============================] - 0s 12ms/step - loss: 0.0960 - accuracy: 0.9767 - recall_2: 0.9839 - precision: 0.9786 - val_loss: 0.0939 - val_accuracy: 0.9670 - val_recall_2: 0.9474 - val_precision: 1.0000\n",
      "Epoch 39/200\n",
      "3/3 [==============================] - 0s 13ms/step - loss: 0.0903 - accuracy: 0.9733 - recall_2: 0.9845 - precision: 0.9745 - val_loss: 0.0914 - val_accuracy: 0.9670 - val_recall_2: 0.9474 - val_precision: 1.0000\n",
      "Epoch 40/200\n",
      "3/3 [==============================] - 0s 12ms/step - loss: 0.0905 - accuracy: 0.9767 - recall_2: 0.9840 - precision: 0.9788 - val_loss: 0.0892 - val_accuracy: 0.9670 - val_recall_2: 0.9474 - val_precision: 1.0000\n",
      "Epoch 41/200\n",
      "3/3 [==============================] - 0s 11ms/step - loss: 0.0862 - accuracy: 0.9833 - recall_2: 0.9944 - precision: 0.9781 - val_loss: 0.0874 - val_accuracy: 0.9670 - val_recall_2: 0.9474 - val_precision: 1.0000\n",
      "Epoch 42/200\n",
      "3/3 [==============================] - 0s 11ms/step - loss: 0.0827 - accuracy: 0.9767 - recall_2: 0.9839 - precision: 0.9786 - val_loss: 0.0857 - val_accuracy: 0.9670 - val_recall_2: 0.9474 - val_precision: 1.0000\n",
      "Epoch 43/200\n",
      "3/3 [==============================] - 0s 10ms/step - loss: 0.0776 - accuracy: 0.9800 - recall_2: 0.9893 - precision: 0.9788 - val_loss: 0.0840 - val_accuracy: 0.9670 - val_recall_2: 0.9474 - val_precision: 1.0000\n",
      "Epoch 44/200\n",
      "3/3 [==============================] - 0s 10ms/step - loss: 0.0782 - accuracy: 0.9800 - recall_2: 0.9839 - precision: 0.9839 - val_loss: 0.0822 - val_accuracy: 0.9670 - val_recall_2: 0.9474 - val_precision: 1.0000\n",
      "Epoch 45/200\n",
      "3/3 [==============================] - 0s 13ms/step - loss: 0.0772 - accuracy: 0.9800 - recall_2: 0.9840 - precision: 0.9840 - val_loss: 0.0805 - val_accuracy: 0.9670 - val_recall_2: 0.9474 - val_precision: 1.0000\n",
      "Epoch 46/200\n",
      "3/3 [==============================] - 0s 10ms/step - loss: 0.0782 - accuracy: 0.9800 - recall_2: 0.9840 - precision: 0.9840 - val_loss: 0.0788 - val_accuracy: 0.9670 - val_recall_2: 0.9474 - val_precision: 1.0000\n",
      "Epoch 47/200\n",
      "3/3 [==============================] - 0s 12ms/step - loss: 0.0749 - accuracy: 0.9800 - recall_2: 0.9839 - precision: 0.9839 - val_loss: 0.0771 - val_accuracy: 0.9670 - val_recall_2: 0.9474 - val_precision: 1.0000\n",
      "Epoch 48/200\n",
      "3/3 [==============================] - 0s 10ms/step - loss: 0.0558 - accuracy: 0.9833 - recall_2: 0.9840 - precision: 0.9893 - val_loss: 0.0755 - val_accuracy: 0.9670 - val_recall_2: 0.9474 - val_precision: 1.0000\n",
      "Epoch 49/200\n",
      "3/3 [==============================] - 0s 11ms/step - loss: 0.0765 - accuracy: 0.9800 - recall_2: 0.9843 - precision: 0.9843 - val_loss: 0.0737 - val_accuracy: 0.9670 - val_recall_2: 0.9474 - val_precision: 1.0000\n",
      "Epoch 50/200\n",
      "3/3 [==============================] - 0s 12ms/step - loss: 0.0630 - accuracy: 0.9933 - recall_2: 0.9947 - precision: 0.9947 - val_loss: 0.0722 - val_accuracy: 0.9670 - val_recall_2: 0.9474 - val_precision: 1.0000\n",
      "Epoch 51/200\n",
      "3/3 [==============================] - 0s 14ms/step - loss: 0.0691 - accuracy: 0.9867 - recall_2: 0.9894 - precision: 0.9894 - val_loss: 0.0708 - val_accuracy: 0.9670 - val_recall_2: 0.9474 - val_precision: 1.0000\n",
      "Epoch 52/200\n",
      "3/3 [==============================] - 0s 22ms/step - loss: 0.0676 - accuracy: 0.9867 - recall_2: 0.9897 - precision: 0.9897 - val_loss: 0.0694 - val_accuracy: 0.9670 - val_recall_2: 0.9474 - val_precision: 1.0000\n",
      "Epoch 53/200\n",
      "3/3 [==============================] - 0s 11ms/step - loss: 0.0668 - accuracy: 0.9833 - recall_2: 0.9895 - precision: 0.9844 - val_loss: 0.0681 - val_accuracy: 0.9670 - val_recall_2: 0.9474 - val_precision: 1.0000\n",
      "Epoch 54/200\n",
      "3/3 [==============================] - 0s 10ms/step - loss: 0.0660 - accuracy: 0.9867 - recall_2: 0.9893 - precision: 0.9893 - val_loss: 0.0670 - val_accuracy: 0.9670 - val_recall_2: 0.9474 - val_precision: 1.0000\n",
      "Epoch 55/200\n",
      "3/3 [==============================] - 0s 14ms/step - loss: 0.0629 - accuracy: 0.9867 - recall_2: 0.9947 - precision: 0.9842 - val_loss: 0.0659 - val_accuracy: 0.9670 - val_recall_2: 0.9474 - val_precision: 1.0000\n",
      "Epoch 56/200\n",
      "3/3 [==============================] - 0s 16ms/step - loss: 0.0598 - accuracy: 0.9900 - recall_2: 0.9946 - precision: 0.9893 - val_loss: 0.0647 - val_accuracy: 0.9670 - val_recall_2: 0.9474 - val_precision: 1.0000\n",
      "Epoch 57/200\n",
      "3/3 [==============================] - 0s 15ms/step - loss: 0.0557 - accuracy: 0.9900 - recall_2: 1.0000 - precision: 0.9840 - val_loss: 0.0637 - val_accuracy: 0.9670 - val_recall_2: 0.9474 - val_precision: 1.0000\n",
      "Epoch 58/200\n",
      "3/3 [==============================] - 0s 12ms/step - loss: 0.0610 - accuracy: 0.9833 - recall_2: 0.9896 - precision: 0.9845 - val_loss: 0.0628 - val_accuracy: 0.9670 - val_recall_2: 0.9474 - val_precision: 1.0000\n",
      "Epoch 59/200\n",
      "3/3 [==============================] - 0s 10ms/step - loss: 0.0537 - accuracy: 0.9900 - recall_2: 0.9949 - precision: 0.9898 - val_loss: 0.0614 - val_accuracy: 0.9670 - val_recall_2: 0.9474 - val_precision: 1.0000\n",
      "Epoch 60/200\n",
      "3/3 [==============================] - 0s 16ms/step - loss: 0.0456 - accuracy: 0.9900 - recall_2: 0.9895 - precision: 0.9947 - val_loss: 0.0600 - val_accuracy: 0.9670 - val_recall_2: 0.9474 - val_precision: 1.0000\n",
      "Epoch 61/200\n",
      "3/3 [==============================] - 0s 13ms/step - loss: 0.0583 - accuracy: 0.9833 - recall_2: 0.9892 - precision: 0.9839 - val_loss: 0.0589 - val_accuracy: 0.9670 - val_recall_2: 0.9474 - val_precision: 1.0000\n",
      "Epoch 62/200\n",
      "3/3 [==============================] - 0s 10ms/step - loss: 0.0505 - accuracy: 0.9900 - recall_2: 0.9947 - precision: 0.9894 - val_loss: 0.0579 - val_accuracy: 0.9670 - val_recall_2: 0.9474 - val_precision: 1.0000\n",
      "Epoch 63/200\n",
      "3/3 [==============================] - 0s 12ms/step - loss: 0.0511 - accuracy: 0.9867 - recall_2: 0.9946 - precision: 0.9840 - val_loss: 0.0569 - val_accuracy: 0.9670 - val_recall_2: 0.9474 - val_precision: 1.0000\n",
      "Epoch 64/200\n",
      "3/3 [==============================] - 0s 11ms/step - loss: 0.0532 - accuracy: 0.9867 - recall_2: 0.9947 - precision: 0.9843 - val_loss: 0.0560 - val_accuracy: 0.9670 - val_recall_2: 0.9474 - val_precision: 1.0000\n",
      "Epoch 65/200\n",
      "3/3 [==============================] - 0s 15ms/step - loss: 0.0359 - accuracy: 0.9900 - recall_2: 0.9890 - precision: 0.9944 - val_loss: 0.0551 - val_accuracy: 0.9670 - val_recall_2: 0.9474 - val_precision: 1.0000\n",
      "Epoch 66/200\n",
      "3/3 [==============================] - 0s 16ms/step - loss: 0.0328 - accuracy: 0.9967 - recall_2: 0.9947 - precision: 1.0000 - val_loss: 0.0542 - val_accuracy: 0.9670 - val_recall_2: 0.9474 - val_precision: 1.0000\n",
      "Epoch 67/200\n",
      "3/3 [==============================] - 0s 11ms/step - loss: 0.0513 - accuracy: 0.9867 - recall_2: 0.9893 - precision: 0.9893 - val_loss: 0.0533 - val_accuracy: 0.9670 - val_recall_2: 0.9474 - val_precision: 1.0000\n",
      "Epoch 68/200\n",
      "3/3 [==============================] - 0s 12ms/step - loss: 0.0477 - accuracy: 0.9867 - recall_2: 0.9892 - precision: 0.9892 - val_loss: 0.0525 - val_accuracy: 0.9670 - val_recall_2: 0.9474 - val_precision: 1.0000\n",
      "Epoch 69/200\n",
      "3/3 [==============================] - 0s 10ms/step - loss: 0.0292 - accuracy: 0.9933 - recall_2: 0.9947 - precision: 0.9947 - val_loss: 0.0516 - val_accuracy: 0.9670 - val_recall_2: 0.9474 - val_precision: 1.0000\n",
      "Epoch 70/200\n",
      "3/3 [==============================] - 0s 10ms/step - loss: 0.0497 - accuracy: 0.9833 - recall_2: 0.9897 - precision: 0.9846 - val_loss: 0.0509 - val_accuracy: 0.9780 - val_recall_2: 0.9649 - val_precision: 1.0000\n",
      "Epoch 71/200\n",
      "3/3 [==============================] - 0s 12ms/step - loss: 0.0472 - accuracy: 0.9867 - recall_2: 0.9895 - precision: 0.9895 - val_loss: 0.0503 - val_accuracy: 0.9890 - val_recall_2: 0.9825 - val_precision: 1.0000\n",
      "Epoch 72/200\n",
      "3/3 [==============================] - 0s 14ms/step - loss: 0.0468 - accuracy: 0.9867 - recall_2: 0.9894 - precision: 0.9894 - val_loss: 0.0496 - val_accuracy: 0.9890 - val_recall_2: 0.9825 - val_precision: 1.0000\n",
      "Epoch 73/200\n"
     ]
    },
    {
     "name": "stdout",
     "output_type": "stream",
     "text": [
      "3/3 [==============================] - 0s 12ms/step - loss: 0.0360 - accuracy: 0.9933 - recall_2: 0.9948 - precision: 0.9948 - val_loss: 0.0493 - val_accuracy: 0.9890 - val_recall_2: 0.9825 - val_precision: 1.0000\n",
      "Epoch 74/200\n",
      "3/3 [==============================] - 0s 11ms/step - loss: 0.0474 - accuracy: 0.9867 - recall_2: 0.9947 - precision: 0.9841 - val_loss: 0.0490 - val_accuracy: 0.9890 - val_recall_2: 0.9825 - val_precision: 1.0000\n",
      "Epoch 75/200\n",
      "3/3 [==============================] - 0s 11ms/step - loss: 0.0470 - accuracy: 0.9867 - recall_2: 0.9946 - precision: 0.9840 - val_loss: 0.0489 - val_accuracy: 0.9890 - val_recall_2: 0.9825 - val_precision: 1.0000\n",
      "Epoch 76/200\n",
      "3/3 [==============================] - 0s 10ms/step - loss: 0.0472 - accuracy: 0.9867 - recall_2: 0.9947 - precision: 0.9842 - val_loss: 0.0487 - val_accuracy: 0.9890 - val_recall_2: 0.9825 - val_precision: 1.0000\n",
      "Epoch 77/200\n",
      "3/3 [==============================] - 0s 11ms/step - loss: 0.0414 - accuracy: 0.9900 - recall_2: 0.9946 - precision: 0.9893 - val_loss: 0.0485 - val_accuracy: 0.9890 - val_recall_2: 0.9825 - val_precision: 1.0000\n",
      "Epoch 78/200\n",
      "3/3 [==============================] - 0s 10ms/step - loss: 0.0424 - accuracy: 0.9867 - recall_2: 0.9946 - precision: 0.9840 - val_loss: 0.0483 - val_accuracy: 0.9890 - val_recall_2: 0.9825 - val_precision: 1.0000\n",
      "Epoch 79/200\n",
      "3/3 [==============================] - 0s 9ms/step - loss: 0.0432 - accuracy: 0.9867 - recall_2: 0.9947 - precision: 0.9843 - val_loss: 0.0482 - val_accuracy: 0.9890 - val_recall_2: 0.9825 - val_precision: 1.0000\n",
      "Epoch 80/200\n",
      "3/3 [==============================] - 0s 10ms/step - loss: 0.0374 - accuracy: 0.9933 - recall_2: 0.9947 - precision: 0.9947 - val_loss: 0.0477 - val_accuracy: 0.9890 - val_recall_2: 0.9825 - val_precision: 1.0000\n",
      "Epoch 81/200\n",
      "3/3 [==============================] - 0s 10ms/step - loss: 0.0414 - accuracy: 0.9900 - recall_2: 0.9947 - precision: 0.9895 - val_loss: 0.0473 - val_accuracy: 0.9890 - val_recall_2: 0.9825 - val_precision: 1.0000\n",
      "Epoch 82/200\n",
      "3/3 [==============================] - 0s 11ms/step - loss: 0.0415 - accuracy: 0.9900 - recall_2: 0.9945 - precision: 0.9890 - val_loss: 0.0472 - val_accuracy: 0.9890 - val_recall_2: 0.9825 - val_precision: 1.0000\n",
      "Epoch 83/200\n",
      "3/3 [==============================] - 0s 13ms/step - loss: 0.0290 - accuracy: 0.9933 - recall_2: 0.9947 - precision: 0.9947 - val_loss: 0.0473 - val_accuracy: 0.9780 - val_recall_2: 0.9649 - val_precision: 1.0000\n",
      "Epoch 84/200\n",
      "3/3 [==============================] - 0s 13ms/step - loss: 0.0408 - accuracy: 0.9900 - recall_2: 0.9948 - precision: 0.9897 - val_loss: 0.0471 - val_accuracy: 0.9780 - val_recall_2: 0.9649 - val_precision: 1.0000\n",
      "Epoch 85/200\n",
      "3/3 [==============================] - 0s 10ms/step - loss: 0.0341 - accuracy: 0.9933 - recall_2: 0.9947 - precision: 0.9947 - val_loss: 0.0470 - val_accuracy: 0.9780 - val_recall_2: 0.9649 - val_precision: 1.0000\n",
      "Epoch 86/200\n",
      "3/3 [==============================] - 0s 13ms/step - loss: 0.0365 - accuracy: 0.9900 - recall_2: 0.9948 - precision: 0.9897 - val_loss: 0.0470 - val_accuracy: 0.9780 - val_recall_2: 0.9649 - val_precision: 1.0000\n",
      "Epoch 87/200\n",
      "3/3 [==============================] - 0s 12ms/step - loss: 0.0379 - accuracy: 0.9900 - recall_2: 0.9947 - precision: 0.9894 - val_loss: 0.0470 - val_accuracy: 0.9780 - val_recall_2: 0.9649 - val_precision: 1.0000\n",
      "Epoch 88/200\n",
      "3/3 [==============================] - 0s 10ms/step - loss: 0.0342 - accuracy: 0.9933 - recall_2: 1.0000 - precision: 0.9892 - val_loss: 0.0469 - val_accuracy: 0.9780 - val_recall_2: 0.9649 - val_precision: 1.0000\n",
      "Epoch 89/200\n",
      "3/3 [==============================] - 0s 10ms/step - loss: 0.0347 - accuracy: 0.9900 - recall_2: 0.9946 - precision: 0.9892 - val_loss: 0.0466 - val_accuracy: 0.9780 - val_recall_2: 0.9649 - val_precision: 1.0000\n",
      "Epoch 90/200\n",
      "3/3 [==============================] - 0s 11ms/step - loss: 0.0340 - accuracy: 0.9900 - recall_2: 0.9947 - precision: 0.9894 - val_loss: 0.0467 - val_accuracy: 0.9780 - val_recall_2: 0.9649 - val_precision: 1.0000\n",
      "Epoch 91/200\n",
      "3/3 [==============================] - 0s 10ms/step - loss: 0.0360 - accuracy: 0.9900 - recall_2: 0.9948 - precision: 0.9896 - val_loss: 0.0467 - val_accuracy: 0.9780 - val_recall_2: 0.9649 - val_precision: 1.0000\n",
      "Epoch 92/200\n",
      "3/3 [==============================] - 0s 11ms/step - loss: 0.0287 - accuracy: 0.9967 - recall_2: 1.0000 - precision: 0.9947 - val_loss: 0.0463 - val_accuracy: 0.9780 - val_recall_2: 0.9649 - val_precision: 1.0000\n",
      "Epoch 93/200\n",
      "3/3 [==============================] - 0s 10ms/step - loss: 0.0330 - accuracy: 0.9900 - recall_2: 0.9947 - precision: 0.9894 - val_loss: 0.0458 - val_accuracy: 0.9780 - val_recall_2: 0.9649 - val_precision: 1.0000\n",
      "Epoch 94/200\n",
      "3/3 [==============================] - 0s 10ms/step - loss: 0.0297 - accuracy: 0.9933 - recall_2: 1.0000 - precision: 0.9895 - val_loss: 0.0455 - val_accuracy: 0.9780 - val_recall_2: 0.9649 - val_precision: 1.0000\n",
      "Epoch 95/200\n",
      "3/3 [==============================] - 0s 10ms/step - loss: 0.0311 - accuracy: 0.9933 - recall_2: 1.0000 - precision: 0.9897 - val_loss: 0.0453 - val_accuracy: 0.9780 - val_recall_2: 0.9649 - val_precision: 1.0000\n",
      "Epoch 96/200\n",
      "3/3 [==============================] - 0s 10ms/step - loss: 0.0265 - accuracy: 0.9967 - recall_2: 1.0000 - precision: 0.9947 - val_loss: 0.0452 - val_accuracy: 0.9780 - val_recall_2: 0.9649 - val_precision: 1.0000\n",
      "Epoch 97/200\n",
      "3/3 [==============================] - 0s 15ms/step - loss: 0.0188 - accuracy: 1.0000 - recall_2: 1.0000 - precision: 1.0000 - val_loss: 0.0451 - val_accuracy: 0.9780 - val_recall_2: 0.9649 - val_precision: 1.0000\n",
      "Epoch 98/200\n",
      "3/3 [==============================] - 0s 11ms/step - loss: 0.0283 - accuracy: 0.9933 - recall_2: 1.0000 - precision: 0.9894 - val_loss: 0.0450 - val_accuracy: 0.9780 - val_recall_2: 0.9649 - val_precision: 1.0000\n",
      "Epoch 99/200\n",
      "3/3 [==============================] - 0s 11ms/step - loss: 0.0280 - accuracy: 0.9933 - recall_2: 1.0000 - precision: 0.9894 - val_loss: 0.0450 - val_accuracy: 0.9780 - val_recall_2: 0.9649 - val_precision: 1.0000\n",
      "Epoch 100/200\n",
      "3/3 [==============================] - 0s 15ms/step - loss: 0.0210 - accuracy: 0.9967 - recall_2: 1.0000 - precision: 0.9947 - val_loss: 0.0450 - val_accuracy: 0.9780 - val_recall_2: 0.9649 - val_precision: 1.0000\n",
      "Epoch 101/200\n",
      "3/3 [==============================] - 0s 12ms/step - loss: 0.0204 - accuracy: 0.9967 - recall_2: 1.0000 - precision: 0.9947 - val_loss: 0.0449 - val_accuracy: 0.9780 - val_recall_2: 0.9649 - val_precision: 1.0000\n",
      "Epoch 102/200\n",
      "3/3 [==============================] - 0s 12ms/step - loss: 0.0292 - accuracy: 0.9967 - recall_2: 1.0000 - precision: 0.9946 - val_loss: 0.0449 - val_accuracy: 0.9780 - val_recall_2: 0.9649 - val_precision: 1.0000\n",
      "Epoch 103/200\n",
      "3/3 [==============================] - 0s 11ms/step - loss: 0.0290 - accuracy: 0.9967 - recall_2: 1.0000 - precision: 0.9948 - val_loss: 0.0449 - val_accuracy: 0.9780 - val_recall_2: 0.9649 - val_precision: 1.0000\n",
      "Epoch 104/200\n",
      "3/3 [==============================] - 0s 12ms/step - loss: 0.0255 - accuracy: 0.9967 - recall_2: 1.0000 - precision: 0.9948 - val_loss: 0.0449 - val_accuracy: 0.9780 - val_recall_2: 0.9649 - val_precision: 1.0000\n",
      "Epoch 105/200\n",
      "3/3 [==============================] - 0s 11ms/step - loss: 0.0259 - accuracy: 0.9967 - recall_2: 1.0000 - precision: 0.9946 - val_loss: 0.0447 - val_accuracy: 0.9780 - val_recall_2: 0.9649 - val_precision: 1.0000\n",
      "Epoch 106/200\n",
      "3/3 [==============================] - 0s 10ms/step - loss: 0.0266 - accuracy: 0.9967 - recall_2: 1.0000 - precision: 0.9947 - val_loss: 0.0446 - val_accuracy: 0.9780 - val_recall_2: 0.9649 - val_precision: 1.0000\n",
      "Epoch 107/200\n",
      "3/3 [==============================] - 0s 11ms/step - loss: 0.0219 - accuracy: 0.9967 - recall_2: 1.0000 - precision: 0.9947 - val_loss: 0.0442 - val_accuracy: 0.9780 - val_recall_2: 0.9649 - val_precision: 1.0000\n",
      "Epoch 108/200\n",
      "3/3 [==============================] - 0s 12ms/step - loss: 0.0231 - accuracy: 0.9967 - recall_2: 1.0000 - precision: 0.9946 - val_loss: 0.0441 - val_accuracy: 0.9780 - val_recall_2: 0.9649 - val_precision: 1.0000\n",
      "Epoch 109/200\n"
     ]
    },
    {
     "name": "stdout",
     "output_type": "stream",
     "text": [
      "3/3 [==============================] - 0s 13ms/step - loss: 0.0234 - accuracy: 0.9967 - recall_2: 1.0000 - precision: 0.9948 - val_loss: 0.0441 - val_accuracy: 0.9780 - val_recall_2: 0.9649 - val_precision: 1.0000\n",
      "Epoch 110/200\n",
      "3/3 [==============================] - 0s 12ms/step - loss: 0.0250 - accuracy: 0.9967 - recall_2: 1.0000 - precision: 0.9947 - val_loss: 0.0440 - val_accuracy: 0.9780 - val_recall_2: 0.9649 - val_precision: 1.0000\n",
      "Epoch 111/200\n",
      "3/3 [==============================] - 0s 14ms/step - loss: 0.0242 - accuracy: 0.9967 - recall_2: 1.0000 - precision: 0.9945 - val_loss: 0.0438 - val_accuracy: 0.9780 - val_recall_2: 0.9649 - val_precision: 1.0000\n",
      "Epoch 112/200\n",
      "3/3 [==============================] - 0s 12ms/step - loss: 0.0240 - accuracy: 0.9967 - recall_2: 1.0000 - precision: 0.9947 - val_loss: 0.0438 - val_accuracy: 0.9780 - val_recall_2: 0.9649 - val_precision: 1.0000\n",
      "Epoch 113/200\n",
      "3/3 [==============================] - 0s 10ms/step - loss: 0.0230 - accuracy: 0.9967 - recall_2: 1.0000 - precision: 0.9948 - val_loss: 0.0439 - val_accuracy: 0.9780 - val_recall_2: 0.9649 - val_precision: 1.0000\n",
      "Epoch 114/200\n",
      "3/3 [==============================] - 0s 10ms/step - loss: 0.0209 - accuracy: 0.9967 - recall_2: 1.0000 - precision: 0.9947 - val_loss: 0.0437 - val_accuracy: 0.9780 - val_recall_2: 0.9649 - val_precision: 1.0000\n",
      "Epoch 115/200\n",
      "3/3 [==============================] - 0s 9ms/step - loss: 0.0145 - accuracy: 1.0000 - recall_2: 1.0000 - precision: 1.0000 - val_loss: 0.0436 - val_accuracy: 0.9780 - val_recall_2: 0.9649 - val_precision: 1.0000\n",
      "Epoch 116/200\n",
      "3/3 [==============================] - 0s 10ms/step - loss: 0.0222 - accuracy: 0.9967 - recall_2: 1.0000 - precision: 0.9947 - val_loss: 0.0435 - val_accuracy: 0.9780 - val_recall_2: 0.9649 - val_precision: 1.0000\n",
      "Epoch 117/200\n",
      "3/3 [==============================] - 0s 10ms/step - loss: 0.0208 - accuracy: 0.9967 - recall_2: 1.0000 - precision: 0.9947 - val_loss: 0.0435 - val_accuracy: 0.9780 - val_recall_2: 0.9649 - val_precision: 1.0000\n",
      "Epoch 118/200\n",
      "3/3 [==============================] - 0s 10ms/step - loss: 0.0186 - accuracy: 0.9967 - recall_2: 1.0000 - precision: 0.9949 - val_loss: 0.0435 - val_accuracy: 0.9780 - val_recall_2: 0.9649 - val_precision: 1.0000\n",
      "Epoch 119/200\n",
      "3/3 [==============================] - 0s 12ms/step - loss: 0.0132 - accuracy: 1.0000 - recall_2: 1.0000 - precision: 1.0000 - val_loss: 0.0433 - val_accuracy: 0.9780 - val_recall_2: 0.9649 - val_precision: 1.0000\n",
      "Epoch 120/200\n",
      "3/3 [==============================] - 0s 10ms/step - loss: 0.0190 - accuracy: 0.9967 - recall_2: 1.0000 - precision: 0.9946 - val_loss: 0.0430 - val_accuracy: 0.9780 - val_recall_2: 0.9649 - val_precision: 1.0000\n",
      "Epoch 121/200\n",
      "3/3 [==============================] - 0s 10ms/step - loss: 0.0208 - accuracy: 0.9967 - recall_2: 1.0000 - precision: 0.9948 - val_loss: 0.0428 - val_accuracy: 0.9780 - val_recall_2: 0.9649 - val_precision: 1.0000\n",
      "Epoch 122/200\n",
      "3/3 [==============================] - 0s 9ms/step - loss: 0.0190 - accuracy: 0.9967 - recall_2: 1.0000 - precision: 0.9948 - val_loss: 0.0427 - val_accuracy: 0.9780 - val_recall_2: 0.9649 - val_precision: 1.0000\n",
      "Epoch 123/200\n",
      "3/3 [==============================] - 0s 10ms/step - loss: 0.0160 - accuracy: 0.9967 - recall_2: 1.0000 - precision: 0.9946 - val_loss: 0.0427 - val_accuracy: 0.9780 - val_recall_2: 0.9649 - val_precision: 1.0000\n",
      "Epoch 124/200\n",
      "3/3 [==============================] - 0s 10ms/step - loss: 0.0198 - accuracy: 0.9967 - recall_2: 1.0000 - precision: 0.9949 - val_loss: 0.0425 - val_accuracy: 0.9780 - val_recall_2: 0.9649 - val_precision: 1.0000\n",
      "Epoch 125/200\n",
      "3/3 [==============================] - 0s 9ms/step - loss: 0.0199 - accuracy: 0.9967 - recall_2: 1.0000 - precision: 0.9948 - val_loss: 0.0427 - val_accuracy: 0.9780 - val_recall_2: 0.9649 - val_precision: 1.0000\n",
      "Epoch 126/200\n",
      "3/3 [==============================] - 0s 10ms/step - loss: 0.0179 - accuracy: 0.9967 - recall_2: 1.0000 - precision: 0.9946 - val_loss: 0.0430 - val_accuracy: 0.9780 - val_recall_2: 0.9649 - val_precision: 1.0000\n",
      "Epoch 127/200\n",
      "3/3 [==============================] - 0s 10ms/step - loss: 0.0175 - accuracy: 0.9967 - recall_2: 1.0000 - precision: 0.9946 - val_loss: 0.0431 - val_accuracy: 0.9780 - val_recall_2: 0.9649 - val_precision: 1.0000\n",
      "Epoch 128/200\n",
      "3/3 [==============================] - 0s 10ms/step - loss: 0.0186 - accuracy: 0.9967 - recall_2: 1.0000 - precision: 0.9948 - val_loss: 0.0432 - val_accuracy: 0.9780 - val_recall_2: 0.9649 - val_precision: 1.0000\n",
      "Epoch 129/200\n",
      "3/3 [==============================] - 0s 10ms/step - loss: 0.0176 - accuracy: 0.9967 - recall_2: 1.0000 - precision: 0.9947 - val_loss: 0.0431 - val_accuracy: 0.9780 - val_recall_2: 0.9649 - val_precision: 1.0000\n",
      "Epoch 130/200\n",
      "3/3 [==============================] - 0s 10ms/step - loss: 0.0159 - accuracy: 0.9967 - recall_2: 1.0000 - precision: 0.9947 - val_loss: 0.0428 - val_accuracy: 0.9780 - val_recall_2: 0.9649 - val_precision: 1.0000\n",
      "Epoch 131/200\n",
      "3/3 [==============================] - 0s 10ms/step - loss: 0.0168 - accuracy: 0.9967 - recall_2: 1.0000 - precision: 0.9947 - val_loss: 0.0424 - val_accuracy: 0.9780 - val_recall_2: 0.9649 - val_precision: 1.0000\n",
      "Epoch 132/200\n",
      "3/3 [==============================] - 0s 10ms/step - loss: 0.0109 - accuracy: 1.0000 - recall_2: 1.0000 - precision: 1.0000 - val_loss: 0.0422 - val_accuracy: 0.9780 - val_recall_2: 0.9649 - val_precision: 1.0000\n",
      "Epoch 133/200\n",
      "3/3 [==============================] - 0s 11ms/step - loss: 0.0154 - accuracy: 0.9967 - recall_2: 1.0000 - precision: 0.9947 - val_loss: 0.0424 - val_accuracy: 0.9780 - val_recall_2: 0.9649 - val_precision: 1.0000\n",
      "Epoch 134/200\n",
      "3/3 [==============================] - 0s 12ms/step - loss: 0.0173 - accuracy: 0.9967 - recall_2: 1.0000 - precision: 0.9947 - val_loss: 0.0426 - val_accuracy: 0.9780 - val_recall_2: 0.9649 - val_precision: 1.0000\n",
      "Epoch 135/200\n",
      "3/3 [==============================] - 0s 10ms/step - loss: 0.0154 - accuracy: 0.9967 - recall_2: 1.0000 - precision: 0.9947 - val_loss: 0.0425 - val_accuracy: 0.9780 - val_recall_2: 0.9649 - val_precision: 1.0000\n",
      "Epoch 136/200\n",
      "3/3 [==============================] - 0s 9ms/step - loss: 0.0135 - accuracy: 0.9967 - recall_2: 1.0000 - precision: 0.9946 - val_loss: 0.0425 - val_accuracy: 0.9780 - val_recall_2: 0.9649 - val_precision: 1.0000\n",
      "Epoch 137/200\n",
      "3/3 [==============================] - 0s 9ms/step - loss: 0.0158 - accuracy: 0.9967 - recall_2: 1.0000 - precision: 0.9947 - val_loss: 0.0424 - val_accuracy: 0.9780 - val_recall_2: 0.9649 - val_precision: 1.0000\n",
      "Epoch 138/200\n",
      "3/3 [==============================] - 0s 10ms/step - loss: 0.0121 - accuracy: 0.9967 - recall_2: 1.0000 - precision: 0.9948 - val_loss: 0.0423 - val_accuracy: 0.9780 - val_recall_2: 0.9649 - val_precision: 1.0000\n",
      "Epoch 139/200\n",
      "3/3 [==============================] - 0s 11ms/step - loss: 0.0127 - accuracy: 0.9967 - recall_2: 1.0000 - precision: 0.9947 - val_loss: 0.0422 - val_accuracy: 0.9780 - val_recall_2: 0.9649 - val_precision: 1.0000\n",
      "Epoch 140/200\n",
      "3/3 [==============================] - 0s 10ms/step - loss: 0.0150 - accuracy: 0.9967 - recall_2: 1.0000 - precision: 0.9948 - val_loss: 0.0421 - val_accuracy: 0.9780 - val_recall_2: 0.9649 - val_precision: 1.0000\n",
      "Epoch 141/200\n",
      "3/3 [==============================] - 0s 10ms/step - loss: 0.0144 - accuracy: 0.9967 - recall_2: 1.0000 - precision: 0.9948 - val_loss: 0.0418 - val_accuracy: 0.9780 - val_recall_2: 0.9649 - val_precision: 1.0000\n",
      "Epoch 142/200\n",
      "3/3 [==============================] - 0s 19ms/step - loss: 0.0148 - accuracy: 0.9967 - recall_2: 1.0000 - precision: 0.9947 - val_loss: 0.0413 - val_accuracy: 0.9780 - val_recall_2: 0.9649 - val_precision: 1.0000\n",
      "Epoch 143/200\n",
      "3/3 [==============================] - 0s 22ms/step - loss: 0.0137 - accuracy: 0.9967 - recall_2: 1.0000 - precision: 0.9945 - val_loss: 0.0406 - val_accuracy: 0.9780 - val_recall_2: 0.9649 - val_precision: 1.0000\n",
      "Epoch 144/200\n",
      "3/3 [==============================] - 0s 19ms/step - loss: 0.0134 - accuracy: 0.9967 - recall_2: 1.0000 - precision: 0.9946 - val_loss: 0.0402 - val_accuracy: 0.9780 - val_recall_2: 0.9649 - val_precision: 1.0000\n",
      "Epoch 145/200\n"
     ]
    },
    {
     "name": "stdout",
     "output_type": "stream",
     "text": [
      "3/3 [==============================] - 0s 11ms/step - loss: 0.0122 - accuracy: 0.9967 - recall_2: 1.0000 - precision: 0.9946 - val_loss: 0.0401 - val_accuracy: 0.9780 - val_recall_2: 0.9649 - val_precision: 1.0000\n",
      "Epoch 146/200\n",
      "3/3 [==============================] - 0s 9ms/step - loss: 0.0125 - accuracy: 0.9967 - recall_2: 1.0000 - precision: 0.9948 - val_loss: 0.0399 - val_accuracy: 0.9780 - val_recall_2: 0.9649 - val_precision: 1.0000\n",
      "Epoch 147/200\n",
      "3/3 [==============================] - 0s 10ms/step - loss: 0.0136 - accuracy: 0.9967 - recall_2: 1.0000 - precision: 0.9947 - val_loss: 0.0396 - val_accuracy: 0.9780 - val_recall_2: 0.9649 - val_precision: 1.0000\n",
      "Epoch 148/200\n",
      "3/3 [==============================] - 0s 12ms/step - loss: 0.0118 - accuracy: 0.9967 - recall_2: 1.0000 - precision: 0.9946 - val_loss: 0.0395 - val_accuracy: 0.9780 - val_recall_2: 0.9649 - val_precision: 1.0000\n",
      "Epoch 149/200\n",
      "3/3 [==============================] - 0s 12ms/step - loss: 0.0125 - accuracy: 0.9967 - recall_2: 1.0000 - precision: 0.9947 - val_loss: 0.0394 - val_accuracy: 0.9780 - val_recall_2: 0.9649 - val_precision: 1.0000\n",
      "Epoch 150/200\n",
      "3/3 [==============================] - 0s 10ms/step - loss: 0.0083 - accuracy: 1.0000 - recall_2: 1.0000 - precision: 1.0000 - val_loss: 0.0392 - val_accuracy: 0.9780 - val_recall_2: 0.9649 - val_precision: 1.0000\n",
      "Epoch 151/200\n",
      "3/3 [==============================] - 0s 11ms/step - loss: 0.0122 - accuracy: 0.9967 - recall_2: 1.0000 - precision: 0.9949 - val_loss: 0.0388 - val_accuracy: 0.9780 - val_recall_2: 0.9649 - val_precision: 1.0000\n",
      "Epoch 152/200\n",
      "3/3 [==============================] - 0s 10ms/step - loss: 0.0085 - accuracy: 1.0000 - recall_2: 1.0000 - precision: 1.0000 - val_loss: 0.0386 - val_accuracy: 0.9780 - val_recall_2: 0.9649 - val_precision: 1.0000\n",
      "Epoch 153/200\n",
      "3/3 [==============================] - 0s 10ms/step - loss: 0.0109 - accuracy: 0.9967 - recall_2: 1.0000 - precision: 0.9947 - val_loss: 0.0385 - val_accuracy: 0.9780 - val_recall_2: 0.9649 - val_precision: 1.0000\n",
      "Epoch 154/200\n",
      "3/3 [==============================] - 0s 10ms/step - loss: 0.0118 - accuracy: 0.9967 - recall_2: 1.0000 - precision: 0.9947 - val_loss: 0.0383 - val_accuracy: 0.9780 - val_recall_2: 0.9649 - val_precision: 1.0000\n",
      "Epoch 155/200\n",
      "3/3 [==============================] - 0s 10ms/step - loss: 0.0069 - accuracy: 1.0000 - recall_2: 1.0000 - precision: 1.0000 - val_loss: 0.0379 - val_accuracy: 0.9780 - val_recall_2: 0.9649 - val_precision: 1.0000\n",
      "Epoch 156/200\n",
      "3/3 [==============================] - 0s 10ms/step - loss: 0.0096 - accuracy: 0.9967 - recall_2: 1.0000 - precision: 0.9948 - val_loss: 0.0377 - val_accuracy: 0.9780 - val_recall_2: 0.9649 - val_precision: 1.0000\n",
      "Epoch 157/200\n",
      "3/3 [==============================] - 0s 10ms/step - loss: 0.0118 - accuracy: 0.9967 - recall_2: 1.0000 - precision: 0.9947 - val_loss: 0.0374 - val_accuracy: 0.9780 - val_recall_2: 0.9649 - val_precision: 1.0000\n",
      "Epoch 158/200\n",
      "3/3 [==============================] - 0s 10ms/step - loss: 0.0103 - accuracy: 0.9967 - recall_2: 1.0000 - precision: 0.9946 - val_loss: 0.0371 - val_accuracy: 0.9780 - val_recall_2: 0.9649 - val_precision: 1.0000\n",
      "Epoch 159/200\n",
      "3/3 [==============================] - 0s 12ms/step - loss: 0.0110 - accuracy: 0.9967 - recall_2: 1.0000 - precision: 0.9948 - val_loss: 0.0368 - val_accuracy: 0.9780 - val_recall_2: 0.9649 - val_precision: 1.0000\n",
      "Epoch 160/200\n",
      "3/3 [==============================] - 0s 11ms/step - loss: 0.0105 - accuracy: 0.9967 - recall_2: 1.0000 - precision: 0.9947 - val_loss: 0.0366 - val_accuracy: 0.9780 - val_recall_2: 0.9649 - val_precision: 1.0000\n",
      "Epoch 161/200\n",
      "3/3 [==============================] - 0s 11ms/step - loss: 0.0098 - accuracy: 0.9967 - recall_2: 1.0000 - precision: 0.9948 - val_loss: 0.0366 - val_accuracy: 0.9780 - val_recall_2: 0.9649 - val_precision: 1.0000\n",
      "Epoch 162/200\n",
      "3/3 [==============================] - 0s 12ms/step - loss: 0.0102 - accuracy: 0.9967 - recall_2: 1.0000 - precision: 0.9948 - val_loss: 0.0364 - val_accuracy: 0.9780 - val_recall_2: 0.9649 - val_precision: 1.0000\n",
      "Epoch 163/200\n",
      "3/3 [==============================] - 0s 11ms/step - loss: 0.0106 - accuracy: 0.9967 - recall_2: 1.0000 - precision: 0.9946 - val_loss: 0.0363 - val_accuracy: 0.9780 - val_recall_2: 0.9649 - val_precision: 1.0000\n",
      "Epoch 164/200\n",
      "3/3 [==============================] - 0s 10ms/step - loss: 0.0058 - accuracy: 1.0000 - recall_2: 1.0000 - precision: 1.0000 - val_loss: 0.0363 - val_accuracy: 0.9780 - val_recall_2: 0.9649 - val_precision: 1.0000\n",
      "Epoch 165/200\n",
      "3/3 [==============================] - 0s 10ms/step - loss: 0.0094 - accuracy: 0.9967 - recall_2: 1.0000 - precision: 0.9946 - val_loss: 0.0364 - val_accuracy: 0.9780 - val_recall_2: 0.9649 - val_precision: 1.0000\n",
      "Epoch 166/200\n",
      "3/3 [==============================] - 0s 9ms/step - loss: 0.0070 - accuracy: 1.0000 - recall_2: 1.0000 - precision: 1.0000 - val_loss: 0.0367 - val_accuracy: 0.9780 - val_recall_2: 0.9649 - val_precision: 1.0000\n",
      "Epoch 167/200\n",
      "3/3 [==============================] - 0s 10ms/step - loss: 0.0057 - accuracy: 1.0000 - recall_2: 1.0000 - precision: 1.0000 - val_loss: 0.0366 - val_accuracy: 0.9780 - val_recall_2: 0.9649 - val_precision: 1.0000\n",
      "Epoch 168/200\n",
      "3/3 [==============================] - 0s 10ms/step - loss: 0.0091 - accuracy: 0.9967 - recall_2: 1.0000 - precision: 0.9946 - val_loss: 0.0365 - val_accuracy: 0.9780 - val_recall_2: 0.9649 - val_precision: 1.0000\n",
      "Epoch 169/200\n",
      "3/3 [==============================] - 0s 9ms/step - loss: 0.0086 - accuracy: 0.9967 - recall_2: 1.0000 - precision: 0.9948 - val_loss: 0.0365 - val_accuracy: 0.9780 - val_recall_2: 0.9649 - val_precision: 1.0000\n",
      "Epoch 170/200\n",
      "3/3 [==============================] - 0s 10ms/step - loss: 0.0092 - accuracy: 0.9967 - recall_2: 1.0000 - precision: 0.9947 - val_loss: 0.0365 - val_accuracy: 0.9780 - val_recall_2: 0.9649 - val_precision: 1.0000\n",
      "Epoch 171/200\n",
      "3/3 [==============================] - 0s 10ms/step - loss: 0.0091 - accuracy: 0.9967 - recall_2: 1.0000 - precision: 0.9948 - val_loss: 0.0365 - val_accuracy: 0.9780 - val_recall_2: 0.9649 - val_precision: 1.0000\n",
      "Epoch 172/200\n",
      "3/3 [==============================] - 0s 11ms/step - loss: 0.0092 - accuracy: 0.9967 - recall_2: 1.0000 - precision: 0.9947 - val_loss: 0.0365 - val_accuracy: 0.9780 - val_recall_2: 0.9649 - val_precision: 1.0000\n",
      "Epoch 173/200\n",
      "3/3 [==============================] - 0s 10ms/step - loss: 0.0091 - accuracy: 0.9967 - recall_2: 1.0000 - precision: 0.9947 - val_loss: 0.0363 - val_accuracy: 0.9780 - val_recall_2: 0.9649 - val_precision: 1.0000\n",
      "Epoch 174/200\n",
      "3/3 [==============================] - 0s 10ms/step - loss: 0.0079 - accuracy: 0.9967 - recall_2: 1.0000 - precision: 0.9947 - val_loss: 0.0360 - val_accuracy: 0.9780 - val_recall_2: 0.9649 - val_precision: 1.0000\n",
      "Epoch 175/200\n",
      "3/3 [==============================] - 0s 10ms/step - loss: 0.0077 - accuracy: 0.9967 - recall_2: 1.0000 - precision: 0.9947 - val_loss: 0.0359 - val_accuracy: 0.9780 - val_recall_2: 0.9649 - val_precision: 1.0000\n",
      "Epoch 176/200\n",
      "3/3 [==============================] - 0s 11ms/step - loss: 0.0081 - accuracy: 0.9967 - recall_2: 1.0000 - precision: 0.9947 - val_loss: 0.0356 - val_accuracy: 0.9780 - val_recall_2: 0.9649 - val_precision: 1.0000\n",
      "Epoch 177/200\n",
      "3/3 [==============================] - 0s 10ms/step - loss: 0.0074 - accuracy: 0.9967 - recall_2: 1.0000 - precision: 0.9946 - val_loss: 0.0352 - val_accuracy: 0.9780 - val_recall_2: 0.9649 - val_precision: 1.0000\n",
      "Epoch 178/200\n",
      "3/3 [==============================] - 0s 10ms/step - loss: 0.0086 - accuracy: 0.9967 - recall_2: 1.0000 - precision: 0.9947 - val_loss: 0.0348 - val_accuracy: 0.9780 - val_recall_2: 0.9649 - val_precision: 1.0000\n",
      "Epoch 179/200\n",
      "3/3 [==============================] - 0s 11ms/step - loss: 0.0079 - accuracy: 0.9967 - recall_2: 1.0000 - precision: 0.9948 - val_loss: 0.0346 - val_accuracy: 0.9780 - val_recall_2: 0.9649 - val_precision: 1.0000\n",
      "Epoch 180/200\n",
      "3/3 [==============================] - 0s 11ms/step - loss: 0.0070 - accuracy: 0.9967 - recall_2: 1.0000 - precision: 0.9948 - val_loss: 0.0345 - val_accuracy: 0.9780 - val_recall_2: 0.9649 - val_precision: 1.0000\n",
      "Epoch 181/200\n"
     ]
    },
    {
     "name": "stdout",
     "output_type": "stream",
     "text": [
      "3/3 [==============================] - 0s 19ms/step - loss: 0.0072 - accuracy: 0.9967 - recall_2: 1.0000 - precision: 0.9946 - val_loss: 0.0343 - val_accuracy: 0.9780 - val_recall_2: 0.9649 - val_precision: 1.0000\n",
      "Epoch 182/200\n",
      "3/3 [==============================] - 0s 16ms/step - loss: 0.0067 - accuracy: 0.9967 - recall_2: 1.0000 - precision: 0.9946 - val_loss: 0.0341 - val_accuracy: 0.9780 - val_recall_2: 0.9649 - val_precision: 1.0000\n",
      "Epoch 183/200\n",
      "3/3 [==============================] - 0s 11ms/step - loss: 0.0078 - accuracy: 0.9967 - recall_2: 1.0000 - precision: 0.9948 - val_loss: 0.0339 - val_accuracy: 0.9780 - val_recall_2: 0.9649 - val_precision: 1.0000\n",
      "Epoch 184/200\n",
      "3/3 [==============================] - 0s 10ms/step - loss: 0.0067 - accuracy: 0.9967 - recall_2: 1.0000 - precision: 0.9947 - val_loss: 0.0337 - val_accuracy: 0.9890 - val_recall_2: 0.9825 - val_precision: 1.0000\n",
      "Epoch 185/200\n",
      "3/3 [==============================] - 0s 9ms/step - loss: 0.0072 - accuracy: 0.9967 - recall_2: 1.0000 - precision: 0.9947 - val_loss: 0.0337 - val_accuracy: 0.9780 - val_recall_2: 0.9649 - val_precision: 1.0000\n",
      "Epoch 186/200\n",
      "3/3 [==============================] - 0s 11ms/step - loss: 0.0040 - accuracy: 1.0000 - recall_2: 1.0000 - precision: 1.0000 - val_loss: 0.0338 - val_accuracy: 0.9780 - val_recall_2: 0.9649 - val_precision: 1.0000\n",
      "Epoch 187/200\n",
      "3/3 [==============================] - 0s 11ms/step - loss: 0.0045 - accuracy: 1.0000 - recall_2: 1.0000 - precision: 1.0000 - val_loss: 0.0337 - val_accuracy: 0.9780 - val_recall_2: 0.9649 - val_precision: 1.0000\n",
      "Epoch 188/200\n",
      "3/3 [==============================] - 0s 11ms/step - loss: 0.0069 - accuracy: 0.9967 - recall_2: 1.0000 - precision: 0.9947 - val_loss: 0.0335 - val_accuracy: 0.9780 - val_recall_2: 0.9649 - val_precision: 1.0000\n",
      "Epoch 189/200\n",
      "3/3 [==============================] - 0s 12ms/step - loss: 0.0068 - accuracy: 0.9967 - recall_2: 1.0000 - precision: 0.9947 - val_loss: 0.0333 - val_accuracy: 0.9780 - val_recall_2: 0.9649 - val_precision: 1.0000\n",
      "Epoch 190/200\n",
      "3/3 [==============================] - 0s 9ms/step - loss: 0.0073 - accuracy: 1.0000 - recall_2: 1.0000 - precision: 1.0000 - val_loss: 0.0332 - val_accuracy: 0.9780 - val_recall_2: 0.9825 - val_precision: 0.9825\n",
      "Epoch 191/200\n",
      "3/3 [==============================] - 0s 10ms/step - loss: 0.0040 - accuracy: 1.0000 - recall_2: 1.0000 - precision: 1.0000 - val_loss: 0.0331 - val_accuracy: 0.9780 - val_recall_2: 0.9825 - val_precision: 0.9825\n",
      "Epoch 192/200\n",
      "3/3 [==============================] - 0s 10ms/step - loss: 0.0061 - accuracy: 1.0000 - recall_2: 1.0000 - precision: 1.0000 - val_loss: 0.0331 - val_accuracy: 0.9780 - val_recall_2: 0.9825 - val_precision: 0.9825\n",
      "Epoch 193/200\n",
      "3/3 [==============================] - 0s 10ms/step - loss: 0.0064 - accuracy: 1.0000 - recall_2: 1.0000 - precision: 1.0000 - val_loss: 0.0331 - val_accuracy: 0.9670 - val_recall_2: 0.9649 - val_precision: 0.9821\n",
      "Epoch 194/200\n",
      "3/3 [==============================] - 0s 10ms/step - loss: 0.0059 - accuracy: 1.0000 - recall_2: 1.0000 - precision: 1.0000 - val_loss: 0.0332 - val_accuracy: 0.9670 - val_recall_2: 0.9649 - val_precision: 0.9821\n",
      "Epoch 195/200\n",
      "3/3 [==============================] - 0s 10ms/step - loss: 0.0064 - accuracy: 1.0000 - recall_2: 1.0000 - precision: 1.0000 - val_loss: 0.0331 - val_accuracy: 0.9670 - val_recall_2: 0.9649 - val_precision: 0.9821\n",
      "Epoch 196/200\n",
      "3/3 [==============================] - 0s 10ms/step - loss: 0.0059 - accuracy: 1.0000 - recall_2: 1.0000 - precision: 1.0000 - val_loss: 0.0331 - val_accuracy: 0.9670 - val_recall_2: 0.9649 - val_precision: 0.9821\n",
      "Epoch 197/200\n",
      "3/3 [==============================] - 0s 11ms/step - loss: 0.0064 - accuracy: 1.0000 - recall_2: 1.0000 - precision: 1.0000 - val_loss: 0.0332 - val_accuracy: 0.9670 - val_recall_2: 0.9649 - val_precision: 0.9821\n",
      "Epoch 198/200\n",
      "3/3 [==============================] - 0s 11ms/step - loss: 0.0063 - accuracy: 1.0000 - recall_2: 1.0000 - precision: 1.0000 - val_loss: 0.0333 - val_accuracy: 0.9670 - val_recall_2: 0.9649 - val_precision: 0.9821\n",
      "Epoch 199/200\n",
      "3/3 [==============================] - 0s 11ms/step - loss: 0.0058 - accuracy: 1.0000 - recall_2: 1.0000 - precision: 1.0000 - val_loss: 0.0333 - val_accuracy: 0.9670 - val_recall_2: 0.9649 - val_precision: 0.9821\n",
      "Epoch 200/200\n",
      "3/3 [==============================] - 0s 12ms/step - loss: 0.0045 - accuracy: 1.0000 - recall_2: 1.0000 - precision: 1.0000 - val_loss: 0.0330 - val_accuracy: 0.9670 - val_recall_2: 0.9649 - val_precision: 0.9821\n"
     ]
    }
   ],
   "source": [
    "hist = model_cancer.fit(train_dataset, epochs=N_EPOCH, validation_data=val_dataset)"
   ]
  },
  {
   "cell_type": "code",
   "execution_count": 29,
   "metadata": {},
   "outputs": [
    {
     "data": {
      "text/plain": [
       "dict_keys(['loss', 'accuracy', 'recall_2', 'precision', 'val_loss', 'val_accuracy', 'val_recall_2', 'val_precision'])"
      ]
     },
     "execution_count": 29,
     "metadata": {},
     "output_type": "execute_result"
    }
   ],
   "source": [
    "hist.history.keys()"
   ]
  },
  {
   "cell_type": "code",
   "execution_count": 31,
   "metadata": {},
   "outputs": [
    {
     "data": {
      "text/plain": [
       "[0.6842105388641357,\n",
       " 0.719298243522644,\n",
       " 0.7894737124443054,\n",
       " 0.8245614171028137,\n",
       " 0.8421052694320679,\n",
       " 0.8947368264198303,\n",
       " 0.8947368264198303,\n",
       " 0.8947368264198303,\n",
       " 0.8947368264198303,\n",
       " 0.9122806787490845,\n",
       " 0.9122806787490845,\n",
       " 0.9122806787490845,\n",
       " 0.9122806787490845,\n",
       " 0.9122806787490845,\n",
       " 0.9122806787490845,\n",
       " 0.9122806787490845,\n",
       " 0.9298245906829834,\n",
       " 0.9298245906829834,\n",
       " 0.9298245906829834,\n",
       " 0.9298245906829834,\n",
       " 0.9298245906829834,\n",
       " 0.9298245906829834,\n",
       " 0.9298245906829834,\n",
       " 0.9473684430122375,\n",
       " 0.9473684430122375,\n",
       " 0.9473684430122375,\n",
       " 0.9473684430122375,\n",
       " 0.9473684430122375,\n",
       " 0.9473684430122375,\n",
       " 0.9473684430122375,\n",
       " 0.9473684430122375,\n",
       " 0.9473684430122375,\n",
       " 0.9473684430122375,\n",
       " 0.9473684430122375,\n",
       " 0.9473684430122375,\n",
       " 0.9473684430122375,\n",
       " 0.9473684430122375,\n",
       " 0.9473684430122375,\n",
       " 0.9473684430122375,\n",
       " 0.9473684430122375,\n",
       " 0.9473684430122375,\n",
       " 0.9473684430122375,\n",
       " 0.9473684430122375,\n",
       " 0.9473684430122375,\n",
       " 0.9473684430122375,\n",
       " 0.9473684430122375,\n",
       " 0.9473684430122375,\n",
       " 0.9473684430122375,\n",
       " 0.9473684430122375,\n",
       " 0.9473684430122375,\n",
       " 0.9473684430122375,\n",
       " 0.9473684430122375,\n",
       " 0.9473684430122375,\n",
       " 0.9473684430122375,\n",
       " 0.9473684430122375,\n",
       " 0.9473684430122375,\n",
       " 0.9473684430122375,\n",
       " 0.9473684430122375,\n",
       " 0.9473684430122375,\n",
       " 0.9473684430122375,\n",
       " 0.9473684430122375,\n",
       " 0.9473684430122375,\n",
       " 0.9473684430122375,\n",
       " 0.9473684430122375,\n",
       " 0.9473684430122375,\n",
       " 0.9473684430122375,\n",
       " 0.9473684430122375,\n",
       " 0.9473684430122375,\n",
       " 0.9473684430122375,\n",
       " 0.9649122953414917,\n",
       " 0.9824561476707458,\n",
       " 0.9824561476707458,\n",
       " 0.9824561476707458,\n",
       " 0.9824561476707458,\n",
       " 0.9824561476707458,\n",
       " 0.9824561476707458,\n",
       " 0.9824561476707458,\n",
       " 0.9824561476707458,\n",
       " 0.9824561476707458,\n",
       " 0.9824561476707458,\n",
       " 0.9824561476707458,\n",
       " 0.9824561476707458,\n",
       " 0.9649122953414917,\n",
       " 0.9649122953414917,\n",
       " 0.9649122953414917,\n",
       " 0.9649122953414917,\n",
       " 0.9649122953414917,\n",
       " 0.9649122953414917,\n",
       " 0.9649122953414917,\n",
       " 0.9649122953414917,\n",
       " 0.9649122953414917,\n",
       " 0.9649122953414917,\n",
       " 0.9649122953414917,\n",
       " 0.9649122953414917,\n",
       " 0.9649122953414917,\n",
       " 0.9649122953414917,\n",
       " 0.9649122953414917,\n",
       " 0.9649122953414917,\n",
       " 0.9649122953414917,\n",
       " 0.9649122953414917,\n",
       " 0.9649122953414917,\n",
       " 0.9649122953414917,\n",
       " 0.9649122953414917,\n",
       " 0.9649122953414917,\n",
       " 0.9649122953414917,\n",
       " 0.9649122953414917,\n",
       " 0.9649122953414917,\n",
       " 0.9649122953414917,\n",
       " 0.9649122953414917,\n",
       " 0.9649122953414917,\n",
       " 0.9649122953414917,\n",
       " 0.9649122953414917,\n",
       " 0.9649122953414917,\n",
       " 0.9649122953414917,\n",
       " 0.9649122953414917,\n",
       " 0.9649122953414917,\n",
       " 0.9649122953414917,\n",
       " 0.9649122953414917,\n",
       " 0.9649122953414917,\n",
       " 0.9649122953414917,\n",
       " 0.9649122953414917,\n",
       " 0.9649122953414917,\n",
       " 0.9649122953414917,\n",
       " 0.9649122953414917,\n",
       " 0.9649122953414917,\n",
       " 0.9649122953414917,\n",
       " 0.9649122953414917,\n",
       " 0.9649122953414917,\n",
       " 0.9649122953414917,\n",
       " 0.9649122953414917,\n",
       " 0.9649122953414917,\n",
       " 0.9649122953414917,\n",
       " 0.9649122953414917,\n",
       " 0.9649122953414917,\n",
       " 0.9649122953414917,\n",
       " 0.9649122953414917,\n",
       " 0.9649122953414917,\n",
       " 0.9649122953414917,\n",
       " 0.9649122953414917,\n",
       " 0.9649122953414917,\n",
       " 0.9649122953414917,\n",
       " 0.9649122953414917,\n",
       " 0.9649122953414917,\n",
       " 0.9649122953414917,\n",
       " 0.9649122953414917,\n",
       " 0.9649122953414917,\n",
       " 0.9649122953414917,\n",
       " 0.9649122953414917,\n",
       " 0.9649122953414917,\n",
       " 0.9649122953414917,\n",
       " 0.9649122953414917,\n",
       " 0.9649122953414917,\n",
       " 0.9649122953414917,\n",
       " 0.9649122953414917,\n",
       " 0.9649122953414917,\n",
       " 0.9649122953414917,\n",
       " 0.9649122953414917,\n",
       " 0.9649122953414917,\n",
       " 0.9649122953414917,\n",
       " 0.9649122953414917,\n",
       " 0.9649122953414917,\n",
       " 0.9649122953414917,\n",
       " 0.9649122953414917,\n",
       " 0.9649122953414917,\n",
       " 0.9649122953414917,\n",
       " 0.9649122953414917,\n",
       " 0.9649122953414917,\n",
       " 0.9649122953414917,\n",
       " 0.9649122953414917,\n",
       " 0.9649122953414917,\n",
       " 0.9649122953414917,\n",
       " 0.9649122953414917,\n",
       " 0.9649122953414917,\n",
       " 0.9649122953414917,\n",
       " 0.9649122953414917,\n",
       " 0.9649122953414917,\n",
       " 0.9649122953414917,\n",
       " 0.9649122953414917,\n",
       " 0.9649122953414917,\n",
       " 0.9649122953414917,\n",
       " 0.9649122953414917,\n",
       " 0.9649122953414917,\n",
       " 0.9649122953414917,\n",
       " 0.9824561476707458,\n",
       " 0.9649122953414917,\n",
       " 0.9649122953414917,\n",
       " 0.9649122953414917,\n",
       " 0.9649122953414917,\n",
       " 0.9649122953414917,\n",
       " 0.9824561476707458,\n",
       " 0.9824561476707458,\n",
       " 0.9824561476707458,\n",
       " 0.9649122953414917,\n",
       " 0.9649122953414917,\n",
       " 0.9649122953414917,\n",
       " 0.9649122953414917,\n",
       " 0.9649122953414917,\n",
       " 0.9649122953414917,\n",
       " 0.9649122953414917,\n",
       " 0.9649122953414917]"
      ]
     },
     "execution_count": 31,
     "metadata": {},
     "output_type": "execute_result"
    }
   ],
   "source": [
    "hist.history['val_recall_2']"
   ]
  },
  {
   "cell_type": "markdown",
   "metadata": {
    "slideshow": {
     "slide_type": "fragment"
    }
   },
   "source": [
    "#### 결과 시각화"
   ]
  },
  {
   "cell_type": "code",
   "execution_count": 32,
   "metadata": {},
   "outputs": [
    {
     "data": {
      "image/png": "[encoded data removed]",
      "text/plain": [
       "<Figure size 1000x500 with 2 Axes>"
      ]
     },
     "metadata": {},
     "output_type": "display_data"
    }
   ],
   "source": [
    "plt.figure(figsize=(10, 5))\n",
    "plt.subplot(1, 2, 1)\n",
    "plt.plot(hist.epoch, hist.history['loss'], label=\"train\")\n",
    "plt.plot(hist.epoch, hist.history['val_loss'], label='validation')\n",
    "plt.title('Loss')\n",
    "plt.ylim(0, 0.1)\n",
    "plt.xlabel('에폭수')\n",
    "plt.ylabel('loss')\n",
    "plt.legend()\n",
    "\n",
    "plt.subplot(1, 2, 2)\n",
    "plt.plot(hist.epoch, hist.history['accuracy'], label='train')\n",
    "plt.plot(hist.epoch, hist.history['val_accuracy'], label='validation')\n",
    "plt.title('Accuracy')\n",
    "plt.xlabel('에폭수')\n",
    "plt.ylabel('accuracy')\n",
    "plt.legend()\n",
    "\n",
    "plt.tight_layout()\n",
    "plt.show()"
   ]
  },
  {
   "cell_type": "markdown",
   "metadata": {
    "slideshow": {
     "slide_type": "slide"
    }
   },
   "source": [
    "#### 최종평가"
   ]
  },
  {
   "cell_type": "code",
   "execution_count": 33,
   "metadata": {},
   "outputs": [
    {
     "name": "stdout",
     "output_type": "stream",
     "text": [
      "3/3 [==============================] - 0s 4ms/step - loss: 0.2171 - accuracy: 0.9561 - recall_2: 0.9722 - precision: 0.9589\n",
      "0.2171247899532318 0.9561403393745422 0.9722222089767456 0.9589040875434875\n"
     ]
    }
   ],
   "source": [
    "loss, acc, recall, precision = model_cancer.evaluate(test_dataset)\n",
    "print(loss, acc, recall, precision)"
   ]
  },
  {
   "cell_type": "markdown",
   "metadata": {
    "slideshow": {
     "slide_type": "fragment"
    }
   },
   "source": [
    "#### 모델저장"
   ]
  },
  {
   "cell_type": "code",
   "execution_count": 34,
   "metadata": {},
   "outputs": [],
   "source": [
    "save_dir_path = 'saved_model/cancer_model'"
   ]
  },
  {
   "cell_type": "code",
   "execution_count": 35,
   "metadata": {},
   "outputs": [
    {
     "name": "stdout",
     "output_type": "stream",
     "text": [
      "INFO:tensorflow:Assets written to: saved_model/cancer_model\\assets\n"
     ]
    },
    {
     "name": "stderr",
     "output_type": "stream",
     "text": [
      "INFO:tensorflow:Assets written to: saved_model/cancer_model\\assets\n"
     ]
    }
   ],
   "source": [
    "model_cancer.save(save_dir_path)"
   ]
  },
  {
   "cell_type": "markdown",
   "metadata": {
    "slideshow": {
     "slide_type": "slide"
    }
   },
   "source": [
    "#### 새로운 데이터 추론"
   ]
  },
  {
   "cell_type": "code",
   "execution_count": 36,
   "metadata": {},
   "outputs": [
    {
     "name": "stdout",
     "output_type": "stream",
     "text": [
      "3/3 [==============================] - 0s 4ms/step - loss: 0.5753 - accuracy: 0.7105 - recall_3: 0.5417 - precision_1: 1.0000\n"
     ]
    },
    {
     "data": {
      "text/plain": [
       "[0.5752942562103271, 0.7105262875556946, 0.5416666865348816, 1.0]"
      ]
     },
     "execution_count": 36,
     "metadata": {},
     "output_type": "execute_result"
    }
   ],
   "source": [
    "new_model = get_model_cancer(LEARNING_RATE) # 컴파일된 모델. 학습은 안된 모델이다. -> 파라미터가 랜덤값이라는 것.\n",
    "new_model.evaluate(test_dataset)"
   ]
  },
  {
   "cell_type": "code",
   "execution_count": 37,
   "metadata": {},
   "outputs": [
    {
     "name": "stdout",
     "output_type": "stream",
     "text": [
      "3/3 [==============================] - 0s 4ms/step - loss: 0.2171 - accuracy: 0.9561 - recall_2: 0.9722 - precision: 0.9589\n"
     ]
    },
    {
     "data": {
      "text/plain": [
       "[0.2171247899532318,\n",
       " 0.9561403393745422,\n",
       " 0.9722222089767456,\n",
       " 0.9589040875434875]"
      ]
     },
     "execution_count": 37,
     "metadata": {},
     "output_type": "execute_result"
    }
   ],
   "source": [
    "saved_model = models.load_model(save_dir_path)\n",
    "saved_model.evaluate(test_dataset)"
   ]
  },
  {
   "cell_type": "code",
   "execution_count": 38,
   "metadata": {},
   "outputs": [
    {
     "name": "stdout",
     "output_type": "stream",
     "text": [
      "1/1 [==============================] - 0s 93ms/step\n"
     ]
    },
    {
     "data": {
      "text/plain": [
       "(10, 1)"
      ]
     },
     "execution_count": 38,
     "metadata": {},
     "output_type": "execute_result"
    }
   ],
   "source": [
    "new_X = X_test_scaled[:10]\n",
    "pred = saved_model.predict(new_X)\n",
    "pred.shape"
   ]
  },
  {
   "cell_type": "code",
   "execution_count": 39,
   "metadata": {},
   "outputs": [
    {
     "name": "stdout",
     "output_type": "stream",
     "text": [
      "[[7.3570991e-05]\n",
      " [2.3386927e-19]\n",
      " [2.8877678e-06]\n",
      " [9.9996555e-01]\n",
      " [1.6376755e-05]\n",
      " [9.9704921e-01]\n",
      " [5.0166684e-05]\n",
      " [9.9993759e-01]\n",
      " [9.9999577e-01]\n",
      " [5.4210813e-13]]\n",
      "[[0.   ]\n",
      " [0.   ]\n",
      " [0.   ]\n",
      " [1.   ]\n",
      " [0.   ]\n",
      " [0.997]\n",
      " [0.   ]\n",
      " [1.   ]\n",
      " [1.   ]\n",
      " [0.   ]]\n"
     ]
    }
   ],
   "source": [
    "print(pred)\n",
    "print(np.round(pred, 3))"
   ]
  },
  {
   "cell_type": "markdown",
   "metadata": {},
   "source": [
    "##### 모델출력결과 후처리"
   ]
  },
  {
   "cell_type": "code",
   "execution_count": 40,
   "metadata": {},
   "outputs": [
    {
     "data": {
      "text/plain": [
       "array([['악성종양 - 0'],\n",
       "       ['악성종양 - 0'],\n",
       "       ['악성종양 - 0'],\n",
       "       ['양성종양 - 1'],\n",
       "       ['악성종양 - 0'],\n",
       "       ['양성종양 - 1'],\n",
       "       ['악성종양 - 0'],\n",
       "       ['양성종양 - 1'],\n",
       "       ['양성종양 - 1'],\n",
       "       ['악성종양 - 0']], dtype='<U8')"
      ]
     },
     "execution_count": 40,
     "metadata": {},
     "output_type": "execute_result"
    }
   ],
   "source": [
    "np.where(pred >= 0.5, '양성종양 - 1', '악성종양 - 0')"
   ]
  },
  {
   "cell_type": "code",
   "execution_count": null,
   "metadata": {},
   "outputs": [],
   "source": [
    "y_test[:10]"
   ]
  },
  {
   "cell_type": "code",
   "execution_count": null,
   "metadata": {},
   "outputs": [],
   "source": []
  }
 ],
 "metadata": {
  "kernelspec": {
   "display_name": "Python 3 (ipykernel)",
   "language": "python",
   "name": "python3"
  },
  "language_info": {
   "codemirror_mode": {
    "name": "ipython",
    "version": 3
   },
   "file_extension": ".py",
   "mimetype": "text/x-python",
   "name": "python",
   "nbconvert_exporter": "python",
   "pygments_lexer": "ipython3",
   "version": "3.10.11"
  },
  "toc": {
   "base_numbering": 1,
   "nav_menu": {},
   "number_sections": false,
   "sideBar": true,
   "skip_h1_title": false,
   "title_cell": "Table of Contents",
   "title_sidebar": "Contents",
   "toc_cell": false,
   "toc_position": {},
   "toc_section_display": true,
   "toc_window_display": false
  },
  "varInspector": {
   "cols": {
    "lenName": 16,
    "lenType": 16,
    "lenVar": 40
   },
   "kernels_config": {
    "python": {
     "delete_cmd_postfix": "",
     "delete_cmd_prefix": "del ",
     "library": "var_list.py",
     "varRefreshCmd": "print(var_dic_list())"
    },
    "r": {
     "delete_cmd_postfix": ") ",
     "delete_cmd_prefix": "rm(",
     "library": "var_list.r",
     "varRefreshCmd": "cat(var_dic_list()) "
    }
   },
   "types_to_exclude": [
    "module",
    "function",
    "builtin_function_or_method",
    "instance",
    "_Feature"
   ],
   "window_display": false
  }
 },
 "nbformat": 4,
 "nbformat_minor": 2
}
