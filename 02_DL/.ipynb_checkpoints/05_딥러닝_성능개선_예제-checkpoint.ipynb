{
 "cells": [
  {
   "cell_type": "code",
   "execution_count": 1,
   "id": "f4a7f42a",
   "metadata": {
    "ExecuteTime": {
     "end_time": "2023-07-11T08:31:13.107604Z",
     "start_time": "2023-07-11T08:31:03.457665Z"
    }
   },
   "outputs": [],
   "source": [
    "import tensorflow as tf\n",
    "from tensorflow import keras\n",
    "from tensorflow.keras import layers, models, optimizers\n",
    "\n",
    "import numpy as np\n",
    "import matplotlib.pyplot as plt\n",
    "import random\n",
    "\n",
    "random.seed(0)\n",
    "np.random.seed(0)\n",
    "tf.random.set_seed(0)"
   ]
  },
  {
   "cell_type": "code",
   "execution_count": 2,
   "id": "50c5e566",
   "metadata": {
    "ExecuteTime": {
     "end_time": "2023-07-11T08:31:13.990576Z",
     "start_time": "2023-07-11T08:31:13.975389Z"
    }
   },
   "outputs": [],
   "source": [
    "def plot_result(hist, loss_min=None, loss_max=None):\n",
    "    \n",
    "    plt.figure(figsize=(10, 5))\n",
    "    plt.subplot(1, 2, 1)\n",
    "    plt.plot(hist.epoch, hist.history['loss'], label=\"train\")\n",
    "    plt.plot(hist.epoch, hist.history['val_loss'], label='validation')\n",
    "    plt.title('Loss')\n",
    "    if loss_min!=None and loss_max!=None:\n",
    "        plt.ylim(loss_min, loss_max)\n",
    "        \n",
    "    plt.xlabel('에폭수')\n",
    "    plt.ylabel('loss')\n",
    "    plt.legend()\n",
    "\n",
    "    plt.subplot(1, 2, 2)\n",
    "    plt.plot(hist.epoch, hist.history['accuracy'], label='train')\n",
    "    plt.plot(hist.epoch, hist.history['val_accuracy'], label='validation')\n",
    "    plt.title('Accuracy')\n",
    "    plt.xlabel('에폭수')\n",
    "    plt.ylabel('accuracy')\n",
    "    plt.legend()\n",
    "\n",
    "    plt.tight_layout()\n",
    "    plt.show()"
   ]
  },
  {
   "cell_type": "code",
   "execution_count": 3,
   "id": "b0ec5b2d",
   "metadata": {
    "ExecuteTime": {
     "end_time": "2023-07-11T08:31:15.101523Z",
     "start_time": "2023-07-11T08:31:14.641362Z"
    }
   },
   "outputs": [
    {
     "name": "stdout",
     "output_type": "stream",
     "text": [
      "(60000, 10) (10000, 10)\n",
      "float32 float32\n"
     ]
    }
   ],
   "source": [
    "# MNIST 데이터셋 로딩\n",
    "(train_image, train_label), (test_image, test_label)  = keras.datasets.mnist.load_data()\n",
    "\n",
    "# 전처리 - X: scaling, y: one hot encoding 처리\n",
    "y_train = keras.utils.to_categorical(train_label)\n",
    "y_test = keras.utils.to_categorical(test_label)\n",
    "\n",
    "X_train = train_image.astype('float32')/255\n",
    "X_test = test_image.astype('float32')/255\n",
    "\n",
    "print(y_train.shape, y_test.shape)\n",
    "print(X_train.dtype, X_test.dtype)"
   ]
  },
  {
   "cell_type": "code",
   "execution_count": 4,
   "id": "4e98a908",
   "metadata": {
    "ExecuteTime": {
     "end_time": "2023-07-11T08:31:16.269477Z",
     "start_time": "2023-07-11T08:31:16.240545Z"
    }
   },
   "outputs": [],
   "source": [
    "# 하이퍼파리미터\n",
    "LEARNING_RATE = 0.001\n",
    "N_EPOCH = 20\n",
    "N_BATCH = 1000"
   ]
  },
  {
   "cell_type": "code",
   "execution_count": 5,
   "id": "56e02463",
   "metadata": {
    "ExecuteTime": {
     "end_time": "2023-07-11T08:31:17.674125Z",
     "start_time": "2023-07-11T08:31:17.474110Z"
    }
   },
   "outputs": [
    {
     "name": "stdout",
     "output_type": "stream",
     "text": [
      "60 10\n"
     ]
    }
   ],
   "source": [
    "# Dataset 생성\n",
    "train_dataset = tf.data.Dataset.from_tensor_slices((X_train, y_train))\\\n",
    "                               .shuffle(60000).batch(N_BATCH, drop_remainder=True)\n",
    "test_dataset = tf.data.Dataset.from_tensor_slices((X_test, y_test)).batch(N_BATCH)\n",
    "\n",
    "print(len(train_dataset), len(test_dataset))"
   ]
  },
  {
   "cell_type": "markdown",
   "id": "f6b71a5f",
   "metadata": {},
   "source": [
    "# 모델의 크기 변경 -> 성능 확인"
   ]
  },
  {
   "cell_type": "code",
   "execution_count": 6,
   "id": "7bfacdc2",
   "metadata": {
    "ExecuteTime": {
     "end_time": "2023-07-11T08:31:20.623957Z",
     "start_time": "2023-07-11T08:31:20.592408Z"
    }
   },
   "outputs": [],
   "source": [
    "def get_small_model():\n",
    "    model = keras.Sequential()\n",
    "    model.add(layers.Flatten(input_shape=(28,28)))\n",
    "    # output layer\n",
    "    model.add(layers.Dense(10, activation='softmax', name='output_layer'))\n",
    "    \n",
    "    model.compile(optimizer=optimizers.Adam(learning_rate=LEARNING_RATE), \n",
    "                  loss='categorical_crossentropy', metrics=['accuracy'])\n",
    "    return model    "
   ]
  },
  {
   "cell_type": "code",
   "execution_count": 7,
   "id": "0c722215",
   "metadata": {
    "ExecuteTime": {
     "end_time": "2023-07-11T08:32:01.608888Z",
     "start_time": "2023-07-11T08:32:01.549420Z"
    }
   },
   "outputs": [
    {
     "name": "stdout",
     "output_type": "stream",
     "text": [
      "Model: \"sequential\"\n",
      "_________________________________________________________________\n",
      " Layer (type)                Output Shape              Param #   \n",
      "=================================================================\n",
      " flatten (Flatten)           (None, 784)               0         \n",
      "                                                                 \n",
      " output_layer (Dense)        (None, 10)                7850      \n",
      "                                                                 \n",
      "=================================================================\n",
      "Total params: 7850 (30.66 KB)\n",
      "Trainable params: 7850 (30.66 KB)\n",
      "Non-trainable params: 0 (0.00 Byte)\n",
      "_________________________________________________________________\n"
     ]
    }
   ],
   "source": [
    "small_model = get_small_model()\n",
    "small_model.summary()"
   ]
  },
  {
   "cell_type": "code",
   "execution_count": 8,
   "id": "f1d030fd",
   "metadata": {
    "ExecuteTime": {
     "end_time": "2023-07-11T08:32:11.892148Z",
     "start_time": "2023-07-11T08:32:03.792895Z"
    }
   },
   "outputs": [
    {
     "name": "stdout",
     "output_type": "stream",
     "text": [
      "Epoch 1/20\n",
      "60/60 [==============================] - 1s 6ms/step - loss: 1.4339 - accuracy: 0.6403 - val_loss: 0.8678 - val_accuracy: 0.8320\n",
      "Epoch 2/20\n",
      "60/60 [==============================] - 0s 4ms/step - loss: 0.7303 - accuracy: 0.8438 - val_loss: 0.5933 - val_accuracy: 0.8702\n",
      "Epoch 3/20\n",
      "60/60 [==============================] - 0s 4ms/step - loss: 0.5606 - accuracy: 0.8680 - val_loss: 0.4902 - val_accuracy: 0.8853\n",
      "Epoch 4/20\n",
      "60/60 [==============================] - 0s 5ms/step - loss: 0.4826 - accuracy: 0.8809 - val_loss: 0.4343 - val_accuracy: 0.8928\n",
      "Epoch 5/20\n",
      "60/60 [==============================] - 0s 4ms/step - loss: 0.4369 - accuracy: 0.8888 - val_loss: 0.3995 - val_accuracy: 0.8998\n",
      "Epoch 6/20\n",
      "60/60 [==============================] - 0s 4ms/step - loss: 0.4058 - accuracy: 0.8950 - val_loss: 0.3751 - val_accuracy: 0.9034\n",
      "Epoch 7/20\n",
      "60/60 [==============================] - 0s 5ms/step - loss: 0.3837 - accuracy: 0.8990 - val_loss: 0.3574 - val_accuracy: 0.9069\n",
      "Epoch 8/20\n",
      "60/60 [==============================] - 0s 4ms/step - loss: 0.3669 - accuracy: 0.9027 - val_loss: 0.3439 - val_accuracy: 0.9086\n",
      "Epoch 9/20\n",
      "60/60 [==============================] - 0s 4ms/step - loss: 0.3535 - accuracy: 0.9055 - val_loss: 0.3322 - val_accuracy: 0.9113\n",
      "Epoch 10/20\n",
      "60/60 [==============================] - 0s 5ms/step - loss: 0.3426 - accuracy: 0.9082 - val_loss: 0.3246 - val_accuracy: 0.9131\n",
      "Epoch 11/20\n",
      "60/60 [==============================] - 0s 4ms/step - loss: 0.3335 - accuracy: 0.9103 - val_loss: 0.3166 - val_accuracy: 0.9146\n",
      "Epoch 12/20\n",
      "60/60 [==============================] - 0s 4ms/step - loss: 0.3259 - accuracy: 0.9115 - val_loss: 0.3111 - val_accuracy: 0.9153\n",
      "Epoch 13/20\n",
      "60/60 [==============================] - 0s 4ms/step - loss: 0.3191 - accuracy: 0.9135 - val_loss: 0.3055 - val_accuracy: 0.9162\n",
      "Epoch 14/20\n",
      "60/60 [==============================] - 0s 4ms/step - loss: 0.3136 - accuracy: 0.9146 - val_loss: 0.3011 - val_accuracy: 0.9168\n",
      "Epoch 15/20\n",
      "60/60 [==============================] - 0s 4ms/step - loss: 0.3088 - accuracy: 0.9158 - val_loss: 0.2981 - val_accuracy: 0.9175\n",
      "Epoch 16/20\n",
      "60/60 [==============================] - 0s 4ms/step - loss: 0.3040 - accuracy: 0.9167 - val_loss: 0.2944 - val_accuracy: 0.9188\n",
      "Epoch 17/20\n",
      "60/60 [==============================] - 0s 4ms/step - loss: 0.3001 - accuracy: 0.9179 - val_loss: 0.2917 - val_accuracy: 0.9197\n",
      "Epoch 18/20\n",
      "60/60 [==============================] - 0s 4ms/step - loss: 0.2965 - accuracy: 0.9186 - val_loss: 0.2887 - val_accuracy: 0.9197\n",
      "Epoch 19/20\n",
      "60/60 [==============================] - 0s 4ms/step - loss: 0.2933 - accuracy: 0.9194 - val_loss: 0.2864 - val_accuracy: 0.9212\n",
      "Epoch 20/20\n",
      "60/60 [==============================] - 0s 4ms/step - loss: 0.2905 - accuracy: 0.9201 - val_loss: 0.2840 - val_accuracy: 0.9212\n"
     ]
    }
   ],
   "source": [
    "hist = small_model.fit(train_dataset, epochs=N_EPOCH, validation_data=test_dataset)\n",
    "# loss , val_loss가 계속적으로 좋아지고 있다."
   ]
  },
  {
   "cell_type": "code",
   "execution_count": 14,
   "id": "f5049ab1",
   "metadata": {
    "ExecuteTime": {
     "end_time": "2023-07-11T08:32:14.387059Z",
     "start_time": "2023-07-11T08:32:13.742294Z"
    }
   },
   "outputs": [
    {
     "data": {
      "image/png": "[encoded data removed]",
      "text/plain": [
       "<Figure size 1000x500 with 2 Axes>"
      ]
     },
     "metadata": {},
     "output_type": "display_data"
    }
   ],
   "source": [
    "# 시각화\n",
    "plot_result(hist)# , 0.25, 0.5)\n",
    "# loss=> 계속 계선이 되고 있다. => 학습을 하다가 중간에서 멈춘것이므로 계속해서 학습을 하면 더 좋아질 것이다.\n",
    "# accuracy=>점점 좋아지고 있다."
   ]
  },
  {
   "cell_type": "code",
   "execution_count": 15,
   "id": "bc3176b2",
   "metadata": {
    "ExecuteTime": {
     "end_time": "2023-07-11T08:32:30.325895Z",
     "start_time": "2023-07-11T08:32:30.288089Z"
    }
   },
   "outputs": [],
   "source": [
    "# 모델의 크기를 키워보자.\n",
    "def get_big_model():\n",
    "    model = keras.Sequential()\n",
    "    model.add(layers.Flatten(input_shape=(28,28)))\n",
    "    # Hidden layer\n",
    "    model.add(layers.Dense(512, activation='relu'))\n",
    "    model.add(layers.Dense(512, activation='relu'))\n",
    "    model.add(layers.Dense(256, activation='relu'))\n",
    "    model.add(layers.Dense(256, activation='relu'))\n",
    "    model.add(layers.Dense(128, activation='relu'))\n",
    "    model.add(layers.Dense(128, activation='relu'))\n",
    "    model.add(layers.Dense(64, activation='relu'))\n",
    "    model.add(layers.Dense(64, activation='relu'))\n",
    "    \n",
    "    # output layer\n",
    "    model.add(layers.Dense(10, activation='softmax', name='output_layer'))\n",
    "    \n",
    "    model.compile(optimizer=optimizers.Adam(learning_rate=LEARNING_RATE), \n",
    "                  loss='categorical_crossentropy', metrics=['accuracy'])\n",
    "    return model    "
   ]
  },
  {
   "cell_type": "code",
   "execution_count": 16,
   "id": "a635f70a",
   "metadata": {
    "ExecuteTime": {
     "end_time": "2023-07-11T08:32:31.259205Z",
     "start_time": "2023-07-11T08:32:31.042756Z"
    }
   },
   "outputs": [
    {
     "name": "stdout",
     "output_type": "stream",
     "text": [
      "Model: \"sequential_1\"\n",
      "_________________________________________________________________\n",
      " Layer (type)                Output Shape              Param #   \n",
      "=================================================================\n",
      " flatten_1 (Flatten)         (None, 784)               0         \n",
      "                                                                 \n",
      " dense (Dense)               (None, 512)               401920    \n",
      "                                                                 \n",
      " dense_1 (Dense)             (None, 512)               262656    \n",
      "                                                                 \n",
      " dense_2 (Dense)             (None, 256)               131328    \n",
      "                                                                 \n",
      " dense_3 (Dense)             (None, 256)               65792     \n",
      "                                                                 \n",
      " dense_4 (Dense)             (None, 128)               32896     \n",
      "                                                                 \n",
      " dense_5 (Dense)             (None, 128)               16512     \n",
      "                                                                 \n",
      " dense_6 (Dense)             (None, 64)                8256      \n",
      "                                                                 \n",
      " dense_7 (Dense)             (None, 64)                4160      \n",
      "                                                                 \n",
      " output_layer (Dense)        (None, 10)                650       \n",
      "                                                                 \n",
      "=================================================================\n",
      "Total params: 924170 (3.53 MB)\n",
      "Trainable params: 924170 (3.53 MB)\n",
      "Non-trainable params: 0 (0.00 Byte)\n",
      "_________________________________________________________________\n"
     ]
    }
   ],
   "source": [
    "big_model = get_big_model()\n",
    "big_model.summary()"
   ]
  },
  {
   "cell_type": "code",
   "execution_count": 17,
   "id": "9911faf7",
   "metadata": {
    "ExecuteTime": {
     "end_time": "2023-07-11T08:33:25.144868Z",
     "start_time": "2023-07-11T08:32:34.635402Z"
    }
   },
   "outputs": [
    {
     "name": "stdout",
     "output_type": "stream",
     "text": [
      "Epoch 1/20\n",
      "60/60 [==============================] - 3s 33ms/step - loss: 0.6648 - accuracy: 0.7771 - val_loss: 0.1877 - val_accuracy: 0.9445\n",
      "Epoch 2/20\n",
      "60/60 [==============================] - 2s 30ms/step - loss: 0.1561 - accuracy: 0.9525 - val_loss: 0.1283 - val_accuracy: 0.9623\n",
      "Epoch 3/20\n",
      "60/60 [==============================] - 2s 30ms/step - loss: 0.0946 - accuracy: 0.9718 - val_loss: 0.0990 - val_accuracy: 0.9692\n",
      "Epoch 4/20\n",
      "60/60 [==============================] - 2s 30ms/step - loss: 0.0631 - accuracy: 0.9814 - val_loss: 0.0867 - val_accuracy: 0.9744\n",
      "Epoch 5/20\n",
      "60/60 [==============================] - 2s 31ms/step - loss: 0.0508 - accuracy: 0.9846 - val_loss: 0.0796 - val_accuracy: 0.9766\n",
      "Epoch 6/20\n",
      "60/60 [==============================] - 2s 33ms/step - loss: 0.0371 - accuracy: 0.9886 - val_loss: 0.0761 - val_accuracy: 0.9762\n",
      "Epoch 7/20\n",
      "60/60 [==============================] - 2s 32ms/step - loss: 0.0227 - accuracy: 0.9932 - val_loss: 0.0809 - val_accuracy: 0.9773\n",
      "Epoch 8/20\n",
      "60/60 [==============================] - 2s 32ms/step - loss: 0.0213 - accuracy: 0.9935 - val_loss: 0.0811 - val_accuracy: 0.9785\n",
      "Epoch 9/20\n",
      "60/60 [==============================] - 2s 31ms/step - loss: 0.0172 - accuracy: 0.9943 - val_loss: 0.0940 - val_accuracy: 0.9752\n",
      "Epoch 10/20\n",
      "60/60 [==============================] - 2s 32ms/step - loss: 0.0176 - accuracy: 0.9945 - val_loss: 0.0877 - val_accuracy: 0.9762\n",
      "Epoch 11/20\n",
      "60/60 [==============================] - 2s 32ms/step - loss: 0.0115 - accuracy: 0.9966 - val_loss: 0.0939 - val_accuracy: 0.9784\n",
      "Epoch 12/20\n",
      "60/60 [==============================] - 2s 32ms/step - loss: 0.0131 - accuracy: 0.9954 - val_loss: 0.1135 - val_accuracy: 0.9739\n",
      "Epoch 13/20\n",
      "60/60 [==============================] - 2s 34ms/step - loss: 0.0166 - accuracy: 0.9949 - val_loss: 0.0963 - val_accuracy: 0.9772\n",
      "Epoch 14/20\n",
      "60/60 [==============================] - 2s 35ms/step - loss: 0.0084 - accuracy: 0.9974 - val_loss: 0.1121 - val_accuracy: 0.9759\n",
      "Epoch 15/20\n",
      "60/60 [==============================] - 2s 34ms/step - loss: 0.0088 - accuracy: 0.9972 - val_loss: 0.0844 - val_accuracy: 0.9821\n",
      "Epoch 16/20\n",
      "60/60 [==============================] - 2s 33ms/step - loss: 0.0044 - accuracy: 0.9985 - val_loss: 0.0944 - val_accuracy: 0.9802\n",
      "Epoch 17/20\n",
      "60/60 [==============================] - 2s 35ms/step - loss: 0.0055 - accuracy: 0.9980 - val_loss: 0.1048 - val_accuracy: 0.9779\n",
      "Epoch 18/20\n",
      "60/60 [==============================] - 2s 34ms/step - loss: 0.0101 - accuracy: 0.9964 - val_loss: 0.1116 - val_accuracy: 0.9758\n",
      "Epoch 19/20\n",
      "60/60 [==============================] - 2s 33ms/step - loss: 0.0115 - accuracy: 0.9963 - val_loss: 0.0931 - val_accuracy: 0.9779\n",
      "Epoch 20/20\n",
      "60/60 [==============================] - 2s 34ms/step - loss: 0.0057 - accuracy: 0.9979 - val_loss: 0.0985 - val_accuracy: 0.9796\n"
     ]
    }
   ],
   "source": [
    "hist = big_model.fit(train_dataset, epochs=N_EPOCH, validation_data=test_dataset)\n",
    "# 위의 결과보다 성능이 더 좋다는 것을 알 수 있다."
   ]
  },
  {
   "cell_type": "code",
   "execution_count": 19,
   "id": "96dceb00",
   "metadata": {
    "ExecuteTime": {
     "end_time": "2023-07-11T08:33:29.694718Z",
     "start_time": "2023-07-11T08:33:28.994390Z"
    }
   },
   "outputs": [
    {
     "data": {
      "image/png": "[encoded data removed]",
      "text/plain": [
       "<Figure size 1000x500 with 2 Axes>"
      ]
     },
     "metadata": {},
     "output_type": "display_data"
    }
   ],
   "source": [
    "plot_result(hist)# 0.05, 0.15)\n",
    "# loss: train은 계속좋아지지만 val은 좋아지다가 올라가고 하는 추세가 있다.-> loss가 올라가다가 끝날 수 있기 때문에 테스트를 더 해보는 것을 추천\n",
    "# accuracy: 성능이 좋아지고 있다.\n",
    "## train은 계속 좋아지고 있지만 val은 떨어지고 있다고 볼수있어 overfitting이 일어났다고 볼 수 있다."
   ]
  },
  {
   "cell_type": "code",
   "execution_count": 20,
   "id": "08463639",
   "metadata": {
    "ExecuteTime": {
     "end_time": "2023-07-11T08:33:34.776685Z",
     "start_time": "2023-07-11T08:33:34.435825Z"
    }
   },
   "outputs": [
    {
     "name": "stdout",
     "output_type": "stream",
     "text": [
      "10/10 [==============================] - 0s 2ms/step - loss: 0.2840 - accuracy: 0.9212\n",
      "[0.28402021527290344, 0.9211999773979187]\n",
      "10/10 [==============================] - 0s 12ms/step - loss: 0.0985 - accuracy: 0.9796\n",
      "[0.09852389246225357, 0.9796000123023987]\n"
     ]
    }
   ],
   "source": [
    "# 한눈에 비교하기\n",
    "print(small_model.evaluate(test_dataset))\n",
    "print(big_model.evaluate(test_dataset))"
   ]
  },
  {
   "cell_type": "markdown",
   "id": "c7170b74",
   "metadata": {},
   "source": [
    "# Dropout Layer"
   ]
  },
  {
   "cell_type": "code",
   "execution_count": 21,
   "id": "a955ec19",
   "metadata": {},
   "outputs": [
    {
     "data": {
      "text/plain": [
       "153.6"
      ]
     },
     "execution_count": 21,
     "metadata": {},
     "output_type": "execute_result"
    }
   ],
   "source": [
    "512*0.3\n",
    "# 30%를 dropout시키겠다."
   ]
  },
  {
   "cell_type": "code",
   "execution_count": 22,
   "id": "ade6cce4",
   "metadata": {
    "ExecuteTime": {
     "end_time": "2023-07-11T08:44:11.063075Z",
     "start_time": "2023-07-11T08:44:11.028544Z"
    }
   },
   "outputs": [],
   "source": [
    "# Dropout Layer는 Dropout을 적용하려는 Layer 앞에 정의한다.\n",
    "def get_dropout_model():\n",
    "    model = keras.Sequential()\n",
    "    model.add(layers.Flatten(input_shape=(28,28)))\n",
    "    \n",
    "    # model.add(layers.Dense(512, activation='relu'))을 Dropout 하고싶은 경우 그 앞에 Dropout을 작성하면 된다.\n",
    "    model.add(layers.Dropout(rate=0.3))\n",
    "    model.add(layers.Dense(512, activation='relu'))\n",
    "    \n",
    "    model.add(layers.Dropout(0.3))\n",
    "    model.add(layers.Dense(512, activation='relu'))    \n",
    "    \n",
    "    model.add(layers.Dropout(0.3))\n",
    "    model.add(layers.Dense(256, activation='relu'))    \n",
    "    \n",
    "    model.add(layers.Dropout(0.3))\n",
    "    model.add(layers.Dense(256, activation='relu'))    \n",
    "    \n",
    "    model.add(layers.Dropout(0.3))\n",
    "    model.add(layers.Dense(128, activation='relu'))    \n",
    "    \n",
    "    model.add(layers.Dropout(0.3))\n",
    "    model.add(layers.Dense(128, activation='relu'))\n",
    "    \n",
    "    model.add(layers.Dropout(0.3))\n",
    "    model.add(layers.Dense(64, activation='relu'))    \n",
    "    \n",
    "    model.add(layers.Dropout(0.3))\n",
    "    model.add(layers.Dense(64, activation='relu'))\n",
    "    \n",
    "    model.add(layers.Dropout(0.3))\n",
    "    model.add(layers.Dense(10, activation='softmax', name='output_layer')) # output layer\n",
    "    \n",
    "    model.compile(optimizer=optimizers.Adam(learning_rate=LEARNING_RATE), \n",
    "                  loss='categorical_crossentropy', metrics=['accuracy'])\n",
    "    return model    "
   ]
  },
  {
   "cell_type": "code",
   "execution_count": 23,
   "id": "d82efcfb",
   "metadata": {
    "ExecuteTime": {
     "end_time": "2023-07-11T08:44:12.244616Z",
     "start_time": "2023-07-11T08:44:11.962055Z"
    }
   },
   "outputs": [
    {
     "name": "stdout",
     "output_type": "stream",
     "text": [
      "Model: \"sequential_2\"\n",
      "_________________________________________________________________\n",
      " Layer (type)                Output Shape              Param #   \n",
      "=================================================================\n",
      " flatten_2 (Flatten)         (None, 784)               0         \n",
      "                                                                 \n",
      " dropout (Dropout)           (None, 784)               0         \n",
      "                                                                 \n",
      " dense_8 (Dense)             (None, 512)               401920    \n",
      "                                                                 \n",
      " dropout_1 (Dropout)         (None, 512)               0         \n",
      "                                                                 \n",
      " dense_9 (Dense)             (None, 512)               262656    \n",
      "                                                                 \n",
      " dropout_2 (Dropout)         (None, 512)               0         \n",
      "                                                                 \n",
      " dense_10 (Dense)            (None, 256)               131328    \n",
      "                                                                 \n",
      " dropout_3 (Dropout)         (None, 256)               0         \n",
      "                                                                 \n",
      " dense_11 (Dense)            (None, 256)               65792     \n",
      "                                                                 \n",
      " dropout_4 (Dropout)         (None, 256)               0         \n",
      "                                                                 \n",
      " dense_12 (Dense)            (None, 128)               32896     \n",
      "                                                                 \n",
      " dropout_5 (Dropout)         (None, 128)               0         \n",
      "                                                                 \n",
      " dense_13 (Dense)            (None, 128)               16512     \n",
      "                                                                 \n",
      " dropout_6 (Dropout)         (None, 128)               0         \n",
      "                                                                 \n",
      " dense_14 (Dense)            (None, 64)                8256      \n",
      "                                                                 \n",
      " dropout_7 (Dropout)         (None, 64)                0         \n",
      "                                                                 \n",
      " dense_15 (Dense)            (None, 64)                4160      \n",
      "                                                                 \n",
      " dropout_8 (Dropout)         (None, 64)                0         \n",
      "                                                                 \n",
      " output_layer (Dense)        (None, 10)                650       \n",
      "                                                                 \n",
      "=================================================================\n",
      "Total params: 924170 (3.53 MB)\n",
      "Trainable params: 924170 (3.53 MB)\n",
      "Non-trainable params: 0 (0.00 Byte)\n",
      "_________________________________________________________________\n"
     ]
    }
   ],
   "source": [
    "dropout_model = get_dropout_model()\n",
    "dropout_model.summary()"
   ]
  },
  {
   "cell_type": "code",
   "execution_count": 24,
   "id": "dec74d32",
   "metadata": {
    "ExecuteTime": {
     "end_time": "2023-07-11T08:45:35.596796Z",
     "start_time": "2023-07-11T08:44:15.596384Z"
    }
   },
   "outputs": [
    {
     "name": "stdout",
     "output_type": "stream",
     "text": [
      "Epoch 1/20\n",
      "60/60 [==============================] - 5s 52ms/step - loss: 1.9182 - accuracy: 0.2866 - val_loss: 0.9738 - val_accuracy: 0.7519\n",
      "Epoch 2/20\n",
      "60/60 [==============================] - 3s 51ms/step - loss: 0.8362 - accuracy: 0.7091 - val_loss: 0.4031 - val_accuracy: 0.8467\n",
      "Epoch 3/20\n",
      "60/60 [==============================] - 3s 52ms/step - loss: 0.5133 - accuracy: 0.8400 - val_loss: 0.2146 - val_accuracy: 0.9461\n",
      "Epoch 4/20\n",
      "60/60 [==============================] - 3s 49ms/step - loss: 0.3569 - accuracy: 0.9123 - val_loss: 0.1624 - val_accuracy: 0.9603\n",
      "Epoch 5/20\n",
      "60/60 [==============================] - 3s 49ms/step - loss: 0.3005 - accuracy: 0.9298 - val_loss: 0.1523 - val_accuracy: 0.9619\n",
      "Epoch 6/20\n",
      "60/60 [==============================] - 3s 50ms/step - loss: 0.2578 - accuracy: 0.9399 - val_loss: 0.1284 - val_accuracy: 0.9675\n",
      "Epoch 7/20\n",
      "60/60 [==============================] - 3s 50ms/step - loss: 0.2312 - accuracy: 0.9460 - val_loss: 0.1202 - val_accuracy: 0.9702\n",
      "Epoch 8/20\n",
      "60/60 [==============================] - 3s 55ms/step - loss: 0.2127 - accuracy: 0.9509 - val_loss: 0.1195 - val_accuracy: 0.9701\n",
      "Epoch 9/20\n",
      "60/60 [==============================] - 3s 50ms/step - loss: 0.1951 - accuracy: 0.9556 - val_loss: 0.1179 - val_accuracy: 0.9718\n",
      "Epoch 10/20\n",
      "60/60 [==============================] - 3s 56ms/step - loss: 0.1893 - accuracy: 0.9571 - val_loss: 0.1019 - val_accuracy: 0.9756\n",
      "Epoch 11/20\n",
      "60/60 [==============================] - 3s 51ms/step - loss: 0.1685 - accuracy: 0.9614 - val_loss: 0.0991 - val_accuracy: 0.9765\n",
      "Epoch 12/20\n",
      "60/60 [==============================] - 3s 54ms/step - loss: 0.1658 - accuracy: 0.9620 - val_loss: 0.0984 - val_accuracy: 0.9758\n",
      "Epoch 13/20\n",
      "60/60 [==============================] - 3s 51ms/step - loss: 0.1516 - accuracy: 0.9646 - val_loss: 0.0945 - val_accuracy: 0.9797\n",
      "Epoch 14/20\n",
      "60/60 [==============================] - 3s 55ms/step - loss: 0.1490 - accuracy: 0.9653 - val_loss: 0.0865 - val_accuracy: 0.9808\n",
      "Epoch 15/20\n",
      "60/60 [==============================] - 3s 51ms/step - loss: 0.1436 - accuracy: 0.9664 - val_loss: 0.0852 - val_accuracy: 0.9814\n",
      "Epoch 16/20\n",
      "60/60 [==============================] - 3s 50ms/step - loss: 0.1404 - accuracy: 0.9674 - val_loss: 0.0847 - val_accuracy: 0.9810\n",
      "Epoch 17/20\n",
      "60/60 [==============================] - 3s 50ms/step - loss: 0.1327 - accuracy: 0.9687 - val_loss: 0.0836 - val_accuracy: 0.9804\n",
      "Epoch 18/20\n",
      "60/60 [==============================] - 3s 51ms/step - loss: 0.1258 - accuracy: 0.9700 - val_loss: 0.0775 - val_accuracy: 0.9809\n",
      "Epoch 19/20\n",
      "60/60 [==============================] - 3s 53ms/step - loss: 0.1239 - accuracy: 0.9707 - val_loss: 0.0849 - val_accuracy: 0.9809\n",
      "Epoch 20/20\n",
      "60/60 [==============================] - 4s 58ms/step - loss: 0.1196 - accuracy: 0.9718 - val_loss: 0.0866 - val_accuracy: 0.9803\n"
     ]
    }
   ],
   "source": [
    "# Dropout Layer를 사용하면 사용하지 않았을 때 보다 epoch을 더 늘려야 한다.\n",
    "hist = dropout_model.fit(train_dataset, epochs=N_EPOCH, validation_data=test_dataset)\n",
    "# 더 진행하면 성능이 더 좋아질 수 있다는 것을 알 수 있다.\n",
    "# 즉,dropout을 사용하면 epoch을 더 늘려야한다."
   ]
  },
  {
   "cell_type": "code",
   "execution_count": 25,
   "id": "9432294d",
   "metadata": {
    "ExecuteTime": {
     "end_time": "2023-02-21T08:40:13.478489Z",
     "start_time": "2023-02-21T08:40:12.998512Z"
    }
   },
   "outputs": [
    {
     "data": {
      "image/png": "[encoded data removed]",
      "text/plain": [
       "<Figure size 1000x500 with 2 Axes>"
      ]
     },
     "metadata": {},
     "output_type": "display_data"
    }
   ],
   "source": [
    "plot_result(hist)\n",
    "# 오히려 val이 더 좋은 것을 볼 수 있다. 꾸준히 전체적으로 성능이 좋아지고 있는 것을 알 수 있다."
   ]
  },
  {
   "cell_type": "markdown",
   "id": "976893a2",
   "metadata": {},
   "source": [
    "# Batch Normalization 예제"
   ]
  },
  {
   "cell_type": "code",
   "execution_count": 26,
   "id": "3a96fa75",
   "metadata": {
    "ExecuteTime": {
     "end_time": "2023-07-11T08:46:12.348158Z",
     "start_time": "2023-07-11T08:46:12.335112Z"
    }
   },
   "outputs": [],
   "source": [
    "def get_model_bn(lr=0.01):\n",
    "    \n",
    "    model = keras.Sequential()\n",
    "    model.add(layers.Flatten(input_shape=(28,28)))\n",
    "    \n",
    "    \n",
    "    # (Dropout Layer ->) Dense Layer -> Batch Normalization -> ReLU(Activation)\n",
    "    model.add(layers.Dense(256)) # WX+b\n",
    "    model.add(layers.BatchNormalization()) # 평균: 0+beta, 표준편차: 1+gamma로 정규화를 시킨다. -> gamma,beta는 학습하면서 찾는다.\n",
    "    model.add(layers.ReLU()) # Activation\n",
    "    \n",
    "    model.add(layers.Dense(256))\n",
    "    model.add(layers.BatchNormalization())\n",
    "    model.add(layers.ReLU())\n",
    "    \n",
    "    model.add(layers.Dense(128))\n",
    "    model.add(layers.BatchNormalization())\n",
    "    model.add(layers.ReLU())\n",
    "    \n",
    "    model.add(layers.Dense(128))\n",
    "    model.add(layers.BatchNormalization())\n",
    "    model.add(layers.ReLU())\n",
    "    \n",
    "    model.add(layers.Dense(64))\n",
    "    model.add(layers.BatchNormalization())\n",
    "    model.add(layers.ReLU())\n",
    "    \n",
    "    model.add(layers.Dense(64))\n",
    "    model.add(layers.BatchNormalization())\n",
    "    model.add(layers.ReLU())\n",
    "    \n",
    "    # output layer\n",
    "    model.add(layers.Dense(10))\n",
    "    model.add(layers.Softmax())\n",
    "    \n",
    "    model.compile(optimizer=optimizers.Adam(learning_rate=lr), \n",
    "                  loss='categorical_crossentropy', metrics=['accuracy'])\n",
    "    return model    "
   ]
  },
  {
   "cell_type": "code",
   "execution_count": 27,
   "id": "5e44f0e3",
   "metadata": {
    "ExecuteTime": {
     "end_time": "2023-07-11T08:46:14.314460Z",
     "start_time": "2023-07-11T08:46:13.933806Z"
    }
   },
   "outputs": [
    {
     "name": "stdout",
     "output_type": "stream",
     "text": [
      "Model: \"sequential_3\"\n",
      "_________________________________________________________________\n",
      " Layer (type)                Output Shape              Param #   \n",
      "=================================================================\n",
      " flatten_3 (Flatten)         (None, 784)               0         \n",
      "                                                                 \n",
      " dense_16 (Dense)            (None, 256)               200960    \n",
      "                                                                 \n",
      " batch_normalization (Batch  (None, 256)               1024      \n",
      " Normalization)                                                  \n",
      "                                                                 \n",
      " re_lu (ReLU)                (None, 256)               0         \n",
      "                                                                 \n",
      " dense_17 (Dense)            (None, 256)               65792     \n",
      "                                                                 \n",
      " batch_normalization_1 (Bat  (None, 256)               1024      \n",
      " chNormalization)                                                \n",
      "                                                                 \n",
      " re_lu_1 (ReLU)              (None, 256)               0         \n",
      "                                                                 \n",
      " dense_18 (Dense)            (None, 128)               32896     \n",
      "                                                                 \n",
      " batch_normalization_2 (Bat  (None, 128)               512       \n",
      " chNormalization)                                                \n",
      "                                                                 \n",
      " re_lu_2 (ReLU)              (None, 128)               0         \n",
      "                                                                 \n",
      " dense_19 (Dense)            (None, 128)               16512     \n",
      "                                                                 \n",
      " batch_normalization_3 (Bat  (None, 128)               512       \n",
      " chNormalization)                                                \n",
      "                                                                 \n",
      " re_lu_3 (ReLU)              (None, 128)               0         \n",
      "                                                                 \n",
      " dense_20 (Dense)            (None, 64)                8256      \n",
      "                                                                 \n",
      " batch_normalization_4 (Bat  (None, 64)                256       \n",
      " chNormalization)                                                \n",
      "                                                                 \n",
      " re_lu_4 (ReLU)              (None, 64)                0         \n",
      "                                                                 \n",
      " dense_21 (Dense)            (None, 64)                4160      \n",
      "                                                                 \n",
      " batch_normalization_5 (Bat  (None, 64)                256       \n",
      " chNormalization)                                                \n",
      "                                                                 \n",
      " re_lu_5 (ReLU)              (None, 64)                0         \n",
      "                                                                 \n",
      " dense_22 (Dense)            (None, 10)                650       \n",
      "                                                                 \n",
      " softmax (Softmax)           (None, 10)                0         \n",
      "                                                                 \n",
      "=================================================================\n",
      "Total params: 332810 (1.27 MB)\n",
      "Trainable params: 331018 (1.26 MB)\n",
      "Non-trainable params: 1792 (7.00 KB)\n",
      "_________________________________________________________________\n"
     ]
    }
   ],
   "source": [
    "model_bn = get_model_bn(LEARNING_RATE)\n",
    "model_bn.summary()"
   ]
  },
  {
   "cell_type": "code",
   "execution_count": 28,
   "id": "4c78c908",
   "metadata": {
    "ExecuteTime": {
     "end_time": "2023-07-11T08:46:50.665888Z",
     "start_time": "2023-07-11T08:46:19.381985Z"
    }
   },
   "outputs": [
    {
     "name": "stdout",
     "output_type": "stream",
     "text": [
      "Epoch 1/20\n",
      "60/60 [==============================] - 4s 21ms/step - loss: 0.5705 - accuracy: 0.8500 - val_loss: 1.2519 - val_accuracy: 0.9351\n",
      "Epoch 2/20\n",
      "60/60 [==============================] - 1s 18ms/step - loss: 0.1279 - accuracy: 0.9668 - val_loss: 0.4555 - val_accuracy: 0.9590\n",
      "Epoch 3/20\n",
      "60/60 [==============================] - 1s 18ms/step - loss: 0.0689 - accuracy: 0.9832 - val_loss: 0.1809 - val_accuracy: 0.9691\n",
      "Epoch 4/20\n",
      "60/60 [==============================] - 1s 19ms/step - loss: 0.0394 - accuracy: 0.9906 - val_loss: 0.1087 - val_accuracy: 0.9733\n",
      "Epoch 5/20\n",
      "60/60 [==============================] - 1s 18ms/step - loss: 0.0241 - accuracy: 0.9949 - val_loss: 0.0997 - val_accuracy: 0.9735\n",
      "Epoch 6/20\n",
      "60/60 [==============================] - 1s 19ms/step - loss: 0.0148 - accuracy: 0.9972 - val_loss: 0.0835 - val_accuracy: 0.9773\n",
      "Epoch 7/20\n",
      "60/60 [==============================] - 1s 19ms/step - loss: 0.0112 - accuracy: 0.9980 - val_loss: 0.0842 - val_accuracy: 0.9769\n",
      "Epoch 8/20\n",
      "60/60 [==============================] - 1s 19ms/step - loss: 0.0077 - accuracy: 0.9987 - val_loss: 0.0840 - val_accuracy: 0.9760\n",
      "Epoch 9/20\n",
      "60/60 [==============================] - 1s 18ms/step - loss: 0.0060 - accuracy: 0.9989 - val_loss: 0.0827 - val_accuracy: 0.9773\n",
      "Epoch 10/20\n",
      "60/60 [==============================] - 1s 20ms/step - loss: 0.0074 - accuracy: 0.9983 - val_loss: 0.1077 - val_accuracy: 0.9715\n",
      "Epoch 11/20\n",
      "60/60 [==============================] - 1s 19ms/step - loss: 0.0089 - accuracy: 0.9976 - val_loss: 0.0903 - val_accuracy: 0.9763\n",
      "Epoch 12/20\n",
      "60/60 [==============================] - 1s 19ms/step - loss: 0.0079 - accuracy: 0.9979 - val_loss: 0.1011 - val_accuracy: 0.9730\n",
      "Epoch 13/20\n",
      "60/60 [==============================] - 1s 22ms/step - loss: 0.0103 - accuracy: 0.9971 - val_loss: 0.0915 - val_accuracy: 0.9751\n",
      "Epoch 14/20\n",
      "60/60 [==============================] - 1s 20ms/step - loss: 0.0113 - accuracy: 0.9967 - val_loss: 0.0993 - val_accuracy: 0.9755\n",
      "Epoch 15/20\n",
      "60/60 [==============================] - 1s 21ms/step - loss: 0.0086 - accuracy: 0.9975 - val_loss: 0.0952 - val_accuracy: 0.9748\n",
      "Epoch 16/20\n",
      "60/60 [==============================] - 1s 21ms/step - loss: 0.0082 - accuracy: 0.9975 - val_loss: 0.0938 - val_accuracy: 0.9751\n",
      "Epoch 17/20\n",
      "60/60 [==============================] - 1s 19ms/step - loss: 0.0065 - accuracy: 0.9981 - val_loss: 0.0942 - val_accuracy: 0.9767\n",
      "Epoch 18/20\n",
      "60/60 [==============================] - 1s 20ms/step - loss: 0.0038 - accuracy: 0.9991 - val_loss: 0.0819 - val_accuracy: 0.9783\n",
      "Epoch 19/20\n",
      "60/60 [==============================] - 1s 22ms/step - loss: 0.0023 - accuracy: 0.9996 - val_loss: 0.0802 - val_accuracy: 0.9792\n",
      "Epoch 20/20\n",
      "60/60 [==============================] - 1s 22ms/step - loss: 0.0017 - accuracy: 0.9996 - val_loss: 0.0826 - val_accuracy: 0.9791\n"
     ]
    }
   ],
   "source": [
    "hist = model_bn.fit(train_dataset, epochs=N_EPOCH, validation_data=test_dataset)"
   ]
  },
  {
   "cell_type": "code",
   "execution_count": 29,
   "id": "dd159e40",
   "metadata": {
    "ExecuteTime": {
     "end_time": "2023-02-22T02:03:55.827225Z",
     "start_time": "2023-02-22T02:03:55.241212Z"
    }
   },
   "outputs": [
    {
     "data": {
      "image/png": "[encoded data removed]",
      "text/plain": [
       "<Figure size 1000x500 with 2 Axes>"
      ]
     },
     "metadata": {},
     "output_type": "display_data"
    }
   ],
   "source": [
    "plot_result(hist)"
   ]
  },
  {
   "cell_type": "markdown",
   "id": "167dd99f",
   "metadata": {},
   "source": [
    "# Learning Rate 변화를 통한 성능개선\n",
    "\n",
    "## Learning Rate scheduler 를 이용\n",
    "- 특정 step 마다 learning rate를 변경"
   ]
  },
  {
   "cell_type": "code",
   "execution_count": 31,
   "id": "f0f9fe21",
   "metadata": {},
   "outputs": [],
   "source": [
    "from tensorflow.keras import optimizers # optimizers(Adam,RMSProp...), Learning Rate 관련 알고리즘 구현된 모듈\n",
    "\n",
    "lr_scheduler = optimizers.schedules.ExponentialDecay(\n",
    "    initial_learning_rate=LEARNING_RATE, # 시작 Learning Rate\n",
    "    decay_steps=len(train_dataset)*5, # Learning Rate를 몇 step당 변경할 것인지 step 수\n",
    "    decay_rate=0.5,  # 현재 Learning Rate * decay_rate (LR 변경시 현재 LR에 곱해줄 값)\n",
    "    staircase=True # 계단형식으로 변경할지 여부. (True: 계단형식, False: 매 step 마다 조금씩 변경)\n",
    ")\n"
   ]
  },
  {
   "cell_type": "code",
   "execution_count": 32,
   "id": "2d33ce3b",
   "metadata": {
    "ExecuteTime": {
     "end_time": "2023-02-22T02:47:30.300438Z",
     "start_time": "2023-02-22T02:47:30.287010Z"
    }
   },
   "outputs": [],
   "source": [
    "def get_model_lr(initial_lr=0.01):\n",
    "    model = keras.Sequential()\n",
    "    model.add(layers.Flatten(input_shape=(28,28)))\n",
    "    model.add(layers.Dense(256, activation='relu'))\n",
    "    model.add(layers.Dense(128, activation='relu'))\n",
    "    model.add(layers.Dense(64, activation='relu'))\n",
    "    model.add(layers.Dense(10, activation='softmax', name='output_layer'))\n",
    "    \n",
    "    lr_sch = optimizers.schedules.ExponentialDecay(initial_learning_rate=initial_lr, \n",
    "                                                   decay_steps=len(train_dataset) * 5, \n",
    "                                                   decay_rate=0.5, \n",
    "                                                   staircase=True)\n",
    "    \n",
    "    model.compile(optimizer=optimizers.Adam(learning_rate=lr_sch), # learning rate 스케줄러를 상수 대신 설정해준다.\n",
    "                  loss='categorical_crossentropy', metrics=['accuracy'])\n",
    "    \n",
    "    return model"
   ]
  },
  {
   "cell_type": "code",
   "execution_count": 33,
   "id": "ab5e3436",
   "metadata": {
    "ExecuteTime": {
     "end_time": "2023-02-22T02:48:52.838966Z",
     "start_time": "2023-02-22T02:48:29.400420Z"
    },
    "scrolled": true
   },
   "outputs": [
    {
     "name": "stdout",
     "output_type": "stream",
     "text": [
      "Epoch 1/20\n",
      "60/60 [==============================] - 1s 12ms/step - loss: 0.6469 - accuracy: 0.8162 - val_loss: 0.2433 - val_accuracy: 0.9292\n",
      "Epoch 2/20\n",
      "60/60 [==============================] - 1s 12ms/step - loss: 0.2012 - accuracy: 0.9417 - val_loss: 0.1647 - val_accuracy: 0.9486\n",
      "Epoch 3/20\n",
      "60/60 [==============================] - 1s 13ms/step - loss: 0.1414 - accuracy: 0.9587 - val_loss: 0.1182 - val_accuracy: 0.9653\n",
      "Epoch 4/20\n",
      "60/60 [==============================] - 1s 13ms/step - loss: 0.1074 - accuracy: 0.9687 - val_loss: 0.1084 - val_accuracy: 0.9670\n",
      "Epoch 5/20\n",
      "60/60 [==============================] - 1s 12ms/step - loss: 0.0867 - accuracy: 0.9743 - val_loss: 0.0942 - val_accuracy: 0.9724\n",
      "Epoch 6/20\n",
      "60/60 [==============================] - 1s 12ms/step - loss: 0.0651 - accuracy: 0.9817 - val_loss: 0.0824 - val_accuracy: 0.9742\n",
      "Epoch 7/20\n",
      "60/60 [==============================] - 1s 12ms/step - loss: 0.0572 - accuracy: 0.9838 - val_loss: 0.0779 - val_accuracy: 0.9762\n",
      "Epoch 8/20\n",
      "60/60 [==============================] - 1s 12ms/step - loss: 0.0511 - accuracy: 0.9857 - val_loss: 0.0739 - val_accuracy: 0.9770\n",
      "Epoch 9/20\n",
      "60/60 [==============================] - 1s 12ms/step - loss: 0.0455 - accuracy: 0.9872 - val_loss: 0.0762 - val_accuracy: 0.9762\n",
      "Epoch 10/20\n",
      "60/60 [==============================] - 1s 13ms/step - loss: 0.0407 - accuracy: 0.9887 - val_loss: 0.0769 - val_accuracy: 0.9758\n",
      "Epoch 11/20\n",
      "60/60 [==============================] - 1s 12ms/step - loss: 0.0348 - accuracy: 0.9909 - val_loss: 0.0700 - val_accuracy: 0.9778\n",
      "Epoch 12/20\n",
      "60/60 [==============================] - 1s 11ms/step - loss: 0.0326 - accuracy: 0.9915 - val_loss: 0.0678 - val_accuracy: 0.9784\n",
      "Epoch 13/20\n",
      "60/60 [==============================] - 1s 12ms/step - loss: 0.0303 - accuracy: 0.9919 - val_loss: 0.0665 - val_accuracy: 0.9789\n",
      "Epoch 14/20\n",
      "60/60 [==============================] - 1s 12ms/step - loss: 0.0284 - accuracy: 0.9930 - val_loss: 0.0677 - val_accuracy: 0.9779\n",
      "Epoch 15/20\n",
      "60/60 [==============================] - 1s 13ms/step - loss: 0.0270 - accuracy: 0.9933 - val_loss: 0.0669 - val_accuracy: 0.9792\n",
      "Epoch 16/20\n",
      "60/60 [==============================] - 1s 13ms/step - loss: 0.0242 - accuracy: 0.9944 - val_loss: 0.0656 - val_accuracy: 0.9788\n",
      "Epoch 17/20\n",
      "60/60 [==============================] - 1s 12ms/step - loss: 0.0231 - accuracy: 0.9948 - val_loss: 0.0650 - val_accuracy: 0.9792\n",
      "Epoch 18/20\n",
      "60/60 [==============================] - 1s 12ms/step - loss: 0.0224 - accuracy: 0.9951 - val_loss: 0.0647 - val_accuracy: 0.9799\n",
      "Epoch 19/20\n",
      "60/60 [==============================] - 1s 11ms/step - loss: 0.0218 - accuracy: 0.9951 - val_loss: 0.0646 - val_accuracy: 0.9793\n",
      "Epoch 20/20\n",
      "60/60 [==============================] - 1s 13ms/step - loss: 0.0210 - accuracy: 0.9955 - val_loss: 0.0649 - val_accuracy: 0.9795\n"
     ]
    }
   ],
   "source": [
    "model_lr = get_model_lr(LEARNING_RATE)\n",
    "hist = model_lr.fit(train_dataset, epochs=N_EPOCH, validation_data=test_dataset)\n",
    "# Learning Rate가 바뀌는 시점에 loss가 개선되는 것을 볼 수 있다."
   ]
  },
  {
   "cell_type": "markdown",
   "id": "64ea9b5f",
   "metadata": {},
   "source": [
    "## callback 을 이용해 학습률 변경\n",
    "- 학습하는 도중에 상태가 바꼈을때 처리하고싶은게 있는경우  callback을 사용한다.\n",
    "- ReduceLROnPlateau callback을 이용"
   ]
  },
  {
   "cell_type": "code",
   "execution_count": 34,
   "id": "91b2a407",
   "metadata": {
    "ExecuteTime": {
     "end_time": "2023-02-22T03:27:19.206159Z",
     "start_time": "2023-02-22T03:27:19.198043Z"
    }
   },
   "outputs": [],
   "source": [
    "def get_model_lr2(initial_lr=0.01):\n",
    "    model = keras.Sequential()\n",
    "    model.add(layers.Flatten(input_shape=(28,28)))\n",
    "    model.add(layers.Dense(256, activation='relu'))\n",
    "    model.add(layers.Dense(128, activation='relu'))\n",
    "    model.add(layers.Dense(64, activation='relu'))\n",
    "    model.add(layers.Dense(10, activation='softmax', name='output_layer'))\n",
    "    \n",
    "    model.compile(optimizer=optimizers.Adam(learning_rate=initial_lr),\n",
    "                  loss='categorical_crossentropy', metrics=['accuracy'])\n",
    "    \n",
    "    return model"
   ]
  },
  {
   "cell_type": "code",
   "execution_count": 40,
   "id": "b401e266",
   "metadata": {
    "ExecuteTime": {
     "end_time": "2023-02-22T03:27:57.532586Z",
     "start_time": "2023-02-22T03:27:57.438685Z"
    }
   },
   "outputs": [],
   "source": [
    "model_lr2 = get_model_lr2(LEARNING_RATE)"
   ]
  },
  {
   "cell_type": "code",
   "execution_count": 43,
   "id": "4e9512f8",
   "metadata": {
    "ExecuteTime": {
     "end_time": "2023-02-22T03:33:11.067426Z",
     "start_time": "2023-02-22T03:32:28.895971Z"
    }
   },
   "outputs": [],
   "source": [
    "# callback 등록\n",
    "# callback -> tensorflow.keras.callbacks 모듈에 클래스로 정의\n",
    "### 필요한 callback 클래스의 객체를 생성해서 fit() 호출시 전달.\n",
    "\n",
    "\n",
    "##### ReduceRLROnpPlateau: 학습시 더이상 성능이 개선이 안되면 Learning Rate를 변경(줄인다.)\n",
    "lr_callback = keras.callbacks.ReduceLROnPlateau(monitor='val_loss', # 어떤 성능이 더이상개선안되면 변경할건지 성능개선과 관련해 볼 평가지표이다.(기본값:val_loss)\n",
    "                                                factor=0.5, # LR 조정비율 (현재 LR * factor)\n",
    "                                                patience=3, # 성능개선이 안된때 patience에 지정한 epoch만큼 기다린다.\n",
    "                                                verbose=2 # LR 변경될 때 로그를 남긴다.\n",
    "                                               )\n",
    "\n",
    "### val_loss가 3에폭동안 개선이 안되면 현재 LR에 0,5를 곱한값을 새로운 LR로 변경\n",
    "\n",
    "#### 성능이 개선될 때 마다 모델을 저장하는 callback 생성\n",
    "saved_dir = r\"C:\\classes\\saved_model\\mnist_best_model\"\n",
    "mc_callback = keras.callbacks.ModelCheckpoint(filepath=saved_dir, # 저장할 디렉토리 설정\n",
    "                                             save_best_only = True, # 성능이 개선될때 마다 저장.\n",
    "                                             monitor=\"val_loss\", # 성능개선과 관련해 볼 평가지표\n",
    "                                             verbose=2 # 저장할때 마다 로그(기록)을 출력\n",
    "                                             )\n",
    "### val_loss 성능이 개선될때 마다 모델을 save_dir에 저장해라."
   ]
  },
  {
   "cell_type": "code",
   "execution_count": 44,
   "id": "dd9bcae6",
   "metadata": {
    "ExecuteTime": {
     "end_time": "2023-02-22T03:33:11.067426Z",
     "start_time": "2023-02-22T03:32:28.895971Z"
    },
    "scrolled": true
   },
   "outputs": [
    {
     "name": "stdout",
     "output_type": "stream",
     "text": [
      "Epoch 1/30\n",
      "55/60 [==========================>...] - ETA: 0s - loss: 0.6640 - accuracy: 0.8238\n",
      "Epoch 1: val_loss improved from inf to 0.24344, saving model to C:\\classes\\saved_model\\mnist_best_model\n",
      "INFO:tensorflow:Assets written to: C:\\classes\\saved_model\\mnist_best_model\\assets\n"
     ]
    },
    {
     "name": "stderr",
     "output_type": "stream",
     "text": [
      "INFO:tensorflow:Assets written to: C:\\classes\\saved_model\\mnist_best_model\\assets\n"
     ]
    },
    {
     "name": "stdout",
     "output_type": "stream",
     "text": [
      "60/60 [==============================] - 2s 25ms/step - loss: 0.6306 - accuracy: 0.8319 - val_loss: 0.2434 - val_accuracy: 0.9300 - lr: 0.0010\n",
      "Epoch 2/30\n",
      "60/60 [==============================] - ETA: 0s - loss: 0.2033 - accuracy: 0.9410\n",
      "Epoch 2: val_loss improved from 0.24344 to 0.17259, saving model to C:\\classes\\saved_model\\mnist_best_model\n",
      "INFO:tensorflow:Assets written to: C:\\classes\\saved_model\\mnist_best_model\\assets\n"
     ]
    },
    {
     "name": "stderr",
     "output_type": "stream",
     "text": [
      "INFO:tensorflow:Assets written to: C:\\classes\\saved_model\\mnist_best_model\\assets\n"
     ]
    },
    {
     "name": "stdout",
     "output_type": "stream",
     "text": [
      "60/60 [==============================] - 1s 20ms/step - loss: 0.2033 - accuracy: 0.9410 - val_loss: 0.1726 - val_accuracy: 0.9478 - lr: 0.0010\n",
      "Epoch 3/30\n",
      "55/60 [==========================>...] - ETA: 0s - loss: 0.1445 - accuracy: 0.9588\n",
      "Epoch 3: val_loss improved from 0.17259 to 0.12581, saving model to C:\\classes\\saved_model\\mnist_best_model\n",
      "INFO:tensorflow:Assets written to: C:\\classes\\saved_model\\mnist_best_model\\assets\n"
     ]
    },
    {
     "name": "stderr",
     "output_type": "stream",
     "text": [
      "INFO:tensorflow:Assets written to: C:\\classes\\saved_model\\mnist_best_model\\assets\n"
     ]
    },
    {
     "name": "stdout",
     "output_type": "stream",
     "text": [
      "60/60 [==============================] - 2s 26ms/step - loss: 0.1437 - accuracy: 0.9589 - val_loss: 0.1258 - val_accuracy: 0.9627 - lr: 0.0010\n",
      "Epoch 4/30\n",
      "59/60 [============================>.] - ETA: 0s - loss: 0.1088 - accuracy: 0.9681\n",
      "Epoch 4: val_loss improved from 0.12581 to 0.10835, saving model to C:\\classes\\saved_model\\mnist_best_model\n",
      "INFO:tensorflow:Assets written to: C:\\classes\\saved_model\\mnist_best_model\\assets\n"
     ]
    },
    {
     "name": "stderr",
     "output_type": "stream",
     "text": [
      "INFO:tensorflow:Assets written to: C:\\classes\\saved_model\\mnist_best_model\\assets\n"
     ]
    },
    {
     "name": "stdout",
     "output_type": "stream",
     "text": [
      "60/60 [==============================] - 1s 22ms/step - loss: 0.1092 - accuracy: 0.9680 - val_loss: 0.1083 - val_accuracy: 0.9678 - lr: 0.0010\n",
      "Epoch 5/30\n",
      "56/60 [===========================>..] - ETA: 0s - loss: 0.0869 - accuracy: 0.9743\n",
      "Epoch 5: val_loss improved from 0.10835 to 0.09785, saving model to C:\\classes\\saved_model\\mnist_best_model\n",
      "INFO:tensorflow:Assets written to: C:\\classes\\saved_model\\mnist_best_model\\assets\n"
     ]
    },
    {
     "name": "stderr",
     "output_type": "stream",
     "text": [
      "INFO:tensorflow:Assets written to: C:\\classes\\saved_model\\mnist_best_model\\assets\n"
     ]
    },
    {
     "name": "stdout",
     "output_type": "stream",
     "text": [
      "60/60 [==============================] - 1s 23ms/step - loss: 0.0859 - accuracy: 0.9746 - val_loss: 0.0978 - val_accuracy: 0.9701 - lr: 0.0010\n",
      "Epoch 6/30\n",
      "60/60 [==============================] - ETA: 0s - loss: 0.0685 - accuracy: 0.9806\n",
      "Epoch 6: val_loss improved from 0.09785 to 0.08596, saving model to C:\\classes\\saved_model\\mnist_best_model\n",
      "INFO:tensorflow:Assets written to: C:\\classes\\saved_model\\mnist_best_model\\assets\n"
     ]
    },
    {
     "name": "stderr",
     "output_type": "stream",
     "text": [
      "INFO:tensorflow:Assets written to: C:\\classes\\saved_model\\mnist_best_model\\assets\n"
     ]
    },
    {
     "name": "stdout",
     "output_type": "stream",
     "text": [
      "60/60 [==============================] - 1s 23ms/step - loss: 0.0685 - accuracy: 0.9806 - val_loss: 0.0860 - val_accuracy: 0.9745 - lr: 0.0010\n",
      "Epoch 7/30\n",
      "55/60 [==========================>...] - ETA: 0s - loss: 0.0559 - accuracy: 0.9837\n",
      "Epoch 7: val_loss improved from 0.08596 to 0.08186, saving model to C:\\classes\\saved_model\\mnist_best_model\n",
      "INFO:tensorflow:Assets written to: C:\\classes\\saved_model\\mnist_best_model\\assets\n"
     ]
    },
    {
     "name": "stderr",
     "output_type": "stream",
     "text": [
      "INFO:tensorflow:Assets written to: C:\\classes\\saved_model\\mnist_best_model\\assets\n"
     ]
    },
    {
     "name": "stdout",
     "output_type": "stream",
     "text": [
      "60/60 [==============================] - 1s 21ms/step - loss: 0.0562 - accuracy: 0.9837 - val_loss: 0.0819 - val_accuracy: 0.9756 - lr: 0.0010\n",
      "Epoch 8/30\n",
      "57/60 [===========================>..] - ETA: 0s - loss: 0.0472 - accuracy: 0.9867\n",
      "Epoch 8: val_loss improved from 0.08186 to 0.07554, saving model to C:\\classes\\saved_model\\mnist_best_model\n",
      "INFO:tensorflow:Assets written to: C:\\classes\\saved_model\\mnist_best_model\\assets\n"
     ]
    },
    {
     "name": "stderr",
     "output_type": "stream",
     "text": [
      "INFO:tensorflow:Assets written to: C:\\classes\\saved_model\\mnist_best_model\\assets\n"
     ]
    },
    {
     "name": "stdout",
     "output_type": "stream",
     "text": [
      "60/60 [==============================] - 2s 23ms/step - loss: 0.0471 - accuracy: 0.9867 - val_loss: 0.0755 - val_accuracy: 0.9773 - lr: 0.0010\n",
      "Epoch 9/30\n",
      "58/60 [============================>.] - ETA: 0s - loss: 0.0395 - accuracy: 0.9888\n",
      "Epoch 9: val_loss improved from 0.07554 to 0.07288, saving model to C:\\classes\\saved_model\\mnist_best_model\n",
      "INFO:tensorflow:Assets written to: C:\\classes\\saved_model\\mnist_best_model\\assets\n"
     ]
    },
    {
     "name": "stderr",
     "output_type": "stream",
     "text": [
      "INFO:tensorflow:Assets written to: C:\\classes\\saved_model\\mnist_best_model\\assets\n"
     ]
    },
    {
     "name": "stdout",
     "output_type": "stream",
     "text": [
      "60/60 [==============================] - 1s 21ms/step - loss: 0.0398 - accuracy: 0.9886 - val_loss: 0.0729 - val_accuracy: 0.9780 - lr: 0.0010\n",
      "Epoch 10/30\n",
      "57/60 [===========================>..] - ETA: 0s - loss: 0.0318 - accuracy: 0.9911\n",
      "Epoch 10: val_loss did not improve from 0.07288\n",
      "60/60 [==============================] - 1s 12ms/step - loss: 0.0321 - accuracy: 0.9910 - val_loss: 0.0772 - val_accuracy: 0.9766 - lr: 0.0010\n",
      "Epoch 11/30\n",
      "58/60 [============================>.] - ETA: 0s - loss: 0.0281 - accuracy: 0.9922\n",
      "Epoch 11: val_loss improved from 0.07288 to 0.07105, saving model to C:\\classes\\saved_model\\mnist_best_model\n",
      "INFO:tensorflow:Assets written to: C:\\classes\\saved_model\\mnist_best_model\\assets\n"
     ]
    },
    {
     "name": "stderr",
     "output_type": "stream",
     "text": [
      "INFO:tensorflow:Assets written to: C:\\classes\\saved_model\\mnist_best_model\\assets\n"
     ]
    },
    {
     "name": "stdout",
     "output_type": "stream",
     "text": [
      "60/60 [==============================] - 1s 21ms/step - loss: 0.0279 - accuracy: 0.9923 - val_loss: 0.0710 - val_accuracy: 0.9783 - lr: 0.0010\n",
      "Epoch 12/30\n",
      "60/60 [==============================] - ETA: 0s - loss: 0.0215 - accuracy: 0.9946\n",
      "Epoch 12: val_loss improved from 0.07105 to 0.06892, saving model to C:\\classes\\saved_model\\mnist_best_model\n",
      "INFO:tensorflow:Assets written to: C:\\classes\\saved_model\\mnist_best_model\\assets\n"
     ]
    },
    {
     "name": "stderr",
     "output_type": "stream",
     "text": [
      "INFO:tensorflow:Assets written to: C:\\classes\\saved_model\\mnist_best_model\\assets\n"
     ]
    },
    {
     "name": "stdout",
     "output_type": "stream",
     "text": [
      "60/60 [==============================] - 1s 21ms/step - loss: 0.0215 - accuracy: 0.9946 - val_loss: 0.0689 - val_accuracy: 0.9793 - lr: 0.0010\n",
      "Epoch 13/30\n",
      "60/60 [==============================] - ETA: 0s - loss: 0.0186 - accuracy: 0.9954\n",
      "Epoch 13: val_loss improved from 0.06892 to 0.06686, saving model to C:\\classes\\saved_model\\mnist_best_model\n",
      "INFO:tensorflow:Assets written to: C:\\classes\\saved_model\\mnist_best_model\\assets\n"
     ]
    },
    {
     "name": "stderr",
     "output_type": "stream",
     "text": [
      "INFO:tensorflow:Assets written to: C:\\classes\\saved_model\\mnist_best_model\\assets\n"
     ]
    },
    {
     "name": "stdout",
     "output_type": "stream",
     "text": [
      "60/60 [==============================] - 2s 25ms/step - loss: 0.0186 - accuracy: 0.9954 - val_loss: 0.0669 - val_accuracy: 0.9798 - lr: 0.0010\n",
      "Epoch 14/30\n",
      "56/60 [===========================>..] - ETA: 0s - loss: 0.0152 - accuracy: 0.9965\n",
      "Epoch 14: val_loss did not improve from 0.06686\n",
      "60/60 [==============================] - 1s 12ms/step - loss: 0.0156 - accuracy: 0.9963 - val_loss: 0.0751 - val_accuracy: 0.9788 - lr: 0.0010\n",
      "Epoch 15/30\n",
      "58/60 [============================>.] - ETA: 0s - loss: 0.0133 - accuracy: 0.9971\n",
      "Epoch 15: val_loss did not improve from 0.06686\n",
      "60/60 [==============================] - 1s 12ms/step - loss: 0.0131 - accuracy: 0.9971 - val_loss: 0.0724 - val_accuracy: 0.9784 - lr: 0.0010\n",
      "Epoch 16/30\n",
      "57/60 [===========================>..] - ETA: 0s - loss: 0.0100 - accuracy: 0.9982\n",
      "Epoch 16: ReduceLROnPlateau reducing learning rate to 0.0005000000237487257.\n",
      "\n",
      "Epoch 16: val_loss did not improve from 0.06686\n",
      "60/60 [==============================] - 1s 14ms/step - loss: 0.0102 - accuracy: 0.9981 - val_loss: 0.0717 - val_accuracy: 0.9802 - lr: 0.0010\n",
      "Epoch 17/30\n",
      "56/60 [===========================>..] - ETA: 0s - loss: 0.0070 - accuracy: 0.9989\n",
      "Epoch 17: val_loss did not improve from 0.06686\n",
      "60/60 [==============================] - 1s 11ms/step - loss: 0.0069 - accuracy: 0.9990 - val_loss: 0.0689 - val_accuracy: 0.9805 - lr: 5.0000e-04\n",
      "Epoch 18/30\n",
      "57/60 [===========================>..] - ETA: 0s - loss: 0.0054 - accuracy: 0.9994\n",
      "Epoch 18: val_loss did not improve from 0.06686\n",
      "60/60 [==============================] - 1s 13ms/step - loss: 0.0054 - accuracy: 0.9994 - val_loss: 0.0693 - val_accuracy: 0.9797 - lr: 5.0000e-04\n",
      "Epoch 19/30\n",
      "58/60 [============================>.] - ETA: 0s - loss: 0.0050 - accuracy: 0.9994\n",
      "Epoch 19: ReduceLROnPlateau reducing learning rate to 0.0002500000118743628.\n",
      "\n",
      "Epoch 19: val_loss did not improve from 0.06686\n",
      "60/60 [==============================] - 1s 13ms/step - loss: 0.0050 - accuracy: 0.9995 - val_loss: 0.0716 - val_accuracy: 0.9797 - lr: 5.0000e-04\n",
      "Epoch 20/30\n",
      "56/60 [===========================>..] - ETA: 0s - loss: 0.0042 - accuracy: 0.9997\n",
      "Epoch 20: val_loss did not improve from 0.06686\n",
      "60/60 [==============================] - 1s 12ms/step - loss: 0.0042 - accuracy: 0.9997 - val_loss: 0.0705 - val_accuracy: 0.9804 - lr: 2.5000e-04\n",
      "Epoch 21/30\n",
      "57/60 [===========================>..] - ETA: 0s - loss: 0.0038 - accuracy: 0.9998\n",
      "Epoch 21: val_loss did not improve from 0.06686\n",
      "60/60 [==============================] - 1s 12ms/step - loss: 0.0038 - accuracy: 0.9998 - val_loss: 0.0705 - val_accuracy: 0.9805 - lr: 2.5000e-04\n",
      "Epoch 22/30\n",
      "59/60 [============================>.] - ETA: 0s - loss: 0.0036 - accuracy: 0.9998\n",
      "Epoch 22: ReduceLROnPlateau reducing learning rate to 0.0001250000059371814.\n",
      "\n",
      "Epoch 22: val_loss did not improve from 0.06686\n",
      "60/60 [==============================] - 1s 13ms/step - loss: 0.0036 - accuracy: 0.9998 - val_loss: 0.0712 - val_accuracy: 0.9806 - lr: 2.5000e-04\n",
      "Epoch 23/30\n",
      "56/60 [===========================>..] - ETA: 0s - loss: 0.0033 - accuracy: 0.9998\n",
      "Epoch 23: val_loss did not improve from 0.06686\n",
      "60/60 [==============================] - 1s 12ms/step - loss: 0.0033 - accuracy: 0.9998 - val_loss: 0.0713 - val_accuracy: 0.9808 - lr: 1.2500e-04\n",
      "Epoch 24/30\n",
      "54/60 [==========================>...] - ETA: 0s - loss: 0.0032 - accuracy: 0.9999\n",
      "Epoch 24: val_loss did not improve from 0.06686\n",
      "60/60 [==============================] - 1s 11ms/step - loss: 0.0032 - accuracy: 0.9999 - val_loss: 0.0714 - val_accuracy: 0.9806 - lr: 1.2500e-04\n",
      "Epoch 25/30\n",
      "58/60 [============================>.] - ETA: 0s - loss: 0.0030 - accuracy: 0.9999\n",
      "Epoch 25: ReduceLROnPlateau reducing learning rate to 6.25000029685907e-05.\n",
      "\n",
      "Epoch 25: val_loss did not improve from 0.06686\n",
      "60/60 [==============================] - 1s 11ms/step - loss: 0.0031 - accuracy: 0.9999 - val_loss: 0.0714 - val_accuracy: 0.9806 - lr: 1.2500e-04\n",
      "Epoch 26/30\n",
      "59/60 [============================>.] - ETA: 0s - loss: 0.0029 - accuracy: 0.9999\n",
      "Epoch 26: val_loss did not improve from 0.06686\n",
      "60/60 [==============================] - 1s 12ms/step - loss: 0.0029 - accuracy: 0.9999 - val_loss: 0.0716 - val_accuracy: 0.9806 - lr: 6.2500e-05\n",
      "Epoch 27/30\n",
      "59/60 [============================>.] - ETA: 0s - loss: 0.0029 - accuracy: 0.9999\n",
      "Epoch 27: val_loss did not improve from 0.06686\n",
      "60/60 [==============================] - 1s 12ms/step - loss: 0.0029 - accuracy: 0.9999 - val_loss: 0.0717 - val_accuracy: 0.9805 - lr: 6.2500e-05\n",
      "Epoch 28/30\n",
      "59/60 [============================>.] - ETA: 0s - loss: 0.0028 - accuracy: 0.9999\n",
      "Epoch 28: ReduceLROnPlateau reducing learning rate to 3.125000148429535e-05.\n",
      "\n",
      "Epoch 28: val_loss did not improve from 0.06686\n",
      "60/60 [==============================] - 1s 11ms/step - loss: 0.0029 - accuracy: 0.9999 - val_loss: 0.0717 - val_accuracy: 0.9809 - lr: 6.2500e-05\n",
      "Epoch 29/30\n",
      "56/60 [===========================>..] - ETA: 0s - loss: 0.0028 - accuracy: 0.9999\n",
      "Epoch 29: val_loss did not improve from 0.06686\n",
      "60/60 [==============================] - 1s 11ms/step - loss: 0.0028 - accuracy: 0.9999 - val_loss: 0.0719 - val_accuracy: 0.9805 - lr: 3.1250e-05\n",
      "Epoch 30/30\n",
      "57/60 [===========================>..] - ETA: 0s - loss: 0.0028 - accuracy: 0.9999\n",
      "Epoch 30: val_loss did not improve from 0.06686\n",
      "60/60 [==============================] - 1s 11ms/step - loss: 0.0028 - accuracy: 0.9999 - val_loss: 0.0721 - val_accuracy: 0.9807 - lr: 3.1250e-05\n"
     ]
    }
   ],
   "source": [
    "hist = model_lr2.fit(train_dataset, epochs=N_EPOCH+10, validation_data=test_dataset, \n",
    "                    callbacks=[lr_callback,mc_callback]) # callback=[콜백객체,...]"
   ]
  },
  {
   "cell_type": "code",
   "execution_count": 46,
   "id": "faadef74",
   "metadata": {},
   "outputs": [],
   "source": [
    "saved_model = keras.models.load_model(saved_dir)"
   ]
  },
  {
   "cell_type": "code",
   "execution_count": 47,
   "id": "cfcf708c",
   "metadata": {},
   "outputs": [
    {
     "name": "stdout",
     "output_type": "stream",
     "text": [
      "10/10 [==============================] - 0s 6ms/step - loss: 0.0669 - accuracy: 0.9798\n"
     ]
    },
    {
     "data": {
      "text/plain": [
       "[0.06685523688793182, 0.9797999858856201]"
      ]
     },
     "execution_count": 47,
     "metadata": {},
     "output_type": "execute_result"
    }
   ],
   "source": [
    "saved_model.evaluate(test_dataset)"
   ]
  }
 ],
 "metadata": {
  "kernelspec": {
   "display_name": "Python 3 (ipykernel)",
   "language": "python",
   "name": "python3"
  },
  "language_info": {
   "codemirror_mode": {
    "name": "ipython",
    "version": 3
   },
   "file_extension": ".py",
   "mimetype": "text/x-python",
   "name": "python",
   "nbconvert_exporter": "python",
   "pygments_lexer": "ipython3",
   "version": "3.10.11"
  },
  "toc": {
   "base_numbering": 1,
   "nav_menu": {},
   "number_sections": true,
   "sideBar": true,
   "skip_h1_title": false,
   "title_cell": "Table of Contents",
   "title_sidebar": "Contents",
   "toc_cell": false,
   "toc_position": {},
   "toc_section_display": true,
   "toc_window_display": false
  },
  "varInspector": {
   "cols": {
    "lenName": 16,
    "lenType": 16,
    "lenVar": 40
   },
   "kernels_config": {
    "python": {
     "delete_cmd_postfix": "",
     "delete_cmd_prefix": "del ",
     "library": "var_list.py",
     "varRefreshCmd": "print(var_dic_list())"
    },
    "r": {
     "delete_cmd_postfix": ") ",
     "delete_cmd_prefix": "rm(",
     "library": "var_list.r",
     "varRefreshCmd": "cat(var_dic_list()) "
    }
   },
   "types_to_exclude": [
    "module",
    "function",
    "builtin_function_or_method",
    "instance",
    "_Feature"
   ],
   "window_display": false
  }
 },
 "nbformat": 4,
 "nbformat_minor": 5
}
