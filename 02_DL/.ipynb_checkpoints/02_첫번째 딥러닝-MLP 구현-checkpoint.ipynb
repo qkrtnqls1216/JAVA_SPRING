{
 "cells": [
  {
   "cell_type": "markdown",
   "metadata": {
    "slideshow": {
     "slide_type": "slide"
    }
   },
   "source": [
    "# Keras 개발 Process"
   ]
  },
  {
   "cell_type": "markdown",
   "metadata": {
    "slideshow": {
     "slide_type": "fragment"
    }
   },
   "source": [
    "1. 입력 텐서(X)와 출력 텐서(y)로 이뤄진 **훈련 데이터를 정의**"
   ]
  },
  {
   "cell_type": "markdown",
   "metadata": {
    "slideshow": {
     "slide_type": "fragment"
    }
   },
   "source": [
    "2. 입력과 출력을 연결하는 Layer(층)으로 이뤄진 **네트워크(모델)을 정의**\n",
    "    - Sequential 방식: 순서대로 쌓아올린 네트워크로 이뤄진 모델을 생성하는 방식\n",
    "    - Functional API 방식: 다양한 구조의 네트워크로 이뤄진 모델을 생성하는 방식\n",
    "    - Subclass 방식: 네트워크를 정의하는 클래스를 구현.\n",
    "    "
   ]
  },
  {
   "cell_type": "markdown",
   "metadata": {
    "slideshow": {
     "slide_type": "fragment"
    }
   },
   "source": [
    "3. **모델 Compile(컴파일)**\n",
    "    - 모델이 Train(학습)할때 사용할 손실함수(Loss Function), 최적화기법(Optimizer), 학습과정을 모니터링할 평가지표(Metrics)를 설정\n",
    "    \n",
    "    > Compile: 실행할 수 있는 상태로 만들어 주는 것."
   ]
  },
  {
   "cell_type": "markdown",
   "metadata": {
    "slideshow": {
     "slide_type": "fragment"
    }
   },
   "source": [
    "4. **Training(학습/훈련)**\n",
    "    - Train dataset을 이용해 모델을 Train 시킨다."
   ]
  },
  {
   "cell_type": "markdown",
   "metadata": {
    "slideshow": {
     "slide_type": "slide"
    }
   },
   "source": [
    "# MNIST 이미지 분류 \n",
    "- ### [MNIST](https://ko.wikipedia.org/wiki/MNIST_%EB%8D%B0%EC%9D%B4%ED%84%B0%EB%B2%A0%EC%9D%B4%EC%8A%A4)(Modified National Institute of Standards and Technology) database\n",
    "- 흑백 손글씨 숫자 0-9까지 10개의 범주로 구분해놓은 데이터셋\n",
    "- 하나의 이미지는 28 * 28 pixel 의 크기\n",
    "- 6만개의 Train 이미지와 1만개의 Test 이미지로 구성됨."
   ]
  },
  {
   "cell_type": "markdown",
   "metadata": {},
   "source": [
    "##### import"
   ]
  },
  {
   "cell_type": "code",
   "execution_count": 1,
   "metadata": {
    "ExecuteTime": {
     "end_time": "2023-07-07T06:28:12.652333Z",
     "start_time": "2023-07-07T06:28:09.356957Z"
    }
   },
   "outputs": [
    {
     "name": "stdout",
     "output_type": "stream",
     "text": [
      "2.13.0\n"
     ]
    }
   ],
   "source": [
    "import random\n",
    "import numpy as np\n",
    "import tensorflow as tf\n",
    "from tensorflow import keras\n",
    "\n",
    "print(tf.__version__) # 설치된 tensorflow 버전 확인. -> 라이브러리의 버전이 몇인지 나온다.\n",
    "# seed값 설정\n",
    "# sikict- learn은 randomstate=0이라고 설정을 할 수 있었는데 tensorflow는 없어서 밑에 처럼 random,seed를 설정해줘야한다.\n",
    "np.random.seed(0)\n",
    "tf.random.set_seed(0)\n",
    "random.seed(0)"
   ]
  },
  {
   "cell_type": "markdown",
   "metadata": {
    "ExecuteTime": {
     "end_time": "2021-08-30T05:02:52.852140Z",
     "start_time": "2021-08-30T05:02:52.563117Z"
    },
    "slideshow": {
     "slide_type": "slide"
    }
   },
   "source": [
    "##### MNIST dataset Loading"
   ]
  },
  {
   "cell_type": "code",
   "execution_count": 2,
   "metadata": {
    "ExecuteTime": {
     "end_time": "2023-07-07T06:28:23.583172Z",
     "start_time": "2023-07-07T06:28:23.291893Z"
    }
   },
   "outputs": [],
   "source": [
    "# 데이터 로드 및 분류\n",
    "(train_image, train_label), (test_image, test_label) = keras.datasets.mnist.load_data()"
   ]
  },
  {
   "cell_type": "code",
   "execution_count": 3,
   "metadata": {
    "ExecuteTime": {
     "end_time": "2023-07-07T06:28:24.298523Z",
     "start_time": "2023-07-07T06:28:24.279443Z"
    }
   },
   "outputs": [
    {
     "data": {
      "text/plain": [
       "((60000, 28, 28), (60000,), (10000, 28, 28), (10000,))"
      ]
     },
     "execution_count": 3,
     "metadata": {},
     "output_type": "execute_result"
    }
   ],
   "source": [
    "train_image.shape, train_label.shape, test_image.shape, test_label.shape\n",
    "# (60000: 개수, (28, 28): 한개의 데이터의 shape) => 28행 28열로 데이터가 총 60000개야\n",
    "# 이미지 데이터가 2차원인 경우 (gray scale) - (height,width)\n",
    "# 이미지 데이터가 3차원인 경우 (color) - (height, width, channel:한 pixel의 값을 구성하는 값들 R,G,B)"
   ]
  },
  {
   "cell_type": "code",
   "execution_count": 4,
   "metadata": {},
   "outputs": [
    {
     "data": {
      "text/plain": [
       "array([[  0,   0,   0,   0,   0,   0,   0,   0,   0,   0,   0,   0,   0,\n",
       "          0,   0,   0,   0,   0,   0,   0,   0,   0,   0,   0,   0,   0,\n",
       "          0,   0],\n",
       "       [  0,   0,   0,   0,   0,   0,   0,   0,   0,   0,   0,   0,   0,\n",
       "          0,   0,   0,   0,   0,   0,   0,   0,   0,   0,   0,   0,   0,\n",
       "          0,   0],\n",
       "       [  0,   0,   0,   0,   0,   0,   0,   0,   0,   0,   0,   0,   0,\n",
       "          0,   0,   0,   0,   0,   0,   0,   0,   0,   0,   0,   0,   0,\n",
       "          0,   0],\n",
       "       [  0,   0,   0,   0,   0,   0,   0,   0,   0,   0,   0,   0,   0,\n",
       "          0,   0,   0,   0,   0,   0,   0,   0,   0,   0,   0,   0,   0,\n",
       "          0,   0],\n",
       "       [  0,   0,   0,   0,   0,   0,   0,   0,   0,   0,   0,   0,   0,\n",
       "          0,   0,   0,   0,   0,   0,   0,   0,   0,   0,   0,   0,   0,\n",
       "          0,   0],\n",
       "       [  0,   0,   0,   0,   0,   0,   0,   0,   0,   0,   0,   0,   3,\n",
       "         18,  18,  18, 126, 136, 175,  26, 166, 255, 247, 127,   0,   0,\n",
       "          0,   0],\n",
       "       [  0,   0,   0,   0,   0,   0,   0,   0,  30,  36,  94, 154, 170,\n",
       "        253, 253, 253, 253, 253, 225, 172, 253, 242, 195,  64,   0,   0,\n",
       "          0,   0],\n",
       "       [  0,   0,   0,   0,   0,   0,   0,  49, 238, 253, 253, 253, 253,\n",
       "        253, 253, 253, 253, 251,  93,  82,  82,  56,  39,   0,   0,   0,\n",
       "          0,   0],\n",
       "       [  0,   0,   0,   0,   0,   0,   0,  18, 219, 253, 253, 253, 253,\n",
       "        253, 198, 182, 247, 241,   0,   0,   0,   0,   0,   0,   0,   0,\n",
       "          0,   0],\n",
       "       [  0,   0,   0,   0,   0,   0,   0,   0,  80, 156, 107, 253, 253,\n",
       "        205,  11,   0,  43, 154,   0,   0,   0,   0,   0,   0,   0,   0,\n",
       "          0,   0],\n",
       "       [  0,   0,   0,   0,   0,   0,   0,   0,   0,  14,   1, 154, 253,\n",
       "         90,   0,   0,   0,   0,   0,   0,   0,   0,   0,   0,   0,   0,\n",
       "          0,   0],\n",
       "       [  0,   0,   0,   0,   0,   0,   0,   0,   0,   0,   0, 139, 253,\n",
       "        190,   2,   0,   0,   0,   0,   0,   0,   0,   0,   0,   0,   0,\n",
       "          0,   0],\n",
       "       [  0,   0,   0,   0,   0,   0,   0,   0,   0,   0,   0,  11, 190,\n",
       "        253,  70,   0,   0,   0,   0,   0,   0,   0,   0,   0,   0,   0,\n",
       "          0,   0],\n",
       "       [  0,   0,   0,   0,   0,   0,   0,   0,   0,   0,   0,   0,  35,\n",
       "        241, 225, 160, 108,   1,   0,   0,   0,   0,   0,   0,   0,   0,\n",
       "          0,   0],\n",
       "       [  0,   0,   0,   0,   0,   0,   0,   0,   0,   0,   0,   0,   0,\n",
       "         81, 240, 253, 253, 119,  25,   0,   0,   0,   0,   0,   0,   0,\n",
       "          0,   0],\n",
       "       [  0,   0,   0,   0,   0,   0,   0,   0,   0,   0,   0,   0,   0,\n",
       "          0,  45, 186, 253, 253, 150,  27,   0,   0,   0,   0,   0,   0,\n",
       "          0,   0],\n",
       "       [  0,   0,   0,   0,   0,   0,   0,   0,   0,   0,   0,   0,   0,\n",
       "          0,   0,  16,  93, 252, 253, 187,   0,   0,   0,   0,   0,   0,\n",
       "          0,   0],\n",
       "       [  0,   0,   0,   0,   0,   0,   0,   0,   0,   0,   0,   0,   0,\n",
       "          0,   0,   0,   0, 249, 253, 249,  64,   0,   0,   0,   0,   0,\n",
       "          0,   0],\n",
       "       [  0,   0,   0,   0,   0,   0,   0,   0,   0,   0,   0,   0,   0,\n",
       "          0,  46, 130, 183, 253, 253, 207,   2,   0,   0,   0,   0,   0,\n",
       "          0,   0],\n",
       "       [  0,   0,   0,   0,   0,   0,   0,   0,   0,   0,   0,   0,  39,\n",
       "        148, 229, 253, 253, 253, 250, 182,   0,   0,   0,   0,   0,   0,\n",
       "          0,   0],\n",
       "       [  0,   0,   0,   0,   0,   0,   0,   0,   0,   0,  24, 114, 221,\n",
       "        253, 253, 253, 253, 201,  78,   0,   0,   0,   0,   0,   0,   0,\n",
       "          0,   0],\n",
       "       [  0,   0,   0,   0,   0,   0,   0,   0,  23,  66, 213, 253, 253,\n",
       "        253, 253, 198,  81,   2,   0,   0,   0,   0,   0,   0,   0,   0,\n",
       "          0,   0],\n",
       "       [  0,   0,   0,   0,   0,   0,  18, 171, 219, 253, 253, 253, 253,\n",
       "        195,  80,   9,   0,   0,   0,   0,   0,   0,   0,   0,   0,   0,\n",
       "          0,   0],\n",
       "       [  0,   0,   0,   0,  55, 172, 226, 253, 253, 253, 253, 244, 133,\n",
       "         11,   0,   0,   0,   0,   0,   0,   0,   0,   0,   0,   0,   0,\n",
       "          0,   0],\n",
       "       [  0,   0,   0,   0, 136, 253, 253, 253, 212, 135, 132,  16,   0,\n",
       "          0,   0,   0,   0,   0,   0,   0,   0,   0,   0,   0,   0,   0,\n",
       "          0,   0],\n",
       "       [  0,   0,   0,   0,   0,   0,   0,   0,   0,   0,   0,   0,   0,\n",
       "          0,   0,   0,   0,   0,   0,   0,   0,   0,   0,   0,   0,   0,\n",
       "          0,   0],\n",
       "       [  0,   0,   0,   0,   0,   0,   0,   0,   0,   0,   0,   0,   0,\n",
       "          0,   0,   0,   0,   0,   0,   0,   0,   0,   0,   0,   0,   0,\n",
       "          0,   0],\n",
       "       [  0,   0,   0,   0,   0,   0,   0,   0,   0,   0,   0,   0,   0,\n",
       "          0,   0,   0,   0,   0,   0,   0,   0,   0,   0,   0,   0,   0,\n",
       "          0,   0]], dtype=uint8)"
      ]
     },
     "execution_count": 4,
     "metadata": {},
     "output_type": "execute_result"
    }
   ],
   "source": [
    "# 숫자 확인 해보기 - 안써도됨\n",
    "train_image[0]"
   ]
  },
  {
   "cell_type": "code",
   "execution_count": 5,
   "metadata": {
    "ExecuteTime": {
     "end_time": "2023-07-07T06:28:27.692286Z",
     "start_time": "2023-07-07T06:28:26.540799Z"
    }
   },
   "outputs": [
    {
     "data": {
      "image/png": "[encoded data removed]",
      "text/plain": [
       "<Figure size 1000x500 with 10 Axes>"
      ]
     },
     "metadata": {},
     "output_type": "display_data"
    }
   ],
   "source": [
    "# X값-image 확인\n",
    "import matplotlib.pyplot as plt\n",
    "plt.figure(figsize=(10,5)) \n",
    "\n",
    "for i in range(10): # 10개 이미지 출력\n",
    "    plt.subplot(2, 5, i+1) # figure를 2X5으로 나눔.\n",
    "    plt.imshow(train_image[i], cmap='gray') # 최소값: black 최대값: white\n",
    "    # 0에 가까우면 검은색에 가까운회색 큰값이면 화이트에 가까워진다.\n",
    "    plt.title(f'{train_label[i]}', fontsize=20) # 정답\n",
    "    plt.axis('off') # spine(외곽의 경계선 |_ )들을 제거\n",
    "\n",
    "plt.tight_layout() # 배치를 알아서 잘 해줘\n",
    "plt.show()\n",
    "# 60000개 중에 10개만 본 것이다. 다른것도 보려면 plt.subplot부분을 조정해 주면 된다."
   ]
  },
  {
   "cell_type": "markdown",
   "metadata": {
    "slideshow": {
     "slide_type": "slide"
    }
   },
   "source": [
    "## 데이터 준비\n",
    "- X (Input Data Image)\n",
    "    - 0 ~ 1 사이의 값으로 정규화 시킨다.\n",
    "- y (Output Data)\n",
    "    - one hot encoding 처리\n",
    "        - Label이 다중분류(Multi class classification)일 경우 One Hot Encoding 한다.\n",
    "            - 딥러닝 모델이 각 Label별 확률을 출력하도록 정의 되기 때문에 y(정답)도 같은 형태로 만들어 줘야 한다.\n",
    "    - Keras의 onehot encoding 처리 함수\n",
    "        - tensorflow.keras.utils.to_categorical()"
   ]
  },
  {
   "cell_type": "markdown",
   "metadata": {
    "ExecuteTime": {
     "end_time": "2021-08-30T05:07:46.170159Z",
     "start_time": "2021-08-30T05:07:45.800170Z"
    },
    "slideshow": {
     "slide_type": "fragment"
    }
   },
   "source": [
    "##### input image(X)를 정규화. \n",
    "- 이미지를 0 ~ 1 로 정규화 하고 타입을 float32로 변환"
   ]
  },
  {
   "cell_type": "code",
   "execution_count": 6,
   "metadata": {},
   "outputs": [
    {
     "data": {
      "text/plain": [
       "(0, 255, dtype('uint8'))"
      ]
     },
     "execution_count": 6,
     "metadata": {},
     "output_type": "execute_result"
    }
   ],
   "source": [
    "train_image.min(),train_image.max(), train_image.dtype # uint8: int형 8bit이지만 부호가 필요없어서 n이다."
   ]
  },
  {
   "cell_type": "code",
   "execution_count": 7,
   "metadata": {
    "ExecuteTime": {
     "end_time": "2023-07-07T06:28:32.833599Z",
     "start_time": "2023-07-07T06:28:32.691355Z"
    }
   },
   "outputs": [],
   "source": [
    "# 연속형 전처리\n",
    "# 딥러닝은 float를 좋아함\n",
    "# min_max_scaling: 0-255로 정해져있기 때문에 그냥 255로 나누면 된다.\n",
    "X_train = train_image.astype(\"float32\")/255\n",
    "X_test = test_image.astype('float32')/255"
   ]
  },
  {
   "cell_type": "markdown",
   "metadata": {
    "ExecuteTime": {
     "end_time": "2021-08-30T05:08:02.687904Z",
     "start_time": "2021-08-30T05:08:02.678864Z"
    },
    "slideshow": {
     "slide_type": "slide"
    }
   },
   "source": [
    "##### label(y)를 one hot encoding"
   ]
  },
  {
   "cell_type": "code",
   "execution_count": 8,
   "metadata": {
    "ExecuteTime": {
     "end_time": "2023-07-07T06:28:39.844729Z",
     "start_time": "2023-07-07T06:28:39.836669Z"
    }
   },
   "outputs": [
    {
     "data": {
      "text/plain": [
       "(array([0, 1, 2, 3, 4, 5, 6, 7, 8, 9], dtype=uint8),\n",
       " array([5923, 6742, 5958, 6131, 5842, 5421, 5918, 6265, 5851, 5949],\n",
       "       dtype=int64))"
      ]
     },
     "execution_count": 8,
     "metadata": {},
     "output_type": "execute_result"
    }
   ],
   "source": [
    "# 범주형 전처리\n",
    "np.unique(train_label, return_counts=True)"
   ]
  },
  {
   "cell_type": "code",
   "execution_count": 9,
   "metadata": {
    "ExecuteTime": {
     "end_time": "2023-07-07T06:28:40.560055Z",
     "start_time": "2023-07-07T06:28:40.547738Z"
    }
   },
   "outputs": [
    {
     "data": {
      "text/plain": [
       "((60000, 10), (10000, 10))"
      ]
     },
     "execution_count": 9,
     "metadata": {},
     "output_type": "execute_result"
    }
   ],
   "source": [
    "# to_categorical가 one hot encoding처리해준다.\n",
    "y_train = keras.utils.to_categorical(train_label, num_classes=10) # num_classes=10 생략가능\n",
    "y_test = keras.utils.to_categorical(test_label)\n",
    "\n",
    "y_train.shape, y_test.shape"
   ]
  },
  {
   "cell_type": "code",
   "execution_count": 10,
   "metadata": {},
   "outputs": [
    {
     "data": {
      "text/plain": [
       "array([5, 0], dtype=uint8)"
      ]
     },
     "execution_count": 10,
     "metadata": {},
     "output_type": "execute_result"
    }
   ],
   "source": [
    "train_label[:2]"
   ]
  },
  {
   "cell_type": "code",
   "execution_count": 11,
   "metadata": {},
   "outputs": [
    {
     "data": {
      "text/plain": [
       "array([[0., 0., 0., 0., 0., 1., 0., 0., 0., 0.],\n",
       "       [1., 0., 0., 0., 0., 0., 0., 0., 0., 0.]], dtype=float32)"
      ]
     },
     "execution_count": 11,
     "metadata": {},
     "output_type": "execute_result"
    }
   ],
   "source": [
    "y_train[:2]"
   ]
  },
  {
   "cell_type": "markdown",
   "metadata": {
    "slideshow": {
     "slide_type": "slide"
    }
   },
   "source": [
    "## 네트워크(모델) 정의\n",
    "- Network : 전체 모델 구조"
   ]
  },
  {
   "cell_type": "code",
   "execution_count": 12,
   "metadata": {
    "ExecuteTime": {
     "end_time": "2023-07-07T06:28:43.171823Z",
     "start_time": "2023-07-07T06:28:43.067530Z"
    }
   },
   "outputs": [],
   "source": [
    "# Sequential model 정의 2: 모델객체를 생성하고 add() 메소드를 이용해 순서대로 Layer 를 하나씩 추가.\n",
    "model = keras.Sequential()  # 딥러닝 모델을 생성 -> 빈모델 생성.\n",
    "# Sequential 모델에 Layer들을 추가\n",
    "## Layer -> 함수. 이전 Layer의 출력을 입력으로 받아서 처리한 뒤에 그 결과를 출력.\n",
    "\n",
    "model.add(keras.layers.InputLayer((28, 28))) # InputLayer => Input data shape 지정\n",
    "\n",
    "model.add(keras.layers.Flatten())  # 다차원 입력을 1차원으로 변환.\n",
    "# 선형회귀하기위해 1차원으로 변환한것이다.\n",
    "\n",
    "model.add(keras.layers.Dense(units=256))\n",
    "# unit/node/neuron 256개로 이루어진 layer를 생성.\n",
    "# unit -선형회귀 공식1개라고 생각하면된다.(X(입력값)*W(가중치)+B(bias))\n",
    "model.add(keras.layers.ReLU())\n",
    "# 활성함수(Activation 함수) Layer를 추가. ReLU: max(x,0)-x랑0비교해서 큰값이 나옴  ==> 비선형함수를 추가.\n",
    "# 선형회귀만 하면 /이런형식만 되서 비슷한 형식만 나오게 되서\n",
    "# 데이터의 흐름(특성,입력데이터의 모형)을 바꿔줘서 N 모양으로 한번씩 틀어서 흐름을 바꿔주는것이다.\n",
    "\n",
    "model.add(keras.layers.Dense(units=128))\n",
    "model.add(keras.layers.ReLU())\n",
    "model.add(keras.layers.Dense(units=10))\n",
    "\n",
    "model.add(keras.layers.Softmax(name='output')) # 출력(output) Layer. 이 Layer의 출력결과가 모델의 출력결과(예측결과)"
   ]
  },
  {
   "cell_type": "code",
   "execution_count": 13,
   "metadata": {
    "ExecuteTime": {
     "end_time": "2023-07-07T06:28:43.667708Z",
     "start_time": "2023-07-07T06:28:43.604798Z"
    }
   },
   "outputs": [],
   "source": [
    "# 위의 코드처럼 하나하나 add해도 되고 아님 아래 코드처럼 Sequential로 배열(리스트)를 만들어서 넣을 수 도 있다.\n",
    "# Sequential Model 정의 2: 객체 생성시 Layer들을 순서대로 리스트로 묶어 전달.\n",
    "# 실행할 것을 순서대로 하는데 이것을 layers라고한다. - 마치 파이프라인같다.\n",
    "model2 = keras.Sequential([\n",
    "    keras.layers.InputLayer((28,28)), \n",
    "    keras.layers.Flatten(),\n",
    "    keras.layers.Dense(256),\n",
    "    keras.layers.ReLU(),\n",
    "    keras.layers.Dense(units=128),\n",
    "    keras.layers.ReLU(),\n",
    "    keras.layers.Dense(10),\n",
    "    keras.layers.Softmax()\n",
    "])\n"
   ]
  },
  {
   "cell_type": "code",
   "execution_count": 14,
   "metadata": {
    "ExecuteTime": {
     "end_time": "2023-07-07T06:28:44.183665Z",
     "start_time": "2023-07-07T06:28:44.163633Z"
    }
   },
   "outputs": [
    {
     "name": "stdout",
     "output_type": "stream",
     "text": [
      "Model: \"sequential\"\n",
      "_________________________________________________________________\n",
      " Layer (type)                Output Shape              Param #   \n",
      "=================================================================\n",
      " flatten (Flatten)           (None, 784)               0         \n",
      "                                                                 \n",
      " dense (Dense)               (None, 256)               200960    \n",
      "                                                                 \n",
      " re_lu (ReLU)                (None, 256)               0         \n",
      "                                                                 \n",
      " dense_1 (Dense)             (None, 128)               32896     \n",
      "                                                                 \n",
      " re_lu_1 (ReLU)              (None, 128)               0         \n",
      "                                                                 \n",
      " dense_2 (Dense)             (None, 10)                1290      \n",
      "                                                                 \n",
      " output (Softmax)            (None, 10)                0         \n",
      "                                                                 \n",
      "=================================================================\n",
      "Total params: 235146 (918.54 KB)\n",
      "Trainable params: 235146 (918.54 KB)\n",
      "Non-trainable params: 0 (0.00 Byte)\n",
      "_________________________________________________________________\n"
     ]
    }
   ],
   "source": [
    "# 모델의 구조를 확인\n",
    "model.summary()"
   ]
  },
  {
   "cell_type": "code",
   "execution_count": 15,
   "metadata": {},
   "outputs": [
    {
     "name": "stdout",
     "output_type": "stream",
     "text": [
      "Model: \"sequential_1\"\n",
      "_________________________________________________________________\n",
      " Layer (type)                Output Shape              Param #   \n",
      "=================================================================\n",
      " flatten_1 (Flatten)         (None, 784)               0         \n",
      "                                                                 \n",
      " dense_3 (Dense)             (None, 256)               200960    \n",
      "                                                                 \n",
      " re_lu_2 (ReLU)              (None, 256)               0         \n",
      "                                                                 \n",
      " dense_4 (Dense)             (None, 128)               32896     \n",
      "                                                                 \n",
      " re_lu_3 (ReLU)              (None, 128)               0         \n",
      "                                                                 \n",
      " dense_5 (Dense)             (None, 10)                1290      \n",
      "                                                                 \n",
      " softmax (Softmax)           (None, 10)                0         \n",
      "                                                                 \n",
      "=================================================================\n",
      "Total params: 235146 (918.54 KB)\n",
      "Trainable params: 235146 (918.54 KB)\n",
      "Non-trainable params: 0 (0.00 Byte)\n",
      "_________________________________________________________________\n"
     ]
    }
   ],
   "source": [
    "model2.summary()"
   ]
  },
  {
   "cell_type": "code",
   "execution_count": 16,
   "metadata": {},
   "outputs": [],
   "source": [
    "# !pip install graphviz pydot pydotplus -U\n",
    "# -U는 패키저매니저에 설치되어있어도 최신버전이 있으면 업그레이드 해라\n",
    "# 만약 -U가 없다면 설치되어있으면 그냥 설치안하고 최신버전이 있어도 업그레이드 안함\n",
    "# 설치 후 RESTART"
   ]
  },
  {
   "cell_type": "code",
   "execution_count": 32,
   "metadata": {
    "ExecuteTime": {
     "end_time": "2023-07-07T06:28:45.315766Z",
     "start_time": "2023-07-07T06:28:44.819722Z"
    }
   },
   "outputs": [
    {
     "data": {
      "image/png": "[encoded data removed]",
      "text/plain": [
       "<IPython.core.display.Image object>"
      ]
     },
     "execution_count": 32,
     "metadata": {},
     "output_type": "execute_result"
    }
   ],
   "source": [
    "# graphviz를 이용한 모델구조를 시각화 \n",
    "## 다음 패키지를 설치해야한다.\n",
    "## pip install graphviz pydot pydotplus\n",
    "keras.utils.plot_model(model, \n",
    "                       show_shapes=True # input, output shape을 같이 출력\n",
    "                      , to_file='model_shapes.png' # 파일로 저장 (생략: model.png=> 이미 있는 파일이라 덮어씌워지므로)\n",
    "                      )\n",
    "# 복잡한 모델을 summary보다 plot으로 보는게 좋다."
   ]
  },
  {
   "cell_type": "markdown",
   "metadata": {
    "slideshow": {
     "slide_type": "slide"
    }
   },
   "source": [
    "## 컴파일 단계\n",
    "- 정의된 딥러닝 모델을 학습할 수 있는 상태로 만들어 주기 위해 다음을 추가적으로 설정 한다.\n",
    "    - Optimizer\n",
    "    - 손실함수\n",
    "    - 평가지표"
   ]
  },
  {
   "cell_type": "code",
   "execution_count": 18,
   "metadata": {
    "ExecuteTime": {
     "end_time": "2023-07-07T06:28:57.625067Z",
     "start_time": "2023-07-07T06:28:57.601842Z"
    }
   },
   "outputs": [],
   "source": [
    "model.compile(optimizer='adam', # 최적화 알고리즘 선택\n",
    "             loss='categorical_crossentropy', # 손실함수 선택(필수로 해줘야한다.)\n",
    "             metrics=['accuracy'] # 학습 도중/최종평가 때 출력되는 로그(학습기록)에 loss와 함께 같이 볼 추가 평가지표(선택사항)\n",
    "             )"
   ]
  },
  {
   "cell_type": "markdown",
   "metadata": {
    "slideshow": {
     "slide_type": "slide"
    }
   },
   "source": [
    "## 학습 (fit)\n",
    "- model.fit()\n",
    "    - 모델 학습 메소드. \n",
    "    - 학습과정의 Log를 **History** 객체에 넣어 반환한다.\n",
    "- **History**: train 시 에폭별 평가지표값들을 모아서 제공. \n"
   ]
  },
  {
   "cell_type": "code",
   "execution_count": 33,
   "metadata": {
    "ExecuteTime": {
     "end_time": "2023-07-07T06:29:31.883745Z",
     "start_time": "2023-07-07T06:29:14.688625Z"
    },
    "scrolled": true
   },
   "outputs": [
    {
     "name": "stdout",
     "output_type": "stream",
     "text": [
      "Epoch 1/10\n",
      "420/420 [==============================] - 1s 3ms/step - loss: 0.0136 - accuracy: 0.9955 - val_loss: 0.1230 - val_accuracy: 0.9723\n",
      "Epoch 2/10\n",
      "420/420 [==============================] - 1s 3ms/step - loss: 0.0095 - accuracy: 0.9967 - val_loss: 0.1190 - val_accuracy: 0.9752\n",
      "Epoch 3/10\n",
      "420/420 [==============================] - 1s 3ms/step - loss: 0.0128 - accuracy: 0.9956 - val_loss: 0.1186 - val_accuracy: 0.9742\n",
      "Epoch 4/10\n",
      "420/420 [==============================] - 1s 3ms/step - loss: 0.0065 - accuracy: 0.9980 - val_loss: 0.1362 - val_accuracy: 0.9733\n",
      "Epoch 5/10\n",
      "420/420 [==============================] - 1s 3ms/step - loss: 0.0106 - accuracy: 0.9964 - val_loss: 0.1468 - val_accuracy: 0.9724\n",
      "Epoch 6/10\n",
      "420/420 [==============================] - 1s 3ms/step - loss: 0.0078 - accuracy: 0.9975 - val_loss: 0.1181 - val_accuracy: 0.9776\n",
      "Epoch 7/10\n",
      "420/420 [==============================] - 1s 3ms/step - loss: 0.0081 - accuracy: 0.9971 - val_loss: 0.1342 - val_accuracy: 0.9750\n",
      "Epoch 8/10\n",
      "420/420 [==============================] - 1s 3ms/step - loss: 0.0066 - accuracy: 0.9979 - val_loss: 0.1328 - val_accuracy: 0.9760\n",
      "Epoch 9/10\n",
      "420/420 [==============================] - 1s 3ms/step - loss: 0.0046 - accuracy: 0.9985 - val_loss: 0.1405 - val_accuracy: 0.9767\n",
      "Epoch 10/10\n",
      "420/420 [==============================] - 1s 3ms/step - loss: 0.0084 - accuracy: 0.9970 - val_loss: 0.1627 - val_accuracy: 0.9711\n"
     ]
    }
   ],
   "source": [
    "# 모델 학습\n",
    "history = model.fit(X_train, y_train, # Trains dataset\n",
    "                      epochs=10, # Train dataset을 몇 번 반복해서 학습할지 지정.(오차를 최대한 줄일 수 있을 반복횟수)\n",
    "                      batch_size=100, # 학습시 한번에 주입하는 데이터 개수.\n",
    "                                    # 지정한 개수 당 한번씩 parameter를 업데이트 한다.\n",
    "                                    # 파라미터를 업데이트 하는 단위를 step이라고 한다.\n",
    "                      validation_split=0.3 # train set을 학습시 다쓰지 않고 70%는학습할 때 쓰고 30%는 검증할때 사용\n",
    "                                            # 즉 train set 중 검증 데이터로 사용할 비용\n",
    "                                            # 생략하면 전체를 다 학습에 사용.\n",
    "                     )"
   ]
  },
  {
   "cell_type": "markdown",
   "metadata": {},
   "source": [
    "#### 현재 epoch / 총 epoch\n",
    "Epoch 10/10\n",
    "#### 현재 step / 총 step  총학습시간  setp당 걸린시간  trainset검증결과\n",
    "420/420 [======] -       1s          3ms/step    - loss: 0.0135    - accuracy: 0.9955  \n",
    "validation 검증결과\n",
    "\n",
    "-val_loss: 0.1267 - val_accuracy: 0.9719"
   ]
  },
  {
   "cell_type": "code",
   "execution_count": 37,
   "metadata": {},
   "outputs": [
    {
     "data": {
      "text/plain": [
       "420.0"
      ]
     },
     "execution_count": 37,
     "metadata": {},
     "output_type": "execute_result"
    }
   ],
   "source": [
    "60000 * 0.7 / 100"
   ]
  },
  {
   "cell_type": "markdown",
   "metadata": {
    "slideshow": {
     "slide_type": "slide"
    }
   },
   "source": [
    "##### History 시각화"
   ]
  },
  {
   "cell_type": "code",
   "execution_count": 20,
   "metadata": {
    "ExecuteTime": {
     "end_time": "2023-07-07T06:34:25.031933Z",
     "start_time": "2023-07-07T06:34:25.014210Z"
    }
   },
   "outputs": [
    {
     "name": "stdout",
     "output_type": "stream",
     "text": [
      "<class 'keras.src.callbacks.History'>\n",
      "학습 에폭리스트:  [0, 1, 2, 3, 4, 5, 6, 7, 8, 9]\n",
      "에폭수, 에폭당 step수:  {'verbose': 1, 'epochs': 10, 'steps': 420}\n"
     ]
    }
   ],
   "source": [
    "print(type(history))\n",
    "print(\"학습 에폭리스트: \", history.epoch)\n",
    "print(\"에폭수, 에폭당 step수: \", history.params)"
   ]
  },
  {
   "cell_type": "code",
   "execution_count": 21,
   "metadata": {
    "ExecuteTime": {
     "end_time": "2023-07-07T06:34:26.622606Z",
     "start_time": "2023-07-07T06:34:26.612469Z"
    }
   },
   "outputs": [
    {
     "data": {
      "text/plain": [
       "{'loss': [0.3009990453720093,\n",
       "  0.11648231744766235,\n",
       "  0.07370098680257797,\n",
       "  0.051031243056058884,\n",
       "  0.035281840711832047,\n",
       "  0.02790009044110775,\n",
       "  0.022139938548207283,\n",
       "  0.017291372641921043,\n",
       "  0.014327033422887325,\n",
       "  0.013533477671444416],\n",
       " 'accuracy': [0.913023829460144,\n",
       "  0.9653809666633606,\n",
       "  0.9780714511871338,\n",
       "  0.984333336353302,\n",
       "  0.9889047741889954,\n",
       "  0.9918333292007446,\n",
       "  0.9931666851043701,\n",
       "  0.9946666955947876,\n",
       "  0.9954761862754822,\n",
       "  0.9955475926399231],\n",
       " 'val_loss': [0.1614375114440918,\n",
       "  0.1220814511179924,\n",
       "  0.10316690057516098,\n",
       "  0.09960958361625671,\n",
       "  0.11194351315498352,\n",
       "  0.09583226591348648,\n",
       "  0.09754395484924316,\n",
       "  0.10916803777217865,\n",
       "  0.1104227602481842,\n",
       "  0.12667128443717957],\n",
       " 'val_accuracy': [0.9531111121177673,\n",
       "  0.9646111130714417,\n",
       "  0.9697777628898621,\n",
       "  0.9712222218513489,\n",
       "  0.9687222242355347,\n",
       "  0.9733889102935791,\n",
       "  0.9745000004768372,\n",
       "  0.9730555415153503,\n",
       "  0.9736666679382324,\n",
       "  0.9718888998031616]}"
      ]
     },
     "execution_count": 21,
     "metadata": {},
     "output_type": "execute_result"
    }
   ],
   "source": [
    "history.history # history안에 history속성이 있다. 딕셔너리로서 변화된 값을 에폭별로 알려준다."
   ]
  },
  {
   "cell_type": "code",
   "execution_count": 22,
   "metadata": {
    "ExecuteTime": {
     "end_time": "2023-07-07T06:34:28.383298Z",
     "start_time": "2023-07-07T06:34:27.899363Z"
    },
    "scrolled": false
   },
   "outputs": [
    {
     "data": {
      "image/png": "[encoded data removed]",
      "text/plain": [
       "<Figure size 1500x600 with 2 Axes>"
      ]
     },
     "metadata": {},
     "output_type": "display_data"
    }
   ],
   "source": [
    "# 학습 에폭별 loss와 accuracy 변화량 시각화\n",
    "import matplotlib.pyplot as plt\n",
    "\n",
    "plt.rcParams['font.family'] = 'malgun gothic'\n",
    "plt.rcParams['axes.unicode_minus'] = False\n",
    "\n",
    "plt.figure(figsize=(15, 6))\n",
    "plt.suptitle('학습 평가 결과')\n",
    "\n",
    "plt.subplot(1, 2, 1)\n",
    "plt.plot(history.history['loss'], label='train loss')\n",
    "plt.plot(history.history['val_loss'], label='val loss')\n",
    "plt.title('Loss')\n",
    "plt.legend()\n",
    "\n",
    "plt.subplot(1, 2, 2)\n",
    "plt.plot(history.history['accuracy'], label='train acc')\n",
    "plt.plot(history.history['val_accuracy'], label='val acc')\n",
    "plt.title('Accuracy')\n",
    "\n",
    "plt.legend()\n",
    "plt.tight_layout()\n",
    "plt.show()"
   ]
  },
  {
   "cell_type": "markdown",
   "metadata": {
    "slideshow": {
     "slide_type": "slide"
    }
   },
   "source": [
    "## 테스트셋 평가"
   ]
  },
  {
   "cell_type": "code",
   "execution_count": 23,
   "metadata": {
    "ExecuteTime": {
     "end_time": "2023-07-07T06:34:34.286373Z",
     "start_time": "2023-07-07T06:34:33.562876Z"
    }
   },
   "outputs": [
    {
     "name": "stdout",
     "output_type": "stream",
     "text": [
      "313/313 [==============================] - 1s 2ms/step - loss: 0.1031 - accuracy: 0.9749\n"
     ]
    }
   ],
   "source": [
    "result = model.evaluate(X_test, y_test) # loss하고 컴파일한것을 자동으로 평가해줌"
   ]
  },
  {
   "cell_type": "code",
   "execution_count": 24,
   "metadata": {
    "ExecuteTime": {
     "end_time": "2023-07-07T06:34:38.824935Z",
     "start_time": "2023-07-07T06:34:38.814883Z"
    }
   },
   "outputs": [
    {
     "data": {
      "text/plain": [
       "[0.10311970114707947, 0.9749000072479248]"
      ]
     },
     "execution_count": 24,
     "metadata": {},
     "output_type": "execute_result"
    }
   ],
   "source": [
    "result"
   ]
  },
  {
   "cell_type": "markdown",
   "metadata": {
    "slideshow": {
     "slide_type": "slide"
    }
   },
   "source": [
    "## 새로운 데이터 추론\n",
    "- 새로운 데이터를 추론하기 전에 학습데이터에 했던 전처리과정을 동일하게 적용 한 뒤 추론한다."
   ]
  },
  {
   "cell_type": "markdown",
   "metadata": {
    "slideshow": {
     "slide_type": "fragment"
    }
   },
   "source": [
    "### 추론 메소드\n",
    "- predict()\n",
    "    - **분류:** 각 클래스 별 확률 반환\n",
    "    - **회귀:** 최종 예측 결과\n",
    "- 분류문제일때 predict() 결과에서 class label 출력하기    \n",
    "    - 이진 분류(binary classification)\n",
    "        - `numpy.where(model.predict(x) > 0.5, 1, 0).astype(\"int32\")`\n",
    "    - 다중클래스 분류(multi-class classification)\n",
    "        - `numpy.argmax(model.predict(x), axis=1)`"
   ]
  },
  {
   "cell_type": "code",
   "execution_count": 38,
   "metadata": {
    "ExecuteTime": {
     "end_time": "2023-07-07T06:34:45.614232Z",
     "start_time": "2023-07-07T06:34:45.592264Z"
    }
   },
   "outputs": [
    {
     "data": {
      "text/plain": [
       "(3, 28, 28)"
      ]
     },
     "execution_count": 38,
     "metadata": {},
     "output_type": "execute_result"
    }
   ],
   "source": [
    "X_new = X_test[:3]\n",
    "X_new.shape"
   ]
  },
  {
   "cell_type": "code",
   "execution_count": 26,
   "metadata": {
    "ExecuteTime": {
     "end_time": "2023-07-07T06:34:46.736003Z",
     "start_time": "2023-07-07T06:34:46.509910Z"
    }
   },
   "outputs": [
    {
     "name": "stdout",
     "output_type": "stream",
     "text": [
      "1/1 [==============================] - 0s 82ms/step\n"
     ]
    }
   ],
   "source": [
    "pred = model.predict(X_new)"
   ]
  },
  {
   "cell_type": "code",
   "execution_count": 39,
   "metadata": {
    "ExecuteTime": {
     "end_time": "2023-07-07T06:34:47.796747Z",
     "start_time": "2023-07-07T06:34:47.762977Z"
    }
   },
   "outputs": [
    {
     "name": "stdout",
     "output_type": "stream",
     "text": [
      "(3, 10)\n"
     ]
    },
    {
     "data": {
      "text/plain": [
       "array([[0., 0., 0., 0., 0., 0., 0., 1., 0., 0.],\n",
       "       [0., 0., 1., 0., 0., 0., 0., 0., 0., 0.],\n",
       "       [0., 1., 0., 0., 0., 0., 0., 0., 0., 0.]], dtype=float32)"
      ]
     },
     "execution_count": 39,
     "metadata": {},
     "output_type": "execute_result"
    }
   ],
   "source": [
    "print(pred.shape)\n",
    "pred\n",
    "np.round(pred, 3)"
   ]
  },
  {
   "cell_type": "code",
   "execution_count": 28,
   "metadata": {
    "ExecuteTime": {
     "end_time": "2023-07-07T06:34:48.529732Z",
     "start_time": "2023-07-07T06:34:48.511901Z"
    }
   },
   "outputs": [
    {
     "data": {
      "text/plain": [
       "array([7, 2, 1], dtype=int64)"
      ]
     },
     "execution_count": 28,
     "metadata": {},
     "output_type": "execute_result"
    }
   ],
   "source": [
    "np.argmax(pred, axis=1)"
   ]
  },
  {
   "cell_type": "code",
   "execution_count": 29,
   "metadata": {
    "ExecuteTime": {
     "end_time": "2023-07-07T06:34:49.652485Z",
     "start_time": "2023-07-07T06:34:49.634971Z"
    }
   },
   "outputs": [
    {
     "data": {
      "text/plain": [
       "array([7, 2, 1], dtype=int64)"
      ]
     },
     "execution_count": 29,
     "metadata": {},
     "output_type": "execute_result"
    }
   ],
   "source": [
    "np.argmax(y_test[:3], axis=-1)"
   ]
  },
  {
   "cell_type": "markdown",
   "metadata": {},
   "source": [
    "### 그림판 이미지"
   ]
  },
  {
   "cell_type": "code",
   "execution_count": 42,
   "metadata": {},
   "outputs": [
    {
     "name": "stdout",
     "output_type": "stream",
     "text": [
      "Collecting opencv-contrib-python\n",
      "  Downloading opencv_contrib_python-4.8.0.74-cp37-abi3-win_amd64.whl (44.8 MB)\n",
      "                                              0.0/44.8 MB ? eta -:--:--\n",
      "                                              0.0/44.8 MB ? eta -:--:--\n",
      "                                             0.0/44.8 MB 640.0 kB/s eta 0:01:10\n",
      "                                              0.1/44.8 MB 1.2 MB/s eta 0:00:38\n",
      "     -                                        2.0/44.8 MB 14.5 MB/s eta 0:00:03\n",
      "     ----                                     4.9/44.8 MB 25.8 MB/s eta 0:00:02\n",
      "     ------                                   7.8/44.8 MB 33.1 MB/s eta 0:00:02\n",
      "     ---------                               10.6/44.8 MB 59.5 MB/s eta 0:00:01\n",
      "     -----------                             13.5/44.8 MB 59.5 MB/s eta 0:00:01\n",
      "     --------------                          16.2/44.8 MB 59.8 MB/s eta 0:00:01\n",
      "     ----------------                        19.0/44.8 MB 59.5 MB/s eta 0:00:01\n",
      "     ------------------                      20.8/44.8 MB 54.7 MB/s eta 0:00:01\n",
      "     --------------------                    23.1/44.8 MB 50.4 MB/s eta 0:00:01\n",
      "     ----------------------                  25.6/44.8 MB 50.4 MB/s eta 0:00:01\n",
      "     ------------------------                27.8/44.8 MB 46.7 MB/s eta 0:00:01\n",
      "     --------------------------              30.8/44.8 MB 54.4 MB/s eta 0:00:01\n",
      "     -----------------------------           33.7/44.8 MB 54.4 MB/s eta 0:00:01\n",
      "     ------------------------------          34.6/44.8 MB 54.7 MB/s eta 0:00:01\n",
      "     ------------------------------          34.6/44.8 MB 54.7 MB/s eta 0:00:01\n",
      "     ------------------------------          35.2/44.8 MB 34.4 MB/s eta 0:00:01\n",
      "     -------------------------------         35.6/44.8 MB 34.4 MB/s eta 0:00:01\n",
      "     -------------------------------         35.9/44.8 MB 27.3 MB/s eta 0:00:01\n",
      "     ---------------------------------       38.7/44.8 MB 28.4 MB/s eta 0:00:01\n",
      "     ------------------------------------    41.6/44.8 MB 28.4 MB/s eta 0:00:01\n",
      "     --------------------------------------  44.4/44.8 MB 28.4 MB/s eta 0:00:01\n",
      "     --------------------------------------  44.8/44.8 MB 28.4 MB/s eta 0:00:01\n",
      "     --------------------------------------  44.8/44.8 MB 28.4 MB/s eta 0:00:01\n",
      "     --------------------------------------  44.8/44.8 MB 28.4 MB/s eta 0:00:01\n",
      "     --------------------------------------- 44.8/44.8 MB 18.7 MB/s eta 0:00:00\n",
      "Requirement already satisfied: numpy>=1.21.2 in c:\\users\\qkrtn\\anaconda3\\envs\\ml\\lib\\site-packages (from opencv-contrib-python) (1.24.3)\n",
      "Installing collected packages: opencv-contrib-python\n",
      "Successfully installed opencv-contrib-python-4.8.0.74\n"
     ]
    }
   ],
   "source": [
    "### 이미지를 읽어올게 필요하다.\n",
    "!pip install opencv-contrib-python"
   ]
  },
  {
   "cell_type": "code",
   "execution_count": 43,
   "metadata": {},
   "outputs": [],
   "source": [
    "import cv2"
   ]
  },
  {
   "cell_type": "code",
   "execution_count": 44,
   "metadata": {},
   "outputs": [
    {
     "name": "stdout",
     "output_type": "stream",
     "text": [
      "<class 'numpy.ndarray'> <class 'numpy.ndarray'>\n"
     ]
    }
   ],
   "source": [
    "# 이미지 읽어오기 - imread():ndarray\n",
    "one = cv2.imread(\"data/one.png\", cv2.IMREAD_GRAYSCALE) # grayscale:흑백으로 읽어오기\n",
    "five = cv2.imread(\"data/five.png\", cv2.IMREAD_GRAYSCALE)\n",
    "print(type(one),type(five))"
   ]
  },
  {
   "cell_type": "code",
   "execution_count": 45,
   "metadata": {},
   "outputs": [
    {
     "data": {
      "text/plain": [
       "((64, 68), (64, 68))"
      ]
     },
     "execution_count": 45,
     "metadata": {},
     "output_type": "execute_result"
    }
   ],
   "source": [
    "one.shape, five.shape"
   ]
  },
  {
   "cell_type": "code",
   "execution_count": 47,
   "metadata": {},
   "outputs": [
    {
     "data": {
      "text/plain": [
       "<matplotlib.image.AxesImage at 0x21927b32e30>"
      ]
     },
     "execution_count": 47,
     "metadata": {},
     "output_type": "execute_result"
    },
    {
     "data": {
      "image/png": "[encoded data removed]",
      "text/plain": [
       "<Figure size 640x480 with 1 Axes>"
      ]
     },
     "metadata": {},
     "output_type": "display_data"
    }
   ],
   "source": [
    "plt.imshow(one, cmap='gray')"
   ]
  },
  {
   "cell_type": "code",
   "execution_count": 49,
   "metadata": {},
   "outputs": [
    {
     "data": {
      "text/plain": [
       "<matplotlib.image.AxesImage at 0x21927beb2b0>"
      ]
     },
     "execution_count": 49,
     "metadata": {},
     "output_type": "execute_result"
    },
    {
     "data": {
      "image/png": "[encoded data removed]",
      "text/plain": [
       "<Figure size 640x480 with 1 Axes>"
      ]
     },
     "metadata": {},
     "output_type": "display_data"
    }
   ],
   "source": [
    "plt.imshow(five, cmap='gray')"
   ]
  },
  {
   "cell_type": "code",
   "execution_count": 51,
   "metadata": {},
   "outputs": [
    {
     "data": {
      "text/plain": [
       "((28, 28), (28, 28))"
      ]
     },
     "execution_count": 51,
     "metadata": {},
     "output_type": "execute_result"
    }
   ],
   "source": [
    "# 28*28로 resize\n",
    "one_input = cv2.resize(one,(28,28))\n",
    "five_input = cv2.resize(five,(28,28))\n",
    "one_input.shape, five_input.shape"
   ]
  },
  {
   "cell_type": "code",
   "execution_count": 53,
   "metadata": {},
   "outputs": [
    {
     "data": {
      "text/plain": [
       "<matplotlib.image.AxesImage at 0x21927c68a00>"
      ]
     },
     "execution_count": 53,
     "metadata": {},
     "output_type": "execute_result"
    },
    {
     "data": {
      "image/png": "[encoded data removed]",
      "text/plain": [
       "<Figure size 640x480 with 1 Axes>"
      ]
     },
     "metadata": {},
     "output_type": "display_data"
    }
   ],
   "source": [
    "plt.imshow(five_input, cmap='gray')"
   ]
  },
  {
   "cell_type": "code",
   "execution_count": 54,
   "metadata": {},
   "outputs": [
    {
     "data": {
      "text/plain": [
       "(0, 255)"
      ]
     },
     "execution_count": 54,
     "metadata": {},
     "output_type": "execute_result"
    }
   ],
   "source": [
    "one_input.min(), one_input.max()"
   ]
  },
  {
   "cell_type": "code",
   "execution_count": 55,
   "metadata": {},
   "outputs": [],
   "source": [
    "one_input = one_input.astype(\"float32\")/255\n",
    "five_input = five_input.astype(\"float32\")/255"
   ]
  },
  {
   "cell_type": "code",
   "execution_count": 56,
   "metadata": {},
   "outputs": [
    {
     "data": {
      "text/plain": [
       "array([[[0., 0., 0., ..., 0., 0., 0.],\n",
       "        [0., 0., 0., ..., 0., 0., 0.],\n",
       "        [0., 0., 0., ..., 0., 0., 0.],\n",
       "        ...,\n",
       "        [0., 0., 0., ..., 0., 0., 0.],\n",
       "        [0., 0., 0., ..., 0., 0., 0.],\n",
       "        [0., 0., 0., ..., 0., 0., 0.]],\n",
       "\n",
       "       [[0., 0., 0., ..., 0., 0., 0.],\n",
       "        [0., 0., 0., ..., 0., 0., 0.],\n",
       "        [0., 0., 0., ..., 0., 0., 0.],\n",
       "        ...,\n",
       "        [0., 0., 0., ..., 0., 0., 0.],\n",
       "        [0., 0., 0., ..., 0., 0., 0.],\n",
       "        [0., 0., 0., ..., 0., 0., 0.]]], dtype=float32)"
      ]
     },
     "execution_count": 56,
     "metadata": {},
     "output_type": "execute_result"
    }
   ],
   "source": [
    "input_tensor = np.array([one_input, five_input])\n",
    "input_tensor"
   ]
  },
  {
   "cell_type": "code",
   "execution_count": 57,
   "metadata": {},
   "outputs": [
    {
     "name": "stdout",
     "output_type": "stream",
     "text": [
      "1/1 [==============================] - 0s 16ms/step\n"
     ]
    }
   ],
   "source": [
    "p = model.predict(input_tensor)"
   ]
  },
  {
   "cell_type": "code",
   "execution_count": 58,
   "metadata": {},
   "outputs": [
    {
     "data": {
      "text/plain": [
       "array([2, 5], dtype=int64)"
      ]
     },
     "execution_count": 58,
     "metadata": {},
     "output_type": "execute_result"
    }
   ],
   "source": [
    "np.argmax(p, axis=1)"
   ]
  }
 ],
 "metadata": {
  "kernelspec": {
   "display_name": "Python 3 (ipykernel)",
   "language": "python",
   "name": "python3"
  },
  "language_info": {
   "codemirror_mode": {
    "name": "ipython",
    "version": 3
   },
   "file_extension": ".py",
   "mimetype": "text/x-python",
   "name": "python",
   "nbconvert_exporter": "python",
   "pygments_lexer": "ipython3",
   "version": "3.10.11"
  },
  "toc": {
   "base_numbering": 1,
   "nav_menu": {},
   "number_sections": false,
   "sideBar": true,
   "skip_h1_title": false,
   "title_cell": "Table of Contents",
   "title_sidebar": "Contents",
   "toc_cell": false,
   "toc_position": {},
   "toc_section_display": true,
   "toc_window_display": false
  },
  "varInspector": {
   "cols": {
    "lenName": 16,
    "lenType": 16,
    "lenVar": 40
   },
   "kernels_config": {
    "python": {
     "delete_cmd_postfix": "",
     "delete_cmd_prefix": "del ",
     "library": "var_list.py",
     "varRefreshCmd": "print(var_dic_list())"
    },
    "r": {
     "delete_cmd_postfix": ") ",
     "delete_cmd_prefix": "rm(",
     "library": "var_list.r",
     "varRefreshCmd": "cat(var_dic_list()) "
    }
   },
   "types_to_exclude": [
    "module",
    "function",
    "builtin_function_or_method",
    "instance",
    "_Feature"
   ],
   "window_display": false
  }
 },
 "nbformat": 4,
 "nbformat_minor": 2
}
