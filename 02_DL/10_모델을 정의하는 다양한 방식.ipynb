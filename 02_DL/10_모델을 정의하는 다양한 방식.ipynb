{
 "cells": [
  {
   "cell_type": "markdown",
   "metadata": {
    "slideshow": {
     "slide_type": "slide"
    }
   },
   "source": [
    "# \\_\\_call\\_\\_() magic method\n",
    "- 객체를 함수처럼 호출 할 수 있도록 한다.\n",
    "- `객체()` 로 호출 할 때 __call__ 메소드가 호출되어 실행된다."
   ]
  },
  {
   "cell_type": "code",
   "execution_count": 12,
   "metadata": {},
   "outputs": [],
   "source": [
    "class Person:\n",
    "    def __init__(self, name):\n",
    "        print(\"__init__()실행\")\n",
    "        self.name = name\n",
    "        \n",
    "    def __str__(self):\n",
    "        print(\"__str__()실행\")\n",
    "        return f\"이름은 {self.name} 입니다.\"\n",
    "    \n",
    "    def __call__(self):\n",
    "        print(f\"call 함수실행: {self.name} \")\n",
    "        "
   ]
  },
  {
   "cell_type": "code",
   "execution_count": 13,
   "metadata": {},
   "outputs": [],
   "source": [
    "class Nums:\n",
    "    def __init__(self, num):\n",
    "        self.num = num\n",
    "        \n",
    "    def __call__(self, append_num):\n",
    "        self.num = self.num + append_num\n",
    "        return self.num\n",
    "        \n",
    "    def __str__(self):\n",
    "        return f'num: {self.num}'"
   ]
  },
  {
   "cell_type": "code",
   "execution_count": 14,
   "metadata": {},
   "outputs": [
    {
     "name": "stdout",
     "output_type": "stream",
     "text": [
      "num: 10\n"
     ]
    }
   ],
   "source": [
    "n = Nums(10)\n",
    "print(n) # print(값) str(값) 이용해서 문자열로 변환후 출력"
   ]
  },
  {
   "cell_type": "code",
   "execution_count": 15,
   "metadata": {},
   "outputs": [
    {
     "name": "stdout",
     "output_type": "stream",
     "text": [
      "num: 30\n"
     ]
    }
   ],
   "source": [
    "n(20) # __call__(append_num<=20)\n",
    "print(n)"
   ]
  },
  {
   "cell_type": "code",
   "execution_count": 16,
   "metadata": {},
   "outputs": [
    {
     "data": {
      "text/plain": [
       "120"
      ]
     },
     "execution_count": 16,
     "metadata": {},
     "output_type": "execute_result"
    }
   ],
   "source": [
    "v = Nums(100)(20) # 객체 생성 + __call__() 호출 동시\n",
    "v"
   ]
  },
  {
   "cell_type": "markdown",
   "metadata": {
    "slideshow": {
     "slide_type": "slide"
    }
   },
   "source": [
    "# Functional API\n",
    "- Sequential 모델은 각 Layer들의 입력과 출력이 하나라고 가정한다. 그리고 각각의 Layer(입력층, 은닉층, 출력층)들을 차례대로 쌓아 구성한다. 그래서 다양한 구조의 네트워크를 만드는데 한계가 있다.\n",
    "- 함수형 API를 사용하면 **다중입력, 다중출력, 그래프 형태**의 다양한 형태의 레이어들을 유연하게 구성할 수 있다.\n",
    "\n",
    "- Functional API는 직접 텐서들의 입출력을 다룬다. \n",
    "- 함수호출 처럼 Layer를 이용하여 입력 텐서(Input Tensor)를 입력 받고 그 결과를 출력 텐서(Output Tensor)로 반환하는 형식으로 모델을 구현한다.\n",
    "\n",
    "```python\n",
    "input_tensor = Input(shape=(16,))\n",
    "dense = layers.Dense(32, activation='relu')(input_tensor)\n",
    "output_tensor = layers.Dense(32, activation='sigmoid')(dense)\n",
    "\n",
    "model = models.Model(input_tensor, output_tensor)\n",
    "```"
   ]
  },
  {
   "cell_type": "markdown",
   "metadata": {
    "slideshow": {
     "slide_type": "slide"
    }
   },
   "source": [
    "## Sequential, Functional API "
   ]
  },
  {
   "cell_type": "markdown",
   "metadata": {
    "slideshow": {
     "slide_type": "slide"
    }
   },
   "source": [
    "### Sequential"
   ]
  },
  {
   "cell_type": "code",
   "execution_count": 51,
   "metadata": {
    "ExecuteTime": {
     "end_time": "2023-03-03T00:28:00.692111Z",
     "start_time": "2023-03-03T00:27:54.189839Z"
    },
    "slideshow": {
     "slide_type": "fragment"
    }
   },
   "outputs": [],
   "source": [
    "import tensorflow as tf\n",
    "from tensorflow import keras\n",
    "from tensorflow.keras import applications\n",
    "from tensorflow.keras import layers, models"
   ]
  },
  {
   "cell_type": "code",
   "execution_count": 18,
   "metadata": {
    "ExecuteTime": {
     "end_time": "2023-03-02T07:30:51.000622Z",
     "start_time": "2023-03-02T07:30:50.811078Z"
    },
    "slideshow": {
     "slide_type": "fragment"
    }
   },
   "outputs": [
    {
     "name": "stdout",
     "output_type": "stream",
     "text": [
      "Model: \"sequential\"\n",
      "_________________________________________________________________\n",
      " Layer (type)                Output Shape              Param #   \n",
      "=================================================================\n",
      " conv2d (Conv2D)             (None, 32, 32, 64)        1792      \n",
      "                                                                 \n",
      " max_pooling2d (MaxPooling2  (None, 16, 16, 64)        0         \n",
      " D)                                                              \n",
      "                                                                 \n",
      " flatten (Flatten)           (None, 16384)             0         \n",
      "                                                                 \n",
      " dense (Dense)               (None, 256)               4194560   \n",
      "                                                                 \n",
      " output_layer (Dense)        (None, 10)                2570      \n",
      "                                                                 \n",
      "=================================================================\n",
      "Total params: 4198922 (16.02 MB)\n",
      "Trainable params: 4198922 (16.02 MB)\n",
      "Non-trainable params: 0 (0.00 Byte)\n",
      "_________________________________________________________________\n"
     ]
    }
   ],
   "source": [
    "seq_model = keras.Sequential()\n",
    "seq_model.add(layers.Input(shape=(32,32,3)))\n",
    "\n",
    "seq_model.add(layers.Conv2D(filters=64, kernel_size=3, padding='same', activation='relu'))\n",
    "seq_model.add(layers.MaxPooling2D(padding=\"same\"))\n",
    "seq_model.add(layers.Flatten())\n",
    "\n",
    "seq_model.add(layers.Dense(units=256, activation='relu'))\n",
    "seq_model.add(layers.Dense(units=10, activation='softmax', name='output_layer'))\n",
    "seq_model.summary()"
   ]
  },
  {
   "cell_type": "markdown",
   "metadata": {
    "slideshow": {
     "slide_type": "slide"
    }
   },
   "source": [
    "### Functional API"
   ]
  },
  {
   "cell_type": "code",
   "execution_count": 19,
   "metadata": {
    "ExecuteTime": {
     "end_time": "2023-03-02T07:52:41.348138Z",
     "start_time": "2023-03-02T07:52:41.261603Z"
    }
   },
   "outputs": [],
   "source": [
    "# 레이어의 흐름 구조를 구현\n",
    "input_tensor = layers.Input(shape=(32, 32, 3))  # Inputlayer를 생성하면 안됨 -> input : 입력값을 표현, 입력값을 저장할 변수의 역할\n",
    "\n",
    "conv_tensor = layers.Conv2D(filters=64, kernel_size=3, padding='same', activation='relu')(input_tensor)\n",
    "conv_tensor2 = layers.Conv2D(filters=64, kernel_size=3, padding='same', activation='relu')(conv_tensor)\n",
    "pool_tensor = layers.MaxPooling2D(padding='same')(conv_tensor)\n",
    "flatten_tensor = layers.Flatten()(pool_tensor)\n",
    "dense_tensor = layers.Dense(256, activation='relu')(flatten_tensor)\n",
    "output_tensor = layers.Dense(10, activation='softmax')(dense_tensor)\n",
    "\n",
    "# 모델 생성-> input들과 output들을 넣어서 생성. => \n",
    "##     input들/output들 : 학습/추론할때 실제 생성될 입력값, 출력값을 표현하는 tensor 객체.\n",
    "##     여러개값으로 구성된 경우 일 경우 리스트로 묶어서 전달.\n",
    "fn_model = models.Model(input_tensor, output_tensor)"
   ]
  },
  {
   "cell_type": "code",
   "execution_count": 20,
   "metadata": {
    "ExecuteTime": {
     "end_time": "2023-03-02T07:50:13.907108Z",
     "start_time": "2023-03-02T07:50:13.866727Z"
    }
   },
   "outputs": [
    {
     "name": "stdout",
     "output_type": "stream",
     "text": [
      "Model: \"model\"\n",
      "_________________________________________________________________\n",
      " Layer (type)                Output Shape              Param #   \n",
      "=================================================================\n",
      " input_2 (InputLayer)        [(None, 32, 32, 3)]       0         \n",
      "                                                                 \n",
      " conv2d_1 (Conv2D)           (None, 32, 32, 64)        1792      \n",
      "                                                                 \n",
      " max_pooling2d_1 (MaxPoolin  (None, 16, 16, 64)        0         \n",
      " g2D)                                                            \n",
      "                                                                 \n",
      " flatten_1 (Flatten)         (None, 16384)             0         \n",
      "                                                                 \n",
      " dense_1 (Dense)             (None, 256)               4194560   \n",
      "                                                                 \n",
      " dense_2 (Dense)             (None, 10)                2570      \n",
      "                                                                 \n",
      "=================================================================\n",
      "Total params: 4198922 (16.02 MB)\n",
      "Trainable params: 4198922 (16.02 MB)\n",
      "Non-trainable params: 0 (0.00 Byte)\n",
      "_________________________________________________________________\n"
     ]
    }
   ],
   "source": [
    "fn_model.summary()"
   ]
  },
  {
   "cell_type": "markdown",
   "metadata": {
    "collapsed": true,
    "slideshow": {
     "slide_type": "slide"
    }
   },
   "source": [
    "##### 각 Layer의 출력 변수들 통일. \n",
    "- 일반적으로 block 단위로 동일한 변수명을 사용.\n",
    "- hidden layer들의 출력결과는 모두 동일한 변수명을 사용"
   ]
  },
  {
   "cell_type": "code",
   "execution_count": 22,
   "metadata": {
    "ExecuteTime": {
     "end_time": "2023-03-02T08:17:34.430259Z",
     "start_time": "2023-03-02T08:17:34.318210Z"
    }
   },
   "outputs": [
    {
     "name": "stdout",
     "output_type": "stream",
     "text": [
      "Model: \"model_1\"\n",
      "_________________________________________________________________\n",
      " Layer (type)                Output Shape              Param #   \n",
      "=================================================================\n",
      " input_3 (InputLayer)        [(None, 32, 32, 3)]       0         \n",
      "                                                                 \n",
      " conv2d_3 (Conv2D)           (None, 32, 32, 16)        448       \n",
      "                                                                 \n",
      " max_pooling2d_2 (MaxPoolin  (None, 16, 16, 16)        0         \n",
      " g2D)                                                            \n",
      "                                                                 \n",
      " conv2d_4 (Conv2D)           (None, 16, 16, 16)        2320      \n",
      "                                                                 \n",
      " max_pooling2d_3 (MaxPoolin  (None, 8, 8, 16)          0         \n",
      " g2D)                                                            \n",
      "                                                                 \n",
      " conv2d_5 (Conv2D)           (None, 8, 8, 16)          2320      \n",
      "                                                                 \n",
      " conv2d_6 (Conv2D)           (None, 8, 8, 16)          2320      \n",
      "                                                                 \n",
      " max_pooling2d_4 (MaxPoolin  (None, 4, 4, 16)          0         \n",
      " g2D)                                                            \n",
      "                                                                 \n",
      " flatten_2 (Flatten)         (None, 256)               0         \n",
      "                                                                 \n",
      " dense_3 (Dense)             (None, 10)                2570      \n",
      "                                                                 \n",
      "=================================================================\n",
      "Total params: 9978 (38.98 KB)\n",
      "Trainable params: 9978 (38.98 KB)\n",
      "Non-trainable params: 0 (0.00 Byte)\n",
      "_________________________________________________________________\n"
     ]
    }
   ],
   "source": [
    "input_tensor = layers.Input(shape=(32,32,3))\n",
    "\n",
    "x1 = layers.Conv2D(filters=16, kernel_size=3, padding='same', activation='relu')(input_tensor)\n",
    "x1 = layers.MaxPooling2D(padding='same')(x1)\n",
    "\n",
    "x2 = layers.Conv2D(filters=16, kernel_size=3, padding='same', activation='relu')(x1)\n",
    "x2 = layers.MaxPooling2D(padding='same')(x2)\n",
    "\n",
    "x3 = layers.Conv2D(filters=16, kernel_size=3, padding='same', activation='relu')(x2)\n",
    "x3 = layers.Conv2D(filters=16, kernel_size=3, padding='same', activation='relu')(x3)\n",
    "x3 = layers.MaxPooling2D(padding='same')(x3)\n",
    "\n",
    "x4 = layers.Flatten()(x3)\n",
    "output_tensor = layers.Dense(10, activation='softmax')(x4)\n",
    "\n",
    "model3 = models.Model(input_tensor, output_tensor)\n",
    "\n",
    "model3.summary()"
   ]
  },
  {
   "cell_type": "markdown",
   "metadata": {
    "slideshow": {
     "slide_type": "slide"
    }
   },
   "source": [
    "##### trainable 설정"
   ]
  },
  {
   "cell_type": "code",
   "execution_count": 23,
   "metadata": {
    "ExecuteTime": {
     "end_time": "2023-03-02T08:21:06.004874Z",
     "start_time": "2023-03-02T08:21:05.862452Z"
    }
   },
   "outputs": [
    {
     "name": "stdout",
     "output_type": "stream",
     "text": [
      "Model: \"model_2\"\n",
      "_________________________________________________________________\n",
      " Layer (type)                Output Shape              Param #   \n",
      "=================================================================\n",
      " input_4 (InputLayer)        [(None, 32, 32, 3)]       0         \n",
      "                                                                 \n",
      " conv2d_7 (Conv2D)           (None, 32, 32, 16)        448       \n",
      "                                                                 \n",
      " max_pooling2d_5 (MaxPoolin  (None, 16, 16, 16)        0         \n",
      " g2D)                                                            \n",
      "                                                                 \n",
      " conv2d_8 (Conv2D)           (None, 16, 16, 16)        2320      \n",
      "                                                                 \n",
      " max_pooling2d_6 (MaxPoolin  (None, 8, 8, 16)          0         \n",
      " g2D)                                                            \n",
      "                                                                 \n",
      " conv2d_9 (Conv2D)           (None, 8, 8, 16)          2320      \n",
      "                                                                 \n",
      " conv2d_10 (Conv2D)          (None, 8, 8, 16)          2320      \n",
      "                                                                 \n",
      " max_pooling2d_7 (MaxPoolin  (None, 4, 4, 16)          0         \n",
      " g2D)                                                            \n",
      "                                                                 \n",
      " flatten_3 (Flatten)         (None, 256)               0         \n",
      "                                                                 \n",
      " dense_4 (Dense)             (None, 10)                2570      \n",
      "                                                                 \n",
      "=================================================================\n",
      "Total params: 9978 (38.98 KB)\n",
      "Trainable params: 9530 (37.23 KB)\n",
      "Non-trainable params: 448 (1.75 KB)\n",
      "_________________________________________________________________\n"
     ]
    }
   ],
   "source": [
    "input_tensor = layers.Input(shape=(32,32,3))\n",
    "\n",
    "c1 = layers.Conv2D(filters=16, kernel_size=3, padding='same', activation='relu')\n",
    "c1.trainable = False\n",
    "x1 = c1(input_tensor)\n",
    "\n",
    "x1 = layers.MaxPooling2D(padding='same')(x1)\n",
    "\n",
    "x2 = layers.Conv2D(filters=16, kernel_size=3, padding='same', activation='relu')(x1)\n",
    "x2 = layers.MaxPooling2D(padding='same')(x2)\n",
    "\n",
    "x3 = layers.Conv2D(filters=16, kernel_size=3, padding='same', activation='relu')(x2)\n",
    "x3 = layers.Conv2D(filters=16, kernel_size=3, padding='same', activation='relu')(x3)\n",
    "x3 = layers.MaxPooling2D(padding='same')(x3)\n",
    "\n",
    "x4 = layers.Flatten()(x3)\n",
    "output_tensor = layers.Dense(10, activation='softmax')(x4)\n",
    "\n",
    "model3 = models.Model(input_tensor, output_tensor)\n",
    "\n",
    "model3.summary()"
   ]
  },
  {
   "cell_type": "markdown",
   "metadata": {
    "slideshow": {
     "slide_type": "slide"
    }
   },
   "source": [
    "##### Transfer learning"
   ]
  },
  {
   "cell_type": "code",
   "execution_count": 24,
   "metadata": {
    "ExecuteTime": {
     "end_time": "2023-03-02T08:30:23.324361Z",
     "start_time": "2023-03-02T08:30:22.749357Z"
    }
   },
   "outputs": [
    {
     "name": "stdout",
     "output_type": "stream",
     "text": [
      "Model: \"model_3\"\n",
      "__________________________________________________________________________________________________\n",
      " Layer (type)                Output Shape                 Param #   Connected to                  \n",
      "==================================================================================================\n",
      " input_6 (InputLayer)        [(None, 224, 224, 3)]        0         []                            \n",
      "                                                                                                  \n",
      " vgg16 (Functional)          (None, None, None, 512)      1471468   ['input_6[0][0]']             \n",
      "                                                          8                                       \n",
      "                                                                                                  \n",
      " global_average_pooling2d (  (None, 512)                  0         ['vgg16[0][0]']               \n",
      " GlobalAveragePooling2D)                                                                          \n",
      "                                                                                                  \n",
      " dropout (Dropout)           (None, 512)                  0         ['global_average_pooling2d[0][\n",
      "                                                                    0]']                          \n",
      "                                                                                                  \n",
      " dense_5 (Dense)             (None, 512)                  262656    ['dropout[0][0]']             \n",
      "                                                                                                  \n",
      " dense_6 (Dense)             (None, 1)                    513       ['dense_5[0][0]']             \n",
      "                                                                                                  \n",
      " dense_7 (Dense)             (None, 10)                   5130      ['dense_5[0][0]']             \n",
      "                                                                                                  \n",
      "==================================================================================================\n",
      "Total params: 14982987 (57.16 MB)\n",
      "Trainable params: 268299 (1.02 MB)\n",
      "Non-trainable params: 14714688 (56.13 MB)\n",
      "__________________________________________________________________________________________________\n"
     ]
    }
   ],
   "source": [
    "# Pretrained 모델의 conv base(feature extractor)를 이용해 transfer learning\n",
    "backbone = applications.VGG16(include_top=False)\n",
    "backbone.trainable = False\n",
    "\n",
    "input_tensor = layers.Input(shape=(224,224,3))\n",
    "x = backbone(input_tensor)\n",
    "x = layers.GlobalAveragePooling2D()(x)\n",
    "x = layers.Dropout(0.3)(x)\n",
    "x = layers.Dense(512, activation='relu')(x)\n",
    "output_tensor = layers.Dense(1, activation='sigmoid')(x)\n",
    "output_tensor2 = layers.Dense(10, activation='softmax')(x)\n",
    "\n",
    "model4 = models.Model(input_tensor, [output_tensor, output_tensor2])\n",
    "model4.summary()"
   ]
  },
  {
   "cell_type": "code",
   "execution_count": 25,
   "metadata": {
    "ExecuteTime": {
     "end_time": "2023-03-02T08:30:53.377693Z",
     "start_time": "2023-03-02T08:30:53.165295Z"
    }
   },
   "outputs": [
    {
     "data": {
      "image/png": "[encoded data removed]",
      "text/plain": [
       "<IPython.core.display.Image object>"
      ]
     },
     "execution_count": 25,
     "metadata": {},
     "output_type": "execute_result"
    }
   ],
   "source": [
    "keras.utils.plot_model(model4, show_shapes=True)"
   ]
  },
  {
   "cell_type": "markdown",
   "metadata": {
    "slideshow": {
     "slide_type": "slide"
    }
   },
   "source": [
    "## 여러개의 출력결과를  합치는 Layer\n",
    "\n",
    "- 앞 레이어들에서 출력된 값이 여러개이고 이것을 하나의 Layer의 입력으로 넣어 줄 경우 **여러개의 출력값을 합쳐 줘야 한다.** 이때 단순이 합치거나 element wise 연산을 통해 합칠 수 있다. \n",
    "- 함수와 Layer class 두가지 방식을 제공한다.\n",
    "    - tensorflow.keras.layers 모듈로 제공\n",
    "- **concatenate(list, axis=-1)/Concatenate(axis=-1)([list])**\n",
    "    - 레이어들을 단순히 합친다. (붙이는 처리)\n",
    "    - list: 합칠 레이어들을 리스트에 묶어 전달\n",
    "    - axis: 합칠 기준축. (기본값: -1 : 마지막 축기준)\n",
    "- **add(list)/Add()(list), substract(list)/Subtract()(list), multiply(list)/Multiply()(list)**\n",
    "    - 같은 index의 값들을 계산해서(더하기, 빼기, 곱하기) 하나의 레이어로 만든다.\n",
    "    - list: 합칠 레이어들을 리스트에 묶어 전달"
   ]
  },
  {
   "cell_type": "code",
   "execution_count": 26,
   "metadata": {
    "ExecuteTime": {
     "end_time": "2023-03-03T00:57:05.687603Z",
     "start_time": "2023-03-03T00:57:05.563813Z"
    }
   },
   "outputs": [],
   "source": [
    "#ResNet의 Residual Block을 구현.\n",
    "input_tensor = layers.Input(shape=(32,32,3))\n",
    "x = layers.Conv2D(filters=64, kernel_size=7, padding='same', activation='relu')(input_tensor)\n",
    "x = layers.MaxPooling2D(padding='same')(x)\n",
    "\n",
    "\n",
    "x1 = layers.Conv2D(filters=64, kernel_size=3, padding='same')(x)\n",
    "x1 = layers.BatchNormalization()(x1)\n",
    "x1 = layers.ReLU()(x1)\n",
    "x1 = layers.Conv2D(filters=128, kernel_size=3, padding='same')(x1)\n",
    "x1 = layers.BatchNormalization()(x1)\n",
    "\n",
    "x1 = layers.Conv2D(filters=64, kernel_size=1, padding='same')(x1)  \n",
    "\n",
    "x1 = layers.Add()([x, x1])   # x1 = layers.add([x, x1])\n",
    "\n",
    "output_tensor = layers.ReLU()(x1)\n",
    "\n",
    "rb_model = models.Model(input_tensor, output_tensor)"
   ]
  },
  {
   "cell_type": "code",
   "execution_count": 27,
   "metadata": {
    "ExecuteTime": {
     "end_time": "2023-03-03T00:58:41.230237Z",
     "start_time": "2023-03-03T00:58:41.186911Z"
    }
   },
   "outputs": [
    {
     "name": "stdout",
     "output_type": "stream",
     "text": [
      "Model: \"model_4\"\n",
      "__________________________________________________________________________________________________\n",
      " Layer (type)                Output Shape                 Param #   Connected to                  \n",
      "==================================================================================================\n",
      " input_7 (InputLayer)        [(None, 32, 32, 3)]          0         []                            \n",
      "                                                                                                  \n",
      " conv2d_11 (Conv2D)          (None, 32, 32, 64)           9472      ['input_7[0][0]']             \n",
      "                                                                                                  \n",
      " max_pooling2d_8 (MaxPoolin  (None, 16, 16, 64)           0         ['conv2d_11[0][0]']           \n",
      " g2D)                                                                                             \n",
      "                                                                                                  \n",
      " conv2d_12 (Conv2D)          (None, 16, 16, 64)           36928     ['max_pooling2d_8[0][0]']     \n",
      "                                                                                                  \n",
      " batch_normalization (Batch  (None, 16, 16, 64)           256       ['conv2d_12[0][0]']           \n",
      " Normalization)                                                                                   \n",
      "                                                                                                  \n",
      " re_lu (ReLU)                (None, 16, 16, 64)           0         ['batch_normalization[0][0]'] \n",
      "                                                                                                  \n",
      " conv2d_13 (Conv2D)          (None, 16, 16, 128)          73856     ['re_lu[0][0]']               \n",
      "                                                                                                  \n",
      " batch_normalization_1 (Bat  (None, 16, 16, 128)          512       ['conv2d_13[0][0]']           \n",
      " chNormalization)                                                                                 \n",
      "                                                                                                  \n",
      " conv2d_14 (Conv2D)          (None, 16, 16, 64)           8256      ['batch_normalization_1[0][0]'\n",
      "                                                                    ]                             \n",
      "                                                                                                  \n",
      " add (Add)                   (None, 16, 16, 64)           0         ['max_pooling2d_8[0][0]',     \n",
      "                                                                     'conv2d_14[0][0]']           \n",
      "                                                                                                  \n",
      " re_lu_1 (ReLU)              (None, 16, 16, 64)           0         ['add[0][0]']                 \n",
      "                                                                                                  \n",
      "==================================================================================================\n",
      "Total params: 129280 (505.00 KB)\n",
      "Trainable params: 128896 (503.50 KB)\n",
      "Non-trainable params: 384 (1.50 KB)\n",
      "__________________________________________________________________________________________________\n"
     ]
    }
   ],
   "source": [
    "rb_model.summary()"
   ]
  },
  {
   "cell_type": "code",
   "execution_count": 28,
   "metadata": {
    "ExecuteTime": {
     "end_time": "2023-03-03T00:58:45.600315Z",
     "start_time": "2023-03-03T00:58:45.370232Z"
    }
   },
   "outputs": [
    {
     "data": {
      "image/png": "[encoded data removed]",
      "text/plain": [
       "<IPython.core.display.Image object>"
      ]
     },
     "execution_count": 28,
     "metadata": {},
     "output_type": "execute_result"
    }
   ],
   "source": [
    "keras.utils.plot_model(rb_model, show_shapes=True)"
   ]
  },
  {
   "cell_type": "markdown",
   "metadata": {
    "slideshow": {
     "slide_type": "slide"
    }
   },
   "source": [
    "### 다중 출력 모델\n",
    "- 가정\n",
    "    - iris 데이터셋에서 꽃받침의 너비와 높이로 꽃잎의 너비, 높이, 꽃 종류를 예측하는 모델\n",
    "    - 출력결과가 3개가 나와야 한다.\n",
    "- X: 꽃받침 너비, 높이\n",
    "- y: 꽃잎 너비, 높이, 꽃 종류"
   ]
  },
  {
   "cell_type": "code",
   "execution_count": 29,
   "metadata": {
    "ExecuteTime": {
     "end_time": "2023-03-03T01:26:04.068585Z",
     "start_time": "2023-03-03T01:26:04.058946Z"
    }
   },
   "outputs": [
    {
     "data": {
      "text/plain": [
       "(150, 4)"
      ]
     },
     "execution_count": 29,
     "metadata": {},
     "output_type": "execute_result"
    }
   ],
   "source": [
    "from sklearn.datasets import load_iris\n",
    "\n",
    "X, y = load_iris(return_X_y=True)\n",
    "X.shape"
   ]
  },
  {
   "cell_type": "code",
   "execution_count": 30,
   "metadata": {
    "ExecuteTime": {
     "end_time": "2023-03-03T01:28:14.603901Z",
     "start_time": "2023-03-03T01:28:14.588849Z"
    }
   },
   "outputs": [
    {
     "data": {
      "text/plain": [
       "((150, 2), (150,), (150,), (150,))"
      ]
     },
     "execution_count": 30,
     "metadata": {},
     "output_type": "execute_result"
    }
   ],
   "source": [
    "# X, y의 형태를 변환 \n",
    "# y1: petal length, y2: petal width, y3: target(품종)\n",
    "y1 = X[:, 2]\n",
    "y2 = X[:, 3]\n",
    "y3 = y\n",
    "\n",
    "# X: sepal length, width\n",
    "X = X[:, [0, 1]]\n",
    "X.shape, y1.shape, y2.shape, y3.shape"
   ]
  },
  {
   "cell_type": "markdown",
   "metadata": {
    "slideshow": {
     "slide_type": "fragment"
    }
   },
   "source": [
    "##### 모델 정의 및 컴파일"
   ]
  },
  {
   "cell_type": "code",
   "execution_count": 31,
   "metadata": {
    "ExecuteTime": {
     "end_time": "2023-03-03T01:36:40.355048Z",
     "start_time": "2023-03-03T01:36:40.268047Z"
    }
   },
   "outputs": [],
   "source": [
    "# 모델정의 - 입력: X, 출력: y1, y2, y3 (다중출력)\n",
    "input_tensor = layers.Input(shape=(2, ))\n",
    "\n",
    "# hidden layer\n",
    "x = layers.Dense(units=16, activation='relu')(input_tensor)\n",
    "x = layers.Dense(units=8, activation='relu')(x)\n",
    "\n",
    "# output layer\n",
    "output_tensor1 = layers.Dense(1, name='petal_length_output')(x)\n",
    "output_tensor2 = layers.Dense(1, name='petal_width_output')(x)\n",
    "output_tensor3 = layers.Dense(3, activation='softmax', name='species_output')(x)\n",
    "\n",
    "model = models.Model(input_tensor, [output_tensor1, output_tensor2, output_tensor3])\n",
    "# input이나 output이 여러개일 경우 List로 묶어서 전달."
   ]
  },
  {
   "cell_type": "code",
   "execution_count": 32,
   "metadata": {
    "ExecuteTime": {
     "end_time": "2023-03-03T01:36:50.078401Z",
     "start_time": "2023-03-03T01:36:50.050619Z"
    }
   },
   "outputs": [
    {
     "name": "stdout",
     "output_type": "stream",
     "text": [
      "Model: \"model_5\"\n",
      "__________________________________________________________________________________________________\n",
      " Layer (type)                Output Shape                 Param #   Connected to                  \n",
      "==================================================================================================\n",
      " input_8 (InputLayer)        [(None, 2)]                  0         []                            \n",
      "                                                                                                  \n",
      " dense_8 (Dense)             (None, 16)                   48        ['input_8[0][0]']             \n",
      "                                                                                                  \n",
      " dense_9 (Dense)             (None, 8)                    136       ['dense_8[0][0]']             \n",
      "                                                                                                  \n",
      " petal_length_output (Dense  (None, 1)                    9         ['dense_9[0][0]']             \n",
      " )                                                                                                \n",
      "                                                                                                  \n",
      " petal_width_output (Dense)  (None, 1)                    9         ['dense_9[0][0]']             \n",
      "                                                                                                  \n",
      " species_output (Dense)      (None, 3)                    27        ['dense_9[0][0]']             \n",
      "                                                                                                  \n",
      "==================================================================================================\n",
      "Total params: 229 (916.00 Byte)\n",
      "Trainable params: 229 (916.00 Byte)\n",
      "Non-trainable params: 0 (0.00 Byte)\n",
      "__________________________________________________________________________________________________\n"
     ]
    }
   ],
   "source": [
    "model.summary()"
   ]
  },
  {
   "cell_type": "code",
   "execution_count": 33,
   "metadata": {
    "ExecuteTime": {
     "end_time": "2023-03-03T01:37:26.707697Z",
     "start_time": "2023-03-03T01:37:26.491670Z"
    }
   },
   "outputs": [
    {
     "data": {
      "image/png": "[encoded data removed]",
      "text/plain": [
       "<IPython.core.display.Image object>"
      ]
     },
     "execution_count": 33,
     "metadata": {},
     "output_type": "execute_result"
    }
   ],
   "source": [
    "keras.utils.plot_model(model, show_shapes=True)"
   ]
  },
  {
   "cell_type": "code",
   "execution_count": 34,
   "metadata": {
    "ExecuteTime": {
     "end_time": "2023-03-03T01:43:19.777294Z",
     "start_time": "2023-03-03T01:43:19.748296Z"
    }
   },
   "outputs": [],
   "source": [
    "# compile\n",
    "model.compile(optimizer='adam', \n",
    "              loss=[\"mse\", \"mse\", \"sparse_categorical_crossentropy\"])\n",
    "# loss 함수는 output 순서대로 리스트로 묶어서 제공\n",
    "             # 출력 결과 순서별로 loss를 구해서 모두 더한 Total Loss 를 이용해 최적화작업을 수행한다."
   ]
  },
  {
   "cell_type": "code",
   "execution_count": 35,
   "metadata": {
    "ExecuteTime": {
     "end_time": "2023-03-03T01:53:06.316871Z",
     "start_time": "2023-03-03T01:53:06.293241Z"
    }
   },
   "outputs": [
    {
     "data": {
      "text/plain": [
       "<_TensorSliceDataset element_spec=(TensorSpec(shape=(2,), dtype=tf.float64, name=None), (TensorSpec(shape=(), dtype=tf.float64, name=None), TensorSpec(shape=(), dtype=tf.float64, name=None), TensorSpec(shape=(), dtype=tf.int32, name=None)))>"
      ]
     },
     "execution_count": 35,
     "metadata": {},
     "output_type": "execute_result"
    }
   ],
   "source": [
    "tf.data.Dataset.from_tensor_slices((X, (y1, y2, y3)))"
   ]
  },
  {
   "cell_type": "code",
   "execution_count": 36,
   "metadata": {
    "ExecuteTime": {
     "end_time": "2023-03-03T01:43:29.343158Z",
     "start_time": "2023-03-03T01:43:20.523691Z"
    },
    "scrolled": true
   },
   "outputs": [
    {
     "name": "stdout",
     "output_type": "stream",
     "text": [
      "Epoch 1/100\n",
      "4/4 [==============================] - 1s 67ms/step - loss: 14.7817 - petal_length_output_loss: 10.5495 - petal_width_output_loss: 3.1193 - species_output_loss: 1.1129 - val_loss: 31.7783 - val_petal_length_output_loss: 23.3258 - val_petal_width_output_loss: 7.3249 - val_species_output_loss: 1.1276\n",
      "Epoch 2/100\n",
      "4/4 [==============================] - 0s 11ms/step - loss: 14.2421 - petal_length_output_loss: 9.9956 - petal_width_output_loss: 3.1480 - species_output_loss: 1.0985 - val_loss: 30.9263 - val_petal_length_output_loss: 22.4021 - val_petal_width_output_loss: 7.3082 - val_species_output_loss: 1.2161\n",
      "Epoch 3/100\n",
      "4/4 [==============================] - 0s 11ms/step - loss: 13.7667 - petal_length_output_loss: 9.5348 - petal_width_output_loss: 3.1463 - species_output_loss: 1.0856 - val_loss: 30.1726 - val_petal_length_output_loss: 21.4681 - val_petal_width_output_loss: 7.4161 - val_species_output_loss: 1.2884\n",
      "Epoch 4/100\n",
      "4/4 [==============================] - 0s 12ms/step - loss: 13.3562 - petal_length_output_loss: 9.0192 - petal_width_output_loss: 3.2587 - species_output_loss: 1.0783 - val_loss: 29.5710 - val_petal_length_output_loss: 20.3994 - val_petal_width_output_loss: 7.8479 - val_species_output_loss: 1.3236\n",
      "Epoch 5/100\n",
      "4/4 [==============================] - 0s 11ms/step - loss: 13.0267 - petal_length_output_loss: 8.4518 - petal_width_output_loss: 3.5010 - species_output_loss: 1.0738 - val_loss: 28.9427 - val_petal_length_output_loss: 19.2311 - val_petal_width_output_loss: 8.3498 - val_species_output_loss: 1.3619\n",
      "Epoch 6/100\n",
      "4/4 [==============================] - 0s 11ms/step - loss: 12.7241 - petal_length_output_loss: 7.8660 - petal_width_output_loss: 3.7857 - species_output_loss: 1.0723 - val_loss: 28.3333 - val_petal_length_output_loss: 18.0596 - val_petal_width_output_loss: 8.8714 - val_species_output_loss: 1.4022\n",
      "Epoch 7/100\n",
      "4/4 [==============================] - 0s 11ms/step - loss: 12.4638 - petal_length_output_loss: 7.3172 - petal_width_output_loss: 4.0748 - species_output_loss: 1.0717 - val_loss: 27.7770 - val_petal_length_output_loss: 16.9732 - val_petal_width_output_loss: 9.3628 - val_species_output_loss: 1.4411\n",
      "Epoch 8/100\n",
      "4/4 [==============================] - 0s 11ms/step - loss: 12.2370 - petal_length_output_loss: 6.8215 - petal_width_output_loss: 4.3438 - species_output_loss: 1.0717 - val_loss: 27.2836 - val_petal_length_output_loss: 16.0117 - val_petal_width_output_loss: 9.7945 - val_species_output_loss: 1.4774\n",
      "Epoch 9/100\n",
      "4/4 [==============================] - 0s 11ms/step - loss: 12.0469 - petal_length_output_loss: 6.4045 - petal_width_output_loss: 4.5713 - species_output_loss: 1.0710 - val_loss: 26.8412 - val_petal_length_output_loss: 15.1677 - val_petal_width_output_loss: 10.1634 - val_species_output_loss: 1.5102\n",
      "Epoch 10/100\n",
      "4/4 [==============================] - 0s 11ms/step - loss: 11.8450 - petal_length_output_loss: 6.0236 - petal_width_output_loss: 4.7510 - species_output_loss: 1.0704 - val_loss: 26.4761 - val_petal_length_output_loss: 14.5260 - val_petal_width_output_loss: 10.4129 - val_species_output_loss: 1.5371\n",
      "Epoch 11/100\n",
      "4/4 [==============================] - 0s 11ms/step - loss: 11.6959 - petal_length_output_loss: 5.7466 - petal_width_output_loss: 4.8811 - species_output_loss: 1.0682 - val_loss: 26.1048 - val_petal_length_output_loss: 13.8748 - val_petal_width_output_loss: 10.6675 - val_species_output_loss: 1.5625\n",
      "Epoch 12/100\n",
      "4/4 [==============================] - 0s 11ms/step - loss: 11.5376 - petal_length_output_loss: 5.4611 - petal_width_output_loss: 5.0094 - species_output_loss: 1.0672 - val_loss: 25.7610 - val_petal_length_output_loss: 13.3028 - val_petal_width_output_loss: 10.8729 - val_species_output_loss: 1.5853\n",
      "Epoch 13/100\n",
      "4/4 [==============================] - 0s 11ms/step - loss: 11.3954 - petal_length_output_loss: 5.2164 - petal_width_output_loss: 5.1132 - species_output_loss: 1.0658 - val_loss: 25.4353 - val_petal_length_output_loss: 12.7922 - val_petal_width_output_loss: 11.0374 - val_species_output_loss: 1.6057\n",
      "Epoch 14/100\n",
      "4/4 [==============================] - 0s 11ms/step - loss: 11.2601 - petal_length_output_loss: 5.0096 - petal_width_output_loss: 5.1868 - species_output_loss: 1.0637 - val_loss: 25.1312 - val_petal_length_output_loss: 12.3669 - val_petal_width_output_loss: 11.1439 - val_species_output_loss: 1.6204\n",
      "Epoch 15/100\n",
      "4/4 [==============================] - 0s 11ms/step - loss: 11.1267 - petal_length_output_loss: 4.8378 - petal_width_output_loss: 5.2268 - species_output_loss: 1.0620 - val_loss: 24.8428 - val_petal_length_output_loss: 11.9981 - val_petal_width_output_loss: 11.2111 - val_species_output_loss: 1.6336\n",
      "Epoch 16/100\n",
      "4/4 [==============================] - 0s 11ms/step - loss: 10.9966 - petal_length_output_loss: 4.6849 - petal_width_output_loss: 5.2518 - species_output_loss: 1.0599 - val_loss: 24.5592 - val_petal_length_output_loss: 11.6509 - val_petal_width_output_loss: 11.2635 - val_species_output_loss: 1.6447\n",
      "Epoch 17/100\n",
      "4/4 [==============================] - 0s 11ms/step - loss: 10.8648 - petal_length_output_loss: 4.5393 - petal_width_output_loss: 5.2672 - species_output_loss: 1.0583 - val_loss: 24.2905 - val_petal_length_output_loss: 11.3465 - val_petal_width_output_loss: 11.2881 - val_species_output_loss: 1.6559\n",
      "Epoch 18/100\n",
      "4/4 [==============================] - 0s 11ms/step - loss: 10.7345 - petal_length_output_loss: 4.4163 - petal_width_output_loss: 5.2614 - species_output_loss: 1.0568 - val_loss: 24.0389 - val_petal_length_output_loss: 11.1000 - val_petal_width_output_loss: 11.2744 - val_species_output_loss: 1.6646\n",
      "Epoch 19/100\n",
      "4/4 [==============================] - 0s 10ms/step - loss: 10.6148 - petal_length_output_loss: 4.3139 - petal_width_output_loss: 5.2462 - species_output_loss: 1.0547 - val_loss: 23.7804 - val_petal_length_output_loss: 10.8454 - val_petal_width_output_loss: 11.2639 - val_species_output_loss: 1.6711\n",
      "Epoch 20/100\n",
      "4/4 [==============================] - 0s 11ms/step - loss: 10.4922 - petal_length_output_loss: 4.2102 - petal_width_output_loss: 5.2290 - species_output_loss: 1.0531 - val_loss: 23.5269 - val_petal_length_output_loss: 10.6070 - val_petal_width_output_loss: 11.2429 - val_species_output_loss: 1.6770\n",
      "Epoch 21/100\n",
      "4/4 [==============================] - 0s 11ms/step - loss: 10.3746 - petal_length_output_loss: 4.1112 - petal_width_output_loss: 5.2120 - species_output_loss: 1.0514 - val_loss: 23.2717 - val_petal_length_output_loss: 10.3633 - val_petal_width_output_loss: 11.2249 - val_species_output_loss: 1.6835\n",
      "Epoch 22/100\n",
      "4/4 [==============================] - 0s 10ms/step - loss: 10.2526 - petal_length_output_loss: 4.0174 - petal_width_output_loss: 5.1851 - species_output_loss: 1.0501 - val_loss: 23.0323 - val_petal_length_output_loss: 10.1661 - val_petal_width_output_loss: 11.1782 - val_species_output_loss: 1.6879\n",
      "Epoch 23/100\n",
      "4/4 [==============================] - 0s 13ms/step - loss: 10.1372 - petal_length_output_loss: 3.9355 - petal_width_output_loss: 5.1530 - species_output_loss: 1.0487 - val_loss: 22.7880 - val_petal_length_output_loss: 9.9553 - val_petal_width_output_loss: 11.1404 - val_species_output_loss: 1.6922\n",
      "Epoch 24/100\n",
      "4/4 [==============================] - 0s 10ms/step - loss: 10.0193 - petal_length_output_loss: 3.8481 - petal_width_output_loss: 5.1236 - species_output_loss: 1.0476 - val_loss: 22.5471 - val_petal_length_output_loss: 9.7483 - val_petal_width_output_loss: 11.1018 - val_species_output_loss: 1.6970\n",
      "Epoch 25/100\n",
      "4/4 [==============================] - 0s 11ms/step - loss: 9.9112 - petal_length_output_loss: 3.7637 - petal_width_output_loss: 5.1013 - species_output_loss: 1.0463 - val_loss: 22.2929 - val_petal_length_output_loss: 9.5089 - val_petal_width_output_loss: 11.0822 - val_species_output_loss: 1.7019\n",
      "Epoch 26/100\n",
      "4/4 [==============================] - 0s 10ms/step - loss: 9.7947 - petal_length_output_loss: 3.6708 - petal_width_output_loss: 5.0784 - species_output_loss: 1.0455 - val_loss: 22.0554 - val_petal_length_output_loss: 9.3048 - val_petal_width_output_loss: 11.0422 - val_species_output_loss: 1.7084\n",
      "Epoch 27/100\n",
      "4/4 [==============================] - 0s 11ms/step - loss: 9.6838 - petal_length_output_loss: 3.5901 - petal_width_output_loss: 5.0491 - species_output_loss: 1.0446 - val_loss: 21.8206 - val_petal_length_output_loss: 9.1051 - val_petal_width_output_loss: 10.9997 - val_species_output_loss: 1.7158\n",
      "Epoch 28/100\n",
      "4/4 [==============================] - 0s 10ms/step - loss: 9.5733 - petal_length_output_loss: 3.5128 - petal_width_output_loss: 5.0166 - species_output_loss: 1.0439 - val_loss: 21.5900 - val_petal_length_output_loss: 8.9236 - val_petal_width_output_loss: 10.9464 - val_species_output_loss: 1.7200\n",
      "Epoch 29/100\n",
      "4/4 [==============================] - 0s 10ms/step - loss: 9.4642 - petal_length_output_loss: 3.4386 - petal_width_output_loss: 4.9826 - species_output_loss: 1.0430 - val_loss: 21.3544 - val_petal_length_output_loss: 8.7291 - val_petal_width_output_loss: 10.9014 - val_species_output_loss: 1.7239\n",
      "Epoch 30/100\n",
      "4/4 [==============================] - 0s 10ms/step - loss: 9.3561 - petal_length_output_loss: 3.3625 - petal_width_output_loss: 4.9513 - species_output_loss: 1.0423 - val_loss: 21.1207 - val_petal_length_output_loss: 8.5346 - val_petal_width_output_loss: 10.8567 - val_species_output_loss: 1.7294\n",
      "Epoch 31/100\n",
      "4/4 [==============================] - 0s 11ms/step - loss: 9.2494 - petal_length_output_loss: 3.2893 - petal_width_output_loss: 4.9184 - species_output_loss: 1.0418 - val_loss: 20.8893 - val_petal_length_output_loss: 8.3515 - val_petal_width_output_loss: 10.8052 - val_species_output_loss: 1.7326\n",
      "Epoch 32/100\n",
      "4/4 [==============================] - 0s 11ms/step - loss: 9.1433 - petal_length_output_loss: 3.2183 - petal_width_output_loss: 4.8837 - species_output_loss: 1.0413 - val_loss: 20.6598 - val_petal_length_output_loss: 8.1695 - val_petal_width_output_loss: 10.7541 - val_species_output_loss: 1.7361\n",
      "Epoch 33/100\n",
      "4/4 [==============================] - 0s 11ms/step - loss: 9.0416 - petal_length_output_loss: 3.1453 - petal_width_output_loss: 4.8555 - species_output_loss: 1.0408 - val_loss: 20.4238 - val_petal_length_output_loss: 7.9616 - val_petal_width_output_loss: 10.7185 - val_species_output_loss: 1.7437\n",
      "Epoch 34/100\n",
      "4/4 [==============================] - 0s 11ms/step - loss: 8.9336 - petal_length_output_loss: 3.0732 - petal_width_output_loss: 4.8200 - species_output_loss: 1.0403 - val_loss: 20.2072 - val_petal_length_output_loss: 7.8135 - val_petal_width_output_loss: 10.6476 - val_species_output_loss: 1.7460\n",
      "Epoch 35/100\n",
      "4/4 [==============================] - 0s 11ms/step - loss: 8.8345 - petal_length_output_loss: 3.0141 - petal_width_output_loss: 4.7807 - species_output_loss: 1.0397 - val_loss: 19.9744 - val_petal_length_output_loss: 7.6247 - val_petal_width_output_loss: 10.6008 - val_species_output_loss: 1.7489\n",
      "Epoch 36/100\n",
      "4/4 [==============================] - 0s 11ms/step - loss: 8.7269 - petal_length_output_loss: 2.9430 - petal_width_output_loss: 4.7447 - species_output_loss: 1.0393 - val_loss: 19.7588 - val_petal_length_output_loss: 7.4719 - val_petal_width_output_loss: 10.5344 - val_species_output_loss: 1.7525\n",
      "Epoch 37/100\n",
      "4/4 [==============================] - 0s 10ms/step - loss: 8.6255 - petal_length_output_loss: 2.8845 - petal_width_output_loss: 4.7021 - species_output_loss: 1.0389 - val_loss: 19.5416 - val_petal_length_output_loss: 7.3099 - val_petal_width_output_loss: 10.4739 - val_species_output_loss: 1.7578\n",
      "Epoch 38/100\n",
      "4/4 [==============================] - 0s 11ms/step - loss: 8.5227 - petal_length_output_loss: 2.8226 - petal_width_output_loss: 4.6617 - species_output_loss: 1.0385 - val_loss: 19.3281 - val_petal_length_output_loss: 7.1601 - val_petal_width_output_loss: 10.4069 - val_species_output_loss: 1.7611\n",
      "Epoch 39/100\n",
      "4/4 [==============================] - 0s 10ms/step - loss: 8.4223 - petal_length_output_loss: 2.7642 - petal_width_output_loss: 4.6201 - species_output_loss: 1.0380 - val_loss: 19.1087 - val_petal_length_output_loss: 6.9962 - val_petal_width_output_loss: 10.3484 - val_species_output_loss: 1.7641\n",
      "Epoch 40/100\n",
      "4/4 [==============================] - 0s 11ms/step - loss: 8.3190 - petal_length_output_loss: 2.7053 - petal_width_output_loss: 4.5760 - species_output_loss: 1.0377 - val_loss: 18.9033 - val_petal_length_output_loss: 6.8584 - val_petal_width_output_loss: 10.2763 - val_species_output_loss: 1.7685\n",
      "Epoch 41/100\n",
      "4/4 [==============================] - 0s 11ms/step - loss: 8.2192 - petal_length_output_loss: 2.6466 - petal_width_output_loss: 4.5354 - species_output_loss: 1.0372 - val_loss: 18.6904 - val_petal_length_output_loss: 6.7020 - val_petal_width_output_loss: 10.2153 - val_species_output_loss: 1.7731\n",
      "Epoch 42/100\n",
      "4/4 [==============================] - 0s 11ms/step - loss: 8.1147 - petal_length_output_loss: 2.5903 - petal_width_output_loss: 4.4876 - species_output_loss: 1.0369 - val_loss: 18.4899 - val_petal_length_output_loss: 6.5746 - val_petal_width_output_loss: 10.1396 - val_species_output_loss: 1.7758\n",
      "Epoch 43/100\n",
      "4/4 [==============================] - 0s 11ms/step - loss: 8.0153 - petal_length_output_loss: 2.5334 - petal_width_output_loss: 4.4456 - species_output_loss: 1.0364 - val_loss: 18.2765 - val_petal_length_output_loss: 6.4154 - val_petal_width_output_loss: 10.0823 - val_species_output_loss: 1.7789\n",
      "Epoch 44/100\n",
      "4/4 [==============================] - 0s 11ms/step - loss: 7.9159 - petal_length_output_loss: 2.4722 - petal_width_output_loss: 4.4077 - species_output_loss: 1.0359 - val_loss: 18.0677 - val_petal_length_output_loss: 6.2655 - val_petal_width_output_loss: 10.0210 - val_species_output_loss: 1.7811\n",
      "Epoch 45/100\n",
      "4/4 [==============================] - 0s 11ms/step - loss: 7.8163 - petal_length_output_loss: 2.4154 - petal_width_output_loss: 4.3653 - species_output_loss: 1.0357 - val_loss: 17.8629 - val_petal_length_output_loss: 6.1262 - val_petal_width_output_loss: 9.9523 - val_species_output_loss: 1.7845\n",
      "Epoch 46/100\n",
      "4/4 [==============================] - 0s 10ms/step - loss: 7.7178 - petal_length_output_loss: 2.3610 - petal_width_output_loss: 4.3216 - species_output_loss: 1.0352 - val_loss: 17.6558 - val_petal_length_output_loss: 5.9878 - val_petal_width_output_loss: 9.8829 - val_species_output_loss: 1.7851\n",
      "Epoch 47/100\n",
      "4/4 [==============================] - 0s 11ms/step - loss: 7.6211 - petal_length_output_loss: 2.3090 - petal_width_output_loss: 4.2773 - species_output_loss: 1.0348 - val_loss: 17.4516 - val_petal_length_output_loss: 5.8543 - val_petal_width_output_loss: 9.8119 - val_species_output_loss: 1.7855\n",
      "Epoch 48/100\n",
      "4/4 [==============================] - 0s 11ms/step - loss: 7.5264 - petal_length_output_loss: 2.2592 - petal_width_output_loss: 4.2328 - species_output_loss: 1.0344 - val_loss: 17.2480 - val_petal_length_output_loss: 5.7151 - val_petal_width_output_loss: 9.7455 - val_species_output_loss: 1.7874\n",
      "Epoch 49/100\n",
      "4/4 [==============================] - 0s 10ms/step - loss: 7.4315 - petal_length_output_loss: 2.2064 - petal_width_output_loss: 4.1911 - species_output_loss: 1.0341 - val_loss: 17.0512 - val_petal_length_output_loss: 5.5879 - val_petal_width_output_loss: 9.6739 - val_species_output_loss: 1.7894\n",
      "Epoch 50/100\n",
      "4/4 [==============================] - 0s 10ms/step - loss: 7.3413 - petal_length_output_loss: 2.1582 - petal_width_output_loss: 4.1494 - species_output_loss: 1.0336 - val_loss: 16.8485 - val_petal_length_output_loss: 5.4519 - val_petal_width_output_loss: 9.6067 - val_species_output_loss: 1.7900\n",
      "Epoch 51/100\n",
      "4/4 [==============================] - 0s 10ms/step - loss: 7.2491 - petal_length_output_loss: 2.1122 - petal_width_output_loss: 4.1035 - species_output_loss: 1.0333 - val_loss: 16.6595 - val_petal_length_output_loss: 5.3406 - val_petal_width_output_loss: 9.5275 - val_species_output_loss: 1.7914\n",
      "Epoch 52/100\n",
      "4/4 [==============================] - 0s 11ms/step - loss: 7.1646 - petal_length_output_loss: 2.0697 - petal_width_output_loss: 4.0620 - species_output_loss: 1.0329 - val_loss: 16.4550 - val_petal_length_output_loss: 5.2035 - val_petal_width_output_loss: 9.4618 - val_species_output_loss: 1.7896\n",
      "Epoch 53/100\n"
     ]
    },
    {
     "name": "stdout",
     "output_type": "stream",
     "text": [
      "4/4 [==============================] - 0s 11ms/step - loss: 7.0764 - petal_length_output_loss: 2.0234 - petal_width_output_loss: 4.0204 - species_output_loss: 1.0326 - val_loss: 16.2623 - val_petal_length_output_loss: 5.0856 - val_petal_width_output_loss: 9.3872 - val_species_output_loss: 1.7895\n",
      "Epoch 54/100\n",
      "4/4 [==============================] - 0s 10ms/step - loss: 6.9918 - petal_length_output_loss: 1.9852 - petal_width_output_loss: 3.9744 - species_output_loss: 1.0322 - val_loss: 16.0769 - val_petal_length_output_loss: 4.9853 - val_petal_width_output_loss: 9.3040 - val_species_output_loss: 1.7876\n",
      "Epoch 55/100\n",
      "4/4 [==============================] - 0s 10ms/step - loss: 6.9072 - petal_length_output_loss: 1.9515 - petal_width_output_loss: 3.9240 - species_output_loss: 1.0317 - val_loss: 15.9080 - val_petal_length_output_loss: 4.9135 - val_petal_width_output_loss: 9.2078 - val_species_output_loss: 1.7868\n",
      "Epoch 56/100\n",
      "4/4 [==============================] - 0s 10ms/step - loss: 6.8271 - petal_length_output_loss: 1.9218 - petal_width_output_loss: 3.8740 - species_output_loss: 1.0313 - val_loss: 15.7236 - val_petal_length_output_loss: 4.8097 - val_petal_width_output_loss: 9.1287 - val_species_output_loss: 1.7852\n",
      "Epoch 57/100\n",
      "4/4 [==============================] - 0s 11ms/step - loss: 6.7477 - petal_length_output_loss: 1.8868 - petal_width_output_loss: 3.8298 - species_output_loss: 1.0310 - val_loss: 15.5384 - val_petal_length_output_loss: 4.7088 - val_petal_width_output_loss: 9.0480 - val_species_output_loss: 1.7816\n",
      "Epoch 58/100\n",
      "4/4 [==============================] - 0s 10ms/step - loss: 6.6670 - petal_length_output_loss: 1.8529 - petal_width_output_loss: 3.7835 - species_output_loss: 1.0305 - val_loss: 15.3620 - val_petal_length_output_loss: 4.6167 - val_petal_width_output_loss: 8.9649 - val_species_output_loss: 1.7803\n",
      "Epoch 59/100\n",
      "4/4 [==============================] - 0s 11ms/step - loss: 6.5871 - petal_length_output_loss: 1.8262 - petal_width_output_loss: 3.7306 - species_output_loss: 1.0302 - val_loss: 15.2033 - val_petal_length_output_loss: 4.5542 - val_petal_width_output_loss: 8.8695 - val_species_output_loss: 1.7796\n",
      "Epoch 60/100\n",
      "4/4 [==============================] - 0s 10ms/step - loss: 6.5123 - petal_length_output_loss: 1.7943 - petal_width_output_loss: 3.6883 - species_output_loss: 1.0297 - val_loss: 15.0188 - val_petal_length_output_loss: 4.4367 - val_petal_width_output_loss: 8.8011 - val_species_output_loss: 1.7810\n",
      "Epoch 61/100\n",
      "4/4 [==============================] - 0s 10ms/step - loss: 6.4349 - petal_length_output_loss: 1.7563 - petal_width_output_loss: 3.6493 - species_output_loss: 1.0293 - val_loss: 14.8399 - val_petal_length_output_loss: 4.3326 - val_petal_width_output_loss: 8.7267 - val_species_output_loss: 1.7806\n",
      "Epoch 62/100\n",
      "4/4 [==============================] - 0s 10ms/step - loss: 6.3609 - petal_length_output_loss: 1.7211 - petal_width_output_loss: 3.6110 - species_output_loss: 1.0289 - val_loss: 14.6564 - val_petal_length_output_loss: 4.2189 - val_petal_width_output_loss: 8.6574 - val_species_output_loss: 1.7800\n",
      "Epoch 63/100\n",
      "4/4 [==============================] - 0s 11ms/step - loss: 6.2894 - petal_length_output_loss: 1.6851 - petal_width_output_loss: 3.5758 - species_output_loss: 1.0285 - val_loss: 14.4699 - val_petal_length_output_loss: 4.1023 - val_petal_width_output_loss: 8.5896 - val_species_output_loss: 1.7779\n",
      "Epoch 64/100\n",
      "4/4 [==============================] - 0s 11ms/step - loss: 6.2125 - petal_length_output_loss: 1.6527 - petal_width_output_loss: 3.5318 - species_output_loss: 1.0280 - val_loss: 14.3136 - val_petal_length_output_loss: 4.0393 - val_petal_width_output_loss: 8.4975 - val_species_output_loss: 1.7768\n",
      "Epoch 65/100\n",
      "4/4 [==============================] - 0s 11ms/step - loss: 6.1423 - petal_length_output_loss: 1.6281 - petal_width_output_loss: 3.4865 - species_output_loss: 1.0277 - val_loss: 14.1485 - val_petal_length_output_loss: 3.9553 - val_petal_width_output_loss: 8.4165 - val_species_output_loss: 1.7768\n",
      "Epoch 66/100\n",
      "4/4 [==============================] - 0s 10ms/step - loss: 6.0719 - petal_length_output_loss: 1.6015 - petal_width_output_loss: 3.4432 - species_output_loss: 1.0271 - val_loss: 13.9917 - val_petal_length_output_loss: 3.8933 - val_petal_width_output_loss: 8.3255 - val_species_output_loss: 1.7729\n",
      "Epoch 67/100\n",
      "4/4 [==============================] - 0s 10ms/step - loss: 6.0001 - petal_length_output_loss: 1.5847 - petal_width_output_loss: 3.3889 - species_output_loss: 1.0265 - val_loss: 13.8549 - val_petal_length_output_loss: 3.8663 - val_petal_width_output_loss: 8.2202 - val_species_output_loss: 1.7684\n",
      "Epoch 68/100\n",
      "4/4 [==============================] - 0s 11ms/step - loss: 5.9309 - petal_length_output_loss: 1.5677 - petal_width_output_loss: 3.3371 - species_output_loss: 1.0260 - val_loss: 13.7085 - val_petal_length_output_loss: 3.8134 - val_petal_width_output_loss: 8.1291 - val_species_output_loss: 1.7659\n",
      "Epoch 69/100\n",
      "4/4 [==============================] - 0s 11ms/step - loss: 5.8630 - petal_length_output_loss: 1.5482 - petal_width_output_loss: 3.2894 - species_output_loss: 1.0255 - val_loss: 13.5644 - val_petal_length_output_loss: 3.7611 - val_petal_width_output_loss: 8.0393 - val_species_output_loss: 1.7640\n",
      "Epoch 70/100\n",
      "4/4 [==============================] - 0s 11ms/step - loss: 5.7951 - petal_length_output_loss: 1.5285 - petal_width_output_loss: 3.2417 - species_output_loss: 1.0249 - val_loss: 13.4188 - val_petal_length_output_loss: 3.7015 - val_petal_width_output_loss: 7.9543 - val_species_output_loss: 1.7630\n",
      "Epoch 71/100\n",
      "4/4 [==============================] - 0s 10ms/step - loss: 5.7294 - petal_length_output_loss: 1.5053 - petal_width_output_loss: 3.1998 - species_output_loss: 1.0244 - val_loss: 13.2675 - val_petal_length_output_loss: 3.6271 - val_petal_width_output_loss: 7.8767 - val_species_output_loss: 1.7637\n",
      "Epoch 72/100\n",
      "4/4 [==============================] - 0s 11ms/step - loss: 5.6620 - petal_length_output_loss: 1.4837 - petal_width_output_loss: 3.1545 - species_output_loss: 1.0238 - val_loss: 13.1263 - val_petal_length_output_loss: 3.5689 - val_petal_width_output_loss: 7.7938 - val_species_output_loss: 1.7637\n",
      "Epoch 73/100\n",
      "4/4 [==============================] - 0s 12ms/step - loss: 5.5981 - petal_length_output_loss: 1.4575 - petal_width_output_loss: 3.1173 - species_output_loss: 1.0233 - val_loss: 12.9618 - val_petal_length_output_loss: 3.4688 - val_petal_width_output_loss: 7.7291 - val_species_output_loss: 1.7639\n",
      "Epoch 74/100\n",
      "4/4 [==============================] - 0s 10ms/step - loss: 5.5334 - petal_length_output_loss: 1.4270 - petal_width_output_loss: 3.0837 - species_output_loss: 1.0227 - val_loss: 12.7983 - val_petal_length_output_loss: 3.3712 - val_petal_width_output_loss: 7.6641 - val_species_output_loss: 1.7629\n",
      "Epoch 75/100\n",
      "4/4 [==============================] - 0s 11ms/step - loss: 5.4699 - petal_length_output_loss: 1.3989 - petal_width_output_loss: 3.0486 - species_output_loss: 1.0223 - val_loss: 12.6484 - val_petal_length_output_loss: 3.2923 - val_petal_width_output_loss: 7.5915 - val_species_output_loss: 1.7646\n",
      "Epoch 76/100\n",
      "4/4 [==============================] - 0s 10ms/step - loss: 5.4114 - petal_length_output_loss: 1.3738 - petal_width_output_loss: 3.0159 - species_output_loss: 1.0217 - val_loss: 12.4831 - val_petal_length_output_loss: 3.1954 - val_petal_width_output_loss: 7.5262 - val_species_output_loss: 1.7615\n",
      "Epoch 77/100\n",
      "4/4 [==============================] - 0s 10ms/step - loss: 5.3450 - petal_length_output_loss: 1.3490 - petal_width_output_loss: 2.9750 - species_output_loss: 1.0210 - val_loss: 12.3549 - val_petal_length_output_loss: 3.1587 - val_petal_width_output_loss: 7.4376 - val_species_output_loss: 1.7587\n",
      "Epoch 78/100\n",
      "4/4 [==============================] - 0s 10ms/step - loss: 5.2841 - petal_length_output_loss: 1.3351 - petal_width_output_loss: 2.9286 - species_output_loss: 1.0204 - val_loss: 12.2239 - val_petal_length_output_loss: 3.1170 - val_petal_width_output_loss: 7.3517 - val_species_output_loss: 1.7552\n",
      "Epoch 79/100\n",
      "4/4 [==============================] - 0s 10ms/step - loss: 5.2294 - petal_length_output_loss: 1.3146 - petal_width_output_loss: 2.8949 - species_output_loss: 1.0199 - val_loss: 12.0557 - val_petal_length_output_loss: 3.0082 - val_petal_width_output_loss: 7.2932 - val_species_output_loss: 1.7544\n",
      "Epoch 80/100\n",
      "4/4 [==============================] - 0s 10ms/step - loss: 5.1637 - petal_length_output_loss: 1.2901 - petal_width_output_loss: 2.8546 - species_output_loss: 1.0191 - val_loss: 11.9416 - val_petal_length_output_loss: 2.9873 - val_petal_width_output_loss: 7.2013 - val_species_output_loss: 1.7530\n",
      "Epoch 81/100\n",
      "4/4 [==============================] - 0s 10ms/step - loss: 5.1059 - petal_length_output_loss: 1.2791 - petal_width_output_loss: 2.8085 - species_output_loss: 1.0184 - val_loss: 11.8308 - val_petal_length_output_loss: 2.9735 - val_petal_width_output_loss: 7.1076 - val_species_output_loss: 1.7497\n",
      "Epoch 82/100\n",
      "4/4 [==============================] - 0s 10ms/step - loss: 5.0476 - petal_length_output_loss: 1.2665 - petal_width_output_loss: 2.7635 - species_output_loss: 1.0176 - val_loss: 11.7097 - val_petal_length_output_loss: 2.9366 - val_petal_width_output_loss: 7.0248 - val_species_output_loss: 1.7484\n",
      "Epoch 83/100\n",
      "4/4 [==============================] - 0s 10ms/step - loss: 4.9907 - petal_length_output_loss: 1.2488 - petal_width_output_loss: 2.7250 - species_output_loss: 1.0169 - val_loss: 11.5693 - val_petal_length_output_loss: 2.8686 - val_petal_width_output_loss: 6.9546 - val_species_output_loss: 1.7460\n",
      "Epoch 84/100\n",
      "4/4 [==============================] - 0s 11ms/step - loss: 4.9355 - petal_length_output_loss: 1.2300 - petal_width_output_loss: 2.6892 - species_output_loss: 1.0163 - val_loss: 11.4319 - val_petal_length_output_loss: 2.8064 - val_petal_width_output_loss: 6.8823 - val_species_output_loss: 1.7432\n",
      "Epoch 85/100\n",
      "4/4 [==============================] - 0s 11ms/step - loss: 4.8787 - petal_length_output_loss: 1.2100 - petal_width_output_loss: 2.6532 - species_output_loss: 1.0156 - val_loss: 11.3022 - val_petal_length_output_loss: 2.7508 - val_petal_width_output_loss: 6.8092 - val_species_output_loss: 1.7422\n",
      "Epoch 86/100\n",
      "4/4 [==============================] - 0s 11ms/step - loss: 4.8233 - petal_length_output_loss: 1.1913 - petal_width_output_loss: 2.6172 - species_output_loss: 1.0149 - val_loss: 11.1758 - val_petal_length_output_loss: 2.6969 - val_petal_width_output_loss: 6.7369 - val_species_output_loss: 1.7420\n",
      "Epoch 87/100\n",
      "4/4 [==============================] - 0s 10ms/step - loss: 4.7714 - petal_length_output_loss: 1.1727 - petal_width_output_loss: 2.5844 - species_output_loss: 1.0142 - val_loss: 11.0367 - val_petal_length_output_loss: 2.6265 - val_petal_width_output_loss: 6.6707 - val_species_output_loss: 1.7395\n",
      "Epoch 88/100\n",
      "4/4 [==============================] - 0s 10ms/step - loss: 4.7187 - petal_length_output_loss: 1.1527 - petal_width_output_loss: 2.5524 - species_output_loss: 1.0136 - val_loss: 10.9078 - val_petal_length_output_loss: 2.5709 - val_petal_width_output_loss: 6.5997 - val_species_output_loss: 1.7373\n",
      "Epoch 89/100\n",
      "4/4 [==============================] - 0s 11ms/step - loss: 4.6630 - petal_length_output_loss: 1.1382 - petal_width_output_loss: 2.5122 - species_output_loss: 1.0126 - val_loss: 10.8052 - val_petal_length_output_loss: 2.5522 - val_petal_width_output_loss: 6.5173 - val_species_output_loss: 1.7357\n",
      "Epoch 90/100\n",
      "4/4 [==============================] - 0s 10ms/step - loss: 4.6114 - petal_length_output_loss: 1.1258 - petal_width_output_loss: 2.4737 - species_output_loss: 1.0118 - val_loss: 10.6880 - val_petal_length_output_loss: 2.5113 - val_petal_width_output_loss: 6.4433 - val_species_output_loss: 1.7334\n",
      "Epoch 91/100\n",
      "4/4 [==============================] - 0s 10ms/step - loss: 4.5617 - petal_length_output_loss: 1.1088 - petal_width_output_loss: 2.4418 - species_output_loss: 1.0111 - val_loss: 10.5552 - val_petal_length_output_loss: 2.4451 - val_petal_width_output_loss: 6.3786 - val_species_output_loss: 1.7315\n",
      "Epoch 92/100\n",
      "4/4 [==============================] - 0s 10ms/step - loss: 4.5092 - petal_length_output_loss: 1.0915 - petal_width_output_loss: 2.4073 - species_output_loss: 1.0104 - val_loss: 10.4439 - val_petal_length_output_loss: 2.4120 - val_petal_width_output_loss: 6.3038 - val_species_output_loss: 1.7281\n",
      "Epoch 93/100\n",
      "4/4 [==============================] - 0s 10ms/step - loss: 4.4614 - petal_length_output_loss: 1.0780 - petal_width_output_loss: 2.3739 - species_output_loss: 1.0095 - val_loss: 10.3217 - val_petal_length_output_loss: 2.3620 - val_petal_width_output_loss: 6.2347 - val_species_output_loss: 1.7250\n",
      "Epoch 94/100\n",
      "4/4 [==============================] - 0s 11ms/step - loss: 4.4092 - petal_length_output_loss: 1.0613 - petal_width_output_loss: 2.3393 - species_output_loss: 1.0087 - val_loss: 10.2062 - val_petal_length_output_loss: 2.3143 - val_petal_width_output_loss: 6.1665 - val_species_output_loss: 1.7254\n",
      "Epoch 95/100\n",
      "4/4 [==============================] - 0s 11ms/step - loss: 4.3622 - petal_length_output_loss: 1.0465 - petal_width_output_loss: 2.3078 - species_output_loss: 1.0079 - val_loss: 10.0850 - val_petal_length_output_loss: 2.2636 - val_petal_width_output_loss: 6.0996 - val_species_output_loss: 1.7218\n",
      "Epoch 96/100\n",
      "4/4 [==============================] - 0s 11ms/step - loss: 4.3123 - petal_length_output_loss: 1.0324 - petal_width_output_loss: 2.2729 - species_output_loss: 1.0070 - val_loss: 9.9907 - val_petal_length_output_loss: 2.2477 - val_petal_width_output_loss: 6.0229 - val_species_output_loss: 1.7200\n",
      "Epoch 97/100\n",
      "4/4 [==============================] - 0s 10ms/step - loss: 4.2668 - petal_length_output_loss: 1.0198 - petal_width_output_loss: 2.2407 - species_output_loss: 1.0063 - val_loss: 9.8761 - val_petal_length_output_loss: 2.2005 - val_petal_width_output_loss: 5.9563 - val_species_output_loss: 1.7193\n",
      "Epoch 98/100\n",
      "4/4 [==============================] - 0s 10ms/step - loss: 4.2196 - petal_length_output_loss: 1.0075 - petal_width_output_loss: 2.2068 - species_output_loss: 1.0053 - val_loss: 9.7732 - val_petal_length_output_loss: 2.1737 - val_petal_width_output_loss: 5.8845 - val_species_output_loss: 1.7150\n",
      "Epoch 99/100\n",
      "4/4 [==============================] - 0s 10ms/step - loss: 4.1732 - petal_length_output_loss: 0.9969 - petal_width_output_loss: 2.1720 - species_output_loss: 1.0043 - val_loss: 9.6835 - val_petal_length_output_loss: 2.1651 - val_petal_width_output_loss: 5.8084 - val_species_output_loss: 1.7100\n",
      "Epoch 100/100\n",
      "4/4 [==============================] - 0s 11ms/step - loss: 4.1283 - petal_length_output_loss: 0.9859 - petal_width_output_loss: 2.1390 - species_output_loss: 1.0034 - val_loss: 9.5788 - val_petal_length_output_loss: 2.1322 - val_petal_width_output_loss: 5.7408 - val_species_output_loss: 1.7058\n"
     ]
    }
   ],
   "source": [
    "hist = model.fit(X, \n",
    "                [y1, y2, y3],  # y가 여러개이면 리스트로 묶어준다.\n",
    "                epochs=100,\n",
    "                validation_split=0.2 \n",
    "                )"
   ]
  },
  {
   "cell_type": "markdown",
   "metadata": {
    "slideshow": {
     "slide_type": "slide"
    }
   },
   "source": [
    "##### 결과 시각화"
   ]
  },
  {
   "cell_type": "code",
   "execution_count": 37,
   "metadata": {
    "ExecuteTime": {
     "end_time": "2023-03-03T01:46:31.774331Z",
     "start_time": "2023-03-03T01:46:31.756843Z"
    }
   },
   "outputs": [
    {
     "data": {
      "text/plain": [
       "dict_keys(['loss', 'petal_length_output_loss', 'petal_width_output_loss', 'species_output_loss', 'val_loss', 'val_petal_length_output_loss', 'val_petal_width_output_loss', 'val_species_output_loss'])"
      ]
     },
     "execution_count": 37,
     "metadata": {},
     "output_type": "execute_result"
    }
   ],
   "source": [
    "hist.history.keys()"
   ]
  },
  {
   "cell_type": "markdown",
   "metadata": {
    "slideshow": {
     "slide_type": "fragment"
    }
   },
   "source": [
    "##### 새로운 데이터 추론"
   ]
  },
  {
   "cell_type": "code",
   "execution_count": 39,
   "metadata": {
    "ExecuteTime": {
     "end_time": "2023-03-03T01:47:37.884200Z",
     "start_time": "2023-03-03T01:47:37.682906Z"
    }
   },
   "outputs": [
    {
     "name": "stdout",
     "output_type": "stream",
     "text": [
      "1/1 [==============================] - 0s 16ms/step\n"
     ]
    },
    {
     "data": {
      "text/plain": [
       "[array([[2.3148012],\n",
       "        [2.4941373],\n",
       "        [2.1637735]], dtype=float32),\n",
       " array([[-0.03192765],\n",
       "        [-0.06605625],\n",
       "        [-0.00318632]], dtype=float32),\n",
       " array([[0.3662475 , 0.40388337, 0.22986913],\n",
       "        [0.35996354, 0.41508996, 0.22494645],\n",
       "        [0.37147462, 0.39452156, 0.23400377]], dtype=float32)]"
      ]
     },
     "execution_count": 39,
     "metadata": {},
     "output_type": "execute_result"
    }
   ],
   "source": [
    "new_x = X[:3]\n",
    "pred = model.predict(new_x)\n",
    "pred  # 세 layer의 출력결과를 리스트로 묶어서 출력.\n",
    "#[배열1, 배열2, 배열3] => 배열1 : y1의 추정결과, 배열2: y2의 추정결과, 배열3: y3의 추정결과"
   ]
  },
  {
   "cell_type": "code",
   "execution_count": 40,
   "metadata": {
    "ExecuteTime": {
     "end_time": "2023-03-03T01:50:35.803043Z",
     "start_time": "2023-03-03T01:50:35.780314Z"
    }
   },
   "outputs": [
    {
     "name": "stdout",
     "output_type": "stream",
     "text": [
      "[2.3148012] [-0.03192765] [0.3662475  0.40388337 0.22986913] 1\n",
      "[2.4941373] [-0.06605625] [0.35996354 0.41508996 0.22494645] 1\n",
      "[2.1637735] [-0.00318632] [0.37147462 0.39452156 0.23400377] 1\n"
     ]
    }
   ],
   "source": [
    "for pl, pw, s in zip(pred[0], pred[1], pred[2]):\n",
    "    print(pl, pw, s, s.argmax(-1))"
   ]
  },
  {
   "cell_type": "code",
   "execution_count": 41,
   "metadata": {
    "ExecuteTime": {
     "end_time": "2023-03-03T01:51:15.087061Z",
     "start_time": "2023-03-03T01:51:15.067612Z"
    }
   },
   "outputs": [
    {
     "data": {
      "text/plain": [
       "array([0, 0, 0])"
      ]
     },
     "execution_count": 41,
     "metadata": {},
     "output_type": "execute_result"
    }
   ],
   "source": [
    "y[:3]"
   ]
  },
  {
   "cell_type": "code",
   "execution_count": null,
   "metadata": {},
   "outputs": [],
   "source": []
  },
  {
   "cell_type": "markdown",
   "metadata": {
    "slideshow": {
     "slide_type": "slide"
    }
   },
   "source": [
    "## 다중 입력 모델\n",
    "- 가정 \n",
    "    - IRIS 꽃 데이터 + 꽃의 사진을 입력해서 꽃의 종류를 예측한다.\n",
    "- X: 꽃 데이터, 꽃 사진\n",
    "- y: 꽃 종류"
   ]
  },
  {
   "cell_type": "markdown",
   "metadata": {
    "slideshow": {
     "slide_type": "fragment"
    }
   },
   "source": [
    "##### 데이터 로드"
   ]
  },
  {
   "cell_type": "code",
   "execution_count": 42,
   "metadata": {
    "ExecuteTime": {
     "end_time": "2023-03-03T02:16:20.859486Z",
     "start_time": "2023-03-03T02:16:20.839983Z"
    },
    "slideshow": {
     "slide_type": "fragment"
    }
   },
   "outputs": [
    {
     "data": {
      "text/plain": [
       "((150, 4), (150,))"
      ]
     },
     "execution_count": 42,
     "metadata": {},
     "output_type": "execute_result"
    }
   ],
   "source": [
    "X, y = load_iris(return_X_y=True)\n",
    "X.shape, y.shape"
   ]
  },
  {
   "cell_type": "code",
   "execution_count": 43,
   "metadata": {
    "ExecuteTime": {
     "end_time": "2023-03-03T02:32:14.009534Z",
     "start_time": "2023-03-03T02:32:13.732146Z"
    },
    "slideshow": {
     "slide_type": "fragment"
    }
   },
   "outputs": [
    {
     "data": {
      "text/plain": [
       "((60000, 28, 28), (150, 28, 28))"
      ]
     },
     "execution_count": 43,
     "metadata": {},
     "output_type": "execute_result"
    }
   ],
   "source": [
    "(X_train, _), (_, _) = keras.datasets.mnist.load_data()\n",
    "X_img = X_train[:150]\n",
    "X_train.shape, X_img.shape"
   ]
  },
  {
   "cell_type": "markdown",
   "metadata": {
    "slideshow": {
     "slide_type": "slide"
    }
   },
   "source": [
    "##### 모델생성, 컴파일"
   ]
  },
  {
   "cell_type": "code",
   "execution_count": 44,
   "metadata": {
    "ExecuteTime": {
     "end_time": "2023-03-03T02:32:21.978910Z",
     "start_time": "2023-03-03T02:32:21.830413Z"
    }
   },
   "outputs": [],
   "source": [
    "# table 데이터와 영상데이터 두개를 입력으로 받는 모델.\n",
    "# table 데이터는 Dense Layer를, 영상데이터는 Conv layer를 이용해 Feature Extraction을 처리.\n",
    "# 추출된 두가지 특징을 합쳐서 품종을 추론하는 모델.\n",
    "\n",
    "#### table(표) 데이터 - (4,)\n",
    "iris_info_tensor = layers.Input(shape=(4, ))\n",
    "x1 = layers.Dense(units=32, activation='relu')(iris_info_tensor)\n",
    "x1 = layers.Dense(units=16, activation='relu')(x1)\n",
    "\n",
    "#### 영상(image) 데이터 (28,28,1)\n",
    "iris_img_tensor = layers.Input(shape=(28, 28, 1))\n",
    "x2 = layers.Conv2D(filters=32, kernel_size=3, padding='same', activation='relu')(iris_img_tensor)\n",
    "x2 = layers.Conv2D(filters=32, kernel_size=3, padding='same', activation='relu')(x2)\n",
    "x2 = layers.MaxPooling2D(padding='same')(x2)\n",
    "\n",
    "x2 = layers.Conv2D(filters=64, kernel_size=3, padding='same', activation='relu')(x2)\n",
    "x2 = layers.Conv2D(filters=64, kernel_size=3, padding='same', activation='relu')(x2)\n",
    "x2 = layers.MaxPooling2D(padding='same')(x2)\n",
    "x2 = layers.Flatten()(x2)\n",
    "\n",
    "# x1 : 추출한 데이터로 부터 추출한 featrue map, x2 : 이미지로 부터 추출한 feature map\n",
    "# x1과 x2를 합치기 -> 둘다 1차원 배열. ===> info의 특징과 image의 특징을 합친다.\n",
    "x3 = layers.Concatenate()([x1, x2])  # layers.concatenate([x1, x2])\n",
    "\n",
    "# outputlayer\n",
    "output_tensor = layers.Dense(units=3, activation='softmax')(x3)\n",
    "\n",
    "# 모델 생성\n",
    "model2 = models.Model([iris_info_tensor, iris_img_tensor],  output_tensor)\n",
    "\n",
    "model2.compile(optimizer='adam', loss='sparse_categorical_crossentropy', metrics=['accuracy'])"
   ]
  },
  {
   "cell_type": "code",
   "execution_count": 45,
   "metadata": {
    "ExecuteTime": {
     "end_time": "2023-03-03T02:32:28.622307Z",
     "start_time": "2023-03-03T02:32:28.613453Z"
    }
   },
   "outputs": [
    {
     "data": {
      "text/plain": [
       "(150, 28, 28)"
      ]
     },
     "execution_count": 45,
     "metadata": {},
     "output_type": "execute_result"
    }
   ],
   "source": [
    "X_img.shape"
   ]
  },
  {
   "cell_type": "code",
   "execution_count": 47,
   "metadata": {
    "ExecuteTime": {
     "end_time": "2023-03-03T02:33:05.781976Z",
     "start_time": "2023-03-03T02:33:05.775356Z"
    },
    "collapsed": true
   },
   "outputs": [
    {
     "ename": "NameError",
     "evalue": "name 'np' is not defined",
     "output_type": "error",
     "traceback": [
      "\u001b[1;31m---------------------------------------------------------------------------\u001b[0m",
      "\u001b[1;31mNameError\u001b[0m                                 Traceback (most recent call last)",
      "Cell \u001b[1;32mIn[47], line 1\u001b[0m\n\u001b[1;32m----> 1\u001b[0m iris_img \u001b[38;5;241m=\u001b[39m X_img[\u001b[38;5;241m.\u001b[39m\u001b[38;5;241m.\u001b[39m\u001b[38;5;241m.\u001b[39m, \u001b[43mnp\u001b[49m\u001b[38;5;241m.\u001b[39mnewaxis]\n\u001b[0;32m      2\u001b[0m iris_img\u001b[38;5;241m.\u001b[39mshape\n",
      "\u001b[1;31mNameError\u001b[0m: name 'np' is not defined"
     ]
    }
   ],
   "source": [
    "iris_img = X_img[..., np.newaxis] # channel 축 추가\n",
    "iris_img.shape"
   ]
  },
  {
   "cell_type": "code",
   "execution_count": 48,
   "metadata": {
    "ExecuteTime": {
     "end_time": "2023-03-03T02:34:25.787548Z",
     "start_time": "2023-03-03T02:34:23.381112Z"
    },
    "collapsed": true
   },
   "outputs": [
    {
     "ename": "NameError",
     "evalue": "name 'iris_img' is not defined",
     "output_type": "error",
     "traceback": [
      "\u001b[1;31m---------------------------------------------------------------------------\u001b[0m",
      "\u001b[1;31mNameError\u001b[0m                                 Traceback (most recent call last)",
      "Cell \u001b[1;32mIn[48], line 1\u001b[0m\n\u001b[1;32m----> 1\u001b[0m hist\u001b[38;5;241m=\u001b[39m model2\u001b[38;5;241m.\u001b[39mfit([X, \u001b[43miris_img\u001b[49m], \n\u001b[0;32m      2\u001b[0m                   y, \n\u001b[0;32m      3\u001b[0m                   epochs\u001b[38;5;241m=\u001b[39m\u001b[38;5;241m3\u001b[39m, \n\u001b[0;32m      4\u001b[0m                   validation_split\u001b[38;5;241m=\u001b[39m\u001b[38;5;241m0.2\u001b[39m)\n",
      "\u001b[1;31mNameError\u001b[0m: name 'iris_img' is not defined"
     ]
    }
   ],
   "source": [
    "hist= model2.fit([X, iris_img], # x : [표데이터, 이미지]\n",
    "                  y, \n",
    "                  epochs=3, \n",
    "                  validation_split=0.2)"
   ]
  },
  {
   "cell_type": "code",
   "execution_count": null,
   "metadata": {
    "ExecuteTime": {
     "end_time": "2023-03-03T02:36:21.232847Z",
     "start_time": "2023-03-03T02:36:20.748697Z"
    }
   },
   "outputs": [],
   "source": [
    "keras.utils.plot_model(model2, show_shapes=True)"
   ]
  },
  {
   "cell_type": "markdown",
   "metadata": {},
   "source": [
    "## Subclass 방식\n",
    "- 모델을 class로 구현\n",
    "- \\_\\_init\\_\\_() 메소드에서 모델에 필요한 자원들(layer들)을 생성\n",
    "- call() 메소드에서 모델 구조 정의"
   ]
  },
  {
   "cell_type": "code",
   "execution_count": 49,
   "metadata": {
    "ExecuteTime": {
     "end_time": "2023-03-03T02:42:41.000293Z",
     "start_time": "2023-03-03T02:42:40.983946Z"
    }
   },
   "outputs": [],
   "source": [
    "import tensorflow as tf\n",
    "from tensorflow import keras\n",
    "from tensorflow.keras import layers, models"
   ]
  },
  {
   "cell_type": "code",
   "execution_count": 52,
   "metadata": {
    "ExecuteTime": {
     "end_time": "2023-03-03T02:44:34.613656Z",
     "start_time": "2023-03-03T02:44:34.240024Z"
    }
   },
   "outputs": [
    {
     "ename": "NameError",
     "evalue": "name 'np' is not defined",
     "output_type": "error",
     "traceback": [
      "\u001b[1;31m---------------------------------------------------------------------------\u001b[0m",
      "\u001b[1;31mNameError\u001b[0m                                 Traceback (most recent call last)",
      "Cell \u001b[1;32mIn[52], line 5\u001b[0m\n\u001b[0;32m      2\u001b[0m X_train \u001b[38;5;241m=\u001b[39m X_train\u001b[38;5;241m.\u001b[39mastype(\u001b[38;5;124m'\u001b[39m\u001b[38;5;124mfloat32\u001b[39m\u001b[38;5;124m'\u001b[39m)\u001b[38;5;241m/\u001b[39m\u001b[38;5;241m255\u001b[39m\n\u001b[0;32m      3\u001b[0m X_test \u001b[38;5;241m=\u001b[39m X_test\u001b[38;5;241m.\u001b[39mastype(\u001b[38;5;124m'\u001b[39m\u001b[38;5;124mfloat32\u001b[39m\u001b[38;5;124m'\u001b[39m)\u001b[38;5;241m/\u001b[39m\u001b[38;5;241m255\u001b[39m\n\u001b[1;32m----> 5\u001b[0m X_train \u001b[38;5;241m=\u001b[39m X_train[\u001b[38;5;241m.\u001b[39m\u001b[38;5;241m.\u001b[39m\u001b[38;5;241m.\u001b[39m, \u001b[43mnp\u001b[49m\u001b[38;5;241m.\u001b[39mnewaxis]\n\u001b[0;32m      6\u001b[0m X_test \u001b[38;5;241m=\u001b[39m X_test[\u001b[38;5;241m.\u001b[39m\u001b[38;5;241m.\u001b[39m\u001b[38;5;241m.\u001b[39m, np\u001b[38;5;241m.\u001b[39mnewaxis]\n\u001b[0;32m      7\u001b[0m X_train\u001b[38;5;241m.\u001b[39mshape, X_test\u001b[38;5;241m.\u001b[39mshape\n",
      "\u001b[1;31mNameError\u001b[0m: name 'np' is not defined"
     ]
    }
   ],
   "source": [
    "(X_train, y_train), (X_test, y_test) = keras.datasets.mnist.load_data()\n",
    "X_train = X_train.astype('float32')/255\n",
    "X_test = X_test.astype('float32')/255\n",
    "\n",
    "X_train = X_train[..., np.newaxis]\n",
    "X_test = X_test[..., np.newaxis]\n",
    "X_train.shape, X_test.shape"
   ]
  },
  {
   "cell_type": "code",
   "execution_count": null,
   "metadata": {
    "ExecuteTime": {
     "end_time": "2023-03-03T02:58:23.686554Z",
     "start_time": "2023-03-03T02:58:23.671302Z"
    }
   },
   "outputs": [],
   "source": [
    "class MnistModel(models.Model):\n",
    "    \n",
    "    def __init__(self):\n",
    "        super().__init__()\n",
    "        self.conv_block1 = keras.Sequential([\n",
    "            layers.Conv2D(filters=32, kernel_size=3, padding='same', activation='relu'),\n",
    "            layers.Conv2D(filters=32, kernel_size=3, padding='same', activation='relu'),\n",
    "            layers.MaxPooling2D(padding='same')\n",
    "        ])\n",
    "        \n",
    "        self.conv_block2 = keras.Sequential([\n",
    "            layers.Conv2D(filters=64, kernel_size=3, padding='same', activation='relu'),\n",
    "            layers.Conv2D(filters=64, kernel_size=3, padding='same', activation='relu'),\n",
    "            layers.MaxPooling2D(padding='same')\n",
    "        ])\n",
    "        \n",
    "        self.flatten = layers.Flatten()\n",
    "        self.output_layer = layers.Dense(units=10, activation='softmax')        \n",
    "        \n",
    "        \n",
    "    def call(self, x):  \n",
    "        # input data를 받아서 forward propagation을 처리. 그 추론 결과를 반환\n",
    "        x = self.conv_block1(x)\n",
    "        x = self.conv_block2(x)\n",
    "        x = self.flatten(x)\n",
    "        output_tensor = self.output_layer(x)\n",
    "        return output_tensor\n",
    "        "
   ]
  },
  {
   "cell_type": "code",
   "execution_count": null,
   "metadata": {
    "ExecuteTime": {
     "end_time": "2023-03-03T03:03:15.372130Z",
     "start_time": "2023-03-03T02:58:28.622040Z"
    }
   },
   "outputs": [],
   "source": [
    "# 모델생성\n",
    "model = MnistModel()\n",
    "\n",
    "# 컴파일\n",
    "model.compile(optimizer='adam', loss='sparse_categorical_crossentropy')\n",
    "# 학습\n",
    "hist = model.fit(X_train, y_train, epochs=3, validation_split=0.25)"
   ]
  },
  {
   "cell_type": "code",
   "execution_count": null,
   "metadata": {},
   "outputs": [],
   "source": []
  },
  {
   "cell_type": "code",
   "execution_count": null,
   "metadata": {},
   "outputs": [],
   "source": []
  },
  {
   "cell_type": "code",
   "execution_count": null,
   "metadata": {},
   "outputs": [],
   "source": []
  },
  {
   "cell_type": "code",
   "execution_count": null,
   "metadata": {},
   "outputs": [],
   "source": []
  }
 ],
 "metadata": {
  "kernelspec": {
   "display_name": "Python 3 (ipykernel)",
   "language": "python",
   "name": "python3"
  },
  "language_info": {
   "codemirror_mode": {
    "name": "ipython",
    "version": 3
   },
   "file_extension": ".py",
   "mimetype": "text/x-python",
   "name": "python",
   "nbconvert_exporter": "python",
   "pygments_lexer": "ipython3",
   "version": "3.10.11"
  },
  "toc": {
   "base_numbering": 1,
   "nav_menu": {},
   "number_sections": true,
   "sideBar": true,
   "skip_h1_title": false,
   "title_cell": "Table of Contents",
   "title_sidebar": "Contents",
   "toc_cell": false,
   "toc_position": {},
   "toc_section_display": true,
   "toc_window_display": false
  },
  "varInspector": {
   "cols": {
    "lenName": 16,
    "lenType": 16,
    "lenVar": 40
   },
   "kernels_config": {
    "python": {
     "delete_cmd_postfix": "",
     "delete_cmd_prefix": "del ",
     "library": "var_list.py",
     "varRefreshCmd": "print(var_dic_list())"
    },
    "r": {
     "delete_cmd_postfix": ") ",
     "delete_cmd_prefix": "rm(",
     "library": "var_list.r",
     "varRefreshCmd": "cat(var_dic_list()) "
    }
   },
   "types_to_exclude": [
    "module",
    "function",
    "builtin_function_or_method",
    "instance",
    "_Feature"
   ],
   "window_display": false
  }
 },
 "nbformat": 4,
 "nbformat_minor": 4
}
